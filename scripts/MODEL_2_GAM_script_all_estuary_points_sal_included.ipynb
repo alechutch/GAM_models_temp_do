{
 "cells": [
  {
   "cell_type": "code",
   "execution_count": 16,
   "id": "ebb57a61-8549-4035-9ee2-4b0bffe456c2",
   "metadata": {},
   "outputs": [
    {
     "name": "stdout",
     "output_type": "stream",
     "text": [
      "env: PYTHONHASHSEED=0\n"
     ]
    }
   ],
   "source": [
    "env PYTHONHASHSEED=0"
   ]
  },
  {
   "cell_type": "code",
   "execution_count": 17,
   "id": "7bac24fd-bdfb-4431-b2cb-0bc0827cfcc2",
   "metadata": {},
   "outputs": [],
   "source": [
    "import numpy as np\n",
    "import pandas as pd\n",
    "import matplotlib.pyplot as plt\n",
    "from pygam import LinearGAM, GAM, s, l, te\n",
    "from sklearn.model_selection import train_test_split\n",
    "from sklearn.metrics import mean_squared_error, r2_score\n",
    "import os\n",
    "import csv\n",
    "import shutil\n",
    "import traceback\n",
    "import random\n",
    "from datetime import datetime\n",
    "\n",
    "import geopandas as gpd\n",
    "import fiona\n",
    "import shapely\n",
    "from shapely import LineString\n",
    "from shapely.geometry import Point\n",
    "from shapely.ops import unary_union"
   ]
  },
  {
   "cell_type": "code",
   "execution_count": 18,
   "id": "f07e01e2-1065-4c36-b024-165dc4c348d8",
   "metadata": {},
   "outputs": [],
   "source": [
    "def import_csv(input_no, *csvs):\n",
    "    if input_no < 1 or input_no > len(csvs):\n",
    "        raise ValueError(\"input_no should be between 1 and the number of CSV files\")\n",
    "    \n",
    "    dfs = [pd.read_csv(csv, dtype={\"ptcode\": str}) for csv in csvs[:input_no]]\n",
    "    full_wims = pd.concat(dfs)\n",
    "    \n",
    "    return full_wims#def import class\n"
   ]
  },
  {
   "cell_type": "code",
   "execution_count": 19,
   "id": "6f0417ff-de97-415e-bd43-3cc43fe79755",
   "metadata": {},
   "outputs": [],
   "source": [
    "def create_pivot(df):\n",
    "    #df['site_avg_salinity'].fillna(5, inplace=True)\n",
    "    #Create Pivot\n",
    "    Est_pivot = df.pivot_table(values='result',index=['date','time','ptcode','easting','northing','site_avg_salinity','salinity_class'],columns=['detname'])\n",
    "    #Drop the \"Time\" column from results as this duplicates a column elsewhere\n",
    "    Est_pivot = Est_pivot.drop(columns = ['time'],axis=1,errors='ignore')\n",
    "    #Reset the index\n",
    "    Est_pivot.reset_index(inplace=True)\n",
    "    #Create a column for year\n",
    "    Est_pivot['date'] = pd.to_datetime(Est_pivot['date'])\n",
    "    Est_pivot[\"year\"]=Est_pivot[\"date\"].dt.year\n",
    "    #Create a column for month\n",
    "    Est_pivot[\"month\"]=Est_pivot[\"date\"].dt.month\n",
    "    Est_pivot.columns = Est_pivot.columns.str.replace(':', '')\n",
    "    Est_pivot.columns = Est_pivot.columns.str.replace('%', '')\n",
    "    Est_group_all = Est_pivot.copy().reset_index()\n",
    "\n",
    "    return Est_group_all"
   ]
  },
  {
   "cell_type": "code",
   "execution_count": 20,
   "id": "9ab79364-386b-4169-a826-1e80521458d4",
   "metadata": {},
   "outputs": [],
   "source": [
    "def date_to_float_year(date):\n",
    "    # Convert the timestamp to a string in the format '%Y-%m-%d'\n",
    "    date_str = date.strftime('%Y-%m-%d')\n",
    "    \n",
    "    # Convert the date string to a datetime object\n",
    "    date_obj = datetime.strptime(date_str, '%Y-%m-%d')\n",
    "    \n",
    "    # Extract year, month, and day from the date object\n",
    "    year = date_obj.year\n",
    "    month = date_obj.month\n",
    "    day = date_obj.day\n",
    "    \n",
    "    # Calculate the fractional part of the year\n",
    "    fractional_year = year + (month - 1) / 12 + (day - 1) / 365\n",
    "    \n",
    "    return fractional_year"
   ]
  },
  {
   "cell_type": "code",
   "execution_count": 21,
   "id": "dd27a128-3e76-4d57-b9a2-9834cd3b6ab4",
   "metadata": {},
   "outputs": [],
   "source": [
    "def monte_carlo_simulation_from_specific_years(early_period, late_period, samples, XX, num_iterations=10000):\n",
    "\n",
    "    trend_differences = []\n",
    "    \n",
    "    selected_early_data_indices = np.where((XX[:, 3] >= early_period[0]) & (XX[:, 3] <= early_period[1]))[0]\n",
    "    selected_late_data_indices = np.where((XX[:, 3] >= late_period[0]) & (XX[:, 3] <= late_period[1]))[0]\n",
    "\n",
    "    for x in range(num_iterations):\n",
    "\n",
    "        idx1 = np.random.choice(selected_early_data_indices)\n",
    "        idx2 = np.random.choice(selected_late_data_indices)\n",
    "        \n",
    "        sample_indices = random.sample(range(len(samples)), 2)\n",
    "        selected_early_samples = samples[sample_indices[0],idx1]\n",
    "        selected_late_samples = samples[sample_indices[1],idx2]\n",
    "\n",
    "        # Calculate difference\n",
    "        difference = (selected_late_samples - selected_early_samples)/(XX[idx2, 3] - XX[idx1,3])\n",
    "        # Append to a dataframe\n",
    "        trend_differences.append(difference)\n",
    "\n",
    "    return trend_differences         "
   ]
  },
  {
   "cell_type": "code",
   "execution_count": 22,
   "id": "1cdace58-52a4-414d-8968-5b3aa02db30d",
   "metadata": {},
   "outputs": [],
   "source": [
    "# Function to allow monte carlo simulations\n",
    "def perform_monte_carlo_simulation(samples, XX_years, num_iterations, year_index):\n",
    "\n",
    "    if XX_years[:,3].max() - XX_years[:,3].min() <= year_index:\n",
    "        print(f\"The range of years is not sufficient for analysis (less than or equal to {year_index} years).\")\n",
    "        return None\n",
    "        \n",
    "    trend_differences = []\n",
    "\n",
    "    #Run through iteration\n",
    "    for x in range(num_iterations):\n",
    "        # Maximum number of attempts to find an appropriate pair of time segements to sample from\n",
    "        max_attempts = 1000\n",
    "        # Take a couple of random indices from the yearly dependence to sample from the normal distribution\n",
    "        sample_indices = random.sample(range(len(samples)), 2)\n",
    "        # Attempt to find a pair of numbers that are greater than 10 years apart\n",
    "        for _ in range(max_attempts):\n",
    "            # Allow the first yearly indices to be any number from 0 to n-1 (to allow for idx2)\n",
    "            idx1 = np.random.randint(0, len(XX_years[:,3])-1)\n",
    "            # Ensure idx2 is greater than idx1 (so the yearly change is in the right direction!)\n",
    "            idx2 = np.random.randint(idx1 + 1, len(XX_years[:,3]))  # Ensuring idx2 is greater than idx1\n",
    "            # Check the difference in years exceeds the year index\n",
    "            if XX_years[:,3][idx2] - XX_years[:,3][idx1] >= year_index:\n",
    "            #Take the random sample indices and the yearly indices for early and late samples\n",
    "                sample_early = samples[sample_indices[0], idx1]\n",
    "                sample_late = samples[sample_indices[1], idx2]\n",
    "                # Calculate difference\n",
    "                difference = (sample_late - sample_early)/(XX_years[idx2, 3] - XX_years[idx1,3])\n",
    "                # Append to a dataframe\n",
    "                trend_differences.append(difference)\n",
    "                # Break the loop once the conditions are met\n",
    "                break\n",
    "\n",
    "    return trend_differences"
   ]
  },
  {
   "cell_type": "code",
   "execution_count": 39,
   "id": "7420a7ac-cb37-41c6-8a44-8bb03d07855e",
   "metadata": {},
   "outputs": [],
   "source": [
    "def run_GAM(Est_all, det, GAM_output_folder_path):\n",
    "\n",
    "    #Set blank DF\n",
    "    trend_result_list = []\n",
    "\n",
    "    # Date tp datetime\n",
    "    Est_all.loc[:, 'date'] = pd.to_datetime(Est_all['date'])\n",
    "    #Convert date to day of year (note this is an open ended continuous variable)\n",
    "    Est_all.loc[:, 'day_of_year'] = Est_all['date'].dt.dayofyear\n",
    "\n",
    "    # Apply float date\n",
    "    Est_all['float_date'] = Est_all['date'].apply(date_to_float_year)\n",
    "\n",
    "    #This section converts time to a continuous scale\n",
    "    # Extract hours and minutes\n",
    "    hour = Est_all['time'] // 100\n",
    "    minutes = Est_all['time'] % 100\n",
    "    # Convert to continuous numeric format (minutes since midnight)\n",
    "    Est_all.loc[:, 'time_converted'] = hour * 60 + minutes\n",
    "\n",
    "    # Handle NaN values if 'time' column contains them - Any value will become -1\n",
    "    Est_all['time_converted'] = Est_all['time_converted'].fillna(-1)  # Replace NaN with a suitable value\n",
    "\n",
    "    # Set up a list of features to add\n",
    "    Features = ['site_avg_salinity' , 'time_converted' , 'day_of_year' , 'float_date']\n",
    "\n",
    "    # Create independent variables\n",
    "    X = Est_all[Features].values\n",
    "    # Create dependent variables\n",
    "    Y = Est_all[det].values\n",
    "\n",
    "    # Remove rows with NaN values in Y. Note X gets removed in the same way.\n",
    "    mask = ~np.isnan(Y)\n",
    "    X = X[mask]\n",
    "    Y = Y[mask]\n",
    "\n",
    "    # Dynamically set the index to year\n",
    "    year_index = Features.index('float_date')\n",
    "    # Failsafe to break loop in case there is only one year in the data\n",
    "    if len(np.unique(X[:, year_index])) <= 1:\n",
    "         print(f\"Skipping analysis as there is only one unique year.\")\n",
    "        \n",
    "    # Split the data into training and testing sets\n",
    "    X_train, X_test, y_train, y_test = train_test_split(X, Y, test_size=0.2, random_state=42)\n",
    "\n",
    "    # Create and train the GAM model\n",
    "    spline_no=5\n",
    "\n",
    "    # Rune the GAM model\n",
    "    gam = GAM(s(0, n_splines=spline_no) + s(1,n_splines=spline_no) + s(2,n_splines=spline_no,basis='cp') + s(3,n_splines=spline_no)).gridsearch(X_train, y_train)\n",
    "    \n",
    "    #If you want to see what the gridsearch is doing, uncomment out the following.\n",
    "    #print(gam.summary())\n",
    "\n",
    "    # Make predictions on the test set\n",
    "    y_pred = gam.predict(X_test)\n",
    "\n",
    "    # Evaluate the model\n",
    "    mse = mean_squared_error(y_test, y_pred)\n",
    "    r2 = r2_score(y_test, y_pred)\n",
    "\n",
    "    #======================PLOTTING BEGINS============================\n",
    "\n",
    "    # Plotting actual vs predicted valuesran\n",
    "    plt.scatter(y_test, y_pred, alpha=0.5)\n",
    "    # Sticking a 1:1 line in\n",
    "    plt.plot([min(y_test)-1, max(y_test)+1], [min(y_test)-1, max(y_test)+1], '--', color='red', label='1:1 Line')\n",
    "    plt.title(f'Actual vs Predicted Values')\n",
    "    plt.xlabel(f'Actual {det}')\n",
    "    plt.ylabel(f'Predicted {det}')\n",
    "    #Exporting figure\n",
    "    Actual_predicted_path = os.path.join(GAM_output_folder_path, f'ActualVSPredicted_{estuary}.png')\n",
    "    plt.savefig(Actual_predicted_path)\n",
    "    plt.clf()\n",
    "\n",
    "    # Plotting residuals\n",
    "    residuals = y_test - y_pred\n",
    "    plt.scatter(y_pred, residuals, alpha=0.5)\n",
    "    plt.title(f'Residuals Plot')\n",
    "    plt.xlabel(f'Predicted {det}')\n",
    "    plt.ylabel('Residuals')\n",
    "    plt.axhline(y=0, color='r', linestyle='--', linewidth=2)\n",
    "    #Exporting figure\n",
    "    Residuals_path = os.path.join(GAM_output_folder_path, f'Residuals_{estuary}.png')\n",
    "    plt.savefig(Residuals_path)\n",
    "    plt.clf()\n",
    "\n",
    "    #Plot the partial dependencies\n",
    "    feature_names = ['site_avg_salinity','time', 'day_of_year', 'date']\n",
    "\n",
    "    fig, axs = plt.subplots(1, len(feature_names), figsize=(16, 4))\n",
    "    for i, ax in enumerate(axs):\n",
    "        #This defaults to 100 measurements\n",
    "        XX = gam.generate_X_grid(term=i)\n",
    "        pdep, confi = gam.partial_dependence(term=i, X=XX, width=0.95)\n",
    "        ax.plot(XX[:, i], pdep)\n",
    "        ax.plot(XX[:, i], confi, c='r', ls='--')\n",
    "        ax.set_title(f'Partial dependence of {feature_names[i]}', fontsize = 10)\n",
    "    plt.tight_layout()\n",
    "    #Exporting figure\n",
    "    Dependencies_path = os.path.join(GAM_output_folder_path, f'Dependencies_{estuary}.png')\n",
    "    plt.savefig(Dependencies_path)\n",
    "    plt.clf()\n",
    "\n",
    "    # This line extracts the partial dependence for the 'year' feature. There's probably a better way to combine with above code.\n",
    "    XX = gam.generate_X_grid(term=3)\n",
    "    pdep, confi = gam.partial_dependence(term=3, X=XX, width=0.95)\n",
    "\n",
    "    # Plot the partial dependence for 'year'\n",
    "    plt.plot(XX[:, 3], pdep)\n",
    "    plt.fill_between(XX[:, 3], confi[:, 0], confi[:, 1], alpha=0.2, color='r')\n",
    "    plt.title('Partial Dependence Plot for Year')\n",
    "    plt.xlabel('Year')\n",
    "    plt.ylabel('Partial Dependence')\n",
    "    #Exporting figure\n",
    "    Yearly_dependencies_path = os.path.join(GAM_output_folder_path, f'Yearly_dependencies_{estuary}.png')\n",
    "    plt.savefig(Yearly_dependencies_path)\n",
    "    plt.close('all')\n",
    "    \n",
    "    for response in gam.sample(X, Y, quantity='y', n_draws=100, sample_at_X=XX):\n",
    "        plt.scatter(XX[:, 3], response, alpha=0.03, color='k')  # Assuming XX[:, 0] is the appropriate feature for X-axis\n",
    "        #print(response)\n",
    "    plt.plot(XX[:, 3], gam.predict(XX), 'r--')  # Assuming XX[:, 0] is the appropriate feature for X-axis\n",
    "    plt.title('Draw samples from the posterior of the coefficients')\n",
    "    plt.xlabel('Year')\n",
    "    plt.ylabel('Predicted temperature')\n",
    "    Random_model_sample_dependencies_path = os.path.join(GAM_output_folder_path, f'Random_model_posterior_sample_distribution_{estuary}.png')\n",
    "    plt.savefig(Random_model_sample_dependencies_path)\n",
    "    plt.close('all')\n",
    "\n",
    "    # Extracting mean and confidence intervals from pdep and confi\n",
    "    mean_year_dependence = pdep\n",
    "    lower_bound = confi[:, 0]\n",
    "    upper_bound = confi[:, 1]\n",
    "\n",
    "    # Calculating standard deviation based on confidence intervals\n",
    "    std_dev = (upper_bound - lower_bound) / (2 * 1.96)  # Assuming 1.96 corresponds to 95% confidence interval\n",
    "\n",
    "    # Generating samples based on the partial dependence of 'year'\n",
    "    num_samples = 100  # Define the number of samples you want to generate\n",
    "    \n",
    "    samples = np.random.normal(mean_year_dependence, std_dev, size=(num_samples, len(mean_year_dependence)))\n",
    "\n",
    "    # Plotting samples\n",
    "    for sample in samples:\n",
    "        plt.plot(XX[:, 3], sample, alpha=0.03, color='k')\n",
    "    plt.plot(XX[:, 3], pdep, 'r--')  # Assuming XX[:, 3] is the appropriate feature for X-axis\n",
    "    plt.title('Samples from the posterior of the coefficients')\n",
    "    plt.xlabel('Year')\n",
    "    plt.ylabel('Response')\n",
    "    Random_yearly_dependency_sample_path = os.path.join(GAM_output_folder_path, f'Random_yearly_dependence_posterior_sample_distribution_{estuary}.png')\n",
    "    plt.savefig(Random_yearly_dependency_sample_path)\n",
    "    plt.close('all')\n",
    "\n",
    "    # Define the total number of iterations to run through monte carlo\n",
    "    num_iterations = 10000\n",
    "\n",
    "    # Set up blank results table\n",
    "    trend_differences_year = []\n",
    "\n",
    "    # =======================================================\n",
    "    # HERE IS THE OPTIONS FOR HOW TO RUN THE TREND ANALYSIS - Comment one out\n",
    "    # ======================================================\n",
    "\n",
    "    # =/=/=/=/=/=/=/=/=/=/=/=/=/=//=/=/=/=/=/=/=/=/=/=/=/=/=/=/=/=/=/=/=/=/=/=/=/=/=/=\n",
    "    # OPTION 1 = Specify two yearly periods\n",
    "\n",
    "    early_period = [2005.5,2006.5]\n",
    "    later_period=[2021.5,2022.5]\n",
    "    \n",
    "    trend_differences_year = monte_carlo_simulation_from_specific_years(early_period, later_period, samples, XX, num_iterations)\n",
    "    # =/=/=/=/=/=/=/=/=/=/=/=/=/=/=/=/=/=/=/=/=/=/=/=/=/=/=/=/=/=/=/=/=/=/=/=/=/=/=/=/=\n",
    "    \n",
    "    # =/=/=/=/=/=/=/=/=/=/=/=/=/=/=/=/=/=/=/=/=/=/=/=/=/=/=/=/=/=/=/=/=/=/=/=/=/=/=/=/=\n",
    "    # OPTION 2 = Specifya yearly interval\n",
    "    \n",
    "    # year_index = 20\n",
    "    \n",
    "    # trend_differences_year = perform_monte_carlo_simulation(samples, XX, num_iterations, year_index)\n",
    "    # =/=/=/=/=/=/=/=/=/=/=/=/=/=/=/=/=/=/=/=/=/=/=/=/=/=/=/=/=/=/=/=/=/=/=/=/=/=/=/=/=\n",
    "\n",
    "    \n",
    "    # Plot histogram of trend differences\n",
    "    plt.hist(trend_differences_year, bins=50, color='red', edgecolor='black')\n",
    "    plt.title('Histogram of Trend Differences')\n",
    "    plt.xlabel('Difference in Trend')\n",
    "    plt.ylabel('Frequency')\n",
    "    plt.grid(True)\n",
    "    Monte_carlo_histo_sample_path = os.path.join(GAM_output_folder_path, f'Monte_carlo_histogram_{estuary}.png')\n",
    "    plt.savefig(Monte_carlo_histo_sample_path)\n",
    "    plt.close('all')\n",
    "    \n",
    "    # Calculate statistics of trend differences\n",
    "    mean_difference = np.mean(trend_differences_year)\n",
    "    std_dev_difference = np.std(trend_differences_year)\n",
    "\n",
    "    # Print or use these statistics as needed\n",
    "    print(\"Mean difference in trend:\", mean_difference)\n",
    "    print(\"Standard deviation of difference in trend:\", std_dev_difference)\n",
    "\n",
    "\n",
    "    #=================Exporting to CSV and a Dictionary for map plotting=======================\n",
    "\n",
    "    #=============================Print to CSV============================================\n",
    "    #Appending to a dictionaries for a csv\n",
    "    trend_result_list.append({\n",
    "        'Average': mean_difference,\n",
    "        'Std': std_dev_difference,\n",
    "        'r_squared': r2,\n",
    "        'Mean Squared Error': mse,\n",
    "    })\n",
    "    \n",
    "    # Convert the list of dictionaries to a DataFrame\n",
    "    df = pd.DataFrame(trend_result_list)\n",
    "    # Export the DataFrame to a CSV file\n",
    "    csv_path = os.path.join(GAM_output_folder_path, f'{estuary}_trend_result_list.csv')\n",
    "    df.to_csv(csv_path, index=False)\n",
    "\n",
    "\n",
    "    print(f'{estuary} completed successfully')\n",
    "    \n",
    "    print('Run completed successfully')\n",
    "\n",
    "    return trend_result_list"
   ]
  },
  {
   "cell_type": "code",
   "execution_count": 24,
   "id": "d84ca307-9edd-48d8-851a-e32714907ac8",
   "metadata": {},
   "outputs": [],
   "source": [
    "def extract_shapefile(data_dict, estuary_to_extract, input_shapefile, target_crs='EPSG:xxxx'):\n",
    "    if estuary_to_extract in data_dict:\n",
    "        # Get the corresponding values from the dictionary\n",
    "        corresponding_values = data_dict[estuary_to_extract]\n",
    "\n",
    "        # Initialize an empty GeoDataFrame\n",
    "        combined_gdf = gpd.GeoDataFrame()\n",
    "    \n",
    "        # Iterate through each corresponding value\n",
    "        for value in corresponding_values:\n",
    "            # Filter rows based on the current value\n",
    "            subset_gdf = input_shapefile[input_shapefile['wb_name'] == value]\n",
    "\n",
    "            # Check if the subset is not empty before combining\n",
    "            if not subset_gdf.empty:\n",
    "                # Concatenate the subset to the combined GeoDataFrame\n",
    "                combined_gdf = pd.concat([combined_gdf, subset_gdf], ignore_index=True)\n",
    "\n",
    "        # Check if there is more than one row for the key\n",
    "        if len(combined_gdf) > 1:\n",
    "            # Use unary_union to combine geometries\n",
    "            combined_geometry = unary_union(combined_gdf['geometry'])\n",
    "\n",
    "            # Create a new GeoDataFrame with the combined geometry\n",
    "            new_gdf = gpd.GeoDataFrame(geometry=[combined_geometry], crs=target_crs)\n",
    "\n",
    "            # Print or do further processing with the new GeoDataFrame\n",
    "            print(new_gdf)\n",
    "        elif not combined_gdf.empty:\n",
    "            # Only one row, no need to combine, use the original GeoDataFrame\n",
    "            new_gdf = combined_gdf.copy()\n",
    "            new_gdf.crs = target_crs  # Set CRS for the single-row GeoDataFrame\n",
    "            print(new_gdf)\n",
    "        else:\n",
    "            print(f\"No features found for {estuary_to_extract}.\")\n",
    "    else:\n",
    "        print(f\"{estuary_to_extract} not found in the dictionary.\")\n",
    "\n",
    "    return new_gdf"
   ]
  },
  {
   "cell_type": "code",
   "execution_count": 25,
   "id": "1492f529-98a7-4da0-97e6-c9c636d1f276",
   "metadata": {},
   "outputs": [
    {
     "name": "stdout",
     "output_type": "stream",
     "text": [
      "C:\\Users\\alechutchings\\GAM_models_temp_do\n"
     ]
    }
   ],
   "source": [
    "current_directory = os.getcwd()\n",
    "parent_directory = os.path.dirname(current_directory)\n",
    "print(parent_directory)\n",
    "input_model_files_directory = os.path.join(parent_directory, \"input_model_files\")"
   ]
  },
  {
   "cell_type": "code",
   "execution_count": 26,
   "id": "e946682c-84cd-4695-92ed-1edba2ebcb97",
   "metadata": {},
   "outputs": [],
   "source": [
    "shapefile_directory = os.path.join(parent_directory, \"wfd_shapefile\")\n",
    "wfd_trac_file_path = os.path.join(shapefile_directory, \"WFD_Transitional_and_Coastal_Water_Bodies_Cycle_2.shp\")\n",
    "wfd_trac_shp = gpd.read_file(wfd_trac_file_path) "
   ]
  },
  {
   "cell_type": "code",
   "execution_count": 27,
   "id": "e401c591-fac9-4e9e-ad62-21cd6754b180",
   "metadata": {},
   "outputs": [],
   "source": [
    "csv_file_path = os.path.join(input_model_files_directory, \"estuary_shapefile_dictionary.csv\")\n",
    "#csv_file_path = \"C:\\\\Users\\\\alechutchings\\\\Documents\\\\PythonNotebooks\\\\estuary_shapefile_dictionary.csv\"\n",
    "\n",
    "# Initialize an empty dictionary\n",
    "data_dict = {}\n",
    "\n",
    "# Read the CSV file and populate the dictionary\n",
    "with open(csv_file_path, 'r') as csv_file:\n",
    "    csv_reader = csv.reader(csv_file)\n",
    "    \n",
    "    # Skip the header row if it exists\n",
    "    next(csv_reader, None)\n",
    "    \n",
    "    # Iterate through rows and add key-value pairs to the dictionary\n",
    "    for row in csv_reader:\n",
    "        key = row[0]\n",
    "        values = row[1:]  # Collect all values from the second column onwards\n",
    "        data_dict[key] = values"
   ]
  },
  {
   "cell_type": "code",
   "execution_count": 28,
   "id": "bb67d527-2837-4144-b3ef-8167259cb385",
   "metadata": {},
   "outputs": [
    {
     "name": "stdout",
     "output_type": "stream",
     "text": [
      "83\n"
     ]
    }
   ],
   "source": [
    "estuary_list = list(data_dict.keys())\n",
    "print(len(estuary_list))"
   ]
  },
  {
   "cell_type": "code",
   "execution_count": 41,
   "id": "d0837fa7-a176-4e7e-a4ab-ef0a9a6156de",
   "metadata": {},
   "outputs": [
    {
     "name": "stdout",
     "output_type": "stream",
     "text": [
      "Folder 'C:\\Users\\alechutchings\\GAM_models_temp_do\\output_data\\Adur' already exists.\n",
      "Folder 'C:\\Users\\alechutchings\\GAM_models_temp_do\\output_data\\Adur\\MODEL_2_GAM_outputs_whole_estuary_salinity_Oxygen, Dissolved as O2_2006_2022' created.\n"
     ]
    },
    {
     "name": "stderr",
     "output_type": "stream",
     "text": [
      "100% (11 of 11) |########################| Elapsed Time: 0:00:00 Time:  0:00:00\n",
      "100% (11 of 11) |########################| Elapsed Time: 0:00:00 Time:  0:00:00\n",
      "100% (11 of 11) |########################| Elapsed Time: 0:00:00 Time:  0:00:00\n",
      "100% (11 of 11) |########################| Elapsed Time: 0:00:00 Time:  0:00:00\n",
      "100% (11 of 11) |########################| Elapsed Time: 0:00:00 Time:  0:00:00\n",
      " 18% (2 of 11) |####                     | Elapsed Time: 0:00:00 ETA:  00:00:00"
     ]
    },
    {
     "name": "stdout",
     "output_type": "stream",
     "text": [
      "Mean difference in trend: -0.011827189540772023\n",
      "Standard deviation of difference in trend: 0.010632526636418676\n",
      "Adur completed successfully\n",
      "Run completed successfully\n",
      "Average: -0.011827189540772023\n",
      "Standard Deviation: nan\n",
      "Folder 'C:\\Users\\alechutchings\\GAM_models_temp_do\\output_data\\Alde_ore' already exists.\n",
      "Folder 'C:\\Users\\alechutchings\\GAM_models_temp_do\\output_data\\Alde_ore\\MODEL_2_GAM_outputs_whole_estuary_salinity_Oxygen, Dissolved as O2_2006_2022' created.\n"
     ]
    },
    {
     "name": "stderr",
     "output_type": "stream",
     "text": [
      "100% (11 of 11) |########################| Elapsed Time: 0:00:00 Time:  0:00:00\n",
      "100% (11 of 11) |########################| Elapsed Time: 0:00:00 Time:  0:00:00\n",
      "100% (11 of 11) |########################| Elapsed Time: 0:00:00 Time:  0:00:00\n",
      "100% (11 of 11) |########################| Elapsed Time: 0:00:00 Time:  0:00:00\n",
      "100% (11 of 11) |########################| Elapsed Time: 0:00:00 Time:  0:00:00\n",
      "Traceback (most recent call last):\n",
      "  File \"C:\\Users\\alechutchings\\AppData\\Local\\Temp\\2\\ipykernel_3356\\892944321.py\", line 39, in <module>\n",
      "    trend_result_list = run_GAM(Est_group_all, det, GAM_output_path)\n",
      "                        ^^^^^^^^^^^^^^^^^^^^^^^^^^^^^^^^^^^^^^^^^^^^\n",
      "  File \"C:\\Users\\alechutchings\\AppData\\Local\\Temp\\2\\ipykernel_3356\\3038027423.py\", line 171, in run_GAM\n",
      "    trend_differences_year = monte_carlo_simulation_from_specific_years(early_period, later_period, samples, XX, num_iterations)\n",
      "                             ^^^^^^^^^^^^^^^^^^^^^^^^^^^^^^^^^^^^^^^^^^^^^^^^^^^^^^^^^^^^^^^^^^^^^^^^^^^^^^^^^^^^^^^^^^^^^^^^^^^\n",
      "  File \"C:\\Users\\alechutchings\\AppData\\Local\\Temp\\2\\ipykernel_3356\\3255356584.py\", line 11, in monte_carlo_simulation_from_specific_years\n",
      "    idx2 = np.random.choice(selected_late_data_indices)\n",
      "           ^^^^^^^^^^^^^^^^^^^^^^^^^^^^^^^^^^^^^^^^^^^^\n",
      "  File \"mtrand.pyx\", line 950, in numpy.random.mtrand.RandomState.choice\n",
      "ValueError: 'a' cannot be empty unless no samples are taken\n",
      "Traceback (most recent call last):\n",
      "  File \"C:\\Users\\alechutchings\\AppData\\Local\\anaconda3\\envs\\geo_env\\Lib\\site-packages\\pandas\\core\\indexes\\base.py\", line 3653, in get_loc\n",
      "    return self._engine.get_loc(casted_key)\n",
      "           ^^^^^^^^^^^^^^^^^^^^^^^^^^^^^^^^\n",
      "  File \"pandas\\_libs\\index.pyx\", line 147, in pandas._libs.index.IndexEngine.get_loc\n",
      "  File \"pandas\\_libs\\index.pyx\", line 176, in pandas._libs.index.IndexEngine.get_loc\n",
      "  File \"pandas\\_libs\\hashtable_class_helper.pxi\", line 7080, in pandas._libs.hashtable.PyObjectHashTable.get_item\n",
      "  File \"pandas\\_libs\\hashtable_class_helper.pxi\", line 7088, in pandas._libs.hashtable.PyObjectHashTable.get_item\n",
      "KeyError: 'Oxygen, Dissolved as O2'\n",
      "\n",
      "The above exception was the direct cause of the following exception:\n",
      "\n",
      "Traceback (most recent call last):\n",
      "  File \"C:\\Users\\alechutchings\\AppData\\Local\\Temp\\2\\ipykernel_3356\\892944321.py\", line 39, in <module>\n",
      "    trend_result_list = run_GAM(Est_group_all, det, GAM_output_path)\n",
      "                        ^^^^^^^^^^^^^^^^^^^^^^^^^^^^^^^^^^^^^^^^^^^^\n",
      "  File \"C:\\Users\\alechutchings\\AppData\\Local\\Temp\\2\\ipykernel_3356\\3038027423.py\", line 30, in run_GAM\n",
      "    Y = Est_all[det].values\n",
      "        ~~~~~~~^^^^^\n",
      "  File \"C:\\Users\\alechutchings\\AppData\\Local\\anaconda3\\envs\\geo_env\\Lib\\site-packages\\pandas\\core\\frame.py\", line 3761, in __getitem__\n",
      "    indexer = self.columns.get_loc(key)\n",
      "              ^^^^^^^^^^^^^^^^^^^^^^^^^\n",
      "  File \"C:\\Users\\alechutchings\\AppData\\Local\\anaconda3\\envs\\geo_env\\Lib\\site-packages\\pandas\\core\\indexes\\base.py\", line 3655, in get_loc\n",
      "    raise KeyError(key) from err\n",
      "KeyError: 'Oxygen, Dissolved as O2'\n",
      " 18% (2 of 11) |####                     | Elapsed Time: 0:00:00 ETA:  00:00:00"
     ]
    },
    {
     "name": "stdout",
     "output_type": "stream",
     "text": [
      "Error processing Alde_ore: 'a' cannot be empty unless no samples are taken\n",
      "Folder 'C:\\Users\\alechutchings\\GAM_models_temp_do\\output_data\\Aln' already exists.\n",
      "Folder 'C:\\Users\\alechutchings\\GAM_models_temp_do\\output_data\\Aln\\MODEL_2_GAM_outputs_whole_estuary_salinity_Oxygen, Dissolved as O2_2006_2022' created.\n",
      "Error processing Aln: 'Oxygen, Dissolved as O2'\n",
      "Folder 'C:\\Users\\alechutchings\\GAM_models_temp_do\\output_data\\Alt' already exists.\n",
      "Folder 'C:\\Users\\alechutchings\\GAM_models_temp_do\\output_data\\Alt\\MODEL_2_GAM_outputs_whole_estuary_salinity_Oxygen, Dissolved as O2_2006_2022' created.\n"
     ]
    },
    {
     "name": "stderr",
     "output_type": "stream",
     "text": [
      "100% (11 of 11) |########################| Elapsed Time: 0:00:00 Time:  0:00:00\n",
      "100% (11 of 11) |########################| Elapsed Time: 0:00:00 Time:  0:00:00\n",
      "100% (11 of 11) |########################| Elapsed Time: 0:00:00 Time:  0:00:00\n",
      "100% (11 of 11) |########################| Elapsed Time: 0:00:00 Time:  0:00:00\n",
      "100% (11 of 11) |########################| Elapsed Time: 0:00:00 Time:  0:00:00\n",
      "Traceback (most recent call last):\n",
      "  File \"C:\\Users\\alechutchings\\AppData\\Local\\Temp\\2\\ipykernel_3356\\892944321.py\", line 39, in <module>\n",
      "    trend_result_list = run_GAM(Est_group_all, det, GAM_output_path)\n",
      "                        ^^^^^^^^^^^^^^^^^^^^^^^^^^^^^^^^^^^^^^^^^^^^\n",
      "  File \"C:\\Users\\alechutchings\\AppData\\Local\\Temp\\2\\ipykernel_3356\\3038027423.py\", line 171, in run_GAM\n",
      "    trend_differences_year = monte_carlo_simulation_from_specific_years(early_period, later_period, samples, XX, num_iterations)\n",
      "                             ^^^^^^^^^^^^^^^^^^^^^^^^^^^^^^^^^^^^^^^^^^^^^^^^^^^^^^^^^^^^^^^^^^^^^^^^^^^^^^^^^^^^^^^^^^^^^^^^^^^\n",
      "  File \"C:\\Users\\alechutchings\\AppData\\Local\\Temp\\2\\ipykernel_3356\\3255356584.py\", line 10, in monte_carlo_simulation_from_specific_years\n",
      "    idx1 = np.random.choice(selected_early_data_indices)\n",
      "           ^^^^^^^^^^^^^^^^^^^^^^^^^^^^^^^^^^^^^^^^^^^^^\n",
      "  File \"mtrand.pyx\", line 950, in numpy.random.mtrand.RandomState.choice\n",
      "ValueError: 'a' cannot be empty unless no samples are taken\n"
     ]
    },
    {
     "name": "stdout",
     "output_type": "stream",
     "text": [
      "Error processing Alt: 'a' cannot be empty unless no samples are taken\n",
      "Folder 'C:\\Users\\alechutchings\\GAM_models_temp_do\\output_data\\Arun' already exists.\n",
      "Folder 'C:\\Users\\alechutchings\\GAM_models_temp_do\\output_data\\Arun\\MODEL_2_GAM_outputs_whole_estuary_salinity_Oxygen, Dissolved as O2_2006_2022' created.\n"
     ]
    },
    {
     "name": "stderr",
     "output_type": "stream",
     "text": [
      "100% (11 of 11) |########################| Elapsed Time: 0:00:00 Time:  0:00:00\n",
      "100% (11 of 11) |########################| Elapsed Time: 0:00:00 Time:  0:00:00\n",
      "100% (11 of 11) |########################| Elapsed Time: 0:00:00 Time:  0:00:00\n",
      "100% (11 of 11) |########################| Elapsed Time: 0:00:00 Time:  0:00:00\n",
      "100% (11 of 11) |########################| Elapsed Time: 0:00:00 Time:  0:00:00\n",
      "Traceback (most recent call last):\n",
      "  File \"C:\\Users\\alechutchings\\AppData\\Local\\Temp\\2\\ipykernel_3356\\892944321.py\", line 39, in <module>\n",
      "    trend_result_list = run_GAM(Est_group_all, det, GAM_output_path)\n",
      "                        ^^^^^^^^^^^^^^^^^^^^^^^^^^^^^^^^^^^^^^^^^^^^\n",
      "  File \"C:\\Users\\alechutchings\\AppData\\Local\\Temp\\2\\ipykernel_3356\\3038027423.py\", line 171, in run_GAM\n",
      "    trend_differences_year = monte_carlo_simulation_from_specific_years(early_period, later_period, samples, XX, num_iterations)\n",
      "                             ^^^^^^^^^^^^^^^^^^^^^^^^^^^^^^^^^^^^^^^^^^^^^^^^^^^^^^^^^^^^^^^^^^^^^^^^^^^^^^^^^^^^^^^^^^^^^^^^^^^\n",
      "  File \"C:\\Users\\alechutchings\\AppData\\Local\\Temp\\2\\ipykernel_3356\\3255356584.py\", line 11, in monte_carlo_simulation_from_specific_years\n",
      "    idx2 = np.random.choice(selected_late_data_indices)\n",
      "           ^^^^^^^^^^^^^^^^^^^^^^^^^^^^^^^^^^^^^^^^^^^^\n",
      "  File \"mtrand.pyx\", line 950, in numpy.random.mtrand.RandomState.choice\n",
      "ValueError: 'a' cannot be empty unless no samples are taken\n",
      "  0% (0 of 11) |                         | Elapsed Time: 0:00:00 ETA:  --:--:--"
     ]
    },
    {
     "name": "stdout",
     "output_type": "stream",
     "text": [
      "Error processing Arun: 'a' cannot be empty unless no samples are taken\n",
      "Folder 'C:\\Users\\alechutchings\\GAM_models_temp_do\\output_data\\Avon' already exists.\n",
      "Folder 'C:\\Users\\alechutchings\\GAM_models_temp_do\\output_data\\Avon\\MODEL_2_GAM_outputs_whole_estuary_salinity_Oxygen, Dissolved as O2_2006_2022' created.\n"
     ]
    },
    {
     "name": "stderr",
     "output_type": "stream",
     "text": [
      "100% (11 of 11) |########################| Elapsed Time: 0:00:00 Time:  0:00:00\n",
      "100% (11 of 11) |########################| Elapsed Time: 0:00:00 Time:  0:00:00\n",
      "100% (11 of 11) |########################| Elapsed Time: 0:00:00 Time:  0:00:00\n",
      "100% (11 of 11) |########################| Elapsed Time: 0:00:00 Time:  0:00:00\n",
      "100% (11 of 11) |########################| Elapsed Time: 0:00:00 Time:  0:00:00\n",
      "Traceback (most recent call last):\n",
      "  File \"C:\\Users\\alechutchings\\AppData\\Local\\Temp\\2\\ipykernel_3356\\892944321.py\", line 39, in <module>\n",
      "    trend_result_list = run_GAM(Est_group_all, det, GAM_output_path)\n",
      "                        ^^^^^^^^^^^^^^^^^^^^^^^^^^^^^^^^^^^^^^^^^^^^\n",
      "  File \"C:\\Users\\alechutchings\\AppData\\Local\\Temp\\2\\ipykernel_3356\\3038027423.py\", line 171, in run_GAM\n",
      "    trend_differences_year = monte_carlo_simulation_from_specific_years(early_period, later_period, samples, XX, num_iterations)\n",
      "                             ^^^^^^^^^^^^^^^^^^^^^^^^^^^^^^^^^^^^^^^^^^^^^^^^^^^^^^^^^^^^^^^^^^^^^^^^^^^^^^^^^^^^^^^^^^^^^^^^^^^\n",
      "  File \"C:\\Users\\alechutchings\\AppData\\Local\\Temp\\2\\ipykernel_3356\\3255356584.py\", line 11, in monte_carlo_simulation_from_specific_years\n",
      "    idx2 = np.random.choice(selected_late_data_indices)\n",
      "           ^^^^^^^^^^^^^^^^^^^^^^^^^^^^^^^^^^^^^^^^^^^^\n",
      "  File \"mtrand.pyx\", line 950, in numpy.random.mtrand.RandomState.choice\n",
      "ValueError: 'a' cannot be empty unless no samples are taken\n",
      " 18% (2 of 11) |####                     | Elapsed Time: 0:00:00 ETA:  00:00:00"
     ]
    },
    {
     "name": "stdout",
     "output_type": "stream",
     "text": [
      "Error processing Avon: 'a' cannot be empty unless no samples are taken\n",
      "Folder 'C:\\Users\\alechutchings\\GAM_models_temp_do\\output_data\\Axe' already exists.\n",
      "Folder 'C:\\Users\\alechutchings\\GAM_models_temp_do\\output_data\\Axe\\MODEL_2_GAM_outputs_whole_estuary_salinity_Oxygen, Dissolved as O2_2006_2022' created.\n"
     ]
    },
    {
     "name": "stderr",
     "output_type": "stream",
     "text": [
      "100% (11 of 11) |########################| Elapsed Time: 0:00:00 Time:  0:00:00\n",
      "100% (11 of 11) |########################| Elapsed Time: 0:00:00 Time:  0:00:00\n",
      "100% (11 of 11) |########################| Elapsed Time: 0:00:00 Time:  0:00:00\n",
      "100% (11 of 11) |########################| Elapsed Time: 0:00:00 Time:  0:00:00\n",
      "100% (11 of 11) |########################| Elapsed Time: 0:00:00 Time:  0:00:00\n",
      "Traceback (most recent call last):\n",
      "  File \"C:\\Users\\alechutchings\\AppData\\Local\\Temp\\2\\ipykernel_3356\\892944321.py\", line 39, in <module>\n",
      "    trend_result_list = run_GAM(Est_group_all, det, GAM_output_path)\n",
      "                        ^^^^^^^^^^^^^^^^^^^^^^^^^^^^^^^^^^^^^^^^^^^^\n",
      "  File \"C:\\Users\\alechutchings\\AppData\\Local\\Temp\\2\\ipykernel_3356\\3038027423.py\", line 171, in run_GAM\n",
      "    trend_differences_year = monte_carlo_simulation_from_specific_years(early_period, later_period, samples, XX, num_iterations)\n",
      "                             ^^^^^^^^^^^^^^^^^^^^^^^^^^^^^^^^^^^^^^^^^^^^^^^^^^^^^^^^^^^^^^^^^^^^^^^^^^^^^^^^^^^^^^^^^^^^^^^^^^^\n",
      "  File \"C:\\Users\\alechutchings\\AppData\\Local\\Temp\\2\\ipykernel_3356\\3255356584.py\", line 10, in monte_carlo_simulation_from_specific_years\n",
      "    idx1 = np.random.choice(selected_early_data_indices)\n",
      "           ^^^^^^^^^^^^^^^^^^^^^^^^^^^^^^^^^^^^^^^^^^^^^\n",
      "  File \"mtrand.pyx\", line 950, in numpy.random.mtrand.RandomState.choice\n",
      "ValueError: 'a' cannot be empty unless no samples are taken\n",
      "  0% (0 of 11) |                         | Elapsed Time: 0:00:00 ETA:  --:--:--"
     ]
    },
    {
     "name": "stdout",
     "output_type": "stream",
     "text": [
      "Error processing Axe: 'a' cannot be empty unless no samples are taken\n",
      "Folder 'C:\\Users\\alechutchings\\GAM_models_temp_do\\output_data\\Beaulieu' already exists.\n",
      "Folder 'C:\\Users\\alechutchings\\GAM_models_temp_do\\output_data\\Beaulieu\\MODEL_2_GAM_outputs_whole_estuary_salinity_Oxygen, Dissolved as O2_2006_2022' created.\n"
     ]
    },
    {
     "name": "stderr",
     "output_type": "stream",
     "text": [
      "100% (11 of 11) |########################| Elapsed Time: 0:00:00 Time:  0:00:00\n",
      "100% (11 of 11) |########################| Elapsed Time: 0:00:00 Time:  0:00:00\n",
      "100% (11 of 11) |########################| Elapsed Time: 0:00:00 Time:  0:00:00\n",
      "100% (11 of 11) |########################| Elapsed Time: 0:00:00 Time:  0:00:00\n",
      "100% (11 of 11) |########################| Elapsed Time: 0:00:00 Time:  0:00:00\n"
     ]
    },
    {
     "name": "stdout",
     "output_type": "stream",
     "text": [
      "Mean difference in trend: -0.009569115876885807\n",
      "Standard deviation of difference in trend: 0.01780839059362149\n",
      "Beaulieu completed successfully\n",
      "Run completed successfully\n",
      "Average: -0.009569115876885807\n",
      "Standard Deviation: nan\n",
      "Folder 'C:\\Users\\alechutchings\\GAM_models_temp_do\\output_data\\Blackwater' already exists.\n",
      "Folder 'C:\\Users\\alechutchings\\GAM_models_temp_do\\output_data\\Blackwater\\MODEL_2_GAM_outputs_whole_estuary_salinity_Oxygen, Dissolved as O2_2006_2022' created.\n"
     ]
    },
    {
     "name": "stderr",
     "output_type": "stream",
     "text": [
      "100% (11 of 11) |########################| Elapsed Time: 0:00:00 Time:  0:00:00\n",
      "100% (11 of 11) |########################| Elapsed Time: 0:00:00 Time:  0:00:00\n",
      "100% (11 of 11) |########################| Elapsed Time: 0:00:00 Time:  0:00:00\n",
      "100% (11 of 11) |########################| Elapsed Time: 0:00:00 Time:  0:00:00\n",
      "100% (11 of 11) |########################| Elapsed Time: 0:00:00 Time:  0:00:00\n",
      " 18% (2 of 11) |####                     | Elapsed Time: 0:00:00 ETA:  00:00:00"
     ]
    },
    {
     "name": "stdout",
     "output_type": "stream",
     "text": [
      "Mean difference in trend: -0.037710785461449854\n",
      "Standard deviation of difference in trend: 0.02725942725339062\n",
      "Blackwater completed successfully\n",
      "Run completed successfully\n",
      "Average: -0.037710785461449854\n",
      "Standard Deviation: nan\n",
      "Folder 'C:\\Users\\alechutchings\\GAM_models_temp_do\\output_data\\Blythe_north' already exists.\n",
      "Folder 'C:\\Users\\alechutchings\\GAM_models_temp_do\\output_data\\Blythe_north\\MODEL_2_GAM_outputs_whole_estuary_salinity_Oxygen, Dissolved as O2_2006_2022' created.\n"
     ]
    },
    {
     "name": "stderr",
     "output_type": "stream",
     "text": [
      "100% (11 of 11) |########################| Elapsed Time: 0:00:00 Time:  0:00:00\n",
      "100% (11 of 11) |########################| Elapsed Time: 0:00:00 Time:  0:00:00\n",
      "100% (11 of 11) |########################| Elapsed Time: 0:00:00 Time:  0:00:00\n",
      "100% (11 of 11) |########################| Elapsed Time: 0:00:00 Time:  0:00:00\n",
      "100% (11 of 11) |########################| Elapsed Time: 0:00:00 Time:  0:00:00\n",
      "Traceback (most recent call last):\n",
      "  File \"C:\\Users\\alechutchings\\AppData\\Local\\Temp\\2\\ipykernel_3356\\892944321.py\", line 39, in <module>\n",
      "    trend_result_list = run_GAM(Est_group_all, det, GAM_output_path)\n",
      "                        ^^^^^^^^^^^^^^^^^^^^^^^^^^^^^^^^^^^^^^^^^^^^\n",
      "  File \"C:\\Users\\alechutchings\\AppData\\Local\\Temp\\2\\ipykernel_3356\\3038027423.py\", line 171, in run_GAM\n",
      "    trend_differences_year = monte_carlo_simulation_from_specific_years(early_period, later_period, samples, XX, num_iterations)\n",
      "                             ^^^^^^^^^^^^^^^^^^^^^^^^^^^^^^^^^^^^^^^^^^^^^^^^^^^^^^^^^^^^^^^^^^^^^^^^^^^^^^^^^^^^^^^^^^^^^^^^^^^\n",
      "  File \"C:\\Users\\alechutchings\\AppData\\Local\\Temp\\2\\ipykernel_3356\\3255356584.py\", line 11, in monte_carlo_simulation_from_specific_years\n",
      "    idx2 = np.random.choice(selected_late_data_indices)\n",
      "           ^^^^^^^^^^^^^^^^^^^^^^^^^^^^^^^^^^^^^^^^^^^^\n",
      "  File \"mtrand.pyx\", line 950, in numpy.random.mtrand.RandomState.choice\n",
      "ValueError: 'a' cannot be empty unless no samples are taken\n",
      " 36% (4 of 11) |#########                | Elapsed Time: 0:00:00 ETA:   0:00:00"
     ]
    },
    {
     "name": "stdout",
     "output_type": "stream",
     "text": [
      "Error processing Blythe_north: 'a' cannot be empty unless no samples are taken\n",
      "Folder 'C:\\Users\\alechutchings\\GAM_models_temp_do\\output_data\\Blythe_south' already exists.\n",
      "Folder 'C:\\Users\\alechutchings\\GAM_models_temp_do\\output_data\\Blythe_south\\MODEL_2_GAM_outputs_whole_estuary_salinity_Oxygen, Dissolved as O2_2006_2022' created.\n"
     ]
    },
    {
     "name": "stderr",
     "output_type": "stream",
     "text": [
      "100% (11 of 11) |########################| Elapsed Time: 0:00:00 Time:  0:00:00\n",
      "100% (11 of 11) |########################| Elapsed Time: 0:00:00 Time:  0:00:00\n",
      "100% (11 of 11) |########################| Elapsed Time: 0:00:00 Time:  0:00:00\n",
      "100% (11 of 11) |########################| Elapsed Time: 0:00:00 Time:  0:00:00\n",
      "100% (11 of 11) |########################| Elapsed Time: 0:00:00 Time:  0:00:00\n",
      "Traceback (most recent call last):\n",
      "  File \"C:\\Users\\alechutchings\\AppData\\Local\\Temp\\2\\ipykernel_3356\\892944321.py\", line 39, in <module>\n",
      "    trend_result_list = run_GAM(Est_group_all, det, GAM_output_path)\n",
      "                        ^^^^^^^^^^^^^^^^^^^^^^^^^^^^^^^^^^^^^^^^^^^^\n",
      "  File \"C:\\Users\\alechutchings\\AppData\\Local\\Temp\\2\\ipykernel_3356\\3038027423.py\", line 171, in run_GAM\n",
      "    trend_differences_year = monte_carlo_simulation_from_specific_years(early_period, later_period, samples, XX, num_iterations)\n",
      "                             ^^^^^^^^^^^^^^^^^^^^^^^^^^^^^^^^^^^^^^^^^^^^^^^^^^^^^^^^^^^^^^^^^^^^^^^^^^^^^^^^^^^^^^^^^^^^^^^^^^^\n",
      "  File \"C:\\Users\\alechutchings\\AppData\\Local\\Temp\\2\\ipykernel_3356\\3255356584.py\", line 11, in monte_carlo_simulation_from_specific_years\n",
      "    idx2 = np.random.choice(selected_late_data_indices)\n",
      "           ^^^^^^^^^^^^^^^^^^^^^^^^^^^^^^^^^^^^^^^^^^^^\n",
      "  File \"mtrand.pyx\", line 950, in numpy.random.mtrand.RandomState.choice\n",
      "ValueError: 'a' cannot be empty unless no samples are taken\n",
      "Traceback (most recent call last):\n",
      "  File \"C:\\Users\\alechutchings\\AppData\\Local\\anaconda3\\envs\\geo_env\\Lib\\site-packages\\pandas\\core\\indexes\\base.py\", line 3653, in get_loc\n",
      "    return self._engine.get_loc(casted_key)\n",
      "           ^^^^^^^^^^^^^^^^^^^^^^^^^^^^^^^^\n",
      "  File \"pandas\\_libs\\index.pyx\", line 147, in pandas._libs.index.IndexEngine.get_loc\n",
      "  File \"pandas\\_libs\\index.pyx\", line 176, in pandas._libs.index.IndexEngine.get_loc\n",
      "  File \"pandas\\_libs\\hashtable_class_helper.pxi\", line 7080, in pandas._libs.hashtable.PyObjectHashTable.get_item\n",
      "  File \"pandas\\_libs\\hashtable_class_helper.pxi\", line 7088, in pandas._libs.hashtable.PyObjectHashTable.get_item\n",
      "KeyError: 'Oxygen, Dissolved as O2'\n",
      "\n",
      "The above exception was the direct cause of the following exception:\n",
      "\n",
      "Traceback (most recent call last):\n",
      "  File \"C:\\Users\\alechutchings\\AppData\\Local\\Temp\\2\\ipykernel_3356\\892944321.py\", line 39, in <module>\n",
      "    trend_result_list = run_GAM(Est_group_all, det, GAM_output_path)\n",
      "                        ^^^^^^^^^^^^^^^^^^^^^^^^^^^^^^^^^^^^^^^^^^^^\n",
      "  File \"C:\\Users\\alechutchings\\AppData\\Local\\Temp\\2\\ipykernel_3356\\3038027423.py\", line 30, in run_GAM\n",
      "    Y = Est_all[det].values\n",
      "        ~~~~~~~^^^^^\n",
      "  File \"C:\\Users\\alechutchings\\AppData\\Local\\anaconda3\\envs\\geo_env\\Lib\\site-packages\\pandas\\core\\frame.py\", line 3761, in __getitem__\n",
      "    indexer = self.columns.get_loc(key)\n",
      "              ^^^^^^^^^^^^^^^^^^^^^^^^^\n",
      "  File \"C:\\Users\\alechutchings\\AppData\\Local\\anaconda3\\envs\\geo_env\\Lib\\site-packages\\pandas\\core\\indexes\\base.py\", line 3655, in get_loc\n",
      "    raise KeyError(key) from err\n",
      "KeyError: 'Oxygen, Dissolved as O2'\n"
     ]
    },
    {
     "name": "stdout",
     "output_type": "stream",
     "text": [
      "Error processing Blythe_south: 'a' cannot be empty unless no samples are taken\n",
      "Folder 'C:\\Users\\alechutchings\\GAM_models_temp_do\\output_data\\Bristol_avon' already exists.\n",
      "Folder 'C:\\Users\\alechutchings\\GAM_models_temp_do\\output_data\\Bristol_avon\\MODEL_2_GAM_outputs_whole_estuary_salinity_Oxygen, Dissolved as O2_2006_2022' created.\n",
      "Error processing Bristol_avon: 'Oxygen, Dissolved as O2'\n",
      "Folder 'C:\\Users\\alechutchings\\GAM_models_temp_do\\output_data\\Bure' already exists.\n",
      "Folder 'C:\\Users\\alechutchings\\GAM_models_temp_do\\output_data\\Bure\\MODEL_2_GAM_outputs_whole_estuary_salinity_Oxygen, Dissolved as O2_2006_2022' created.\n"
     ]
    },
    {
     "name": "stderr",
     "output_type": "stream",
     "text": [
      "100% (11 of 11) |########################| Elapsed Time: 0:00:00 Time:  0:00:00\n",
      "100% (11 of 11) |########################| Elapsed Time: 0:00:00 Time:  0:00:00\n",
      "100% (11 of 11) |########################| Elapsed Time: 0:00:00 Time:  0:00:00\n",
      "100% (11 of 11) |########################| Elapsed Time: 0:00:00 Time:  0:00:00\n",
      "100% (11 of 11) |########################| Elapsed Time: 0:00:00 Time:  0:00:00\n",
      " 18% (2 of 11) |####                     | Elapsed Time: 0:00:00 ETA:  00:00:00"
     ]
    },
    {
     "name": "stdout",
     "output_type": "stream",
     "text": [
      "Mean difference in trend: -0.0264100391421739\n",
      "Standard deviation of difference in trend: 0.13442865711922805\n",
      "Bure completed successfully\n",
      "Run completed successfully\n",
      "Average: -0.0264100391421739\n",
      "Standard Deviation: nan\n",
      "Folder 'C:\\Users\\alechutchings\\GAM_models_temp_do\\output_data\\Burn' already exists.\n",
      "Folder 'C:\\Users\\alechutchings\\GAM_models_temp_do\\output_data\\Burn\\MODEL_2_GAM_outputs_whole_estuary_salinity_Oxygen, Dissolved as O2_2006_2022' created.\n"
     ]
    },
    {
     "name": "stderr",
     "output_type": "stream",
     "text": [
      "100% (11 of 11) |########################| Elapsed Time: 0:00:00 Time:  0:00:00\n",
      "100% (11 of 11) |########################| Elapsed Time: 0:00:00 Time:  0:00:00\n",
      "100% (11 of 11) |########################| Elapsed Time: 0:00:00 Time:  0:00:00\n",
      "100% (11 of 11) |########################| Elapsed Time: 0:00:00 Time:  0:00:00\n",
      "100% (11 of 11) |########################| Elapsed Time: 0:00:00 Time:  0:00:00\n",
      "Traceback (most recent call last):\n",
      "  File \"C:\\Users\\alechutchings\\AppData\\Local\\Temp\\2\\ipykernel_3356\\892944321.py\", line 39, in <module>\n",
      "    trend_result_list = run_GAM(Est_group_all, det, GAM_output_path)\n",
      "                        ^^^^^^^^^^^^^^^^^^^^^^^^^^^^^^^^^^^^^^^^^^^^\n",
      "  File \"C:\\Users\\alechutchings\\AppData\\Local\\Temp\\2\\ipykernel_3356\\3038027423.py\", line 171, in run_GAM\n",
      "    trend_differences_year = monte_carlo_simulation_from_specific_years(early_period, later_period, samples, XX, num_iterations)\n",
      "                             ^^^^^^^^^^^^^^^^^^^^^^^^^^^^^^^^^^^^^^^^^^^^^^^^^^^^^^^^^^^^^^^^^^^^^^^^^^^^^^^^^^^^^^^^^^^^^^^^^^^\n",
      "  File \"C:\\Users\\alechutchings\\AppData\\Local\\Temp\\2\\ipykernel_3356\\3255356584.py\", line 11, in monte_carlo_simulation_from_specific_years\n",
      "    idx2 = np.random.choice(selected_late_data_indices)\n",
      "           ^^^^^^^^^^^^^^^^^^^^^^^^^^^^^^^^^^^^^^^^^^^^\n",
      "  File \"mtrand.pyx\", line 950, in numpy.random.mtrand.RandomState.choice\n",
      "ValueError: 'a' cannot be empty unless no samples are taken\n"
     ]
    },
    {
     "name": "stdout",
     "output_type": "stream",
     "text": [
      "Error processing Burn: 'a' cannot be empty unless no samples are taken\n",
      "Folder 'C:\\Users\\alechutchings\\GAM_models_temp_do\\output_data\\Camel' already exists.\n",
      "Folder 'C:\\Users\\alechutchings\\GAM_models_temp_do\\output_data\\Camel\\MODEL_2_GAM_outputs_whole_estuary_salinity_Oxygen, Dissolved as O2_2006_2022' created.\n"
     ]
    },
    {
     "name": "stderr",
     "output_type": "stream",
     "text": [
      "100% (11 of 11) |########################| Elapsed Time: 0:00:00 Time:  0:00:00\n",
      "100% (11 of 11) |########################| Elapsed Time: 0:00:00 Time:  0:00:00\n",
      "100% (11 of 11) |########################| Elapsed Time: 0:00:00 Time:  0:00:00\n",
      "100% (11 of 11) |########################| Elapsed Time: 0:00:00 Time:  0:00:00\n",
      "100% (11 of 11) |########################| Elapsed Time: 0:00:00 Time:  0:00:00\n"
     ]
    },
    {
     "name": "stdout",
     "output_type": "stream",
     "text": [
      "Mean difference in trend: -0.05297315243186828\n",
      "Standard deviation of difference in trend: 0.044091105554718596\n",
      "Camel completed successfully\n",
      "Run completed successfully\n",
      "Average: -0.05297315243186828\n",
      "Standard Deviation: nan\n",
      "Folder 'C:\\Users\\alechutchings\\GAM_models_temp_do\\output_data\\Chichester' already exists.\n",
      "Folder 'C:\\Users\\alechutchings\\GAM_models_temp_do\\output_data\\Chichester\\MODEL_2_GAM_outputs_whole_estuary_salinity_Oxygen, Dissolved as O2_2006_2022' created.\n"
     ]
    },
    {
     "name": "stderr",
     "output_type": "stream",
     "text": [
      "100% (11 of 11) |########################| Elapsed Time: 0:00:00 Time:  0:00:00\n",
      "100% (11 of 11) |########################| Elapsed Time: 0:00:00 Time:  0:00:00\n",
      "100% (11 of 11) |########################| Elapsed Time: 0:00:00 Time:  0:00:00\n",
      "100% (11 of 11) |########################| Elapsed Time: 0:00:00 Time:  0:00:00\n",
      "100% (11 of 11) |########################| Elapsed Time: 0:00:00 Time:  0:00:00\n"
     ]
    },
    {
     "name": "stdout",
     "output_type": "stream",
     "text": [
      "Mean difference in trend: -0.02480094381690738\n",
      "Standard deviation of difference in trend: 0.015356154950747108\n",
      "Chichester completed successfully\n",
      "Run completed successfully\n",
      "Average: -0.02480094381690738\n",
      "Standard Deviation: nan\n",
      "Folder 'C:\\Users\\alechutchings\\GAM_models_temp_do\\output_data\\Christchurch' already exists.\n",
      "Folder 'C:\\Users\\alechutchings\\GAM_models_temp_do\\output_data\\Christchurch\\MODEL_2_GAM_outputs_whole_estuary_salinity_Oxygen, Dissolved as O2_2006_2022' created.\n"
     ]
    },
    {
     "name": "stderr",
     "output_type": "stream",
     "text": [
      "100% (11 of 11) |########################| Elapsed Time: 0:00:00 Time:  0:00:00\n",
      "100% (11 of 11) |########################| Elapsed Time: 0:00:00 Time:  0:00:00\n",
      "100% (11 of 11) |########################| Elapsed Time: 0:00:00 Time:  0:00:00\n",
      "100% (11 of 11) |########################| Elapsed Time: 0:00:00 Time:  0:00:00\n",
      "100% (11 of 11) |########################| Elapsed Time: 0:00:00 Time:  0:00:00\n",
      "Traceback (most recent call last):\n",
      "  File \"C:\\Users\\alechutchings\\AppData\\Local\\Temp\\2\\ipykernel_3356\\892944321.py\", line 39, in <module>\n",
      "    trend_result_list = run_GAM(Est_group_all, det, GAM_output_path)\n",
      "                        ^^^^^^^^^^^^^^^^^^^^^^^^^^^^^^^^^^^^^^^^^^^^\n",
      "  File \"C:\\Users\\alechutchings\\AppData\\Local\\Temp\\2\\ipykernel_3356\\3038027423.py\", line 171, in run_GAM\n",
      "    trend_differences_year = monte_carlo_simulation_from_specific_years(early_period, later_period, samples, XX, num_iterations)\n",
      "                             ^^^^^^^^^^^^^^^^^^^^^^^^^^^^^^^^^^^^^^^^^^^^^^^^^^^^^^^^^^^^^^^^^^^^^^^^^^^^^^^^^^^^^^^^^^^^^^^^^^^\n",
      "  File \"C:\\Users\\alechutchings\\AppData\\Local\\Temp\\2\\ipykernel_3356\\3255356584.py\", line 11, in monte_carlo_simulation_from_specific_years\n",
      "    idx2 = np.random.choice(selected_late_data_indices)\n",
      "           ^^^^^^^^^^^^^^^^^^^^^^^^^^^^^^^^^^^^^^^^^^^^\n",
      "  File \"mtrand.pyx\", line 950, in numpy.random.mtrand.RandomState.choice\n",
      "ValueError: 'a' cannot be empty unless no samples are taken\n"
     ]
    },
    {
     "name": "stdout",
     "output_type": "stream",
     "text": [
      "Error processing Christchurch: 'a' cannot be empty unless no samples are taken\n",
      "Folder 'C:\\Users\\alechutchings\\GAM_models_temp_do\\output_data\\Colne' already exists.\n",
      "Folder 'C:\\Users\\alechutchings\\GAM_models_temp_do\\output_data\\Colne\\MODEL_2_GAM_outputs_whole_estuary_salinity_Oxygen, Dissolved as O2_2006_2022' created.\n"
     ]
    },
    {
     "name": "stderr",
     "output_type": "stream",
     "text": [
      "100% (11 of 11) |########################| Elapsed Time: 0:00:00 Time:  0:00:00\n",
      "100% (11 of 11) |########################| Elapsed Time: 0:00:00 Time:  0:00:00\n",
      "100% (11 of 11) |########################| Elapsed Time: 0:00:00 Time:  0:00:00\n",
      "100% (11 of 11) |########################| Elapsed Time: 0:00:00 Time:  0:00:00\n",
      "100% (11 of 11) |########################| Elapsed Time: 0:00:00 Time:  0:00:00\n",
      "Traceback (most recent call last):\n",
      "  File \"C:\\Users\\alechutchings\\AppData\\Local\\Temp\\2\\ipykernel_3356\\892944321.py\", line 39, in <module>\n",
      "    trend_result_list = run_GAM(Est_group_all, det, GAM_output_path)\n",
      "                        ^^^^^^^^^^^^^^^^^^^^^^^^^^^^^^^^^^^^^^^^^^^^\n",
      "  File \"C:\\Users\\alechutchings\\AppData\\Local\\Temp\\2\\ipykernel_3356\\3038027423.py\", line 171, in run_GAM\n",
      "    trend_differences_year = monte_carlo_simulation_from_specific_years(early_period, later_period, samples, XX, num_iterations)\n",
      "                             ^^^^^^^^^^^^^^^^^^^^^^^^^^^^^^^^^^^^^^^^^^^^^^^^^^^^^^^^^^^^^^^^^^^^^^^^^^^^^^^^^^^^^^^^^^^^^^^^^^^\n",
      "  File \"C:\\Users\\alechutchings\\AppData\\Local\\Temp\\2\\ipykernel_3356\\3255356584.py\", line 11, in monte_carlo_simulation_from_specific_years\n",
      "    idx2 = np.random.choice(selected_late_data_indices)\n",
      "           ^^^^^^^^^^^^^^^^^^^^^^^^^^^^^^^^^^^^^^^^^^^^\n",
      "  File \"mtrand.pyx\", line 950, in numpy.random.mtrand.RandomState.choice\n",
      "ValueError: 'a' cannot be empty unless no samples are taken\n",
      " 36% (4 of 11) |#########                | Elapsed Time: 0:00:00 ETA:   0:00:00"
     ]
    },
    {
     "name": "stdout",
     "output_type": "stream",
     "text": [
      "Error processing Colne: 'a' cannot be empty unless no samples are taken\n",
      "Folder 'C:\\Users\\alechutchings\\GAM_models_temp_do\\output_data\\Coquet' already exists.\n",
      "Folder 'C:\\Users\\alechutchings\\GAM_models_temp_do\\output_data\\Coquet\\MODEL_2_GAM_outputs_whole_estuary_salinity_Oxygen, Dissolved as O2_2006_2022' created.\n"
     ]
    },
    {
     "name": "stderr",
     "output_type": "stream",
     "text": [
      "100% (11 of 11) |########################| Elapsed Time: 0:00:00 Time:  0:00:00\n",
      "100% (11 of 11) |########################| Elapsed Time: 0:00:00 Time:  0:00:00\n",
      "100% (11 of 11) |########################| Elapsed Time: 0:00:00 Time:  0:00:00\n",
      "100% (11 of 11) |########################| Elapsed Time: 0:00:00 Time:  0:00:00\n",
      "100% (11 of 11) |########################| Elapsed Time: 0:00:00 Time:  0:00:00\n",
      "Traceback (most recent call last):\n",
      "  File \"C:\\Users\\alechutchings\\AppData\\Local\\Temp\\2\\ipykernel_3356\\892944321.py\", line 39, in <module>\n",
      "    trend_result_list = run_GAM(Est_group_all, det, GAM_output_path)\n",
      "                        ^^^^^^^^^^^^^^^^^^^^^^^^^^^^^^^^^^^^^^^^^^^^\n",
      "  File \"C:\\Users\\alechutchings\\AppData\\Local\\Temp\\2\\ipykernel_3356\\3038027423.py\", line 171, in run_GAM\n",
      "    trend_differences_year = monte_carlo_simulation_from_specific_years(early_period, later_period, samples, XX, num_iterations)\n",
      "                             ^^^^^^^^^^^^^^^^^^^^^^^^^^^^^^^^^^^^^^^^^^^^^^^^^^^^^^^^^^^^^^^^^^^^^^^^^^^^^^^^^^^^^^^^^^^^^^^^^^^\n",
      "  File \"C:\\Users\\alechutchings\\AppData\\Local\\Temp\\2\\ipykernel_3356\\3255356584.py\", line 10, in monte_carlo_simulation_from_specific_years\n",
      "    idx1 = np.random.choice(selected_early_data_indices)\n",
      "           ^^^^^^^^^^^^^^^^^^^^^^^^^^^^^^^^^^^^^^^^^^^^^\n",
      "  File \"mtrand.pyx\", line 950, in numpy.random.mtrand.RandomState.choice\n",
      "ValueError: 'a' cannot be empty unless no samples are taken\n"
     ]
    },
    {
     "name": "stdout",
     "output_type": "stream",
     "text": [
      "Error processing Coquet: 'a' cannot be empty unless no samples are taken\n",
      "Folder 'C:\\Users\\alechutchings\\GAM_models_temp_do\\output_data\\Crouch' already exists.\n",
      "Folder 'C:\\Users\\alechutchings\\GAM_models_temp_do\\output_data\\Crouch\\MODEL_2_GAM_outputs_whole_estuary_salinity_Oxygen, Dissolved as O2_2006_2022' created.\n"
     ]
    },
    {
     "name": "stderr",
     "output_type": "stream",
     "text": [
      "100% (11 of 11) |########################| Elapsed Time: 0:00:00 Time:  0:00:00\n",
      "100% (11 of 11) |########################| Elapsed Time: 0:00:00 Time:  0:00:00\n",
      "100% (11 of 11) |########################| Elapsed Time: 0:00:00 Time:  0:00:00\n",
      "100% (11 of 11) |########################| Elapsed Time: 0:00:00 Time:  0:00:00\n",
      "100% (11 of 11) |########################| Elapsed Time: 0:00:00 Time:  0:00:00\n",
      "Traceback (most recent call last):\n",
      "  File \"C:\\Users\\alechutchings\\AppData\\Local\\Temp\\2\\ipykernel_3356\\892944321.py\", line 39, in <module>\n",
      "    trend_result_list = run_GAM(Est_group_all, det, GAM_output_path)\n",
      "                        ^^^^^^^^^^^^^^^^^^^^^^^^^^^^^^^^^^^^^^^^^^^^\n",
      "  File \"C:\\Users\\alechutchings\\AppData\\Local\\Temp\\2\\ipykernel_3356\\3038027423.py\", line 171, in run_GAM\n",
      "    trend_differences_year = monte_carlo_simulation_from_specific_years(early_period, later_period, samples, XX, num_iterations)\n",
      "                             ^^^^^^^^^^^^^^^^^^^^^^^^^^^^^^^^^^^^^^^^^^^^^^^^^^^^^^^^^^^^^^^^^^^^^^^^^^^^^^^^^^^^^^^^^^^^^^^^^^^\n",
      "  File \"C:\\Users\\alechutchings\\AppData\\Local\\Temp\\2\\ipykernel_3356\\3255356584.py\", line 11, in monte_carlo_simulation_from_specific_years\n",
      "    idx2 = np.random.choice(selected_late_data_indices)\n",
      "           ^^^^^^^^^^^^^^^^^^^^^^^^^^^^^^^^^^^^^^^^^^^^\n",
      "  File \"mtrand.pyx\", line 950, in numpy.random.mtrand.RandomState.choice\n",
      "ValueError: 'a' cannot be empty unless no samples are taken\n",
      " 18% (2 of 11) |####                     | Elapsed Time: 0:00:00 ETA:  00:00:00"
     ]
    },
    {
     "name": "stdout",
     "output_type": "stream",
     "text": [
      "Error processing Crouch: 'a' cannot be empty unless no samples are taken\n",
      "Folder 'C:\\Users\\alechutchings\\GAM_models_temp_do\\output_data\\Cuckmere' already exists.\n",
      "Folder 'C:\\Users\\alechutchings\\GAM_models_temp_do\\output_data\\Cuckmere\\MODEL_2_GAM_outputs_whole_estuary_salinity_Oxygen, Dissolved as O2_2006_2022' created.\n"
     ]
    },
    {
     "name": "stderr",
     "output_type": "stream",
     "text": [
      "100% (11 of 11) |########################| Elapsed Time: 0:00:00 Time:  0:00:00\n",
      "100% (11 of 11) |########################| Elapsed Time: 0:00:00 Time:  0:00:00\n",
      "100% (11 of 11) |########################| Elapsed Time: 0:00:00 Time:  0:00:00\n",
      "100% (11 of 11) |########################| Elapsed Time: 0:00:00 Time:  0:00:00\n",
      "100% (11 of 11) |########################| Elapsed Time: 0:00:00 Time:  0:00:00\n",
      "Traceback (most recent call last):\n",
      "  File \"C:\\Users\\alechutchings\\AppData\\Local\\Temp\\2\\ipykernel_3356\\892944321.py\", line 39, in <module>\n",
      "    trend_result_list = run_GAM(Est_group_all, det, GAM_output_path)\n",
      "                        ^^^^^^^^^^^^^^^^^^^^^^^^^^^^^^^^^^^^^^^^^^^^\n",
      "  File \"C:\\Users\\alechutchings\\AppData\\Local\\Temp\\2\\ipykernel_3356\\3038027423.py\", line 171, in run_GAM\n",
      "    trend_differences_year = monte_carlo_simulation_from_specific_years(early_period, later_period, samples, XX, num_iterations)\n",
      "                             ^^^^^^^^^^^^^^^^^^^^^^^^^^^^^^^^^^^^^^^^^^^^^^^^^^^^^^^^^^^^^^^^^^^^^^^^^^^^^^^^^^^^^^^^^^^^^^^^^^^\n",
      "  File \"C:\\Users\\alechutchings\\AppData\\Local\\Temp\\2\\ipykernel_3356\\3255356584.py\", line 10, in monte_carlo_simulation_from_specific_years\n",
      "    idx1 = np.random.choice(selected_early_data_indices)\n",
      "           ^^^^^^^^^^^^^^^^^^^^^^^^^^^^^^^^^^^^^^^^^^^^^\n",
      "  File \"mtrand.pyx\", line 950, in numpy.random.mtrand.RandomState.choice\n",
      "ValueError: 'a' cannot be empty unless no samples are taken\n"
     ]
    },
    {
     "name": "stdout",
     "output_type": "stream",
     "text": [
      "Error processing Cuckmere: 'a' cannot be empty unless no samples are taken\n",
      "Folder 'C:\\Users\\alechutchings\\GAM_models_temp_do\\output_data\\Dart' already exists.\n",
      "Folder 'C:\\Users\\alechutchings\\GAM_models_temp_do\\output_data\\Dart\\MODEL_2_GAM_outputs_whole_estuary_salinity_Oxygen, Dissolved as O2_2006_2022' created.\n"
     ]
    },
    {
     "name": "stderr",
     "output_type": "stream",
     "text": [
      "100% (11 of 11) |########################| Elapsed Time: 0:00:00 Time:  0:00:00\n",
      "100% (11 of 11) |########################| Elapsed Time: 0:00:00 Time:  0:00:00\n",
      "100% (11 of 11) |########################| Elapsed Time: 0:00:00 Time:  0:00:00\n",
      "100% (11 of 11) |########################| Elapsed Time: 0:00:00 Time:  0:00:00\n",
      "100% (11 of 11) |########################| Elapsed Time: 0:00:00 Time:  0:00:00\n",
      "  0% (0 of 11) |                         | Elapsed Time: 0:00:00 ETA:  --:--:--"
     ]
    },
    {
     "name": "stdout",
     "output_type": "stream",
     "text": [
      "Mean difference in trend: -0.04092269653164142\n",
      "Standard deviation of difference in trend: 0.041314539987545376\n",
      "Dart completed successfully\n",
      "Run completed successfully\n",
      "Average: -0.04092269653164142\n",
      "Standard Deviation: nan\n",
      "Folder 'C:\\Users\\alechutchings\\GAM_models_temp_do\\output_data\\Deben' already exists.\n",
      "Folder 'C:\\Users\\alechutchings\\GAM_models_temp_do\\output_data\\Deben\\MODEL_2_GAM_outputs_whole_estuary_salinity_Oxygen, Dissolved as O2_2006_2022' created.\n"
     ]
    },
    {
     "name": "stderr",
     "output_type": "stream",
     "text": [
      "100% (11 of 11) |########################| Elapsed Time: 0:00:00 Time:  0:00:00\n",
      "100% (11 of 11) |########################| Elapsed Time: 0:00:00 Time:  0:00:00\n",
      "100% (11 of 11) |########################| Elapsed Time: 0:00:00 Time:  0:00:00\n",
      "100% (11 of 11) |########################| Elapsed Time: 0:00:00 Time:  0:00:00\n",
      "100% (11 of 11) |########################| Elapsed Time: 0:00:00 Time:  0:00:00\n",
      "Traceback (most recent call last):\n",
      "  File \"C:\\Users\\alechutchings\\AppData\\Local\\Temp\\2\\ipykernel_3356\\892944321.py\", line 39, in <module>\n",
      "    trend_result_list = run_GAM(Est_group_all, det, GAM_output_path)\n",
      "                        ^^^^^^^^^^^^^^^^^^^^^^^^^^^^^^^^^^^^^^^^^^^^\n",
      "  File \"C:\\Users\\alechutchings\\AppData\\Local\\Temp\\2\\ipykernel_3356\\3038027423.py\", line 171, in run_GAM\n",
      "    trend_differences_year = monte_carlo_simulation_from_specific_years(early_period, later_period, samples, XX, num_iterations)\n",
      "                             ^^^^^^^^^^^^^^^^^^^^^^^^^^^^^^^^^^^^^^^^^^^^^^^^^^^^^^^^^^^^^^^^^^^^^^^^^^^^^^^^^^^^^^^^^^^^^^^^^^^\n",
      "  File \"C:\\Users\\alechutchings\\AppData\\Local\\Temp\\2\\ipykernel_3356\\3255356584.py\", line 11, in monte_carlo_simulation_from_specific_years\n",
      "    idx2 = np.random.choice(selected_late_data_indices)\n",
      "           ^^^^^^^^^^^^^^^^^^^^^^^^^^^^^^^^^^^^^^^^^^^^\n",
      "  File \"mtrand.pyx\", line 950, in numpy.random.mtrand.RandomState.choice\n",
      "ValueError: 'a' cannot be empty unless no samples are taken\n",
      "Traceback (most recent call last):\n",
      "  File \"C:\\Users\\alechutchings\\AppData\\Local\\anaconda3\\envs\\geo_env\\Lib\\site-packages\\pandas\\core\\indexes\\base.py\", line 3653, in get_loc\n",
      "    return self._engine.get_loc(casted_key)\n",
      "           ^^^^^^^^^^^^^^^^^^^^^^^^^^^^^^^^\n",
      "  File \"pandas\\_libs\\index.pyx\", line 147, in pandas._libs.index.IndexEngine.get_loc\n",
      "  File \"pandas\\_libs\\index.pyx\", line 176, in pandas._libs.index.IndexEngine.get_loc\n",
      "  File \"pandas\\_libs\\hashtable_class_helper.pxi\", line 7080, in pandas._libs.hashtable.PyObjectHashTable.get_item\n",
      "  File \"pandas\\_libs\\hashtable_class_helper.pxi\", line 7088, in pandas._libs.hashtable.PyObjectHashTable.get_item\n",
      "KeyError: 'Oxygen, Dissolved as O2'\n",
      "\n",
      "The above exception was the direct cause of the following exception:\n",
      "\n",
      "Traceback (most recent call last):\n",
      "  File \"C:\\Users\\alechutchings\\AppData\\Local\\Temp\\2\\ipykernel_3356\\892944321.py\", line 39, in <module>\n",
      "    trend_result_list = run_GAM(Est_group_all, det, GAM_output_path)\n",
      "                        ^^^^^^^^^^^^^^^^^^^^^^^^^^^^^^^^^^^^^^^^^^^^\n",
      "  File \"C:\\Users\\alechutchings\\AppData\\Local\\Temp\\2\\ipykernel_3356\\3038027423.py\", line 30, in run_GAM\n",
      "    Y = Est_all[det].values\n",
      "        ~~~~~~~^^^^^\n",
      "  File \"C:\\Users\\alechutchings\\AppData\\Local\\anaconda3\\envs\\geo_env\\Lib\\site-packages\\pandas\\core\\frame.py\", line 3761, in __getitem__\n",
      "    indexer = self.columns.get_loc(key)\n",
      "              ^^^^^^^^^^^^^^^^^^^^^^^^^\n",
      "  File \"C:\\Users\\alechutchings\\AppData\\Local\\anaconda3\\envs\\geo_env\\Lib\\site-packages\\pandas\\core\\indexes\\base.py\", line 3655, in get_loc\n",
      "    raise KeyError(key) from err\n",
      "KeyError: 'Oxygen, Dissolved as O2'\n"
     ]
    },
    {
     "name": "stdout",
     "output_type": "stream",
     "text": [
      "Error processing Deben: 'a' cannot be empty unless no samples are taken\n",
      "Folder 'C:\\Users\\alechutchings\\GAM_models_temp_do\\output_data\\Derwent' already exists.\n",
      "Folder 'C:\\Users\\alechutchings\\GAM_models_temp_do\\output_data\\Derwent\\MODEL_2_GAM_outputs_whole_estuary_salinity_Oxygen, Dissolved as O2_2006_2022' created.\n",
      "Error processing Derwent: 'Oxygen, Dissolved as O2'\n",
      "Folder 'C:\\Users\\alechutchings\\GAM_models_temp_do\\output_data\\Duddon' already exists.\n",
      "Folder 'C:\\Users\\alechutchings\\GAM_models_temp_do\\output_data\\Duddon\\MODEL_2_GAM_outputs_whole_estuary_salinity_Oxygen, Dissolved as O2_2006_2022' created.\n"
     ]
    },
    {
     "name": "stderr",
     "output_type": "stream",
     "text": [
      "Traceback (most recent call last):\n",
      "  File \"C:\\Users\\alechutchings\\AppData\\Local\\anaconda3\\envs\\geo_env\\Lib\\site-packages\\pandas\\core\\indexes\\base.py\", line 3653, in get_loc\n",
      "    return self._engine.get_loc(casted_key)\n",
      "           ^^^^^^^^^^^^^^^^^^^^^^^^^^^^^^^^\n",
      "  File \"pandas\\_libs\\index.pyx\", line 147, in pandas._libs.index.IndexEngine.get_loc\n",
      "  File \"pandas\\_libs\\index.pyx\", line 176, in pandas._libs.index.IndexEngine.get_loc\n",
      "  File \"pandas\\_libs\\hashtable_class_helper.pxi\", line 7080, in pandas._libs.hashtable.PyObjectHashTable.get_item\n",
      "  File \"pandas\\_libs\\hashtable_class_helper.pxi\", line 7088, in pandas._libs.hashtable.PyObjectHashTable.get_item\n",
      "KeyError: 'Oxygen, Dissolved as O2'\n",
      "\n",
      "The above exception was the direct cause of the following exception:\n",
      "\n",
      "Traceback (most recent call last):\n",
      "  File \"C:\\Users\\alechutchings\\AppData\\Local\\Temp\\2\\ipykernel_3356\\892944321.py\", line 39, in <module>\n",
      "    trend_result_list = run_GAM(Est_group_all, det, GAM_output_path)\n",
      "                        ^^^^^^^^^^^^^^^^^^^^^^^^^^^^^^^^^^^^^^^^^^^^\n",
      "  File \"C:\\Users\\alechutchings\\AppData\\Local\\Temp\\2\\ipykernel_3356\\3038027423.py\", line 30, in run_GAM\n",
      "    Y = Est_all[det].values\n",
      "        ~~~~~~~^^^^^\n",
      "  File \"C:\\Users\\alechutchings\\AppData\\Local\\anaconda3\\envs\\geo_env\\Lib\\site-packages\\pandas\\core\\frame.py\", line 3761, in __getitem__\n",
      "    indexer = self.columns.get_loc(key)\n",
      "              ^^^^^^^^^^^^^^^^^^^^^^^^^\n",
      "  File \"C:\\Users\\alechutchings\\AppData\\Local\\anaconda3\\envs\\geo_env\\Lib\\site-packages\\pandas\\core\\indexes\\base.py\", line 3655, in get_loc\n",
      "    raise KeyError(key) from err\n",
      "KeyError: 'Oxygen, Dissolved as O2'\n",
      "  0% (0 of 11) |                         | Elapsed Time: 0:00:00 ETA:  --:--:--"
     ]
    },
    {
     "name": "stdout",
     "output_type": "stream",
     "text": [
      "Error processing Duddon: 'Oxygen, Dissolved as O2'\n",
      "Folder 'C:\\Users\\alechutchings\\GAM_models_temp_do\\output_data\\Eastern_yar' already exists.\n",
      "Folder 'C:\\Users\\alechutchings\\GAM_models_temp_do\\output_data\\Eastern_yar\\MODEL_2_GAM_outputs_whole_estuary_salinity_Oxygen, Dissolved as O2_2006_2022' created.\n"
     ]
    },
    {
     "name": "stderr",
     "output_type": "stream",
     "text": [
      "100% (11 of 11) |########################| Elapsed Time: 0:00:01 Time:  0:00:01\n",
      "100% (11 of 11) |########################| Elapsed Time: 0:00:00 Time:  0:00:00\n",
      "100% (11 of 11) |########################| Elapsed Time: 0:00:00 Time:  0:00:00\n",
      "100% (11 of 11) |########################| Elapsed Time: 0:00:00 Time:  0:00:00\n",
      "100% (11 of 11) |########################| Elapsed Time: 0:00:00 Time:  0:00:00\n",
      "Traceback (most recent call last):\n",
      "  File \"C:\\Users\\alechutchings\\AppData\\Local\\Temp\\2\\ipykernel_3356\\892944321.py\", line 39, in <module>\n",
      "    trend_result_list = run_GAM(Est_group_all, det, GAM_output_path)\n",
      "                        ^^^^^^^^^^^^^^^^^^^^^^^^^^^^^^^^^^^^^^^^^^^^\n",
      "  File \"C:\\Users\\alechutchings\\AppData\\Local\\Temp\\2\\ipykernel_3356\\3038027423.py\", line 171, in run_GAM\n",
      "    trend_differences_year = monte_carlo_simulation_from_specific_years(early_period, later_period, samples, XX, num_iterations)\n",
      "                             ^^^^^^^^^^^^^^^^^^^^^^^^^^^^^^^^^^^^^^^^^^^^^^^^^^^^^^^^^^^^^^^^^^^^^^^^^^^^^^^^^^^^^^^^^^^^^^^^^^^\n",
      "  File \"C:\\Users\\alechutchings\\AppData\\Local\\Temp\\2\\ipykernel_3356\\3255356584.py\", line 10, in monte_carlo_simulation_from_specific_years\n",
      "    idx1 = np.random.choice(selected_early_data_indices)\n",
      "           ^^^^^^^^^^^^^^^^^^^^^^^^^^^^^^^^^^^^^^^^^^^^^\n",
      "  File \"mtrand.pyx\", line 950, in numpy.random.mtrand.RandomState.choice\n",
      "ValueError: 'a' cannot be empty unless no samples are taken\n",
      "  0% (0 of 11) |                         | Elapsed Time: 0:00:00 ETA:  --:--:--"
     ]
    },
    {
     "name": "stdout",
     "output_type": "stream",
     "text": [
      "Error processing Eastern_yar: 'a' cannot be empty unless no samples are taken\n",
      "Folder 'C:\\Users\\alechutchings\\GAM_models_temp_do\\output_data\\Erme' already exists.\n",
      "Folder 'C:\\Users\\alechutchings\\GAM_models_temp_do\\output_data\\Erme\\MODEL_2_GAM_outputs_whole_estuary_salinity_Oxygen, Dissolved as O2_2006_2022' created.\n"
     ]
    },
    {
     "name": "stderr",
     "output_type": "stream",
     "text": [
      "100% (11 of 11) |########################| Elapsed Time: 0:00:00 Time:  0:00:00\n",
      "100% (11 of 11) |########################| Elapsed Time: 0:00:00 Time:  0:00:00\n",
      "100% (11 of 11) |########################| Elapsed Time: 0:00:00 Time:  0:00:00\n",
      "100% (11 of 11) |########################| Elapsed Time: 0:00:00 Time:  0:00:00\n",
      "100% (11 of 11) |########################| Elapsed Time: 0:00:00 Time:  0:00:00\n",
      "Traceback (most recent call last):\n",
      "  File \"C:\\Users\\alechutchings\\AppData\\Local\\Temp\\2\\ipykernel_3356\\892944321.py\", line 39, in <module>\n",
      "    trend_result_list = run_GAM(Est_group_all, det, GAM_output_path)\n",
      "                        ^^^^^^^^^^^^^^^^^^^^^^^^^^^^^^^^^^^^^^^^^^^^\n",
      "  File \"C:\\Users\\alechutchings\\AppData\\Local\\Temp\\2\\ipykernel_3356\\3038027423.py\", line 171, in run_GAM\n",
      "    trend_differences_year = monte_carlo_simulation_from_specific_years(early_period, later_period, samples, XX, num_iterations)\n",
      "                             ^^^^^^^^^^^^^^^^^^^^^^^^^^^^^^^^^^^^^^^^^^^^^^^^^^^^^^^^^^^^^^^^^^^^^^^^^^^^^^^^^^^^^^^^^^^^^^^^^^^\n",
      "  File \"C:\\Users\\alechutchings\\AppData\\Local\\Temp\\2\\ipykernel_3356\\3255356584.py\", line 10, in monte_carlo_simulation_from_specific_years\n",
      "    idx1 = np.random.choice(selected_early_data_indices)\n",
      "           ^^^^^^^^^^^^^^^^^^^^^^^^^^^^^^^^^^^^^^^^^^^^^\n",
      "  File \"mtrand.pyx\", line 950, in numpy.random.mtrand.RandomState.choice\n",
      "ValueError: 'a' cannot be empty unless no samples are taken\n",
      "  0% (0 of 11) |                         | Elapsed Time: 0:00:00 ETA:  --:--:--"
     ]
    },
    {
     "name": "stdout",
     "output_type": "stream",
     "text": [
      "Error processing Erme: 'a' cannot be empty unless no samples are taken\n",
      "Folder 'C:\\Users\\alechutchings\\GAM_models_temp_do\\output_data\\Esk_east' already exists.\n",
      "Folder 'C:\\Users\\alechutchings\\GAM_models_temp_do\\output_data\\Esk_east\\MODEL_2_GAM_outputs_whole_estuary_salinity_Oxygen, Dissolved as O2_2006_2022' created.\n"
     ]
    },
    {
     "name": "stderr",
     "output_type": "stream",
     "text": [
      "100% (11 of 11) |########################| Elapsed Time: 0:00:00 Time:  0:00:00\n",
      "100% (11 of 11) |########################| Elapsed Time: 0:00:00 Time:  0:00:00\n",
      "100% (11 of 11) |########################| Elapsed Time: 0:00:00 Time:  0:00:00\n",
      "100% (11 of 11) |########################| Elapsed Time: 0:00:00 Time:  0:00:00\n",
      "100% (11 of 11) |########################| Elapsed Time: 0:00:00 Time:  0:00:00\n",
      " 36% (4 of 11) |#########                | Elapsed Time: 0:00:00 ETA:   0:00:00"
     ]
    },
    {
     "name": "stdout",
     "output_type": "stream",
     "text": [
      "Mean difference in trend: 0.0009510999062203201\n",
      "Standard deviation of difference in trend: 0.06938721206229777\n",
      "Esk_east completed successfully\n",
      "Run completed successfully\n",
      "Average: 0.0009510999062203201\n",
      "Standard Deviation: nan\n",
      "Folder 'C:\\Users\\alechutchings\\GAM_models_temp_do\\output_data\\Esk_west' already exists.\n",
      "Folder 'C:\\Users\\alechutchings\\GAM_models_temp_do\\output_data\\Esk_west\\MODEL_2_GAM_outputs_whole_estuary_salinity_Oxygen, Dissolved as O2_2006_2022' created.\n"
     ]
    },
    {
     "name": "stderr",
     "output_type": "stream",
     "text": [
      "100% (11 of 11) |########################| Elapsed Time: 0:00:00 Time:  0:00:00\n",
      "100% (11 of 11) |########################| Elapsed Time: 0:00:00 Time:  0:00:00\n",
      "100% (11 of 11) |########################| Elapsed Time: 0:00:00 Time:  0:00:00\n",
      "100% (11 of 11) |########################| Elapsed Time: 0:00:00 Time:  0:00:00\n",
      "100% (11 of 11) |########################| Elapsed Time: 0:00:00 Time:  0:00:00\n"
     ]
    },
    {
     "name": "stdout",
     "output_type": "stream",
     "text": [
      "Mean difference in trend: -0.03251853595088827\n",
      "Standard deviation of difference in trend: 0.01145722990101321\n",
      "Esk_west completed successfully\n",
      "Run completed successfully\n",
      "Average: -0.03251853595088827\n",
      "Standard Deviation: nan\n",
      "Folder 'C:\\Users\\alechutchings\\GAM_models_temp_do\\output_data\\Exe' already exists.\n",
      "Folder 'C:\\Users\\alechutchings\\GAM_models_temp_do\\output_data\\Exe\\MODEL_2_GAM_outputs_whole_estuary_salinity_Oxygen, Dissolved as O2_2006_2022' created.\n"
     ]
    },
    {
     "name": "stderr",
     "output_type": "stream",
     "text": [
      "100% (11 of 11) |########################| Elapsed Time: 0:00:00 Time:  0:00:00\n",
      "100% (11 of 11) |########################| Elapsed Time: 0:00:00 Time:  0:00:00\n",
      "100% (11 of 11) |########################| Elapsed Time: 0:00:00 Time:  0:00:00\n",
      "100% (11 of 11) |########################| Elapsed Time: 0:00:00 Time:  0:00:00\n",
      "100% (11 of 11) |########################| Elapsed Time: 0:00:00 Time:  0:00:00\n"
     ]
    },
    {
     "name": "stdout",
     "output_type": "stream",
     "text": [
      "Mean difference in trend: -0.04673526872453635\n",
      "Standard deviation of difference in trend: 0.025904856908054396\n",
      "Exe completed successfully\n",
      "Run completed successfully\n",
      "Average: -0.04673526872453635\n",
      "Standard Deviation: nan\n",
      "Folder 'C:\\Users\\alechutchings\\GAM_models_temp_do\\output_data\\Falmouth' already exists.\n",
      "Folder 'C:\\Users\\alechutchings\\GAM_models_temp_do\\output_data\\Falmouth\\MODEL_2_GAM_outputs_whole_estuary_salinity_Oxygen, Dissolved as O2_2006_2022' created.\n"
     ]
    },
    {
     "name": "stderr",
     "output_type": "stream",
     "text": [
      "100% (11 of 11) |########################| Elapsed Time: 0:00:00 Time:  0:00:00\n",
      "100% (11 of 11) |########################| Elapsed Time: 0:00:01 Time:  0:00:01\n",
      "100% (11 of 11) |########################| Elapsed Time: 0:00:00 Time:  0:00:00\n",
      "100% (11 of 11) |########################| Elapsed Time: 0:00:01 Time:  0:00:01\n",
      "100% (11 of 11) |########################| Elapsed Time: 0:00:00 Time:  0:00:00\n"
     ]
    },
    {
     "name": "stdout",
     "output_type": "stream",
     "text": [
      "Mean difference in trend: -0.047082560697977706\n",
      "Standard deviation of difference in trend: 0.049643355552628304\n",
      "Falmouth completed successfully\n",
      "Run completed successfully\n",
      "Average: -0.047082560697977706\n",
      "Standard Deviation: nan\n",
      "Folder 'C:\\Users\\alechutchings\\GAM_models_temp_do\\output_data\\Fowey' already exists.\n",
      "Folder 'C:\\Users\\alechutchings\\GAM_models_temp_do\\output_data\\Fowey\\MODEL_2_GAM_outputs_whole_estuary_salinity_Oxygen, Dissolved as O2_2006_2022' created.\n"
     ]
    },
    {
     "name": "stderr",
     "output_type": "stream",
     "text": [
      "100% (11 of 11) |########################| Elapsed Time: 0:00:00 Time:  0:00:00\n",
      "100% (11 of 11) |########################| Elapsed Time: 0:00:00 Time:  0:00:00\n",
      "100% (11 of 11) |########################| Elapsed Time: 0:00:00 Time:  0:00:00\n",
      "100% (11 of 11) |########################| Elapsed Time: 0:00:00 Time:  0:00:00\n",
      "100% (11 of 11) |########################| Elapsed Time: 0:00:00 Time:  0:00:00\n",
      "Traceback (most recent call last):\n",
      "  File \"C:\\Users\\alechutchings\\AppData\\Local\\Temp\\2\\ipykernel_3356\\892944321.py\", line 39, in <module>\n",
      "    trend_result_list = run_GAM(Est_group_all, det, GAM_output_path)\n",
      "                        ^^^^^^^^^^^^^^^^^^^^^^^^^^^^^^^^^^^^^^^^^^^^\n",
      "  File \"C:\\Users\\alechutchings\\AppData\\Local\\Temp\\2\\ipykernel_3356\\3038027423.py\", line 171, in run_GAM\n",
      "    trend_differences_year = monte_carlo_simulation_from_specific_years(early_period, later_period, samples, XX, num_iterations)\n",
      "                             ^^^^^^^^^^^^^^^^^^^^^^^^^^^^^^^^^^^^^^^^^^^^^^^^^^^^^^^^^^^^^^^^^^^^^^^^^^^^^^^^^^^^^^^^^^^^^^^^^^^\n",
      "  File \"C:\\Users\\alechutchings\\AppData\\Local\\Temp\\2\\ipykernel_3356\\3255356584.py\", line 11, in monte_carlo_simulation_from_specific_years\n",
      "    idx2 = np.random.choice(selected_late_data_indices)\n",
      "           ^^^^^^^^^^^^^^^^^^^^^^^^^^^^^^^^^^^^^^^^^^^^\n",
      "  File \"mtrand.pyx\", line 950, in numpy.random.mtrand.RandomState.choice\n",
      "ValueError: 'a' cannot be empty unless no samples are taken\n",
      "  0% (0 of 11) |                         | Elapsed Time: 0:00:00 ETA:  --:--:--"
     ]
    },
    {
     "name": "stdout",
     "output_type": "stream",
     "text": [
      "Error processing Fowey: 'a' cannot be empty unless no samples are taken\n",
      "Folder 'C:\\Users\\alechutchings\\GAM_models_temp_do\\output_data\\Gannel' already exists.\n",
      "Folder 'C:\\Users\\alechutchings\\GAM_models_temp_do\\output_data\\Gannel\\MODEL_2_GAM_outputs_whole_estuary_salinity_Oxygen, Dissolved as O2_2006_2022' created.\n"
     ]
    },
    {
     "name": "stderr",
     "output_type": "stream",
     "text": [
      "100% (11 of 11) |########################| Elapsed Time: 0:00:00 Time:  0:00:00\n",
      "100% (11 of 11) |########################| Elapsed Time: 0:00:00 Time:  0:00:00\n",
      "100% (11 of 11) |########################| Elapsed Time: 0:00:00 Time:  0:00:00\n",
      "100% (11 of 11) |########################| Elapsed Time: 0:00:00 Time:  0:00:00\n",
      "100% (11 of 11) |########################| Elapsed Time: 0:00:00 Time:  0:00:00\n"
     ]
    },
    {
     "name": "stdout",
     "output_type": "stream",
     "text": [
      "Mean difference in trend: 0.02889932902427167\n",
      "Standard deviation of difference in trend: 0.1383524584656732\n",
      "Gannel completed successfully\n",
      "Run completed successfully\n",
      "Average: 0.02889932902427167\n",
      "Standard Deviation: nan\n",
      "Folder 'C:\\Users\\alechutchings\\GAM_models_temp_do\\output_data\\Great_ouse' already exists.\n",
      "Folder 'C:\\Users\\alechutchings\\GAM_models_temp_do\\output_data\\Great_ouse\\MODEL_2_GAM_outputs_whole_estuary_salinity_Oxygen, Dissolved as O2_2006_2022' created.\n"
     ]
    },
    {
     "name": "stderr",
     "output_type": "stream",
     "text": [
      "100% (11 of 11) |########################| Elapsed Time: 0:00:00 Time:  0:00:00\n",
      "100% (11 of 11) |########################| Elapsed Time: 0:00:00 Time:  0:00:00\n",
      "100% (11 of 11) |########################| Elapsed Time: 0:00:00 Time:  0:00:00\n",
      "100% (11 of 11) |########################| Elapsed Time: 0:00:00 Time:  0:00:00\n",
      "100% (11 of 11) |########################| Elapsed Time: 0:00:00 Time:  0:00:00\n",
      "  0% (0 of 11) |                         | Elapsed Time: 0:00:00 ETA:  --:--:--"
     ]
    },
    {
     "name": "stdout",
     "output_type": "stream",
     "text": [
      "Mean difference in trend: -0.01420866168968715\n",
      "Standard deviation of difference in trend: 0.050042347200116556\n",
      "Great_ouse completed successfully\n",
      "Run completed successfully\n",
      "Average: -0.01420866168968715\n",
      "Standard Deviation: nan\n",
      "Folder 'C:\\Users\\alechutchings\\GAM_models_temp_do\\output_data\\Hayle' already exists.\n",
      "Folder 'C:\\Users\\alechutchings\\GAM_models_temp_do\\output_data\\Hayle\\MODEL_2_GAM_outputs_whole_estuary_salinity_Oxygen, Dissolved as O2_2006_2022' created.\n"
     ]
    },
    {
     "name": "stderr",
     "output_type": "stream",
     "text": [
      "100% (11 of 11) |########################| Elapsed Time: 0:00:00 Time:  0:00:00\n",
      "100% (11 of 11) |########################| Elapsed Time: 0:00:00 Time:  0:00:00\n",
      "100% (11 of 11) |########################| Elapsed Time: 0:00:00 Time:  0:00:00\n",
      "100% (11 of 11) |########################| Elapsed Time: 0:00:00 Time:  0:00:00\n",
      "100% (11 of 11) |########################| Elapsed Time: 0:00:00 Time:  0:00:00\n"
     ]
    },
    {
     "name": "stdout",
     "output_type": "stream",
     "text": [
      "Mean difference in trend: -0.08367140452541107\n",
      "Standard deviation of difference in trend: 0.04643443908807224\n",
      "Hayle completed successfully\n",
      "Run completed successfully\n",
      "Average: -0.08367140452541107\n",
      "Standard Deviation: nan\n",
      "Folder 'C:\\Users\\alechutchings\\GAM_models_temp_do\\output_data\\Helford' already exists.\n",
      "Folder 'C:\\Users\\alechutchings\\GAM_models_temp_do\\output_data\\Helford\\MODEL_2_GAM_outputs_whole_estuary_salinity_Oxygen, Dissolved as O2_2006_2022' created.\n"
     ]
    },
    {
     "name": "stderr",
     "output_type": "stream",
     "text": [
      "100% (11 of 11) |########################| Elapsed Time: 0:00:00 Time:  0:00:00\n",
      "100% (11 of 11) |########################| Elapsed Time: 0:00:00 Time:  0:00:00\n",
      "100% (11 of 11) |########################| Elapsed Time: 0:00:00 Time:  0:00:00\n",
      "100% (11 of 11) |########################| Elapsed Time: 0:00:00 Time:  0:00:00\n",
      "100% (11 of 11) |########################| Elapsed Time: 0:00:00 Time:  0:00:00\n"
     ]
    },
    {
     "name": "stdout",
     "output_type": "stream",
     "text": [
      "Mean difference in trend: 0.0774919795912097\n",
      "Standard deviation of difference in trend: 0.06636577753693416\n",
      "Helford completed successfully\n",
      "Run completed successfully\n",
      "Average: 0.0774919795912097\n",
      "Standard Deviation: nan\n",
      "Folder 'C:\\Users\\alechutchings\\GAM_models_temp_do\\output_data\\Humber' already exists.\n",
      "Folder 'C:\\Users\\alechutchings\\GAM_models_temp_do\\output_data\\Humber\\MODEL_2_GAM_outputs_whole_estuary_salinity_Oxygen, Dissolved as O2_2006_2022' created.\n"
     ]
    },
    {
     "name": "stderr",
     "output_type": "stream",
     "text": [
      "100% (11 of 11) |########################| Elapsed Time: 0:00:00 Time:  0:00:00\n",
      "100% (11 of 11) |########################| Elapsed Time: 0:00:00 Time:  0:00:00\n",
      "100% (11 of 11) |########################| Elapsed Time: 0:00:00 Time:  0:00:00\n",
      "100% (11 of 11) |########################| Elapsed Time: 0:00:01 Time:  0:00:01\n",
      "100% (11 of 11) |########################| Elapsed Time: 0:00:00 Time:  0:00:00\n",
      "  0% (0 of 11) |                         | Elapsed Time: 0:00:00 ETA:  --:--:--"
     ]
    },
    {
     "name": "stdout",
     "output_type": "stream",
     "text": [
      "Mean difference in trend: -0.005928060546536279\n",
      "Standard deviation of difference in trend: 0.0501066052743547\n",
      "Humber completed successfully\n",
      "Run completed successfully\n",
      "Average: -0.005928060546536279\n",
      "Standard Deviation: nan\n",
      "Folder 'C:\\Users\\alechutchings\\GAM_models_temp_do\\output_data\\Kent' already exists.\n",
      "Folder 'C:\\Users\\alechutchings\\GAM_models_temp_do\\output_data\\Kent\\MODEL_2_GAM_outputs_whole_estuary_salinity_Oxygen, Dissolved as O2_2006_2022' created.\n"
     ]
    },
    {
     "name": "stderr",
     "output_type": "stream",
     "text": [
      "100% (11 of 11) |########################| Elapsed Time: 0:00:00 Time:  0:00:00\n",
      "100% (11 of 11) |########################| Elapsed Time: 0:00:00 Time:  0:00:00\n",
      "100% (11 of 11) |########################| Elapsed Time: 0:00:00 Time:  0:00:00\n",
      "100% (11 of 11) |########################| Elapsed Time: 0:00:00 Time:  0:00:00\n",
      "100% (11 of 11) |########################| Elapsed Time: 0:00:00 Time:  0:00:00\n",
      "Traceback (most recent call last):\n",
      "  File \"C:\\Users\\alechutchings\\AppData\\Local\\Temp\\2\\ipykernel_3356\\892944321.py\", line 39, in <module>\n",
      "    trend_result_list = run_GAM(Est_group_all, det, GAM_output_path)\n",
      "                        ^^^^^^^^^^^^^^^^^^^^^^^^^^^^^^^^^^^^^^^^^^^^\n",
      "  File \"C:\\Users\\alechutchings\\AppData\\Local\\Temp\\2\\ipykernel_3356\\3038027423.py\", line 171, in run_GAM\n",
      "    trend_differences_year = monte_carlo_simulation_from_specific_years(early_period, later_period, samples, XX, num_iterations)\n",
      "                             ^^^^^^^^^^^^^^^^^^^^^^^^^^^^^^^^^^^^^^^^^^^^^^^^^^^^^^^^^^^^^^^^^^^^^^^^^^^^^^^^^^^^^^^^^^^^^^^^^^^\n",
      "  File \"C:\\Users\\alechutchings\\AppData\\Local\\Temp\\2\\ipykernel_3356\\3255356584.py\", line 11, in monte_carlo_simulation_from_specific_years\n",
      "    idx2 = np.random.choice(selected_late_data_indices)\n",
      "           ^^^^^^^^^^^^^^^^^^^^^^^^^^^^^^^^^^^^^^^^^^^^\n",
      "  File \"mtrand.pyx\", line 950, in numpy.random.mtrand.RandomState.choice\n",
      "ValueError: 'a' cannot be empty unless no samples are taken\n",
      "  0% (0 of 11) |                         | Elapsed Time: 0:00:00 ETA:  --:--:--"
     ]
    },
    {
     "name": "stdout",
     "output_type": "stream",
     "text": [
      "Error processing Kent: 'a' cannot be empty unless no samples are taken\n",
      "Folder 'C:\\Users\\alechutchings\\GAM_models_temp_do\\output_data\\Kingsbridge' already exists.\n",
      "Folder 'C:\\Users\\alechutchings\\GAM_models_temp_do\\output_data\\Kingsbridge\\MODEL_2_GAM_outputs_whole_estuary_salinity_Oxygen, Dissolved as O2_2006_2022' created.\n"
     ]
    },
    {
     "name": "stderr",
     "output_type": "stream",
     "text": [
      "100% (11 of 11) |########################| Elapsed Time: 0:00:00 Time:  0:00:00\n",
      "100% (11 of 11) |########################| Elapsed Time: 0:00:00 Time:  0:00:00\n",
      "100% (11 of 11) |########################| Elapsed Time: 0:00:00 Time:  0:00:00\n",
      "100% (11 of 11) |########################| Elapsed Time: 0:00:00 Time:  0:00:00\n",
      "100% (11 of 11) |########################| Elapsed Time: 0:00:00 Time:  0:00:00\n",
      "Traceback (most recent call last):\n",
      "  File \"C:\\Users\\alechutchings\\AppData\\Local\\Temp\\2\\ipykernel_3356\\892944321.py\", line 39, in <module>\n",
      "    trend_result_list = run_GAM(Est_group_all, det, GAM_output_path)\n",
      "                        ^^^^^^^^^^^^^^^^^^^^^^^^^^^^^^^^^^^^^^^^^^^^\n",
      "  File \"C:\\Users\\alechutchings\\AppData\\Local\\Temp\\2\\ipykernel_3356\\3038027423.py\", line 171, in run_GAM\n",
      "    trend_differences_year = monte_carlo_simulation_from_specific_years(early_period, later_period, samples, XX, num_iterations)\n",
      "                             ^^^^^^^^^^^^^^^^^^^^^^^^^^^^^^^^^^^^^^^^^^^^^^^^^^^^^^^^^^^^^^^^^^^^^^^^^^^^^^^^^^^^^^^^^^^^^^^^^^^\n",
      "  File \"C:\\Users\\alechutchings\\AppData\\Local\\Temp\\2\\ipykernel_3356\\3255356584.py\", line 11, in monte_carlo_simulation_from_specific_years\n",
      "    idx2 = np.random.choice(selected_late_data_indices)\n",
      "           ^^^^^^^^^^^^^^^^^^^^^^^^^^^^^^^^^^^^^^^^^^^^\n",
      "  File \"mtrand.pyx\", line 950, in numpy.random.mtrand.RandomState.choice\n",
      "ValueError: 'a' cannot be empty unless no samples are taken\n"
     ]
    },
    {
     "name": "stdout",
     "output_type": "stream",
     "text": [
      "Error processing Kingsbridge: 'a' cannot be empty unless no samples are taken\n",
      "Folder 'C:\\Users\\alechutchings\\GAM_models_temp_do\\output_data\\Langstone' already exists.\n",
      "Folder 'C:\\Users\\alechutchings\\GAM_models_temp_do\\output_data\\Langstone\\MODEL_2_GAM_outputs_whole_estuary_salinity_Oxygen, Dissolved as O2_2006_2022' created.\n"
     ]
    },
    {
     "name": "stderr",
     "output_type": "stream",
     "text": [
      "100% (11 of 11) |########################| Elapsed Time: 0:00:00 Time:  0:00:00\n",
      "100% (11 of 11) |########################| Elapsed Time: 0:00:00 Time:  0:00:00\n",
      "100% (11 of 11) |########################| Elapsed Time: 0:00:00 Time:  0:00:00\n",
      "100% (11 of 11) |########################| Elapsed Time: 0:00:00 Time:  0:00:00\n",
      "100% (11 of 11) |########################| Elapsed Time: 0:00:00 Time:  0:00:00\n",
      "  0% (0 of 11) |                         | Elapsed Time: 0:00:00 ETA:  --:--:--"
     ]
    },
    {
     "name": "stdout",
     "output_type": "stream",
     "text": [
      "Mean difference in trend: -0.012729527749383093\n",
      "Standard deviation of difference in trend: 0.0077873036689423076\n",
      "Langstone completed successfully\n",
      "Run completed successfully\n",
      "Average: -0.012729527749383093\n",
      "Standard Deviation: nan\n",
      "Folder 'C:\\Users\\alechutchings\\GAM_models_temp_do\\output_data\\Leven' already exists.\n",
      "Folder 'C:\\Users\\alechutchings\\GAM_models_temp_do\\output_data\\Leven\\MODEL_2_GAM_outputs_whole_estuary_salinity_Oxygen, Dissolved as O2_2006_2022' created.\n"
     ]
    },
    {
     "name": "stderr",
     "output_type": "stream",
     "text": [
      "100% (11 of 11) |########################| Elapsed Time: 0:00:00 Time:  0:00:00\n",
      "100% (11 of 11) |########################| Elapsed Time: 0:00:00 Time:  0:00:00\n",
      "100% (11 of 11) |########################| Elapsed Time: 0:00:00 Time:  0:00:00\n",
      "100% (11 of 11) |########################| Elapsed Time: 0:00:00 Time:  0:00:00\n",
      "100% (11 of 11) |########################| Elapsed Time: 0:00:00 Time:  0:00:00\n",
      "  0% (0 of 11) |                         | Elapsed Time: 0:00:00 ETA:  --:--:--"
     ]
    },
    {
     "name": "stdout",
     "output_type": "stream",
     "text": [
      "Mean difference in trend: 0.04399206632513377\n",
      "Standard deviation of difference in trend: 0.08343857668196247\n",
      "Leven completed successfully\n",
      "Run completed successfully\n",
      "Average: 0.04399206632513377\n",
      "Standard Deviation: nan\n",
      "Folder 'C:\\Users\\alechutchings\\GAM_models_temp_do\\output_data\\Looe' already exists.\n",
      "Folder 'C:\\Users\\alechutchings\\GAM_models_temp_do\\output_data\\Looe\\MODEL_2_GAM_outputs_whole_estuary_salinity_Oxygen, Dissolved as O2_2006_2022' created.\n"
     ]
    },
    {
     "name": "stderr",
     "output_type": "stream",
     "text": [
      "100% (11 of 11) |########################| Elapsed Time: 0:00:00 Time:  0:00:00\n",
      "100% (11 of 11) |########################| Elapsed Time: 0:00:00 Time:  0:00:00\n",
      "100% (11 of 11) |########################| Elapsed Time: 0:00:00 Time:  0:00:00\n",
      "100% (11 of 11) |########################| Elapsed Time: 0:00:00 Time:  0:00:00\n",
      "100% (11 of 11) |########################| Elapsed Time: 0:00:00 Time:  0:00:00\n",
      "Traceback (most recent call last):\n",
      "  File \"C:\\Users\\alechutchings\\AppData\\Local\\Temp\\2\\ipykernel_3356\\892944321.py\", line 39, in <module>\n",
      "    trend_result_list = run_GAM(Est_group_all, det, GAM_output_path)\n",
      "                        ^^^^^^^^^^^^^^^^^^^^^^^^^^^^^^^^^^^^^^^^^^^^\n",
      "  File \"C:\\Users\\alechutchings\\AppData\\Local\\Temp\\2\\ipykernel_3356\\3038027423.py\", line 171, in run_GAM\n",
      "    trend_differences_year = monte_carlo_simulation_from_specific_years(early_period, later_period, samples, XX, num_iterations)\n",
      "                             ^^^^^^^^^^^^^^^^^^^^^^^^^^^^^^^^^^^^^^^^^^^^^^^^^^^^^^^^^^^^^^^^^^^^^^^^^^^^^^^^^^^^^^^^^^^^^^^^^^^\n",
      "  File \"C:\\Users\\alechutchings\\AppData\\Local\\Temp\\2\\ipykernel_3356\\3255356584.py\", line 10, in monte_carlo_simulation_from_specific_years\n",
      "    idx1 = np.random.choice(selected_early_data_indices)\n",
      "           ^^^^^^^^^^^^^^^^^^^^^^^^^^^^^^^^^^^^^^^^^^^^^\n",
      "  File \"mtrand.pyx\", line 950, in numpy.random.mtrand.RandomState.choice\n",
      "ValueError: 'a' cannot be empty unless no samples are taken\n"
     ]
    },
    {
     "name": "stdout",
     "output_type": "stream",
     "text": [
      "Error processing Looe: 'a' cannot be empty unless no samples are taken\n",
      "Folder 'C:\\Users\\alechutchings\\GAM_models_temp_do\\output_data\\Lune' already exists.\n",
      "Folder 'C:\\Users\\alechutchings\\GAM_models_temp_do\\output_data\\Lune\\MODEL_2_GAM_outputs_whole_estuary_salinity_Oxygen, Dissolved as O2_2006_2022' created.\n"
     ]
    },
    {
     "name": "stderr",
     "output_type": "stream",
     "text": [
      "100% (11 of 11) |########################| Elapsed Time: 0:00:00 Time:  0:00:00\n",
      "100% (11 of 11) |########################| Elapsed Time: 0:00:00 Time:  0:00:00\n",
      "100% (11 of 11) |########################| Elapsed Time: 0:00:00 Time:  0:00:00\n",
      "100% (11 of 11) |########################| Elapsed Time: 0:00:00 Time:  0:00:00\n",
      "100% (11 of 11) |########################| Elapsed Time: 0:00:00 Time:  0:00:00\n",
      "  0% (0 of 11) |                         | Elapsed Time: 0:00:00 ETA:  --:--:--"
     ]
    },
    {
     "name": "stdout",
     "output_type": "stream",
     "text": [
      "Mean difference in trend: 0.0059483779962787526\n",
      "Standard deviation of difference in trend: 0.07309006798058645\n",
      "Lune completed successfully\n",
      "Run completed successfully\n",
      "Average: 0.0059483779962787526\n",
      "Standard Deviation: nan\n",
      "Folder 'C:\\Users\\alechutchings\\GAM_models_temp_do\\output_data\\Lymington' already exists.\n",
      "Folder 'C:\\Users\\alechutchings\\GAM_models_temp_do\\output_data\\Lymington\\MODEL_2_GAM_outputs_whole_estuary_salinity_Oxygen, Dissolved as O2_2006_2022' created.\n"
     ]
    },
    {
     "name": "stderr",
     "output_type": "stream",
     "text": [
      "100% (11 of 11) |########################| Elapsed Time: 0:00:00 Time:  0:00:00\n",
      "100% (11 of 11) |########################| Elapsed Time: 0:00:00 Time:  0:00:00\n",
      "100% (11 of 11) |########################| Elapsed Time: 0:00:00 Time:  0:00:00\n",
      "100% (11 of 11) |########################| Elapsed Time: 0:00:00 Time:  0:00:00\n",
      "100% (11 of 11) |########################| Elapsed Time: 0:00:00 Time:  0:00:00\n"
     ]
    },
    {
     "name": "stdout",
     "output_type": "stream",
     "text": [
      "Mean difference in trend: 0.012924547743857331\n",
      "Standard deviation of difference in trend: 0.013747289900271291\n",
      "Lymington completed successfully\n",
      "Run completed successfully\n",
      "Average: 0.012924547743857331\n",
      "Standard Deviation: nan\n",
      "Folder 'C:\\Users\\alechutchings\\GAM_models_temp_do\\output_data\\Maryport' already exists.\n",
      "Folder 'C:\\Users\\alechutchings\\GAM_models_temp_do\\output_data\\Maryport\\MODEL_2_GAM_outputs_whole_estuary_salinity_Oxygen, Dissolved as O2_2006_2022' created.\n",
      "Error processing Maryport: 'Oxygen, Dissolved as O2'\n",
      "Folder 'C:\\Users\\alechutchings\\GAM_models_temp_do\\output_data\\Medina' already exists.\n",
      "Folder 'C:\\Users\\alechutchings\\GAM_models_temp_do\\output_data\\Medina\\MODEL_2_GAM_outputs_whole_estuary_salinity_Oxygen, Dissolved as O2_2006_2022' created.\n"
     ]
    },
    {
     "name": "stderr",
     "output_type": "stream",
     "text": [
      "Traceback (most recent call last):\n",
      "  File \"C:\\Users\\alechutchings\\AppData\\Local\\anaconda3\\envs\\geo_env\\Lib\\site-packages\\pandas\\core\\indexes\\base.py\", line 3653, in get_loc\n",
      "    return self._engine.get_loc(casted_key)\n",
      "           ^^^^^^^^^^^^^^^^^^^^^^^^^^^^^^^^\n",
      "  File \"pandas\\_libs\\index.pyx\", line 147, in pandas._libs.index.IndexEngine.get_loc\n",
      "  File \"pandas\\_libs\\index.pyx\", line 176, in pandas._libs.index.IndexEngine.get_loc\n",
      "  File \"pandas\\_libs\\hashtable_class_helper.pxi\", line 7080, in pandas._libs.hashtable.PyObjectHashTable.get_item\n",
      "  File \"pandas\\_libs\\hashtable_class_helper.pxi\", line 7088, in pandas._libs.hashtable.PyObjectHashTable.get_item\n",
      "KeyError: 'Oxygen, Dissolved as O2'\n",
      "\n",
      "The above exception was the direct cause of the following exception:\n",
      "\n",
      "Traceback (most recent call last):\n",
      "  File \"C:\\Users\\alechutchings\\AppData\\Local\\Temp\\2\\ipykernel_3356\\892944321.py\", line 39, in <module>\n",
      "    trend_result_list = run_GAM(Est_group_all, det, GAM_output_path)\n",
      "                        ^^^^^^^^^^^^^^^^^^^^^^^^^^^^^^^^^^^^^^^^^^^^\n",
      "  File \"C:\\Users\\alechutchings\\AppData\\Local\\Temp\\2\\ipykernel_3356\\3038027423.py\", line 30, in run_GAM\n",
      "    Y = Est_all[det].values\n",
      "        ~~~~~~~^^^^^\n",
      "  File \"C:\\Users\\alechutchings\\AppData\\Local\\anaconda3\\envs\\geo_env\\Lib\\site-packages\\pandas\\core\\frame.py\", line 3761, in __getitem__\n",
      "    indexer = self.columns.get_loc(key)\n",
      "              ^^^^^^^^^^^^^^^^^^^^^^^^^\n",
      "  File \"C:\\Users\\alechutchings\\AppData\\Local\\anaconda3\\envs\\geo_env\\Lib\\site-packages\\pandas\\core\\indexes\\base.py\", line 3655, in get_loc\n",
      "    raise KeyError(key) from err\n",
      "KeyError: 'Oxygen, Dissolved as O2'\n",
      "100% (11 of 11) |########################| Elapsed Time: 0:00:00 Time:  0:00:00\n",
      "100% (11 of 11) |########################| Elapsed Time: 0:00:00 Time:  0:00:00\n",
      "100% (11 of 11) |########################| Elapsed Time: 0:00:00 Time:  0:00:00\n",
      "100% (11 of 11) |########################| Elapsed Time: 0:00:00 Time:  0:00:00\n",
      "100% (11 of 11) |########################| Elapsed Time: 0:00:00 Time:  0:00:00\n"
     ]
    },
    {
     "name": "stdout",
     "output_type": "stream",
     "text": [
      "Mean difference in trend: 0.004743427357351838\n",
      "Standard deviation of difference in trend: 0.034751604222510425\n",
      "Medina completed successfully\n",
      "Run completed successfully\n",
      "Average: 0.004743427357351838\n",
      "Standard Deviation: nan\n",
      "Folder 'C:\\Users\\alechutchings\\GAM_models_temp_do\\output_data\\Medway' already exists.\n",
      "Folder 'C:\\Users\\alechutchings\\GAM_models_temp_do\\output_data\\Medway\\MODEL_2_GAM_outputs_whole_estuary_salinity_Oxygen, Dissolved as O2_2006_2022' created.\n"
     ]
    },
    {
     "name": "stderr",
     "output_type": "stream",
     "text": [
      "100% (11 of 11) |########################| Elapsed Time: 0:00:00 Time:  0:00:00\n",
      "100% (11 of 11) |########################| Elapsed Time: 0:00:00 Time:  0:00:00\n",
      "100% (11 of 11) |########################| Elapsed Time: 0:00:00 Time:  0:00:00\n",
      "100% (11 of 11) |########################| Elapsed Time: 0:00:00 Time:  0:00:00\n",
      "100% (11 of 11) |########################| Elapsed Time: 0:00:00 Time:  0:00:00\n"
     ]
    },
    {
     "name": "stdout",
     "output_type": "stream",
     "text": [
      "Mean difference in trend: -0.018028452842387785\n",
      "Standard deviation of difference in trend: 0.04313381253650772\n",
      "Medway completed successfully\n",
      "Run completed successfully\n",
      "Average: -0.018028452842387785\n",
      "Standard Deviation: nan\n",
      "Folder 'C:\\Users\\alechutchings\\GAM_models_temp_do\\output_data\\Mersey' already exists.\n",
      "Folder 'C:\\Users\\alechutchings\\GAM_models_temp_do\\output_data\\Mersey\\MODEL_2_GAM_outputs_whole_estuary_salinity_Oxygen, Dissolved as O2_2006_2022' created.\n"
     ]
    },
    {
     "name": "stderr",
     "output_type": "stream",
     "text": [
      "100% (11 of 11) |########################| Elapsed Time: 0:00:00 Time:  0:00:00\n",
      "100% (11 of 11) |########################| Elapsed Time: 0:00:00 Time:  0:00:00\n",
      "100% (11 of 11) |########################| Elapsed Time: 0:00:00 Time:  0:00:00\n",
      "100% (11 of 11) |########################| Elapsed Time: 0:00:00 Time:  0:00:00\n",
      "100% (11 of 11) |########################| Elapsed Time: 0:00:00 Time:  0:00:00\n",
      " 18% (2 of 11) |####                     | Elapsed Time: 0:00:00 ETA:  00:00:00"
     ]
    },
    {
     "name": "stdout",
     "output_type": "stream",
     "text": [
      "Mean difference in trend: 0.021175592450427595\n",
      "Standard deviation of difference in trend: 0.03890585903640194\n",
      "Mersey completed successfully\n",
      "Run completed successfully\n",
      "Average: 0.021175592450427595\n",
      "Standard Deviation: nan\n",
      "Folder 'C:\\Users\\alechutchings\\GAM_models_temp_do\\output_data\\Nene' already exists.\n",
      "Folder 'C:\\Users\\alechutchings\\GAM_models_temp_do\\output_data\\Nene\\MODEL_2_GAM_outputs_whole_estuary_salinity_Oxygen, Dissolved as O2_2006_2022' created.\n"
     ]
    },
    {
     "name": "stderr",
     "output_type": "stream",
     "text": [
      "100% (11 of 11) |########################| Elapsed Time: 0:00:00 Time:  0:00:00\n",
      "100% (11 of 11) |########################| Elapsed Time: 0:00:00 Time:  0:00:00\n",
      "100% (11 of 11) |########################| Elapsed Time: 0:00:00 Time:  0:00:00\n",
      "100% (11 of 11) |########################| Elapsed Time: 0:00:00 Time:  0:00:00\n",
      "100% (11 of 11) |########################| Elapsed Time: 0:00:00 Time:  0:00:00\n",
      "Traceback (most recent call last):\n",
      "  File \"C:\\Users\\alechutchings\\AppData\\Local\\Temp\\2\\ipykernel_3356\\892944321.py\", line 39, in <module>\n",
      "    trend_result_list = run_GAM(Est_group_all, det, GAM_output_path)\n",
      "                        ^^^^^^^^^^^^^^^^^^^^^^^^^^^^^^^^^^^^^^^^^^^^\n",
      "  File \"C:\\Users\\alechutchings\\AppData\\Local\\Temp\\2\\ipykernel_3356\\3038027423.py\", line 171, in run_GAM\n",
      "    trend_differences_year = monte_carlo_simulation_from_specific_years(early_period, later_period, samples, XX, num_iterations)\n",
      "                             ^^^^^^^^^^^^^^^^^^^^^^^^^^^^^^^^^^^^^^^^^^^^^^^^^^^^^^^^^^^^^^^^^^^^^^^^^^^^^^^^^^^^^^^^^^^^^^^^^^^\n",
      "  File \"C:\\Users\\alechutchings\\AppData\\Local\\Temp\\2\\ipykernel_3356\\3255356584.py\", line 11, in monte_carlo_simulation_from_specific_years\n",
      "    idx2 = np.random.choice(selected_late_data_indices)\n",
      "           ^^^^^^^^^^^^^^^^^^^^^^^^^^^^^^^^^^^^^^^^^^^^\n",
      "  File \"mtrand.pyx\", line 950, in numpy.random.mtrand.RandomState.choice\n",
      "ValueError: 'a' cannot be empty unless no samples are taken\n",
      "  0% (0 of 11) |                         | Elapsed Time: 0:00:00 ETA:  --:--:--"
     ]
    },
    {
     "name": "stdout",
     "output_type": "stream",
     "text": [
      "Error processing Nene: 'a' cannot be empty unless no samples are taken\n",
      "Folder 'C:\\Users\\alechutchings\\GAM_models_temp_do\\output_data\\Newtown_river' already exists.\n",
      "Folder 'C:\\Users\\alechutchings\\GAM_models_temp_do\\output_data\\Newtown_river\\MODEL_2_GAM_outputs_whole_estuary_salinity_Oxygen, Dissolved as O2_2006_2022' created.\n"
     ]
    },
    {
     "name": "stderr",
     "output_type": "stream",
     "text": [
      "100% (11 of 11) |########################| Elapsed Time: 0:00:00 Time:  0:00:00\n",
      "100% (11 of 11) |########################| Elapsed Time: 0:00:00 Time:  0:00:00\n",
      "100% (11 of 11) |########################| Elapsed Time: 0:00:00 Time:  0:00:00\n",
      "100% (11 of 11) |########################| Elapsed Time: 0:00:00 Time:  0:00:00\n",
      "100% (11 of 11) |########################| Elapsed Time: 0:00:00 Time:  0:00:00\n"
     ]
    },
    {
     "name": "stdout",
     "output_type": "stream",
     "text": [
      "Mean difference in trend: -0.002515304445142764\n",
      "Standard deviation of difference in trend: 0.1270937867007753\n",
      "Newtown_river completed successfully\n",
      "Run completed successfully\n",
      "Average: -0.002515304445142764\n",
      "Standard Deviation: nan\n",
      "Folder 'C:\\Users\\alechutchings\\GAM_models_temp_do\\output_data\\Orwell' already exists.\n",
      "Folder 'C:\\Users\\alechutchings\\GAM_models_temp_do\\output_data\\Orwell\\MODEL_2_GAM_outputs_whole_estuary_salinity_Oxygen, Dissolved as O2_2006_2022' created.\n"
     ]
    },
    {
     "name": "stderr",
     "output_type": "stream",
     "text": [
      "100% (11 of 11) |########################| Elapsed Time: 0:00:00 Time:  0:00:00\n",
      "100% (11 of 11) |########################| Elapsed Time: 0:00:00 Time:  0:00:00\n",
      "100% (11 of 11) |########################| Elapsed Time: 0:00:00 Time:  0:00:00\n",
      "100% (11 of 11) |########################| Elapsed Time: 0:00:00 Time:  0:00:00\n",
      "100% (11 of 11) |########################| Elapsed Time: 0:00:00 Time:  0:00:00\n"
     ]
    },
    {
     "name": "stdout",
     "output_type": "stream",
     "text": [
      "Mean difference in trend: -0.057701674438693444\n",
      "Standard deviation of difference in trend: 0.06551350945933043\n",
      "Orwell completed successfully\n",
      "Run completed successfully\n",
      "Average: -0.057701674438693444\n",
      "Standard Deviation: nan\n",
      "Folder 'C:\\Users\\alechutchings\\GAM_models_temp_do\\output_data\\Otter' already exists.\n",
      "Folder 'C:\\Users\\alechutchings\\GAM_models_temp_do\\output_data\\Otter\\MODEL_2_GAM_outputs_whole_estuary_salinity_Oxygen, Dissolved as O2_2006_2022' created.\n",
      "Error processing Otter: 'Oxygen, Dissolved as O2'\n",
      "Folder 'C:\\Users\\alechutchings\\GAM_models_temp_do\\output_data\\Ouse' already exists.\n",
      "Folder 'C:\\Users\\alechutchings\\GAM_models_temp_do\\output_data\\Ouse\\MODEL_2_GAM_outputs_whole_estuary_salinity_Oxygen, Dissolved as O2_2006_2022' created.\n"
     ]
    },
    {
     "name": "stderr",
     "output_type": "stream",
     "text": [
      "Traceback (most recent call last):\n",
      "  File \"C:\\Users\\alechutchings\\AppData\\Local\\anaconda3\\envs\\geo_env\\Lib\\site-packages\\pandas\\core\\indexes\\base.py\", line 3653, in get_loc\n",
      "    return self._engine.get_loc(casted_key)\n",
      "           ^^^^^^^^^^^^^^^^^^^^^^^^^^^^^^^^\n",
      "  File \"pandas\\_libs\\index.pyx\", line 147, in pandas._libs.index.IndexEngine.get_loc\n",
      "  File \"pandas\\_libs\\index.pyx\", line 176, in pandas._libs.index.IndexEngine.get_loc\n",
      "  File \"pandas\\_libs\\hashtable_class_helper.pxi\", line 7080, in pandas._libs.hashtable.PyObjectHashTable.get_item\n",
      "  File \"pandas\\_libs\\hashtable_class_helper.pxi\", line 7088, in pandas._libs.hashtable.PyObjectHashTable.get_item\n",
      "KeyError: 'Oxygen, Dissolved as O2'\n",
      "\n",
      "The above exception was the direct cause of the following exception:\n",
      "\n",
      "Traceback (most recent call last):\n",
      "  File \"C:\\Users\\alechutchings\\AppData\\Local\\Temp\\2\\ipykernel_3356\\892944321.py\", line 39, in <module>\n",
      "    trend_result_list = run_GAM(Est_group_all, det, GAM_output_path)\n",
      "                        ^^^^^^^^^^^^^^^^^^^^^^^^^^^^^^^^^^^^^^^^^^^^\n",
      "  File \"C:\\Users\\alechutchings\\AppData\\Local\\Temp\\2\\ipykernel_3356\\3038027423.py\", line 30, in run_GAM\n",
      "    Y = Est_all[det].values\n",
      "        ~~~~~~~^^^^^\n",
      "  File \"C:\\Users\\alechutchings\\AppData\\Local\\anaconda3\\envs\\geo_env\\Lib\\site-packages\\pandas\\core\\frame.py\", line 3761, in __getitem__\n",
      "    indexer = self.columns.get_loc(key)\n",
      "              ^^^^^^^^^^^^^^^^^^^^^^^^^\n",
      "  File \"C:\\Users\\alechutchings\\AppData\\Local\\anaconda3\\envs\\geo_env\\Lib\\site-packages\\pandas\\core\\indexes\\base.py\", line 3655, in get_loc\n",
      "    raise KeyError(key) from err\n",
      "KeyError: 'Oxygen, Dissolved as O2'\n",
      "100% (11 of 11) |########################| Elapsed Time: 0:00:01 Time:  0:00:01\n",
      "100% (11 of 11) |########################| Elapsed Time: 0:00:00 Time:  0:00:00\n",
      "100% (11 of 11) |########################| Elapsed Time: 0:00:00 Time:  0:00:00\n",
      "100% (11 of 11) |########################| Elapsed Time: 0:00:00 Time:  0:00:00\n",
      "100% (11 of 11) |########################| Elapsed Time: 0:00:00 Time:  0:00:00\n"
     ]
    },
    {
     "name": "stdout",
     "output_type": "stream",
     "text": [
      "Mean difference in trend: 0.02988780433991193\n",
      "Standard deviation of difference in trend: 0.016789846375128144\n",
      "Ouse completed successfully\n",
      "Run completed successfully\n",
      "Average: 0.02988780433991193\n",
      "Standard Deviation: nan\n",
      "Folder 'C:\\Users\\alechutchings\\GAM_models_temp_do\\output_data\\Pagham' already exists.\n",
      "Folder 'C:\\Users\\alechutchings\\GAM_models_temp_do\\output_data\\Pagham\\MODEL_2_GAM_outputs_whole_estuary_salinity_Oxygen, Dissolved as O2_2006_2022' created.\n"
     ]
    },
    {
     "name": "stderr",
     "output_type": "stream",
     "text": [
      "100% (11 of 11) |########################| Elapsed Time: 0:00:00 Time:  0:00:00\n",
      "100% (11 of 11) |########################| Elapsed Time: 0:00:00 Time:  0:00:00\n",
      "100% (11 of 11) |########################| Elapsed Time: 0:00:00 Time:  0:00:00\n",
      "100% (11 of 11) |########################| Elapsed Time: 0:00:00 Time:  0:00:00\n",
      "100% (11 of 11) |########################| Elapsed Time: 0:00:00 Time:  0:00:00\n"
     ]
    },
    {
     "name": "stdout",
     "output_type": "stream",
     "text": [
      "Mean difference in trend: -0.03382307734963787\n",
      "Standard deviation of difference in trend: 0.009230302497424745\n",
      "Pagham completed successfully\n",
      "Run completed successfully\n",
      "Average: -0.03382307734963787\n",
      "Standard Deviation: nan\n",
      "Folder 'C:\\Users\\alechutchings\\GAM_models_temp_do\\output_data\\Parrett' already exists.\n",
      "Folder 'C:\\Users\\alechutchings\\GAM_models_temp_do\\output_data\\Parrett\\MODEL_2_GAM_outputs_whole_estuary_salinity_Oxygen, Dissolved as O2_2006_2022' created.\n"
     ]
    },
    {
     "name": "stderr",
     "output_type": "stream",
     "text": [
      "100% (11 of 11) |########################| Elapsed Time: 0:00:00 Time:  0:00:00\n",
      "100% (11 of 11) |########################| Elapsed Time: 0:00:00 Time:  0:00:00\n",
      "100% (11 of 11) |########################| Elapsed Time: 0:00:00 Time:  0:00:00\n",
      "100% (11 of 11) |########################| Elapsed Time: 0:00:00 Time:  0:00:00\n",
      "100% (11 of 11) |########################| Elapsed Time: 0:00:00 Time:  0:00:00\n",
      "Traceback (most recent call last):\n",
      "  File \"C:\\Users\\alechutchings\\AppData\\Local\\Temp\\2\\ipykernel_3356\\892944321.py\", line 39, in <module>\n",
      "    trend_result_list = run_GAM(Est_group_all, det, GAM_output_path)\n",
      "                        ^^^^^^^^^^^^^^^^^^^^^^^^^^^^^^^^^^^^^^^^^^^^\n",
      "  File \"C:\\Users\\alechutchings\\AppData\\Local\\Temp\\2\\ipykernel_3356\\3038027423.py\", line 171, in run_GAM\n",
      "    trend_differences_year = monte_carlo_simulation_from_specific_years(early_period, later_period, samples, XX, num_iterations)\n",
      "                             ^^^^^^^^^^^^^^^^^^^^^^^^^^^^^^^^^^^^^^^^^^^^^^^^^^^^^^^^^^^^^^^^^^^^^^^^^^^^^^^^^^^^^^^^^^^^^^^^^^^\n",
      "  File \"C:\\Users\\alechutchings\\AppData\\Local\\Temp\\2\\ipykernel_3356\\3255356584.py\", line 11, in monte_carlo_simulation_from_specific_years\n",
      "    idx2 = np.random.choice(selected_late_data_indices)\n",
      "           ^^^^^^^^^^^^^^^^^^^^^^^^^^^^^^^^^^^^^^^^^^^^\n",
      "  File \"mtrand.pyx\", line 950, in numpy.random.mtrand.RandomState.choice\n",
      "ValueError: 'a' cannot be empty unless no samples are taken\n"
     ]
    },
    {
     "name": "stdout",
     "output_type": "stream",
     "text": [
      "Error processing Parrett: 'a' cannot be empty unless no samples are taken\n",
      "Folder 'C:\\Users\\alechutchings\\GAM_models_temp_do\\output_data\\Plymouth' already exists.\n",
      "Folder 'C:\\Users\\alechutchings\\GAM_models_temp_do\\output_data\\Plymouth\\MODEL_2_GAM_outputs_whole_estuary_salinity_Oxygen, Dissolved as O2_2006_2022' created.\n"
     ]
    },
    {
     "name": "stderr",
     "output_type": "stream",
     "text": [
      "100% (11 of 11) |########################| Elapsed Time: 0:00:00 Time:  0:00:00\n",
      "100% (11 of 11) |########################| Elapsed Time: 0:00:00 Time:  0:00:00\n",
      "100% (11 of 11) |########################| Elapsed Time: 0:00:00 Time:  0:00:00\n",
      "100% (11 of 11) |########################| Elapsed Time: 0:00:00 Time:  0:00:00\n",
      "100% (11 of 11) |########################| Elapsed Time: 0:00:00 Time:  0:00:00\n"
     ]
    },
    {
     "name": "stdout",
     "output_type": "stream",
     "text": [
      "Mean difference in trend: 0.047057626907902134\n",
      "Standard deviation of difference in trend: 0.05270055656802432\n",
      "Plymouth completed successfully\n",
      "Run completed successfully\n",
      "Average: 0.047057626907902134\n",
      "Standard Deviation: nan\n",
      "Folder 'C:\\Users\\alechutchings\\GAM_models_temp_do\\output_data\\Poole' already exists.\n",
      "Folder 'C:\\Users\\alechutchings\\GAM_models_temp_do\\output_data\\Poole\\MODEL_2_GAM_outputs_whole_estuary_salinity_Oxygen, Dissolved as O2_2006_2022' created.\n"
     ]
    },
    {
     "name": "stderr",
     "output_type": "stream",
     "text": [
      "100% (11 of 11) |########################| Elapsed Time: 0:00:00 Time:  0:00:00\n",
      "100% (11 of 11) |########################| Elapsed Time: 0:00:00 Time:  0:00:00\n",
      "100% (11 of 11) |########################| Elapsed Time: 0:00:00 Time:  0:00:00\n",
      "100% (11 of 11) |########################| Elapsed Time: 0:00:00 Time:  0:00:00\n",
      "100% (11 of 11) |########################| Elapsed Time: 0:00:00 Time:  0:00:00\n"
     ]
    },
    {
     "name": "stdout",
     "output_type": "stream",
     "text": [
      "Mean difference in trend: -0.05695169511014493\n",
      "Standard deviation of difference in trend: 0.058398647643698294\n",
      "Poole completed successfully\n",
      "Run completed successfully\n",
      "Average: -0.05695169511014493\n",
      "Standard Deviation: nan\n",
      "Folder 'C:\\Users\\alechutchings\\GAM_models_temp_do\\output_data\\Portsmouth' already exists.\n",
      "Folder 'C:\\Users\\alechutchings\\GAM_models_temp_do\\output_data\\Portsmouth\\MODEL_2_GAM_outputs_whole_estuary_salinity_Oxygen, Dissolved as O2_2006_2022' created.\n"
     ]
    },
    {
     "name": "stderr",
     "output_type": "stream",
     "text": [
      "100% (11 of 11) |########################| Elapsed Time: 0:00:00 Time:  0:00:00\n",
      "100% (11 of 11) |########################| Elapsed Time: 0:00:00 Time:  0:00:00\n",
      "100% (11 of 11) |########################| Elapsed Time: 0:00:00 Time:  0:00:00\n",
      "100% (11 of 11) |########################| Elapsed Time: 0:00:00 Time:  0:00:00\n",
      "100% (11 of 11) |########################| Elapsed Time: 0:00:00 Time:  0:00:00\n"
     ]
    },
    {
     "name": "stdout",
     "output_type": "stream",
     "text": [
      "Mean difference in trend: -0.00877591904748864\n",
      "Standard deviation of difference in trend: 0.009496528764387275\n",
      "Portsmouth completed successfully\n",
      "Run completed successfully\n",
      "Average: -0.00877591904748864\n",
      "Standard Deviation: nan\n",
      "Folder 'C:\\Users\\alechutchings\\GAM_models_temp_do\\output_data\\Ribble' already exists.\n",
      "Folder 'C:\\Users\\alechutchings\\GAM_models_temp_do\\output_data\\Ribble\\MODEL_2_GAM_outputs_whole_estuary_salinity_Oxygen, Dissolved as O2_2006_2022' created.\n"
     ]
    },
    {
     "name": "stderr",
     "output_type": "stream",
     "text": [
      "100% (11 of 11) |########################| Elapsed Time: 0:00:00 Time:  0:00:00\n",
      "100% (11 of 11) |########################| Elapsed Time: 0:00:00 Time:  0:00:00\n",
      "100% (11 of 11) |########################| Elapsed Time: 0:00:00 Time:  0:00:00\n",
      "100% (11 of 11) |########################| Elapsed Time: 0:00:00 Time:  0:00:00\n",
      "100% (11 of 11) |########################| Elapsed Time: 0:00:00 Time:  0:00:00\n"
     ]
    },
    {
     "name": "stdout",
     "output_type": "stream",
     "text": [
      "Mean difference in trend: 0.029839414056444854\n",
      "Standard deviation of difference in trend: 0.06602559927332313\n",
      "Ribble completed successfully\n",
      "Run completed successfully\n",
      "Average: 0.029839414056444854\n",
      "Standard Deviation: nan\n",
      "Folder 'C:\\Users\\alechutchings\\GAM_models_temp_do\\output_data\\Rother' already exists.\n",
      "Folder 'C:\\Users\\alechutchings\\GAM_models_temp_do\\output_data\\Rother\\MODEL_2_GAM_outputs_whole_estuary_salinity_Oxygen, Dissolved as O2_2006_2022' created.\n"
     ]
    },
    {
     "name": "stderr",
     "output_type": "stream",
     "text": [
      "100% (11 of 11) |########################| Elapsed Time: 0:00:00 Time:  0:00:00\n",
      "100% (11 of 11) |########################| Elapsed Time: 0:00:00 Time:  0:00:00\n",
      "100% (11 of 11) |########################| Elapsed Time: 0:00:00 Time:  0:00:00\n",
      "100% (11 of 11) |########################| Elapsed Time: 0:00:00 Time:  0:00:00\n",
      "100% (11 of 11) |########################| Elapsed Time: 0:00:00 Time:  0:00:00\n",
      "Traceback (most recent call last):\n",
      "  File \"C:\\Users\\alechutchings\\AppData\\Local\\Temp\\2\\ipykernel_3356\\892944321.py\", line 39, in <module>\n",
      "    trend_result_list = run_GAM(Est_group_all, det, GAM_output_path)\n",
      "                        ^^^^^^^^^^^^^^^^^^^^^^^^^^^^^^^^^^^^^^^^^^^^\n",
      "  File \"C:\\Users\\alechutchings\\AppData\\Local\\Temp\\2\\ipykernel_3356\\3038027423.py\", line 171, in run_GAM\n",
      "    trend_differences_year = monte_carlo_simulation_from_specific_years(early_period, later_period, samples, XX, num_iterations)\n",
      "                             ^^^^^^^^^^^^^^^^^^^^^^^^^^^^^^^^^^^^^^^^^^^^^^^^^^^^^^^^^^^^^^^^^^^^^^^^^^^^^^^^^^^^^^^^^^^^^^^^^^^\n",
      "  File \"C:\\Users\\alechutchings\\AppData\\Local\\Temp\\2\\ipykernel_3356\\3255356584.py\", line 11, in monte_carlo_simulation_from_specific_years\n",
      "    idx2 = np.random.choice(selected_late_data_indices)\n",
      "           ^^^^^^^^^^^^^^^^^^^^^^^^^^^^^^^^^^^^^^^^^^^^\n",
      "  File \"mtrand.pyx\", line 950, in numpy.random.mtrand.RandomState.choice\n",
      "ValueError: 'a' cannot be empty unless no samples are taken\n"
     ]
    },
    {
     "name": "stdout",
     "output_type": "stream",
     "text": [
      "Error processing Rother: 'a' cannot be empty unless no samples are taken\n",
      "Folder 'C:\\Users\\alechutchings\\GAM_models_temp_do\\output_data\\Severn' already exists.\n",
      "Folder 'C:\\Users\\alechutchings\\GAM_models_temp_do\\output_data\\Severn\\MODEL_2_GAM_outputs_whole_estuary_salinity_Oxygen, Dissolved as O2_2006_2022' created.\n"
     ]
    },
    {
     "name": "stderr",
     "output_type": "stream",
     "text": [
      "100% (11 of 11) |########################| Elapsed Time: 0:00:00 Time:  0:00:00\n",
      "100% (11 of 11) |########################| Elapsed Time: 0:00:00 Time:  0:00:00\n",
      "100% (11 of 11) |########################| Elapsed Time: 0:00:00 Time:  0:00:00\n",
      "100% (11 of 11) |########################| Elapsed Time: 0:00:00 Time:  0:00:00\n",
      "100% (11 of 11) |########################| Elapsed Time: 0:00:00 Time:  0:00:00\n"
     ]
    },
    {
     "name": "stdout",
     "output_type": "stream",
     "text": [
      "Mean difference in trend: -0.0731913240216242\n",
      "Standard deviation of difference in trend: 0.07777303999026688\n",
      "Severn completed successfully\n",
      "Run completed successfully\n",
      "Average: -0.0731913240216242\n",
      "Standard Deviation: nan\n",
      "Folder 'C:\\Users\\alechutchings\\GAM_models_temp_do\\output_data\\Solway' already exists.\n",
      "Folder 'C:\\Users\\alechutchings\\GAM_models_temp_do\\output_data\\Solway\\MODEL_2_GAM_outputs_whole_estuary_salinity_Oxygen, Dissolved as O2_2006_2022' created.\n"
     ]
    },
    {
     "name": "stderr",
     "output_type": "stream",
     "text": [
      "100% (11 of 11) |########################| Elapsed Time: 0:00:00 Time:  0:00:00\n",
      "100% (11 of 11) |########################| Elapsed Time: 0:00:00 Time:  0:00:00\n",
      "100% (11 of 11) |########################| Elapsed Time: 0:00:00 Time:  0:00:00\n",
      "100% (11 of 11) |########################| Elapsed Time: 0:00:00 Time:  0:00:00\n",
      "100% (11 of 11) |########################| Elapsed Time: 0:00:00 Time:  0:00:00\n"
     ]
    },
    {
     "name": "stdout",
     "output_type": "stream",
     "text": [
      "Mean difference in trend: -0.06337326281808653\n",
      "Standard deviation of difference in trend: 0.0731378998319326\n",
      "Solway completed successfully\n",
      "Run completed successfully\n",
      "Average: -0.06337326281808653\n",
      "Standard Deviation: nan\n",
      "Folder 'C:\\Users\\alechutchings\\GAM_models_temp_do\\output_data\\Southampton' already exists.\n",
      "Folder 'C:\\Users\\alechutchings\\GAM_models_temp_do\\output_data\\Southampton\\MODEL_2_GAM_outputs_whole_estuary_salinity_Oxygen, Dissolved as O2_2006_2022' created.\n"
     ]
    },
    {
     "name": "stderr",
     "output_type": "stream",
     "text": [
      "100% (11 of 11) |########################| Elapsed Time: 0:00:00 Time:  0:00:00\n",
      "100% (11 of 11) |########################| Elapsed Time: 0:00:00 Time:  0:00:00\n",
      "100% (11 of 11) |########################| Elapsed Time: 0:00:00 Time:  0:00:00\n",
      "100% (11 of 11) |########################| Elapsed Time: 0:00:00 Time:  0:00:00\n",
      "100% (11 of 11) |########################| Elapsed Time: 0:00:00 Time:  0:00:00\n",
      "  0% (0 of 11) |                         | Elapsed Time: 0:00:00 ETA:  --:--:--"
     ]
    },
    {
     "name": "stdout",
     "output_type": "stream",
     "text": [
      "Mean difference in trend: -0.020249000746839784\n",
      "Standard deviation of difference in trend: 0.028901442311515854\n",
      "Southampton completed successfully\n",
      "Run completed successfully\n",
      "Average: -0.020249000746839784\n",
      "Standard Deviation: nan\n",
      "Folder 'C:\\Users\\alechutchings\\GAM_models_temp_do\\output_data\\Stiffkey' already exists.\n",
      "Folder 'C:\\Users\\alechutchings\\GAM_models_temp_do\\output_data\\Stiffkey\\MODEL_2_GAM_outputs_whole_estuary_salinity_Oxygen, Dissolved as O2_2006_2022' created.\n"
     ]
    },
    {
     "name": "stderr",
     "output_type": "stream",
     "text": [
      "100% (11 of 11) |########################| Elapsed Time: 0:00:00 Time:  0:00:00\n",
      "100% (11 of 11) |########################| Elapsed Time: 0:00:00 Time:  0:00:00\n",
      "100% (11 of 11) |########################| Elapsed Time: 0:00:00 Time:  0:00:00\n",
      "100% (11 of 11) |########################| Elapsed Time: 0:00:00 Time:  0:00:00\n",
      "100% (11 of 11) |########################| Elapsed Time: 0:00:00 Time:  0:00:00\n",
      "Traceback (most recent call last):\n",
      "  File \"C:\\Users\\alechutchings\\AppData\\Local\\Temp\\2\\ipykernel_3356\\892944321.py\", line 39, in <module>\n",
      "    trend_result_list = run_GAM(Est_group_all, det, GAM_output_path)\n",
      "                        ^^^^^^^^^^^^^^^^^^^^^^^^^^^^^^^^^^^^^^^^^^^^\n",
      "  File \"C:\\Users\\alechutchings\\AppData\\Local\\Temp\\2\\ipykernel_3356\\3038027423.py\", line 171, in run_GAM\n",
      "    trend_differences_year = monte_carlo_simulation_from_specific_years(early_period, later_period, samples, XX, num_iterations)\n",
      "                             ^^^^^^^^^^^^^^^^^^^^^^^^^^^^^^^^^^^^^^^^^^^^^^^^^^^^^^^^^^^^^^^^^^^^^^^^^^^^^^^^^^^^^^^^^^^^^^^^^^^\n",
      "  File \"C:\\Users\\alechutchings\\AppData\\Local\\Temp\\2\\ipykernel_3356\\3255356584.py\", line 11, in monte_carlo_simulation_from_specific_years\n",
      "    idx2 = np.random.choice(selected_late_data_indices)\n",
      "           ^^^^^^^^^^^^^^^^^^^^^^^^^^^^^^^^^^^^^^^^^^^^\n",
      "  File \"mtrand.pyx\", line 950, in numpy.random.mtrand.RandomState.choice\n",
      "ValueError: 'a' cannot be empty unless no samples are taken\n",
      "  0% (0 of 11) |                         | Elapsed Time: 0:00:00 ETA:  --:--:--"
     ]
    },
    {
     "name": "stdout",
     "output_type": "stream",
     "text": [
      "Error processing Stiffkey: 'a' cannot be empty unless no samples are taken\n",
      "Folder 'C:\\Users\\alechutchings\\GAM_models_temp_do\\output_data\\Stour_essex' already exists.\n",
      "Folder 'C:\\Users\\alechutchings\\GAM_models_temp_do\\output_data\\Stour_essex\\MODEL_2_GAM_outputs_whole_estuary_salinity_Oxygen, Dissolved as O2_2006_2022' created.\n"
     ]
    },
    {
     "name": "stderr",
     "output_type": "stream",
     "text": [
      "100% (11 of 11) |########################| Elapsed Time: 0:00:00 Time:  0:00:00\n",
      "100% (11 of 11) |########################| Elapsed Time: 0:00:00 Time:  0:00:00\n",
      "100% (11 of 11) |########################| Elapsed Time: 0:00:00 Time:  0:00:00\n",
      "100% (11 of 11) |########################| Elapsed Time: 0:00:00 Time:  0:00:00\n",
      "100% (11 of 11) |########################| Elapsed Time: 0:00:00 Time:  0:00:00\n"
     ]
    },
    {
     "name": "stdout",
     "output_type": "stream",
     "text": [
      "Mean difference in trend: -0.025547374027290477\n",
      "Standard deviation of difference in trend: 0.015805287173721275\n",
      "Stour_essex completed successfully\n",
      "Run completed successfully\n",
      "Average: -0.025547374027290477\n",
      "Standard Deviation: nan\n",
      "Folder 'C:\\Users\\alechutchings\\GAM_models_temp_do\\output_data\\Stour_kent' already exists.\n",
      "Folder 'C:\\Users\\alechutchings\\GAM_models_temp_do\\output_data\\Stour_kent\\MODEL_2_GAM_outputs_whole_estuary_salinity_Oxygen, Dissolved as O2_2006_2022' created.\n"
     ]
    },
    {
     "name": "stderr",
     "output_type": "stream",
     "text": [
      "100% (11 of 11) |########################| Elapsed Time: 0:00:00 Time:  0:00:00\n",
      "100% (11 of 11) |########################| Elapsed Time: 0:00:00 Time:  0:00:00\n",
      "100% (11 of 11) |########################| Elapsed Time: 0:00:00 Time:  0:00:00\n",
      "100% (11 of 11) |########################| Elapsed Time: 0:00:00 Time:  0:00:00\n",
      "100% (11 of 11) |########################| Elapsed Time: 0:00:00 Time:  0:00:00\n"
     ]
    },
    {
     "name": "stdout",
     "output_type": "stream",
     "text": [
      "Mean difference in trend: -0.011841964001007127\n",
      "Standard deviation of difference in trend: 0.0062706920589558\n",
      "Stour_kent completed successfully\n",
      "Run completed successfully\n",
      "Average: -0.011841964001007127\n",
      "Standard Deviation: nan\n",
      "Folder 'C:\\Users\\alechutchings\\GAM_models_temp_do\\output_data\\Swale' already exists.\n",
      "Folder 'C:\\Users\\alechutchings\\GAM_models_temp_do\\output_data\\Swale\\MODEL_2_GAM_outputs_whole_estuary_salinity_Oxygen, Dissolved as O2_2006_2022' created.\n"
     ]
    },
    {
     "name": "stderr",
     "output_type": "stream",
     "text": [
      "100% (11 of 11) |########################| Elapsed Time: 0:00:00 Time:  0:00:00\n",
      "100% (11 of 11) |########################| Elapsed Time: 0:00:00 Time:  0:00:00\n",
      "100% (11 of 11) |########################| Elapsed Time: 0:00:00 Time:  0:00:00\n",
      "100% (11 of 11) |########################| Elapsed Time: 0:00:00 Time:  0:00:00\n",
      "100% (11 of 11) |########################| Elapsed Time: 0:00:00 Time:  0:00:00\n"
     ]
    },
    {
     "name": "stdout",
     "output_type": "stream",
     "text": [
      "Mean difference in trend: -0.002689859538928136\n",
      "Standard deviation of difference in trend: 0.009474505879843347\n",
      "Swale completed successfully\n",
      "Run completed successfully\n",
      "Average: -0.002689859538928136\n",
      "Standard Deviation: nan\n",
      "Folder 'C:\\Users\\alechutchings\\GAM_models_temp_do\\output_data\\Taw_Torridge' already exists.\n",
      "Folder 'C:\\Users\\alechutchings\\GAM_models_temp_do\\output_data\\Taw_Torridge\\MODEL_2_GAM_outputs_whole_estuary_salinity_Oxygen, Dissolved as O2_2006_2022' created.\n"
     ]
    },
    {
     "name": "stderr",
     "output_type": "stream",
     "text": [
      "100% (11 of 11) |########################| Elapsed Time: 0:00:00 Time:  0:00:00\n",
      "100% (11 of 11) |########################| Elapsed Time: 0:00:00 Time:  0:00:00\n",
      "100% (11 of 11) |########################| Elapsed Time: 0:00:00 Time:  0:00:00\n",
      "100% (11 of 11) |########################| Elapsed Time: 0:00:00 Time:  0:00:00\n",
      "100% (11 of 11) |########################| Elapsed Time: 0:00:00 Time:  0:00:00\n"
     ]
    },
    {
     "name": "stdout",
     "output_type": "stream",
     "text": [
      "Mean difference in trend: -0.021104586302034288\n",
      "Standard deviation of difference in trend: 0.045903879420328864\n",
      "Taw_Torridge completed successfully\n",
      "Run completed successfully\n",
      "Average: -0.021104586302034288\n",
      "Standard Deviation: nan\n",
      "Folder 'C:\\Users\\alechutchings\\GAM_models_temp_do\\output_data\\Tees' already exists.\n",
      "Folder 'C:\\Users\\alechutchings\\GAM_models_temp_do\\output_data\\Tees\\MODEL_2_GAM_outputs_whole_estuary_salinity_Oxygen, Dissolved as O2_2006_2022' created.\n"
     ]
    },
    {
     "name": "stderr",
     "output_type": "stream",
     "text": [
      "100% (11 of 11) |########################| Elapsed Time: 0:00:00 Time:  0:00:00\n",
      "100% (11 of 11) |########################| Elapsed Time: 0:00:00 Time:  0:00:00\n",
      "100% (11 of 11) |########################| Elapsed Time: 0:00:00 Time:  0:00:00\n",
      "100% (11 of 11) |########################| Elapsed Time: 0:00:00 Time:  0:00:00\n",
      "100% (11 of 11) |########################| Elapsed Time: 0:00:00 Time:  0:00:00\n"
     ]
    },
    {
     "name": "stdout",
     "output_type": "stream",
     "text": [
      "Mean difference in trend: 0.02468156747396328\n",
      "Standard deviation of difference in trend: 0.041839061230669064\n",
      "Tees completed successfully\n",
      "Run completed successfully\n",
      "Average: 0.02468156747396328\n",
      "Standard Deviation: nan\n",
      "Folder 'C:\\Users\\alechutchings\\GAM_models_temp_do\\output_data\\Teign' already exists.\n",
      "Folder 'C:\\Users\\alechutchings\\GAM_models_temp_do\\output_data\\Teign\\MODEL_2_GAM_outputs_whole_estuary_salinity_Oxygen, Dissolved as O2_2006_2022' created.\n"
     ]
    },
    {
     "name": "stderr",
     "output_type": "stream",
     "text": [
      "100% (11 of 11) |########################| Elapsed Time: 0:00:00 Time:  0:00:00\n",
      "100% (11 of 11) |########################| Elapsed Time: 0:00:00 Time:  0:00:00\n",
      "100% (11 of 11) |########################| Elapsed Time: 0:00:00 Time:  0:00:00\n",
      "100% (11 of 11) |########################| Elapsed Time: 0:00:00 Time:  0:00:00\n",
      "100% (11 of 11) |########################| Elapsed Time: 0:00:00 Time:  0:00:00\n"
     ]
    },
    {
     "name": "stdout",
     "output_type": "stream",
     "text": [
      "Mean difference in trend: -0.07128702041241074\n",
      "Standard deviation of difference in trend: 0.007432000836731964\n",
      "Teign completed successfully\n",
      "Run completed successfully\n",
      "Average: -0.07128702041241074\n",
      "Standard Deviation: nan\n",
      "Folder 'C:\\Users\\alechutchings\\GAM_models_temp_do\\output_data\\Thames' already exists.\n",
      "Folder 'C:\\Users\\alechutchings\\GAM_models_temp_do\\output_data\\Thames\\MODEL_2_GAM_outputs_whole_estuary_salinity_Oxygen, Dissolved as O2_2006_2022' created.\n"
     ]
    },
    {
     "name": "stderr",
     "output_type": "stream",
     "text": [
      "100% (11 of 11) |########################| Elapsed Time: 0:00:06 Time:  0:00:06\n",
      "100% (11 of 11) |########################| Elapsed Time: 0:00:09 Time:  0:00:09\n",
      "100% (11 of 11) |########################| Elapsed Time: 0:00:08 Time:  0:00:08\n",
      "100% (11 of 11) |########################| Elapsed Time: 0:00:08 Time:  0:00:08\n",
      "100% (11 of 11) |########################| Elapsed Time: 0:00:07 Time:  0:00:07\n"
     ]
    },
    {
     "name": "stdout",
     "output_type": "stream",
     "text": [
      "Mean difference in trend: 0.024250922329645073\n",
      "Standard deviation of difference in trend: 0.01876224725125407\n",
      "Thames completed successfully\n",
      "Run completed successfully\n",
      "Average: 0.024250922329645073\n",
      "Standard Deviation: nan\n",
      "Folder 'C:\\Users\\alechutchings\\GAM_models_temp_do\\output_data\\Tweed' already exists.\n",
      "Folder 'C:\\Users\\alechutchings\\GAM_models_temp_do\\output_data\\Tweed\\MODEL_2_GAM_outputs_whole_estuary_salinity_Oxygen, Dissolved as O2_2006_2022' created.\n"
     ]
    },
    {
     "name": "stderr",
     "output_type": "stream",
     "text": [
      "100% (11 of 11) |########################| Elapsed Time: 0:00:00 Time:  0:00:00\n",
      "100% (11 of 11) |########################| Elapsed Time: 0:00:00 Time:  0:00:00\n",
      "100% (11 of 11) |########################| Elapsed Time: 0:00:00 Time:  0:00:00\n",
      "100% (11 of 11) |########################| Elapsed Time: 0:00:00 Time:  0:00:00\n",
      "100% (11 of 11) |########################| Elapsed Time: 0:00:00 Time:  0:00:00\n"
     ]
    },
    {
     "name": "stdout",
     "output_type": "stream",
     "text": [
      "Mean difference in trend: 0.01620865055489147\n",
      "Standard deviation of difference in trend: 0.016460931803877015\n",
      "Tweed completed successfully\n",
      "Run completed successfully\n",
      "Average: 0.01620865055489147\n",
      "Standard Deviation: nan\n",
      "Folder 'C:\\Users\\alechutchings\\GAM_models_temp_do\\output_data\\Tyne' already exists.\n",
      "Folder 'C:\\Users\\alechutchings\\GAM_models_temp_do\\output_data\\Tyne\\MODEL_2_GAM_outputs_whole_estuary_salinity_Oxygen, Dissolved as O2_2006_2022' created.\n"
     ]
    },
    {
     "name": "stderr",
     "output_type": "stream",
     "text": [
      "100% (11 of 11) |########################| Elapsed Time: 0:00:00 Time:  0:00:00\n",
      "100% (11 of 11) |########################| Elapsed Time: 0:00:00 Time:  0:00:00\n",
      "100% (11 of 11) |########################| Elapsed Time: 0:00:00 Time:  0:00:00\n",
      "100% (11 of 11) |########################| Elapsed Time: 0:00:00 Time:  0:00:00\n",
      "100% (11 of 11) |########################| Elapsed Time: 0:00:00 Time:  0:00:00\n",
      " 18% (2 of 11) |####                     | Elapsed Time: 0:00:00 ETA:  00:00:00"
     ]
    },
    {
     "name": "stdout",
     "output_type": "stream",
     "text": [
      "Mean difference in trend: -0.03511802035609007\n",
      "Standard deviation of difference in trend: 0.039727642011319994\n",
      "Tyne completed successfully\n",
      "Run completed successfully\n",
      "Average: -0.03511802035609007\n",
      "Standard Deviation: nan\n",
      "Folder 'C:\\Users\\alechutchings\\GAM_models_temp_do\\output_data\\Wansbeck' already exists.\n",
      "Folder 'C:\\Users\\alechutchings\\GAM_models_temp_do\\output_data\\Wansbeck\\MODEL_2_GAM_outputs_whole_estuary_salinity_Oxygen, Dissolved as O2_2006_2022' created.\n"
     ]
    },
    {
     "name": "stderr",
     "output_type": "stream",
     "text": [
      "100% (11 of 11) |########################| Elapsed Time: 0:00:00 Time:  0:00:00\n",
      "100% (11 of 11) |########################| Elapsed Time: 0:00:00 Time:  0:00:00\n",
      "100% (11 of 11) |########################| Elapsed Time: 0:00:00 Time:  0:00:00\n",
      "100% (11 of 11) |########################| Elapsed Time: 0:00:00 Time:  0:00:00\n",
      "100% (11 of 11) |########################| Elapsed Time: 0:00:00 Time:  0:00:00\n",
      " 18% (2 of 11) |####                     | Elapsed Time: 0:00:00 ETA:  00:00:00"
     ]
    },
    {
     "name": "stdout",
     "output_type": "stream",
     "text": [
      "Mean difference in trend: 0.031130966217857235\n",
      "Standard deviation of difference in trend: 0.026124907881116075\n",
      "Wansbeck completed successfully\n",
      "Run completed successfully\n",
      "Average: 0.031130966217857235\n",
      "Standard Deviation: nan\n",
      "Folder 'C:\\Users\\alechutchings\\GAM_models_temp_do\\output_data\\Wash_inner' already exists.\n",
      "Folder 'C:\\Users\\alechutchings\\GAM_models_temp_do\\output_data\\Wash_inner\\MODEL_2_GAM_outputs_whole_estuary_salinity_Oxygen, Dissolved as O2_2006_2022' created.\n"
     ]
    },
    {
     "name": "stderr",
     "output_type": "stream",
     "text": [
      "100% (11 of 11) |########################| Elapsed Time: 0:00:00 Time:  0:00:00\n",
      "100% (11 of 11) |########################| Elapsed Time: 0:00:01 Time:  0:00:01\n",
      "100% (11 of 11) |########################| Elapsed Time: 0:00:00 Time:  0:00:00\n",
      "100% (11 of 11) |########################| Elapsed Time: 0:00:00 Time:  0:00:00\n",
      "100% (11 of 11) |########################| Elapsed Time: 0:00:00 Time:  0:00:00\n",
      "  0% (0 of 11) |                         | Elapsed Time: 0:00:00 ETA:  --:--:--"
     ]
    },
    {
     "name": "stdout",
     "output_type": "stream",
     "text": [
      "Mean difference in trend: -0.015979473969824222\n",
      "Standard deviation of difference in trend: 0.008526879501398363\n",
      "Wash_inner completed successfully\n",
      "Run completed successfully\n",
      "Average: -0.015979473969824222\n",
      "Standard Deviation: nan\n",
      "Folder 'C:\\Users\\alechutchings\\GAM_models_temp_do\\output_data\\Wear' already exists.\n",
      "Folder 'C:\\Users\\alechutchings\\GAM_models_temp_do\\output_data\\Wear\\MODEL_2_GAM_outputs_whole_estuary_salinity_Oxygen, Dissolved as O2_2006_2022' created.\n"
     ]
    },
    {
     "name": "stderr",
     "output_type": "stream",
     "text": [
      "100% (11 of 11) |########################| Elapsed Time: 0:00:00 Time:  0:00:00\n",
      "100% (11 of 11) |########################| Elapsed Time: 0:00:00 Time:  0:00:00\n",
      "100% (11 of 11) |########################| Elapsed Time: 0:00:00 Time:  0:00:00\n",
      "100% (11 of 11) |########################| Elapsed Time: 0:00:00 Time:  0:00:00\n",
      "100% (11 of 11) |########################| Elapsed Time: 0:00:00 Time:  0:00:00\n",
      "Traceback (most recent call last):\n",
      "  File \"C:\\Users\\alechutchings\\AppData\\Local\\Temp\\2\\ipykernel_3356\\892944321.py\", line 39, in <module>\n",
      "    trend_result_list = run_GAM(Est_group_all, det, GAM_output_path)\n",
      "                        ^^^^^^^^^^^^^^^^^^^^^^^^^^^^^^^^^^^^^^^^^^^^\n",
      "  File \"C:\\Users\\alechutchings\\AppData\\Local\\Temp\\2\\ipykernel_3356\\3038027423.py\", line 171, in run_GAM\n",
      "    trend_differences_year = monte_carlo_simulation_from_specific_years(early_period, later_period, samples, XX, num_iterations)\n",
      "                             ^^^^^^^^^^^^^^^^^^^^^^^^^^^^^^^^^^^^^^^^^^^^^^^^^^^^^^^^^^^^^^^^^^^^^^^^^^^^^^^^^^^^^^^^^^^^^^^^^^^\n",
      "  File \"C:\\Users\\alechutchings\\AppData\\Local\\Temp\\2\\ipykernel_3356\\3255356584.py\", line 11, in monte_carlo_simulation_from_specific_years\n",
      "    idx2 = np.random.choice(selected_late_data_indices)\n",
      "           ^^^^^^^^^^^^^^^^^^^^^^^^^^^^^^^^^^^^^^^^^^^^\n",
      "  File \"mtrand.pyx\", line 950, in numpy.random.mtrand.RandomState.choice\n",
      "ValueError: 'a' cannot be empty unless no samples are taken\n",
      " 36% (4 of 11) |#########                | Elapsed Time: 0:00:00 ETA:   0:00:00"
     ]
    },
    {
     "name": "stdout",
     "output_type": "stream",
     "text": [
      "Error processing Wear: 'a' cannot be empty unless no samples are taken\n",
      "Folder 'C:\\Users\\alechutchings\\GAM_models_temp_do\\output_data\\Welland' already exists.\n",
      "Folder 'C:\\Users\\alechutchings\\GAM_models_temp_do\\output_data\\Welland\\MODEL_2_GAM_outputs_whole_estuary_salinity_Oxygen, Dissolved as O2_2006_2022' created.\n"
     ]
    },
    {
     "name": "stderr",
     "output_type": "stream",
     "text": [
      "100% (11 of 11) |########################| Elapsed Time: 0:00:00 Time:  0:00:00\n",
      "100% (11 of 11) |########################| Elapsed Time: 0:00:00 Time:  0:00:00\n",
      "100% (11 of 11) |########################| Elapsed Time: 0:00:00 Time:  0:00:00\n",
      "100% (11 of 11) |########################| Elapsed Time: 0:00:00 Time:  0:00:00\n",
      "100% (11 of 11) |########################| Elapsed Time: 0:00:00 Time:  0:00:00\n",
      "Traceback (most recent call last):\n",
      "  File \"C:\\Users\\alechutchings\\AppData\\Local\\Temp\\2\\ipykernel_3356\\892944321.py\", line 39, in <module>\n",
      "    trend_result_list = run_GAM(Est_group_all, det, GAM_output_path)\n",
      "                        ^^^^^^^^^^^^^^^^^^^^^^^^^^^^^^^^^^^^^^^^^^^^\n",
      "  File \"C:\\Users\\alechutchings\\AppData\\Local\\Temp\\2\\ipykernel_3356\\3038027423.py\", line 171, in run_GAM\n",
      "    trend_differences_year = monte_carlo_simulation_from_specific_years(early_period, later_period, samples, XX, num_iterations)\n",
      "                             ^^^^^^^^^^^^^^^^^^^^^^^^^^^^^^^^^^^^^^^^^^^^^^^^^^^^^^^^^^^^^^^^^^^^^^^^^^^^^^^^^^^^^^^^^^^^^^^^^^^\n",
      "  File \"C:\\Users\\alechutchings\\AppData\\Local\\Temp\\2\\ipykernel_3356\\3255356584.py\", line 10, in monte_carlo_simulation_from_specific_years\n",
      "    idx1 = np.random.choice(selected_early_data_indices)\n",
      "           ^^^^^^^^^^^^^^^^^^^^^^^^^^^^^^^^^^^^^^^^^^^^^\n",
      "  File \"mtrand.pyx\", line 950, in numpy.random.mtrand.RandomState.choice\n",
      "ValueError: 'a' cannot be empty unless no samples are taken\n",
      " 27% (3 of 11) |######                   | Elapsed Time: 0:00:00 ETA:   0:00:00"
     ]
    },
    {
     "name": "stdout",
     "output_type": "stream",
     "text": [
      "Error processing Welland: 'a' cannot be empty unless no samples are taken\n",
      "Folder 'C:\\Users\\alechutchings\\GAM_models_temp_do\\output_data\\Western_yar' already exists.\n",
      "Folder 'C:\\Users\\alechutchings\\GAM_models_temp_do\\output_data\\Western_yar\\MODEL_2_GAM_outputs_whole_estuary_salinity_Oxygen, Dissolved as O2_2006_2022' created.\n"
     ]
    },
    {
     "name": "stderr",
     "output_type": "stream",
     "text": [
      "100% (11 of 11) |########################| Elapsed Time: 0:00:00 Time:  0:00:00\n",
      "100% (11 of 11) |########################| Elapsed Time: 0:00:00 Time:  0:00:00\n",
      "100% (11 of 11) |########################| Elapsed Time: 0:00:00 Time:  0:00:00\n",
      "100% (11 of 11) |########################| Elapsed Time: 0:00:00 Time:  0:00:00\n",
      "100% (11 of 11) |########################| Elapsed Time: 0:00:00 Time:  0:00:00\n",
      "Traceback (most recent call last):\n",
      "  File \"C:\\Users\\alechutchings\\AppData\\Local\\anaconda3\\envs\\geo_env\\Lib\\site-packages\\pandas\\core\\indexes\\base.py\", line 3653, in get_loc\n",
      "    return self._engine.get_loc(casted_key)\n",
      "           ^^^^^^^^^^^^^^^^^^^^^^^^^^^^^^^^\n",
      "  File \"pandas\\_libs\\index.pyx\", line 147, in pandas._libs.index.IndexEngine.get_loc\n",
      "  File \"pandas\\_libs\\index.pyx\", line 176, in pandas._libs.index.IndexEngine.get_loc\n",
      "  File \"pandas\\_libs\\hashtable_class_helper.pxi\", line 7080, in pandas._libs.hashtable.PyObjectHashTable.get_item\n",
      "  File \"pandas\\_libs\\hashtable_class_helper.pxi\", line 7088, in pandas._libs.hashtable.PyObjectHashTable.get_item\n",
      "KeyError: 'Oxygen, Dissolved as O2'\n",
      "\n",
      "The above exception was the direct cause of the following exception:\n",
      "\n",
      "Traceback (most recent call last):\n",
      "  File \"C:\\Users\\alechutchings\\AppData\\Local\\Temp\\2\\ipykernel_3356\\892944321.py\", line 39, in <module>\n",
      "    trend_result_list = run_GAM(Est_group_all, det, GAM_output_path)\n",
      "                        ^^^^^^^^^^^^^^^^^^^^^^^^^^^^^^^^^^^^^^^^^^^^\n",
      "  File \"C:\\Users\\alechutchings\\AppData\\Local\\Temp\\2\\ipykernel_3356\\3038027423.py\", line 30, in run_GAM\n",
      "    Y = Est_all[det].values\n",
      "        ~~~~~~~^^^^^\n",
      "  File \"C:\\Users\\alechutchings\\AppData\\Local\\anaconda3\\envs\\geo_env\\Lib\\site-packages\\pandas\\core\\frame.py\", line 3761, in __getitem__\n",
      "    indexer = self.columns.get_loc(key)\n",
      "              ^^^^^^^^^^^^^^^^^^^^^^^^^\n",
      "  File \"C:\\Users\\alechutchings\\AppData\\Local\\anaconda3\\envs\\geo_env\\Lib\\site-packages\\pandas\\core\\indexes\\base.py\", line 3655, in get_loc\n",
      "    raise KeyError(key) from err\n",
      "KeyError: 'Oxygen, Dissolved as O2'\n",
      "  9% (1 of 11) |##                       | Elapsed Time: 0:00:00 ETA:  00:00:00"
     ]
    },
    {
     "name": "stdout",
     "output_type": "stream",
     "text": [
      "Mean difference in trend: 0.03385352674121162\n",
      "Standard deviation of difference in trend: 0.0928919118113237\n",
      "Western_yar completed successfully\n",
      "Run completed successfully\n",
      "Average: 0.03385352674121162\n",
      "Standard Deviation: nan\n",
      "Folder 'C:\\Users\\alechutchings\\GAM_models_temp_do\\output_data\\Wey' already exists.\n",
      "Folder 'C:\\Users\\alechutchings\\GAM_models_temp_do\\output_data\\Wey\\MODEL_2_GAM_outputs_whole_estuary_salinity_Oxygen, Dissolved as O2_2006_2022' created.\n",
      "Error processing Wey: 'Oxygen, Dissolved as O2'\n",
      "Folder 'C:\\Users\\alechutchings\\GAM_models_temp_do\\output_data\\Witham' already exists.\n",
      "Folder 'C:\\Users\\alechutchings\\GAM_models_temp_do\\output_data\\Witham\\MODEL_2_GAM_outputs_whole_estuary_salinity_Oxygen, Dissolved as O2_2006_2022' created.\n"
     ]
    },
    {
     "name": "stderr",
     "output_type": "stream",
     "text": [
      "100% (11 of 11) |########################| Elapsed Time: 0:00:00 Time:  0:00:00\n",
      "100% (11 of 11) |########################| Elapsed Time: 0:00:00 Time:  0:00:00\n",
      "100% (11 of 11) |########################| Elapsed Time: 0:00:00 Time:  0:00:00\n",
      "100% (11 of 11) |########################| Elapsed Time: 0:00:00 Time:  0:00:00\n",
      "100% (11 of 11) |########################| Elapsed Time: 0:00:00 Time:  0:00:00\n",
      "Traceback (most recent call last):\n",
      "  File \"C:\\Users\\alechutchings\\AppData\\Local\\Temp\\2\\ipykernel_3356\\892944321.py\", line 39, in <module>\n",
      "    trend_result_list = run_GAM(Est_group_all, det, GAM_output_path)\n",
      "                        ^^^^^^^^^^^^^^^^^^^^^^^^^^^^^^^^^^^^^^^^^^^^\n",
      "  File \"C:\\Users\\alechutchings\\AppData\\Local\\Temp\\2\\ipykernel_3356\\3038027423.py\", line 171, in run_GAM\n",
      "    trend_differences_year = monte_carlo_simulation_from_specific_years(early_period, later_period, samples, XX, num_iterations)\n",
      "                             ^^^^^^^^^^^^^^^^^^^^^^^^^^^^^^^^^^^^^^^^^^^^^^^^^^^^^^^^^^^^^^^^^^^^^^^^^^^^^^^^^^^^^^^^^^^^^^^^^^^\n",
      "  File \"C:\\Users\\alechutchings\\AppData\\Local\\Temp\\2\\ipykernel_3356\\3255356584.py\", line 11, in monte_carlo_simulation_from_specific_years\n",
      "    idx2 = np.random.choice(selected_late_data_indices)\n",
      "           ^^^^^^^^^^^^^^^^^^^^^^^^^^^^^^^^^^^^^^^^^^^^\n",
      "  File \"mtrand.pyx\", line 950, in numpy.random.mtrand.RandomState.choice\n",
      "ValueError: 'a' cannot be empty unless no samples are taken\n",
      " 18% (2 of 11) |####                     | Elapsed Time: 0:00:00 ETA:  00:00:00"
     ]
    },
    {
     "name": "stdout",
     "output_type": "stream",
     "text": [
      "Error processing Witham: 'a' cannot be empty unless no samples are taken\n",
      "Folder 'C:\\Users\\alechutchings\\GAM_models_temp_do\\output_data\\Wootton_creek' already exists.\n",
      "Folder 'C:\\Users\\alechutchings\\GAM_models_temp_do\\output_data\\Wootton_creek\\MODEL_2_GAM_outputs_whole_estuary_salinity_Oxygen, Dissolved as O2_2006_2022' created.\n"
     ]
    },
    {
     "name": "stderr",
     "output_type": "stream",
     "text": [
      "100% (11 of 11) |########################| Elapsed Time: 0:00:00 Time:  0:00:00\n",
      "100% (11 of 11) |########################| Elapsed Time: 0:00:00 Time:  0:00:00\n",
      "100% (11 of 11) |########################| Elapsed Time: 0:00:00 Time:  0:00:00\n",
      "100% (11 of 11) |########################| Elapsed Time: 0:00:00 Time:  0:00:00\n",
      "100% (11 of 11) |########################| Elapsed Time: 0:00:00 Time:  0:00:00\n",
      "Traceback (most recent call last):\n",
      "  File \"C:\\Users\\alechutchings\\AppData\\Local\\Temp\\2\\ipykernel_3356\\892944321.py\", line 39, in <module>\n",
      "    trend_result_list = run_GAM(Est_group_all, det, GAM_output_path)\n",
      "                        ^^^^^^^^^^^^^^^^^^^^^^^^^^^^^^^^^^^^^^^^^^^^\n",
      "  File \"C:\\Users\\alechutchings\\AppData\\Local\\Temp\\2\\ipykernel_3356\\3038027423.py\", line 171, in run_GAM\n",
      "    trend_differences_year = monte_carlo_simulation_from_specific_years(early_period, later_period, samples, XX, num_iterations)\n",
      "                             ^^^^^^^^^^^^^^^^^^^^^^^^^^^^^^^^^^^^^^^^^^^^^^^^^^^^^^^^^^^^^^^^^^^^^^^^^^^^^^^^^^^^^^^^^^^^^^^^^^^\n",
      "  File \"C:\\Users\\alechutchings\\AppData\\Local\\Temp\\2\\ipykernel_3356\\3255356584.py\", line 10, in monte_carlo_simulation_from_specific_years\n",
      "    idx1 = np.random.choice(selected_early_data_indices)\n",
      "           ^^^^^^^^^^^^^^^^^^^^^^^^^^^^^^^^^^^^^^^^^^^^^\n",
      "  File \"mtrand.pyx\", line 950, in numpy.random.mtrand.RandomState.choice\n",
      "ValueError: 'a' cannot be empty unless no samples are taken\n"
     ]
    },
    {
     "name": "stdout",
     "output_type": "stream",
     "text": [
      "Error processing Wootton_creek: 'a' cannot be empty unless no samples are taken\n",
      "Folder 'C:\\Users\\alechutchings\\GAM_models_temp_do\\output_data\\Wyre' already exists.\n",
      "Folder 'C:\\Users\\alechutchings\\GAM_models_temp_do\\output_data\\Wyre\\MODEL_2_GAM_outputs_whole_estuary_salinity_Oxygen, Dissolved as O2_2006_2022' created.\n"
     ]
    },
    {
     "name": "stderr",
     "output_type": "stream",
     "text": [
      "100% (11 of 11) |########################| Elapsed Time: 0:00:00 Time:  0:00:00\n",
      "100% (11 of 11) |########################| Elapsed Time: 0:00:00 Time:  0:00:00\n",
      "100% (11 of 11) |########################| Elapsed Time: 0:00:00 Time:  0:00:00\n",
      "100% (11 of 11) |########################| Elapsed Time: 0:00:00 Time:  0:00:00\n",
      "100% (11 of 11) |########################| Elapsed Time: 0:00:00 Time:  0:00:00\n"
     ]
    },
    {
     "name": "stdout",
     "output_type": "stream",
     "text": [
      "Mean difference in trend: -0.0007830364872036096\n",
      "Standard deviation of difference in trend: 0.09736657998860165\n",
      "Wyre completed successfully\n",
      "Run completed successfully\n",
      "Average: -0.0007830364872036096\n",
      "Standard Deviation: nan\n",
      "Folder 'C:\\Users\\alechutchings\\GAM_models_temp_do\\output_data\\Yealm' already exists.\n",
      "Folder 'C:\\Users\\alechutchings\\GAM_models_temp_do\\output_data\\Yealm\\MODEL_2_GAM_outputs_whole_estuary_salinity_Oxygen, Dissolved as O2_2006_2022' created.\n"
     ]
    },
    {
     "name": "stderr",
     "output_type": "stream",
     "text": [
      "100% (11 of 11) |########################| Elapsed Time: 0:00:00 Time:  0:00:00\n",
      "100% (11 of 11) |########################| Elapsed Time: 0:00:00 Time:  0:00:00\n",
      "100% (11 of 11) |########################| Elapsed Time: 0:00:00 Time:  0:00:00\n",
      "100% (11 of 11) |########################| Elapsed Time: 0:00:00 Time:  0:00:00\n",
      "100% (11 of 11) |########################| Elapsed Time: 0:00:00 Time:  0:00:00\n"
     ]
    },
    {
     "name": "stdout",
     "output_type": "stream",
     "text": [
      "Mean difference in trend: 0.02093514183051299\n",
      "Standard deviation of difference in trend: 0.05817241699526972\n",
      "Yealm completed successfully\n",
      "Run completed successfully\n",
      "Average: 0.02093514183051299\n",
      "Standard Deviation: nan\n"
     ]
    }
   ],
   "source": [
    "#estuary_list = ['Poole']\n",
    "\n",
    "det = 'Oxygen, Dissolved as O2'\n",
    "#det = 'Temperature of Water'\n",
    "#det = 'Oxygen, Dissolved,  Saturation'\n",
    "\n",
    "#trend_sample_option = '1990_2022'\n",
    "#trend_sample_option = '1990_2006'\n",
    "trend_sample_option = '2006_2022'\n",
    "#trend_sample_option = 'Yearly_20_interval'\n",
    "\n",
    "master_df = pd.DataFrame()\n",
    "\n",
    "for estuary in estuary_list:\n",
    "    try:\n",
    "        output_data_directory = os.path.join(parent_directory, \"output_data\")\n",
    "        estuary_folder_path = os.path.join(output_data_directory,f'{estuary}')\n",
    "\n",
    "        if not os.path.exists(estuary_folder_path):\n",
    "            os.mkdir(estuary_folder_path)\n",
    "            print(f\"Folder '{estuary_folder_path}' created.\")\n",
    "        else:\n",
    "            print(f\"Folder '{estuary_folder_path}' already exists.\")\n",
    "            \n",
    "        #Create an output plot folder for the GAM models\n",
    "        folder_name = f'MODEL_2_GAM_outputs_whole_estuary_salinity_{det}_{trend_sample_option}'\n",
    "        GAM_output_path = os.path.join(estuary_folder_path, folder_name)\n",
    "    \n",
    "        if not os.path.exists(GAM_output_path):\n",
    "            os.mkdir(GAM_output_path)\n",
    "            print(f\"Folder '{GAM_output_path}' created.\")\n",
    "        else:\n",
    "            print(f\"Folder '{GAM_output_path}' already exists.\")\n",
    "\n",
    "        csv_input_path = os.path.join(estuary_folder_path, f'{estuary}_wims_data_clean_nd_removed.csv')\n",
    "        df = import_csv(1,csv_input_path)\n",
    "        Est_group_all = create_pivot(df)\n",
    "        trend_result_list = []\n",
    "        trend_result_list = run_GAM(Est_group_all, det, GAM_output_path)\n",
    "\n",
    "        trend_result_list_df = pd.DataFrame(trend_result_list)\n",
    "    \n",
    "        # Calculate average (mean)\n",
    "        average_value = trend_result_list_df['Average'].mean()\n",
    "\n",
    "        # Calculate standard deviation\n",
    "        std_deviation_value = trend_result_list_df['Average'].std()\n",
    "\n",
    "        # Print or use the calculated values\n",
    "        print(f'Average: {average_value}')\n",
    "        print(f'Standard Deviation: {std_deviation_value}')\n",
    "\n",
    "        # Create a DataFrame from trend_result_list\n",
    "        trend_result_list_df = pd.DataFrame(trend_result_list)\n",
    "    \n",
    "        # Add a column with the name of the estuary\n",
    "        trend_result_list_df['Estuary'] = estuary\n",
    "        \n",
    "    \n",
    "        # Append the DataFrame to a master DataFrame (if it already exists)\n",
    "        if 'master_df' not in locals():\n",
    "            master_df = trend_result_list_df.copy()\n",
    "        else:\n",
    "            master_df = pd.concat([master_df, trend_result_list_df], ignore_index=True)\n",
    "            \n",
    "    except Exception as e:\n",
    "        # Print the error message\n",
    "        traceback.print_exc()\n",
    "        error_message = f\"Error processing {estuary}: {str(e)}\"\n",
    "\n",
    "        # Log the error to a notepad file\n",
    "        log_file_path = os.path.join(output_data_directory,f'Model_2_{det}_{trend_sample_option}_error_log.txt')\n",
    "        with open(log_file_path, 'a') as log_file:\n",
    "            log_file.write(error_message + '\\n')\n",
    "        print(error_message)\n",
    "\n",
    "    finally:\n",
    "        # Any cleanup code or additional actions you want to perform regardless of success or failure\n",
    "        pass\n",
    "\n",
    "# Now, master_df contains all the data with an additional 'Estuary' column\n",
    "# You can save it to a CSV file if needed\n",
    "master_folder_path = os.path.join(output_data_directory,f\"Model_2_output_file_{det}_{trend_sample_option}.csv\")\n",
    "master_df.to_csv(master_folder_path, index=False)\n",
    "\n",
    "\n"
   ]
  },
  {
   "cell_type": "code",
   "execution_count": 30,
   "id": "0b4f111c-1c0c-4449-8c22-b26cb787f593",
   "metadata": {},
   "outputs": [],
   "source": [
    "master_df =[]"
   ]
  },
  {
   "cell_type": "code",
   "execution_count": null,
   "id": "1a1217bb-8c6c-4f48-b17a-eba8041a8e1f",
   "metadata": {},
   "outputs": [],
   "source": []
  },
  {
   "cell_type": "code",
   "execution_count": null,
   "id": "4b107c98-2b03-47b6-a617-2305ed2bea12",
   "metadata": {},
   "outputs": [],
   "source": []
  }
 ],
 "metadata": {
  "kernelspec": {
   "display_name": "Python 3 (ipykernel)",
   "language": "python",
   "name": "python3"
  },
  "language_info": {
   "codemirror_mode": {
    "name": "ipython",
    "version": 3
   },
   "file_extension": ".py",
   "mimetype": "text/x-python",
   "name": "python",
   "nbconvert_exporter": "python",
   "pygments_lexer": "ipython3",
   "version": "3.11.4"
  }
 },
 "nbformat": 4,
 "nbformat_minor": 5
}
