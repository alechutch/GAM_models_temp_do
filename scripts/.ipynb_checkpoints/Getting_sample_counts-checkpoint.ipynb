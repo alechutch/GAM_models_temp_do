{
 "cells": [
  {
   "cell_type": "code",
   "execution_count": 1,
   "id": "290f5a37-b708-4c44-928b-33c827606d71",
   "metadata": {},
   "outputs": [],
   "source": [
    "import numpy as np\n",
    "import pandas as pd\n",
    "import matplotlib.pyplot as plt\n",
    "from pygam import LinearGAM, GAM, s, l, te\n",
    "from sklearn.model_selection import train_test_split\n",
    "from sklearn.metrics import mean_squared_error, r2_score\n",
    "import os\n",
    "import csv\n",
    "import shutil\n",
    "import traceback\n",
    "import random\n",
    "from datetime import datetime"
   ]
  },
  {
   "cell_type": "code",
   "execution_count": 2,
   "id": "b010a8b4-af26-4a9d-903c-ceeabd76cde6",
   "metadata": {},
   "outputs": [],
   "source": [
    "def import_csv(input_no, *csvs):\n",
    "    if input_no < 1 or input_no > len(csvs):\n",
    "        raise ValueError(\"input_no should be between 1 and the number of CSV files\")\n",
    "    \n",
    "    dfs = [pd.read_csv(csv, dtype={\"INTERPRETATION\": str, \"TEXT_RESULT\": str, \"DETCODE\": str}) for csv in csvs[:input_no]]\n",
    "    full_wims = pd.concat(dfs)\n",
    "    \n",
    "    return full_wims#def import class"
   ]
  },
  {
   "cell_type": "code",
   "execution_count": 3,
   "id": "989ba00a-afe4-4058-a2b1-953268c30a6a",
   "metadata": {},
   "outputs": [],
   "source": [
    "def create_pivot(df):\n",
    "    #Create Pivot\n",
    "    Est_pivot = df.pivot_table(values='result',index=['date','time','ptcode','easting','northing','site_avg_salinity','salinity_class'],columns=['detname'])\n",
    "    #Drop the \"Time\" column from results as this duplicates a column elsewhere\n",
    "    Est_pivot = Est_pivot.drop(columns = ['time'],axis=1,errors='ignore')\n",
    "    #Reset the index\n",
    "    Est_pivot.reset_index(inplace=True)\n",
    "    #Create a column for year\n",
    "    Est_pivot['date'] = pd.to_datetime(Est_pivot['date'])\n",
    "    Est_pivot[\"year\"]=Est_pivot[\"date\"].dt.year\n",
    "    #Create a column for month\n",
    "    Est_pivot[\"month\"]=Est_pivot[\"date\"].dt.month\n",
    "    Est_pivot.columns = Est_pivot.columns.str.replace(':', '')\n",
    "    Est_pivot.columns = Est_pivot.columns.str.replace('%', '')\n",
    "    Est_group_all = Est_pivot.copy().reset_index()\n",
    "\n",
    "    return Est_group_all"
   ]
  },
  {
   "cell_type": "code",
   "execution_count": 31,
   "id": "984a3fb2-245c-4f7b-8552-9dad643b0e9b",
   "metadata": {},
   "outputs": [],
   "source": [
    "# Assuming you have a CSV file with multiple columns\n",
    "csv_file_path = \"C:\\\\Users\\\\alechutchings\\\\Documents\\\\PythonNotebooks\\\\estuary_shapefile_dictionary.csv\"\n",
    "\n",
    "# Initialize an empty dictionary\n",
    "data_dict = {}\n",
    "\n",
    "# Read the CSV file and populate the dictionary\n",
    "with open(csv_file_path, 'r') as csv_file:\n",
    "    csv_reader = csv.reader(csv_file)\n",
    "    \n",
    "    # Skip the header row if it exists\n",
    "    next(csv_reader, None)\n",
    "    \n",
    "    # Iterate through rows and add key-value pairs to the dictionary\n",
    "    for row in csv_reader:\n",
    "        key = row[0]\n",
    "        values = row[1:]  # Collect all values from the second column onwards\n",
    "        data_dict[key] = values"
   ]
  },
  {
   "cell_type": "code",
   "execution_count": 32,
   "id": "b1cc6a0c-5e7d-474f-9591-9b1f82354aa5",
   "metadata": {},
   "outputs": [
    {
     "name": "stdout",
     "output_type": "stream",
     "text": [
      "83\n"
     ]
    }
   ],
   "source": [
    "estuary_list = list(data_dict.keys())\n",
    "print(len(estuary_list))"
   ]
  },
  {
   "cell_type": "code",
   "execution_count": 37,
   "id": "710f3b50-db3b-4dbb-bb59-ce69cf116dc2",
   "metadata": {},
   "outputs": [
    {
     "name": "stderr",
     "output_type": "stream",
     "text": [
      "Traceback (most recent call last):\n",
      "  File \"C:\\Users\\alechutchings\\AppData\\Local\\anaconda3\\envs\\geo_env\\Lib\\site-packages\\pandas\\core\\indexes\\base.py\", line 3653, in get_loc\n",
      "    return self._engine.get_loc(casted_key)\n",
      "           ^^^^^^^^^^^^^^^^^^^^^^^^^^^^^^^^\n",
      "  File \"pandas\\_libs\\index.pyx\", line 147, in pandas._libs.index.IndexEngine.get_loc\n",
      "  File \"pandas\\_libs\\index.pyx\", line 176, in pandas._libs.index.IndexEngine.get_loc\n",
      "  File \"pandas\\_libs\\hashtable_class_helper.pxi\", line 7080, in pandas._libs.hashtable.PyObjectHashTable.get_item\n",
      "  File \"pandas\\_libs\\hashtable_class_helper.pxi\", line 7088, in pandas._libs.hashtable.PyObjectHashTable.get_item\n",
      "KeyError: 'Oxygen, Dissolved as O2'\n",
      "\n",
      "The above exception was the direct cause of the following exception:\n",
      "\n",
      "Traceback (most recent call last):\n",
      "  File \"C:\\Users\\alechutchings\\AppData\\Local\\Temp\\2\\ipykernel_8312\\3887809262.py\", line 16, in <module>\n",
      "    Det_not_na_msk = Est_group_all[det].notna()\n",
      "                     ~~~~~~~~~~~~~^^^^^\n",
      "  File \"C:\\Users\\alechutchings\\AppData\\Local\\anaconda3\\envs\\geo_env\\Lib\\site-packages\\pandas\\core\\frame.py\", line 3761, in __getitem__\n",
      "    indexer = self.columns.get_loc(key)\n",
      "              ^^^^^^^^^^^^^^^^^^^^^^^^^\n",
      "  File \"C:\\Users\\alechutchings\\AppData\\Local\\anaconda3\\envs\\geo_env\\Lib\\site-packages\\pandas\\core\\indexes\\base.py\", line 3655, in get_loc\n",
      "    raise KeyError(key) from err\n",
      "KeyError: 'Oxygen, Dissolved as O2'\n"
     ]
    },
    {
     "name": "stdout",
     "output_type": "stream",
     "text": [
      "Error processing Aln: 'Oxygen, Dissolved as O2'\n"
     ]
    },
    {
     "name": "stderr",
     "output_type": "stream",
     "text": [
      "Traceback (most recent call last):\n",
      "  File \"C:\\Users\\alechutchings\\AppData\\Local\\anaconda3\\envs\\geo_env\\Lib\\site-packages\\pandas\\core\\indexes\\base.py\", line 3653, in get_loc\n",
      "    return self._engine.get_loc(casted_key)\n",
      "           ^^^^^^^^^^^^^^^^^^^^^^^^^^^^^^^^\n",
      "  File \"pandas\\_libs\\index.pyx\", line 147, in pandas._libs.index.IndexEngine.get_loc\n",
      "  File \"pandas\\_libs\\index.pyx\", line 176, in pandas._libs.index.IndexEngine.get_loc\n",
      "  File \"pandas\\_libs\\hashtable_class_helper.pxi\", line 7080, in pandas._libs.hashtable.PyObjectHashTable.get_item\n",
      "  File \"pandas\\_libs\\hashtable_class_helper.pxi\", line 7088, in pandas._libs.hashtable.PyObjectHashTable.get_item\n",
      "KeyError: 'Oxygen, Dissolved as O2'\n",
      "\n",
      "The above exception was the direct cause of the following exception:\n",
      "\n",
      "Traceback (most recent call last):\n",
      "  File \"C:\\Users\\alechutchings\\AppData\\Local\\Temp\\2\\ipykernel_8312\\3887809262.py\", line 16, in <module>\n",
      "    Det_not_na_msk = Est_group_all[det].notna()\n",
      "                     ~~~~~~~~~~~~~^^^^^\n",
      "  File \"C:\\Users\\alechutchings\\AppData\\Local\\anaconda3\\envs\\geo_env\\Lib\\site-packages\\pandas\\core\\frame.py\", line 3761, in __getitem__\n",
      "    indexer = self.columns.get_loc(key)\n",
      "              ^^^^^^^^^^^^^^^^^^^^^^^^^\n",
      "  File \"C:\\Users\\alechutchings\\AppData\\Local\\anaconda3\\envs\\geo_env\\Lib\\site-packages\\pandas\\core\\indexes\\base.py\", line 3655, in get_loc\n",
      "    raise KeyError(key) from err\n",
      "KeyError: 'Oxygen, Dissolved as O2'\n"
     ]
    },
    {
     "name": "stdout",
     "output_type": "stream",
     "text": [
      "Error processing Bristol_avon: 'Oxygen, Dissolved as O2'\n"
     ]
    },
    {
     "name": "stderr",
     "output_type": "stream",
     "text": [
      "C:\\Users\\alechutchings\\AppData\\Local\\Temp\\2\\ipykernel_8312\\1102994042.py:5: DtypeWarning: Columns (10) have mixed types. Specify dtype option on import or set low_memory=False.\n",
      "  dfs = [pd.read_csv(csv, dtype={\"INTERPRETATION\": str, \"TEXT_RESULT\": str, \"DETCODE\": str}) for csv in csvs[:input_no]]\n",
      "C:\\Users\\alechutchings\\AppData\\Local\\Temp\\2\\ipykernel_8312\\1102994042.py:5: DtypeWarning: Columns (10) have mixed types. Specify dtype option on import or set low_memory=False.\n",
      "  dfs = [pd.read_csv(csv, dtype={\"INTERPRETATION\": str, \"TEXT_RESULT\": str, \"DETCODE\": str}) for csv in csvs[:input_no]]\n",
      "Traceback (most recent call last):\n",
      "  File \"C:\\Users\\alechutchings\\AppData\\Local\\anaconda3\\envs\\geo_env\\Lib\\site-packages\\pandas\\core\\indexes\\base.py\", line 3653, in get_loc\n",
      "    return self._engine.get_loc(casted_key)\n",
      "           ^^^^^^^^^^^^^^^^^^^^^^^^^^^^^^^^\n",
      "  File \"pandas\\_libs\\index.pyx\", line 147, in pandas._libs.index.IndexEngine.get_loc\n",
      "  File \"pandas\\_libs\\index.pyx\", line 176, in pandas._libs.index.IndexEngine.get_loc\n",
      "  File \"pandas\\_libs\\hashtable_class_helper.pxi\", line 7080, in pandas._libs.hashtable.PyObjectHashTable.get_item\n",
      "  File \"pandas\\_libs\\hashtable_class_helper.pxi\", line 7088, in pandas._libs.hashtable.PyObjectHashTable.get_item\n",
      "KeyError: 'Oxygen, Dissolved as O2'\n",
      "\n",
      "The above exception was the direct cause of the following exception:\n",
      "\n",
      "Traceback (most recent call last):\n",
      "  File \"C:\\Users\\alechutchings\\AppData\\Local\\Temp\\2\\ipykernel_8312\\3887809262.py\", line 16, in <module>\n",
      "    Det_not_na_msk = Est_group_all[det].notna()\n",
      "                     ~~~~~~~~~~~~~^^^^^\n",
      "  File \"C:\\Users\\alechutchings\\AppData\\Local\\anaconda3\\envs\\geo_env\\Lib\\site-packages\\pandas\\core\\frame.py\", line 3761, in __getitem__\n",
      "    indexer = self.columns.get_loc(key)\n",
      "              ^^^^^^^^^^^^^^^^^^^^^^^^^\n",
      "  File \"C:\\Users\\alechutchings\\AppData\\Local\\anaconda3\\envs\\geo_env\\Lib\\site-packages\\pandas\\core\\indexes\\base.py\", line 3655, in get_loc\n",
      "    raise KeyError(key) from err\n",
      "KeyError: 'Oxygen, Dissolved as O2'\n"
     ]
    },
    {
     "name": "stdout",
     "output_type": "stream",
     "text": [
      "Error processing Derwent: 'Oxygen, Dissolved as O2'\n",
      "Error processing Duddon: 'Oxygen, Dissolved as O2'\n"
     ]
    },
    {
     "name": "stderr",
     "output_type": "stream",
     "text": [
      "Traceback (most recent call last):\n",
      "  File \"C:\\Users\\alechutchings\\AppData\\Local\\anaconda3\\envs\\geo_env\\Lib\\site-packages\\pandas\\core\\indexes\\base.py\", line 3653, in get_loc\n",
      "    return self._engine.get_loc(casted_key)\n",
      "           ^^^^^^^^^^^^^^^^^^^^^^^^^^^^^^^^\n",
      "  File \"pandas\\_libs\\index.pyx\", line 147, in pandas._libs.index.IndexEngine.get_loc\n",
      "  File \"pandas\\_libs\\index.pyx\", line 176, in pandas._libs.index.IndexEngine.get_loc\n",
      "  File \"pandas\\_libs\\hashtable_class_helper.pxi\", line 7080, in pandas._libs.hashtable.PyObjectHashTable.get_item\n",
      "  File \"pandas\\_libs\\hashtable_class_helper.pxi\", line 7088, in pandas._libs.hashtable.PyObjectHashTable.get_item\n",
      "KeyError: 'Oxygen, Dissolved as O2'\n",
      "\n",
      "The above exception was the direct cause of the following exception:\n",
      "\n",
      "Traceback (most recent call last):\n",
      "  File \"C:\\Users\\alechutchings\\AppData\\Local\\Temp\\2\\ipykernel_8312\\3887809262.py\", line 16, in <module>\n",
      "    Det_not_na_msk = Est_group_all[det].notna()\n",
      "                     ~~~~~~~~~~~~~^^^^^\n",
      "  File \"C:\\Users\\alechutchings\\AppData\\Local\\anaconda3\\envs\\geo_env\\Lib\\site-packages\\pandas\\core\\frame.py\", line 3761, in __getitem__\n",
      "    indexer = self.columns.get_loc(key)\n",
      "              ^^^^^^^^^^^^^^^^^^^^^^^^^\n",
      "  File \"C:\\Users\\alechutchings\\AppData\\Local\\anaconda3\\envs\\geo_env\\Lib\\site-packages\\pandas\\core\\indexes\\base.py\", line 3655, in get_loc\n",
      "    raise KeyError(key) from err\n",
      "KeyError: 'Oxygen, Dissolved as O2'\n",
      "C:\\Users\\alechutchings\\AppData\\Local\\Temp\\2\\ipykernel_8312\\1102994042.py:5: DtypeWarning: Columns (10) have mixed types. Specify dtype option on import or set low_memory=False.\n",
      "  dfs = [pd.read_csv(csv, dtype={\"INTERPRETATION\": str, \"TEXT_RESULT\": str, \"DETCODE\": str}) for csv in csvs[:input_no]]\n",
      "Traceback (most recent call last):\n",
      "  File \"C:\\Users\\alechutchings\\AppData\\Local\\anaconda3\\envs\\geo_env\\Lib\\site-packages\\pandas\\core\\indexes\\base.py\", line 3653, in get_loc\n",
      "    return self._engine.get_loc(casted_key)\n",
      "           ^^^^^^^^^^^^^^^^^^^^^^^^^^^^^^^^\n",
      "  File \"pandas\\_libs\\index.pyx\", line 147, in pandas._libs.index.IndexEngine.get_loc\n",
      "  File \"pandas\\_libs\\index.pyx\", line 176, in pandas._libs.index.IndexEngine.get_loc\n",
      "  File \"pandas\\_libs\\hashtable_class_helper.pxi\", line 7080, in pandas._libs.hashtable.PyObjectHashTable.get_item\n",
      "  File \"pandas\\_libs\\hashtable_class_helper.pxi\", line 7088, in pandas._libs.hashtable.PyObjectHashTable.get_item\n",
      "KeyError: 'Oxygen, Dissolved as O2'\n",
      "\n",
      "The above exception was the direct cause of the following exception:\n",
      "\n",
      "Traceback (most recent call last):\n",
      "  File \"C:\\Users\\alechutchings\\AppData\\Local\\Temp\\2\\ipykernel_8312\\3887809262.py\", line 16, in <module>\n",
      "    Det_not_na_msk = Est_group_all[det].notna()\n",
      "                     ~~~~~~~~~~~~~^^^^^\n",
      "  File \"C:\\Users\\alechutchings\\AppData\\Local\\anaconda3\\envs\\geo_env\\Lib\\site-packages\\pandas\\core\\frame.py\", line 3761, in __getitem__\n",
      "    indexer = self.columns.get_loc(key)\n",
      "              ^^^^^^^^^^^^^^^^^^^^^^^^^\n",
      "  File \"C:\\Users\\alechutchings\\AppData\\Local\\anaconda3\\envs\\geo_env\\Lib\\site-packages\\pandas\\core\\indexes\\base.py\", line 3655, in get_loc\n",
      "    raise KeyError(key) from err\n",
      "KeyError: 'Oxygen, Dissolved as O2'\n"
     ]
    },
    {
     "name": "stdout",
     "output_type": "stream",
     "text": [
      "Error processing Maryport: 'Oxygen, Dissolved as O2'\n"
     ]
    },
    {
     "name": "stderr",
     "output_type": "stream",
     "text": [
      "Traceback (most recent call last):\n",
      "  File \"C:\\Users\\alechutchings\\AppData\\Local\\anaconda3\\envs\\geo_env\\Lib\\site-packages\\pandas\\core\\indexes\\base.py\", line 3653, in get_loc\n",
      "    return self._engine.get_loc(casted_key)\n",
      "           ^^^^^^^^^^^^^^^^^^^^^^^^^^^^^^^^\n",
      "  File \"pandas\\_libs\\index.pyx\", line 147, in pandas._libs.index.IndexEngine.get_loc\n",
      "  File \"pandas\\_libs\\index.pyx\", line 176, in pandas._libs.index.IndexEngine.get_loc\n",
      "  File \"pandas\\_libs\\hashtable_class_helper.pxi\", line 7080, in pandas._libs.hashtable.PyObjectHashTable.get_item\n",
      "  File \"pandas\\_libs\\hashtable_class_helper.pxi\", line 7088, in pandas._libs.hashtable.PyObjectHashTable.get_item\n",
      "KeyError: 'Oxygen, Dissolved as O2'\n",
      "\n",
      "The above exception was the direct cause of the following exception:\n",
      "\n",
      "Traceback (most recent call last):\n",
      "  File \"C:\\Users\\alechutchings\\AppData\\Local\\Temp\\2\\ipykernel_8312\\3887809262.py\", line 16, in <module>\n",
      "    Det_not_na_msk = Est_group_all[det].notna()\n",
      "                     ~~~~~~~~~~~~~^^^^^\n",
      "  File \"C:\\Users\\alechutchings\\AppData\\Local\\anaconda3\\envs\\geo_env\\Lib\\site-packages\\pandas\\core\\frame.py\", line 3761, in __getitem__\n",
      "    indexer = self.columns.get_loc(key)\n",
      "              ^^^^^^^^^^^^^^^^^^^^^^^^^\n",
      "  File \"C:\\Users\\alechutchings\\AppData\\Local\\anaconda3\\envs\\geo_env\\Lib\\site-packages\\pandas\\core\\indexes\\base.py\", line 3655, in get_loc\n",
      "    raise KeyError(key) from err\n",
      "KeyError: 'Oxygen, Dissolved as O2'\n"
     ]
    },
    {
     "name": "stdout",
     "output_type": "stream",
     "text": [
      "Error processing Otter: 'Oxygen, Dissolved as O2'\n"
     ]
    },
    {
     "name": "stderr",
     "output_type": "stream",
     "text": [
      "C:\\Users\\alechutchings\\AppData\\Local\\Temp\\2\\ipykernel_8312\\1102994042.py:5: DtypeWarning: Columns (10) have mixed types. Specify dtype option on import or set low_memory=False.\n",
      "  dfs = [pd.read_csv(csv, dtype={\"INTERPRETATION\": str, \"TEXT_RESULT\": str, \"DETCODE\": str}) for csv in csvs[:input_no]]\n",
      "C:\\Users\\alechutchings\\AppData\\Local\\Temp\\2\\ipykernel_8312\\1102994042.py:5: DtypeWarning: Columns (10) have mixed types. Specify dtype option on import or set low_memory=False.\n",
      "  dfs = [pd.read_csv(csv, dtype={\"INTERPRETATION\": str, \"TEXT_RESULT\": str, \"DETCODE\": str}) for csv in csvs[:input_no]]\n",
      "Traceback (most recent call last):\n",
      "  File \"C:\\Users\\alechutchings\\AppData\\Local\\anaconda3\\envs\\geo_env\\Lib\\site-packages\\pandas\\core\\indexes\\base.py\", line 3653, in get_loc\n",
      "    return self._engine.get_loc(casted_key)\n",
      "           ^^^^^^^^^^^^^^^^^^^^^^^^^^^^^^^^\n",
      "  File \"pandas\\_libs\\index.pyx\", line 147, in pandas._libs.index.IndexEngine.get_loc\n",
      "  File \"pandas\\_libs\\index.pyx\", line 176, in pandas._libs.index.IndexEngine.get_loc\n",
      "  File \"pandas\\_libs\\hashtable_class_helper.pxi\", line 7080, in pandas._libs.hashtable.PyObjectHashTable.get_item\n",
      "  File \"pandas\\_libs\\hashtable_class_helper.pxi\", line 7088, in pandas._libs.hashtable.PyObjectHashTable.get_item\n",
      "KeyError: 'Oxygen, Dissolved as O2'\n",
      "\n",
      "The above exception was the direct cause of the following exception:\n",
      "\n",
      "Traceback (most recent call last):\n",
      "  File \"C:\\Users\\alechutchings\\AppData\\Local\\Temp\\2\\ipykernel_8312\\3887809262.py\", line 16, in <module>\n",
      "    Det_not_na_msk = Est_group_all[det].notna()\n",
      "                     ~~~~~~~~~~~~~^^^^^\n",
      "  File \"C:\\Users\\alechutchings\\AppData\\Local\\anaconda3\\envs\\geo_env\\Lib\\site-packages\\pandas\\core\\frame.py\", line 3761, in __getitem__\n",
      "    indexer = self.columns.get_loc(key)\n",
      "              ^^^^^^^^^^^^^^^^^^^^^^^^^\n",
      "  File \"C:\\Users\\alechutchings\\AppData\\Local\\anaconda3\\envs\\geo_env\\Lib\\site-packages\\pandas\\core\\indexes\\base.py\", line 3655, in get_loc\n",
      "    raise KeyError(key) from err\n",
      "KeyError: 'Oxygen, Dissolved as O2'\n"
     ]
    },
    {
     "name": "stdout",
     "output_type": "stream",
     "text": [
      "Error processing Wey: 'Oxygen, Dissolved as O2'\n"
     ]
    },
    {
     "name": "stderr",
     "output_type": "stream",
     "text": [
      "C:\\Users\\alechutchings\\AppData\\Local\\Temp\\2\\ipykernel_8312\\1102994042.py:5: DtypeWarning: Columns (10) have mixed types. Specify dtype option on import or set low_memory=False.\n",
      "  dfs = [pd.read_csv(csv, dtype={\"INTERPRETATION\": str, \"TEXT_RESULT\": str, \"DETCODE\": str}) for csv in csvs[:input_no]]\n"
     ]
    }
   ],
   "source": [
    "det = 'Oxygen, Dissolved as O2'\n",
    "all_df = pd.DataFrame()\n",
    "\n",
    "for estuary in estuary_list:\n",
    "    try:\n",
    "        #Define folder path\n",
    "        folder_path = f\"C:\\\\Users\\\\alechutchings\\\\Documents\\\\PythonNotebooks\\\\SeasonalEstuaryChanges\\\\{estuary}\"\n",
    "        #Direct to input csv\n",
    "        csv_input_path = os.path.join(folder_path, f'{estuary}_wims_data_clean_nd_removed.csv')\n",
    "        #Import function\n",
    "        df = import_csv(1,csv_input_path)\n",
    "        #Pivot function\n",
    "        Est_group_all = create_pivot(df)\n",
    "\n",
    "        #Create a new dataset with only entries for the determinand\n",
    "        Det_not_na_msk = Est_group_all[det].notna()\n",
    "        cols = ['date', 'time','ptcode']\n",
    "        Est_group_all_det = Est_group_all.loc[Det_not_na_msk, cols]\n",
    "\n",
    "        early_date = Est_group_all_det['date'].min()\n",
    "        late_date = Est_group_all_det['date'].max()\n",
    "\n",
    "        date_df =[]\n",
    "        date_df.append({\n",
    "            'Earliest date': early_date,\n",
    "            'Latest date': late_date})\n",
    "\n",
    "        date_df = pd.DataFrame(date_df)\n",
    "        date_df['Estuary'] = estuary\n",
    "\n",
    "        # Append the DataFrame to a master DataFrame (if it already exists)\n",
    "        if 'all_df' not in locals():\n",
    "            all_df = date_df.copy()\n",
    "        else:In\n",
    "            all_df = pd.concat([all_df, date_df], ignore_index=True)\n",
    "\n",
    "    except Exception as e:\n",
    "        # Print the error message\n",
    "        traceback.print_exc()\n",
    "        error_message = f\"Error processing {estuary}: {str(e)}\"\n",
    "\n",
    "        # Log the error to a notepad file\n",
    "        log_file_path = os.path.join('C:\\\\Users\\\\alechutchings\\\\Documents\\\\PythonNotebooks\\\\SeasonalEstuaryChanges\\\\',f'sample_window_error_log.txt')\n",
    "        with open(log_file_path, 'a') as log_file:\n",
    "            log_file.write(error_message + '\\n')\n",
    "        print(error_message)\n",
    "\n",
    "    finally:\n",
    "        # Any cleanup code or additional actions you want to perform regardless of success or failure\n",
    "        pass\n",
    "    \n",
    "all_df.to_csv(f\"Sample_time_windows_{det}.csv\", index=False)\n"
   ]
  },
  {
   "cell_type": "code",
   "execution_count": null,
   "id": "a12a51de-40c3-4748-bd7f-f3c4cb83e206",
   "metadata": {},
   "outputs": [],
   "source": []
  },
  {
   "cell_type": "code",
   "execution_count": null,
   "id": "4b83bef1-66ef-4e36-a527-a34fed28c655",
   "metadata": {},
   "outputs": [],
   "source": []
  }
 ],
 "metadata": {
  "kernelspec": {
   "display_name": "Python 3 (ipykernel)",
   "language": "python",
   "name": "python3"
  },
  "language_info": {
   "codemirror_mode": {
    "name": "ipython",
    "version": 3
   },
   "file_extension": ".py",
   "mimetype": "text/x-python",
   "name": "python",
   "nbconvert_exporter": "python",
   "pygments_lexer": "ipython3",
   "version": "3.11.4"
  }
 },
 "nbformat": 4,
 "nbformat_minor": 5
}
