{
 "cells": [
  {
   "cell_type": "code",
   "execution_count": 12,
   "id": "ebb57a61-8549-4035-9ee2-4b0bffe456c2",
   "metadata": {},
   "outputs": [
    {
     "name": "stdout",
     "output_type": "stream",
     "text": [
      "env: PYTHONHASHSEED=0\n"
     ]
    }
   ],
   "source": [
    "env PYTHONHASHSEED=0"
   ]
  },
  {
   "cell_type": "code",
   "execution_count": 13,
   "id": "7bac24fd-bdfb-4431-b2cb-0bc0827cfcc2",
   "metadata": {},
   "outputs": [],
   "source": [
    "import numpy as np\n",
    "import pandas as pd\n",
    "import matplotlib.pyplot as plt\n",
    "from pygam import LinearGAM, GAM, s, l, te\n",
    "from sklearn.model_selection import train_test_split\n",
    "from sklearn.metrics import mean_squared_error, r2_score\n",
    "import os\n",
    "import csv\n",
    "import shutil\n",
    "import traceback\n",
    "import random\n",
    "from datetime import datetime\n",
    "import geopandas as gpd\n",
    "import fiona\n",
    "import shapely\n",
    "from shapely import LineString\n",
    "from shapely.geometry import Point\n",
    "from shapely.ops import unary_union"
   ]
  },
  {
   "cell_type": "code",
   "execution_count": 14,
   "id": "f07e01e2-1065-4c36-b024-165dc4c348d8",
   "metadata": {},
   "outputs": [],
   "source": [
    "def import_csv(input_no, *csvs):\n",
    "    if input_no < 1 or input_no > len(csvs):\n",
    "        raise ValueError(\"input_no should be between 1 and the number of CSV files\")\n",
    "    \n",
    "    dfs = [pd.read_csv(csv, dtype={\"ptcode\": str}) for csv in csvs[:input_no]]\n",
    "    full_wims = pd.concat(dfs)\n",
    "    \n",
    "    return full_wims#def import class\n"
   ]
  },
  {
   "cell_type": "code",
   "execution_count": 31,
   "id": "6f0417ff-de97-415e-bd43-3cc43fe79755",
   "metadata": {},
   "outputs": [],
   "source": [
    "def create_pivot(df):\n",
    "    #df['site_avg_salinity'].fillna(5, inplace=True)\n",
    "    #Create Pivot\n",
    "    Est_pivot = df.pivot_table(values='result',index=['date','time','ptcode','easting','northing','site_avg_salinity','salinity_class'],columns=['detname'])\n",
    "    #Drop the \"Time\" column from results as this duplicates a column elsewhere\n",
    "    Est_pivot = Est_pivot.drop(columns = ['time'],axis=1,errors='ignore')\n",
    "    #Reset the index\n",
    "    Est_pivot.reset_index(inplace=True)\n",
    "    #Create a column for year\n",
    "    Est_pivot['date'] = pd.to_datetime(Est_pivot['date'])\n",
    "    Est_pivot[\"year\"]=Est_pivot[\"date\"].dt.year\n",
    "    #Create a column for month\n",
    "    Est_pivot[\"month\"]=Est_pivot[\"date\"].dt.month\n",
    "    Est_pivot.columns = Est_pivot.columns.str.replace(':', '')\n",
    "    Est_pivot.columns = Est_pivot.columns.str.replace('%', '')\n",
    "    Est_group_all = Est_pivot.copy().reset_index()\n",
    "\n",
    "    return Est_group_all"
   ]
  },
  {
   "cell_type": "code",
   "execution_count": 16,
   "id": "9ab79364-386b-4169-a826-1e80521458d4",
   "metadata": {},
   "outputs": [],
   "source": [
    "def date_to_float_year(date):\n",
    "    # Convert the timestamp to a string in the format '%Y-%m-%d'\n",
    "    date_str = date.strftime('%Y-%m-%d')\n",
    "    \n",
    "    # Convert the date string to a datetime object\n",
    "    date_obj = datetime.strptime(date_str, '%Y-%m-%d')\n",
    "    \n",
    "    # Extract year, month, and day from the date object\n",
    "    year = date_obj.year\n",
    "    month = date_obj.month\n",
    "    day = date_obj.day\n",
    "    \n",
    "    # Calculate the fractional part of the year\n",
    "    fractional_year = year + (month - 1) / 12 + (day - 1) / 365\n",
    "    \n",
    "    return fractional_year"
   ]
  },
  {
   "cell_type": "code",
   "execution_count": 17,
   "id": "60ea3f1e-ec98-4288-b44c-0a1d2e4143a6",
   "metadata": {},
   "outputs": [],
   "source": [
    "def calculate_seasonal_partial_dependence(gam, XX, seasons):\n",
    "    # Define the boundaries for each season based on day of the year\n",
    "    spring_boundary = [80, 171]  # Mar 21st to Jun 20th\n",
    "    summer_boundary = [172, 264]  # Jun 21st to Sep 22nd\n",
    "    autumn_boundary = [265, 355]  # Sep 23rd to Dec 21st\n",
    "    winter_boundary = [356, 79]  # Dec 22nd to Mar 20th\n",
    "\n",
    "    # Create list with boundaries\n",
    "    boundaries = [spring_boundary, summer_boundary, autumn_boundary, winter_boundary]\n",
    "    # Set up an empty dictionary to store the results in\n",
    "    results = {}\n",
    "\n",
    "    #Set up a loop to run through each season\n",
    "    for season, boundary in zip(seasons, boundaries):\n",
    "        # Filter XX by the day_of_year to split into seasons. Winter is split into two years so needs treating differently\n",
    "        if season == 'winter':\n",
    "            season_XX = XX[(XX[:, 2] >= boundary[0]) | (XX[:, 2] <= boundary[1])]\n",
    "        else:\n",
    "            season_XX = XX[(XX[:, 2] >= boundary[0]) & (XX[:, 2] <= boundary[1])]\n",
    "\n",
    "        # Extract the partidal dependence and 95%iles from each season\n",
    "        pdep, confi = gam.partial_dependence(term=2, X=season_XX, width=0.95)\n",
    "        # Reshape the pdep and confi matrix to ensure yearly period is plotted against the day of year correctly. the (-1, 100) allows the column number to be specified by the sample size divided by 100\n",
    "        pdep_reshaped = pdep.reshape((-1, 100))\n",
    "        low_confi = confi[:, 0].reshape((-1, 100))\n",
    "        high_confi = confi[:, 1].reshape((-1, 100))\n",
    "        # Find the max and min (not used as it stands)\n",
    "        pdep_highconf = np.max(high_confi, axis=0)\n",
    "        pdep_lowconf = np.min(low_confi, axis=0)\n",
    "        # Take the average of each column in pdep\n",
    "        averages = np.mean(pdep_reshaped, axis=0)\n",
    "        # Take the stdev of each column in pdep\n",
    "        pdep_std = np.std(pdep_reshaped, axis=0)\n",
    "        # As season_XX will continually repeat the 100 year entry, take the first 100 entries to get the entire range of yearly splits\n",
    "        XX_years = season_XX[:100]\n",
    "\n",
    "        #Add to dictionary\n",
    "        results[season] = {\n",
    "            'pdep_reshaped': pdep_reshaped,\n",
    "            'pdep_highconf': pdep_highconf,\n",
    "            'pdep_lowconf': pdep_lowconf,\n",
    "            'averages': averages,\n",
    "            'pdep_std': pdep_std,\n",
    "            'XX_years': XX_years\n",
    "        }\n",
    "\n",
    "    return results"
   ]
  },
  {
   "cell_type": "code",
   "execution_count": 18,
   "id": "fa8be864-635a-4332-a5ea-a09b1d9795ed",
   "metadata": {},
   "outputs": [],
   "source": [
    "# Function to allow monte carlo simulations\n",
    "def perform_monte_carlo_simulation(samples, XX_years, num_iterations):\n",
    "\n",
    "    if XX_years[:,3].max() - XX_years[:,3].min() <= 20:\n",
    "        print(\"The range of years is not sufficient for analysis (less than or equal to 20 years).\")\n",
    "        return None\n",
    "        \n",
    "    trend_differences = []\n",
    "\n",
    "    #Run through iteration\n",
    "    for x in range(num_iterations):\n",
    "        # Maximum number of attempts to find an appropriate pair of time segements to sample from\n",
    "        max_attempts = 1000\n",
    "        # Take a couple of random indices from the yearly dependence to sample from the normal distribution\n",
    "        sample_indices = random.sample(range(len(samples)), 2)\n",
    "        # Attempt to find a pair of numbers that are greater than 10 years apart\n",
    "        for _ in range(max_attempts):\n",
    "            # Allow the first yearly indices to be any number from 0 to n-1 (to allow for idx2)\n",
    "            idx1 = np.random.randint(0, len(XX_years[:,3])-1)\n",
    "            # Ensure idx2 is greater than idx1 (so the yearly change is in the right direction!)\n",
    "            idx2 = np.random.randint(idx1 + 1, len(XX_years[:,3]))  # Ensuring idx2 is greater than idx1\n",
    "            # Check the difference in years exceeds 10 years\n",
    "            if XX_years[:,3][idx2] - XX_years[:,3][idx1] >= 20:\n",
    "            #Take the random sample indices and the yearly indices for early and late samples\n",
    "                sample_early = samples[sample_indices[0], idx1]\n",
    "                sample_late = samples[sample_indices[1], idx2]\n",
    "                # Calculate difference\n",
    "                difference = (sample_late - sample_early)/(XX_years[idx2, 3] - XX_years[idx1,3])\n",
    "                # Append to a dataframe\n",
    "                trend_differences.append(difference)\n",
    "                # Break the loop once the conditions are met\n",
    "                break\n",
    "\n",
    "    return trend_differences"
   ]
  },
  {
   "cell_type": "code",
   "execution_count": 19,
   "id": "74ca88c1-a571-4af9-8ce6-543708418eb2",
   "metadata": {},
   "outputs": [],
   "source": [
    "def monte_carlo_simulation_from_specific_years(early_period, late_period, samples, XX, num_iterations):\n",
    "\n",
    "    trend_differences = []\n",
    "    \n",
    "    selected_early_data_indices = np.where((XX[:, 3] >= early_period[0]) & (XX[:, 3] <= early_period[1]))[0]\n",
    "    selected_late_data_indices = np.where((XX[:, 3] >= late_period[0]) & (XX[:, 3] <= late_period[1]))[0]\n",
    "\n",
    "    for x in range(num_iterations):\n",
    "\n",
    "        idx1 = np.random.choice(selected_early_data_indices)\n",
    "        idx2 = np.random.choice(selected_late_data_indices)\n",
    "        \n",
    "        sample_indices = random.sample(range(len(samples)), 2)\n",
    "        selected_early_samples = samples[sample_indices[0],idx1]\n",
    "        selected_late_samples = samples[sample_indices[1],idx2]\n",
    "\n",
    "        # Calculate difference\n",
    "        difference = (selected_late_samples - selected_early_samples)/(XX[idx2, 3] - XX[idx1,3])\n",
    "        # Append to a dataframe\n",
    "        trend_differences.append(difference)\n",
    "\n",
    "    return trend_differences      "
   ]
  },
  {
   "cell_type": "code",
   "execution_count": 20,
   "id": "98b38dfb-6c47-4dc5-a068-83c5ed91c1bb",
   "metadata": {},
   "outputs": [],
   "source": [
    "def generate_samples_and_trend_differences(early_period, late_period,seasonal_results, num_samples, num_iterations, interval):\n",
    "    # Create a blank dictionary\n",
    "    trend_differences = {}\n",
    "\n",
    "    # Loop through each season\n",
    "    for season in seasonal_results:\n",
    "        # Take a random sample from the standard deviations across the season. Note this does NOT CALCULATE IT FROM CONFIDENCE INTERVALS LIKE IN OTHER MODELS\n",
    "        samples = np.random.normal(seasonal_results[season]['averages'], seasonal_results[season]['pdep_std'], size=(num_samples, len(seasonal_results[season]['averages'])))\n",
    "        # Run through the monte carlo\n",
    "        if interval == 1:\n",
    "            trend_differences[season] = perform_monte_carlo_simulation(samples, seasonal_results[season]['XX_years'], num_iterations)\n",
    "        else:\n",
    "            trend_differences[season] = monte_carlo_simulation_from_specific_years(early_period, late_period, samples, seasonal_results[season]['XX_years'], num_iterations)\n",
    "\n",
    "    return trend_differences"
   ]
  },
  {
   "cell_type": "code",
   "execution_count": 21,
   "id": "e7085c13-4818-45de-8e08-575e1f5bc250",
   "metadata": {},
   "outputs": [],
   "source": [
    "def calculate_statistics(trend_differences):\n",
    "    \n",
    "    #Create a blank dictionary\n",
    "    statistics = {}\n",
    "\n",
    "    # Loop through seasons and differences\n",
    "    for season, differences in trend_differences.items():\n",
    "        mean_difference = np.mean(differences)\n",
    "        std_dev_difference = np.std(differences)\n",
    "        statistics[season] = {'mean_difference': mean_difference, 'std_dev_difference': std_dev_difference}\n",
    "\n",
    "    return statistics"
   ]
  },
  {
   "cell_type": "code",
   "execution_count": 37,
   "id": "7420a7ac-cb37-41c6-8a44-8bb03d07855e",
   "metadata": {},
   "outputs": [],
   "source": [
    "def run_GAM(Est_all, det, GAM_output_folder_path):\n",
    "    #Change to 1 for yearly interval or 0 for period split\n",
    "    interval = 1\n",
    "\n",
    "    #Set blank DF\n",
    "    trend_result_list = []\n",
    "\n",
    "    # Date tp datetime\n",
    "    Est_all.loc[:, 'date'] = pd.to_datetime(Est_all['date'])\n",
    "    #Convert date to day of year (note this is an open ended continuous variable)\n",
    "    Est_all.loc[:, 'day_of_year'] = Est_all['date'].dt.dayofyear\n",
    "\n",
    "    # This section converts the yearly date into a floating decimal date\n",
    "    Est_all['float_date'] = Est_all['date'].apply(date_to_float_year)\n",
    "    \n",
    "    #This section converts time to a continuous scale\n",
    "    # Extract hours and minutes\n",
    "    hour = Est_all['time'] // 100\n",
    "    minutes = Est_all['time'] % 100\n",
    "    # Convert to continuous numeric format (minutes since midnight)\n",
    "    Est_all.loc[:, 'time_converted'] = hour * 60 + minutes\n",
    "\n",
    "    # Handle NaN values if 'time' column contains them - Any value will become -1\n",
    "    Est_all['time_converted'] = Est_all['time_converted'].fillna(-1)  # Replace NaN with a suitable value\n",
    "\n",
    "    # Set up a list of features to add to the X variable\n",
    "    Features = ['site_avg_salinity' , 'time_converted' , 'day_of_year' , 'float_date']\n",
    "\n",
    "    # Create independent variables\n",
    "    X = Est_all[Features].values\n",
    "    # Create dependent variables\n",
    "    Y = Est_all[det].values\n",
    "\n",
    "    # Remove rows with NaN values in Y. Note X gets removed in the same way.\n",
    "    mask = ~np.isnan(Y)\n",
    "    X = X[mask]\n",
    "    Y = Y[mask]\n",
    "    \n",
    "    # Dynamically set the index to year\n",
    "    year_index = Features.index('float_date')\n",
    "    # Failsafe to break loop in case there is only one year in the data,\n",
    "    if len(np.unique(X[:, year_index])) <= 1:\n",
    "         print(f\"Skipping analysis as there is only one unique year.\")\n",
    "        \n",
    "    #Split the data into training and testing sets\n",
    "    X_train, X_test, y_train, y_test = train_test_split(X, Y, test_size=0.2, random_state=42)\n",
    "\n",
    "    # ========================= Create and train the GAM model========================\n",
    "    #Set the spline number - lower = more simplistic model\n",
    "    spline_no=5\n",
    "\n",
    "    #GAM MODEL CREATION (s = splines, cp = circular spline, ps = penalised spline)\n",
    "    gam = GAM(s(0, n_splines=spline_no) + s(1,n_splines=spline_no) + te(2,3,basis=['cp','ps'])).gridsearch(X_train, y_train)\n",
    "    \n",
    "    #If you want to see what the gridsearch is doing, uncomment out the following.\n",
    "    #print(gam.summary())\n",
    "\n",
    "    # Make predictions on the test set\n",
    "    y_pred = gam.predict(X_test)\n",
    "\n",
    "    # Evaluate the model\n",
    "    mse = mean_squared_error(y_test, y_pred)\n",
    "    r2 = r2_score(y_test, y_pred)\n",
    "\n",
    "    #======================PLOTTING BEGINS============================\n",
    "\n",
    "    # Plotting actual vs predicted valuesran\n",
    "    plt.scatter(y_test, y_pred, alpha=0.5)\n",
    "    # Sticking a 1:1 line in\n",
    "    plt.plot([min(y_test)-1, max(y_test)+1], [min(y_test)-1, max(y_test)+1], '--', color='red', label='1:1 Line')\n",
    "    plt.title(f'Actual vs Predicted Values')\n",
    "    plt.xlabel(f'Actual {det}')\n",
    "    plt.ylabel(f'Predicted {det}')\n",
    "    #Exporting figure\n",
    "    Actual_predicted_path = os.path.join(GAM_output_folder_path, f'ActualVSPredicted_{estuary}.png')\n",
    "    plt.savefig(Actual_predicted_path)\n",
    "    plt.clf()\n",
    "\n",
    "    # Plotting residuals\n",
    "    residuals = y_test - y_pred\n",
    "    plt.scatter(y_pred, residuals, alpha=0.5)\n",
    "    plt.title(f'Residuals Plot')\n",
    "    plt.xlabel(f'Predicted {det}')\n",
    "    plt.ylabel('Residuals')\n",
    "    plt.axhline(y=0, color='r', linestyle='--', linewidth=2)\n",
    "    #Exporting figure\n",
    "    Residuals_path = os.path.join(GAM_output_folder_path, f'Residuals_{estuary}.png')\n",
    "    plt.savefig(Residuals_path)\n",
    "    plt.clf()\n",
    "\n",
    "    #Plot the partial dependencies\n",
    "    feature_names = ['site_avg_salinity','time', 'tensor_doy_fy']\n",
    "\n",
    "    fig, axs = plt.subplots(1, len(feature_names), figsize=(16, 4))\n",
    "    for i, ax in enumerate(axs):\n",
    "        #This defaults to 100 measurements\n",
    "        XX = gam.generate_X_grid(term=i)\n",
    "        pdep, confi = gam.partial_dependence(term=i, X=XX, width=0.95)\n",
    "        ax.plot(XX[:, i], pdep)\n",
    "        ax.plot(XX[:, i], confi, c='r', ls='--')\n",
    "        ax.set_title(f'Partial dependence of {feature_names[i]}', fontsize = 10)\n",
    "    plt.tight_layout()\n",
    "    #Exporting figure\n",
    "    Dependencies_path = os.path.join(GAM_output_folder_path, f'Dependencies_{estuary}.png')\n",
    "    plt.savefig(Dependencies_path)\n",
    "    plt.clf()\n",
    "\n",
    "\n",
    "    # This is the way to work out the trends for the annual change\n",
    "    # Generate a grid across the tensor\n",
    "    XX = gam.generate_X_grid(term=2, meshgrid=False)\n",
    "    # Grab the partial dependencies and confidence intervals\n",
    "    pdep, confi = gam.partial_dependence(term=2, X=XX,width=0.95)\n",
    "    # Reshape to form the tensor matrix\n",
    "    pdep_reshaped = pdep.reshape(100, 100)\n",
    "    # Grab the confidence intervals and reshape to form the tensor matrix\n",
    "    low_confi = confi[:,0]\n",
    "    high_confi = confi[:,1]\n",
    "    low_confi_reshaped = low_confi.reshape(100, 100)\n",
    "    high_confi_reshaped = high_confi.reshape(100, 100)\n",
    "    # Grab the stats from each column (time interval)\n",
    "    pdep_averages = np.mean(pdep_reshaped, axis=0)\n",
    "    pdep_std = np.std(pdep_reshaped,axis=0)\n",
    "    pdep_highconf= np.max(high_confi_reshaped, axis=0)\n",
    "    pdep_lowconf= np.min(low_confi_reshaped, axis=0)\n",
    "    # Grab each unique yearly period (it repeats every 100)\n",
    "    XX_years = XX[:100]\n",
    "\n",
    "    # Define number of samples to take from the normal distribution\n",
    "    num_samples = 100\n",
    "    early_period = [2005.5,2006.5]\n",
    "    late_period=[2021.5,2022.5]\n",
    "    num_iterations = 10000\n",
    "\n",
    "    # Create a matrix of randomly sampled points from the normal distribution\n",
    "    annual_samples = np.random.normal(pdep_averages, pdep_std, size=(num_samples, len(pdep_averages)))\n",
    "    # Conduct the monte carlo function\n",
    "    #annual_difference = perform_monte_carlo_simulation(annual_samples, XX_years, num_iterations)\n",
    "    annual_difference = monte_carlo_simulation_from_specific_years(early_period, late_period, annual_samples, XX_years, num_iterations)\n",
    "    # Get the statistics\n",
    "    annual_mean_difference = np.mean(annual_difference)\n",
    "    annual_std_dev_difference = np.std(annual_difference)\n",
    "\n",
    "    # =============================SEASONAL ANALYSIS ================================================\n",
    "    seasons = ['spring','summer','autumn','winter']\n",
    "\n",
    "    # Run the seasonal partial dependence function\n",
    "    seasonal_results = calculate_seasonal_partial_dependence(gam, XX, seasons)\n",
    "\n",
    "    #Create a plot for the seasonal dependencies\n",
    "    for season in seasons:    \n",
    "        plt.plot(seasonal_results[season]['XX_years'][:, 3],seasonal_results[season]['averages'], label = season)\n",
    "        plt.fill_between(seasonal_results[season]['XX_years'][:, 3],seasonal_results[season]['averages']-seasonal_results[season]['pdep_std'],\n",
    "                         seasonal_results[season]['averages']+seasonal_results[season]['pdep_std'], alpha=0.2)\n",
    "    plt.plot(XX_years[:, 3], pdep_averages,linestyle ='--', color = 'black',label = 'Annual')\n",
    "    plt.title('Partial Dependence Plot for Year')\n",
    "    plt.xlabel('Year')\n",
    "    plt.ylabel('Partial Dependence')\n",
    "    plt.legend()\n",
    "    # Apply tight layout\n",
    "    plt.tight_layout()\n",
    "    #Exporting figure\n",
    "    Yearly_dependencies_path = os.path.join(GAM_output_folder_path, f'Yearly_dependencies_by_season_{estuary}.png')\n",
    "    plt.savefig(Yearly_dependencies_path)\n",
    "    plt.close('all')\n",
    "    \n",
    "    # Grab the trend differences and seasonal statistics\n",
    "    trend_differences = generate_samples_and_trend_differences(early_period, late_period,seasonal_results, num_samples, num_iterations, interval)\n",
    "    seasonal_statistics = calculate_statistics(trend_differences)\n",
    "    \n",
    "    # Plot histogram of trend differences\n",
    "    #plt.hist(trend_differences, bins=30, color='skyblue', edgecolor='black')\n",
    "    for season in seasons:\n",
    "        plt.hist(trend_differences[season], bins=50, alpha = 0.2)\n",
    "        # Plot vertical lines for mean values\n",
    "        plt.axvline(x=seasonal_statistics[season]['mean_difference'], linestyle='--', label=f'Mean {season}')\n",
    "    plt.title('Histogram of Trend Differences')\n",
    "    plt.xlabel('Difference in Trend')\n",
    "    plt.ylabel('Frequency')\n",
    "    plt.grid(True)\n",
    "    Seasonal_histograms_path = os.path.join(GAM_output_folder_path, f'Seasonal_histograms_{estuary}.png')\n",
    "    plt.savefig(Seasonal_histograms_path)\n",
    "    plt.close('all')\n",
    "    \n",
    "\n",
    "    #=================Exporting to CSV and a Dictionary for map plotting=======================\n",
    "\n",
    "    #=============================Print to CSV============================================\n",
    "    #Appending to a dictionaries for a csv\n",
    "    trend_result_list.append({\n",
    "        'Model_r_squared': r2,\n",
    "        'Model mean Squared Error': mse,\n",
    "        'Spring_average': seasonal_statistics['spring']['mean_difference'],\n",
    "        'Spring_stdev': seasonal_statistics['spring']['std_dev_difference'],\n",
    "        'Summer_average': seasonal_statistics['summer']['mean_difference'],\n",
    "        'Summer_stdev': seasonal_statistics['summer']['std_dev_difference'],\n",
    "        'Autumn_average': seasonal_statistics['autumn']['mean_difference'],\n",
    "        'Autumn_stdev': seasonal_statistics['autumn']['std_dev_difference'],\n",
    "        'Winter_average': seasonal_statistics['winter']['mean_difference'],\n",
    "        'Winter_stdev': seasonal_statistics['winter']['std_dev_difference'],\n",
    "        'Annual_average':annual_mean_difference,\n",
    "        'Annual_stdev':annual_std_dev_difference\n",
    "    })\n",
    "    \n",
    "    # Convert the list of dictionaries to a DataFrame\n",
    "    df = pd.DataFrame(trend_result_list)\n",
    "    # Export the DataFrame to a CSV file\n",
    "    csv_path = os.path.join(GAM_output_folder_path, f'{estuary}_trend_result_list.csv')\n",
    "    df.to_csv(csv_path, index=False)\n",
    "\n",
    "    # PLOT TO VISUALISE PARTIAL DEPENDENCE OF TENSOR IN 2D\n",
    "    \n",
    "    # Generate the grid for the tensor\n",
    "    XX = gam.generate_X_grid(term=2, meshgrid=True)\n",
    "    # Generate partial dependence plot\n",
    "    Z = gam.partial_dependence(term=2, X=XX, meshgrid=True)\n",
    "\n",
    "    # Ensure Z_te is reshaped to a 2D array if necessary\n",
    "    Z_T=Z.T\n",
    "    \n",
    "    plt.imshow(Z_T, extent=(XX[0].min(), XX[0].max(), XX[1].min(), XX[1].max()), origin='lower', aspect='auto')\n",
    "    plt.colorbar(label='Partial dependence')\n",
    "    plt.xlabel('Day of Year')\n",
    "    plt.ylabel('Float Date')\n",
    "    plt.title('Partial Dependence of Day of Year and Float Date')\n",
    "    Tensor_visualisation_path = os.path.join(GAM_output_folder_path, f'Tensor_2D_visualisation_{estuary}.png')\n",
    "    plt.savefig(Tensor_visualisation_path)\n",
    "    plt.close('all')\n",
    "\n",
    "    print(f'{estuary} completed successfully')\n",
    "    \n",
    "    print('Run completed successfully')\n",
    "\n",
    "    return trend_result_list, XX, Z"
   ]
  },
  {
   "cell_type": "code",
   "execution_count": 23,
   "id": "d84ca307-9edd-48d8-851a-e32714907ac8",
   "metadata": {},
   "outputs": [],
   "source": [
    "def extract_shapefile(data_dict, estuary_to_extract, input_shapefile, target_crs='EPSG:xxxx'):\n",
    "    if estuary_to_extract in data_dict:\n",
    "        # Get the corresponding values from the dictionary\n",
    "        corresponding_values = data_dict[estuary_to_extract]\n",
    "\n",
    "        # Initialize an empty GeoDataFrame\n",
    "        combined_gdf = gpd.GeoDataFrame()\n",
    "    \n",
    "        # Iterate through each corresponding value\n",
    "        for value in corresponding_values:\n",
    "            # Filter rows based on the current value\n",
    "            subset_gdf = input_shapefile[input_shapefile['wb_name'] == value]\n",
    "\n",
    "            # Check if the subset is not empty before combining\n",
    "            if not subset_gdf.empty:\n",
    "                # Concatenate the subset to the combined GeoDataFrame\n",
    "                combined_gdf = pd.concat([combined_gdf, subset_gdf], ignore_index=True)\n",
    "\n",
    "        # Check if there is more than one row for the key\n",
    "        if len(combined_gdf) > 1:\n",
    "            # Use unary_union to combine geometries\n",
    "            combined_geometry = unary_union(combined_gdf['geometry'])\n",
    "\n",
    "            # Create a new GeoDataFrame with the combined geometry\n",
    "            new_gdf = gpd.GeoDataFrame(geometry=[combined_geometry], crs=target_crs)\n",
    "\n",
    "            # Print or do further processing with the new GeoDataFrame\n",
    "            print(new_gdf)\n",
    "        elif not combined_gdf.empty:\n",
    "            # Only one row, no need to combine, use the original GeoDataFrame\n",
    "            new_gdf = combined_gdf.copy()\n",
    "            new_gdf.crs = target_crs  # Set CRS for the single-row GeoDataFrame\n",
    "            print(new_gdf)\n",
    "        else:\n",
    "            print(f\"No features found for {estuary_to_extract}.\")\n",
    "    else:\n",
    "        print(f\"{estuary_to_extract} not found in the dictionary.\")\n",
    "\n",
    "    return new_gdf"
   ]
  },
  {
   "cell_type": "code",
   "execution_count": 24,
   "id": "e946682c-84cd-4695-92ed-1edba2ebcb97",
   "metadata": {},
   "outputs": [],
   "source": [
    "wfd_trac = f\"C:\\\\Users\\\\alechutchings\\\\Documents\\\\PythonNotebooks\\\\WFD_trac_shapefile\\\\WFD_Transitional_and_Coastal_Water_Bodies_Cycle_2.shp\"\n",
    "wfd_trac_shp = gpd.read_file(wfd_trac) "
   ]
  },
  {
   "cell_type": "code",
   "execution_count": 25,
   "id": "e401c591-fac9-4e9e-ad62-21cd6754b180",
   "metadata": {},
   "outputs": [],
   "source": [
    "# Assuming you have a CSV file with multiple columns\n",
    "csv_file_path = \"C:\\\\Users\\\\alechutchings\\\\Documents\\\\PythonNotebooks\\\\estuary_shapefile_dictionary.csv\"\n",
    "\n",
    "# Initialize an empty dictionary\n",
    "data_dict = {}\n",
    "\n",
    "# Read the CSV file and populate the dictionary\n",
    "with open(csv_file_path, 'r') as csv_file:\n",
    "    csv_reader = csv.reader(csv_file)\n",
    "    \n",
    "    # Skip the header row if it exists\n",
    "    next(csv_reader, None)\n",
    "    \n",
    "    # Iterate through rows and add key-value pairs to the dictionary\n",
    "    for row in csv_reader:\n",
    "        key = row[0]\n",
    "        values = row[1:]  # Collect all values from the second column onwards\n",
    "        data_dict[key] = values"
   ]
  },
  {
   "cell_type": "code",
   "execution_count": 26,
   "id": "bb67d527-2837-4144-b3ef-8167259cb385",
   "metadata": {},
   "outputs": [
    {
     "name": "stdout",
     "output_type": "stream",
     "text": [
      "83\n"
     ]
    }
   ],
   "source": [
    "estuary_list = list(data_dict.keys())\n",
    "print(len(estuary_list))"
   ]
  },
  {
   "cell_type": "code",
   "execution_count": 41,
   "id": "d0837fa7-a176-4e7e-a4ab-ef0a9a6156de",
   "metadata": {},
   "outputs": [
    {
     "name": "stdout",
     "output_type": "stream",
     "text": [
      "C:\\Users\\alechutchings\\Documents\\PythonNotebooks\\SeasonalEstuaryChanges\\Adur\n",
      "Folder 'C:\\Users\\alechutchings\\Documents\\PythonNotebooks\\SeasonalEstuaryChanges\\Adur\\MODEL_3_Outputs_Tensor_Oxygen, Dissolved,  Saturation_2006_2022' created.\n"
     ]
    },
    {
     "name": "stderr",
     "output_type": "stream",
     "text": [
      "100% (11 of 11) |########################| Elapsed Time: 0:00:01 Time:  0:00:01\n",
      "  0% (0 of 11) |                         | Elapsed Time: 0:00:00 ETA:  --:--:--"
     ]
    },
    {
     "name": "stdout",
     "output_type": "stream",
     "text": [
      "Adur completed successfully\n",
      "Run completed successfully\n",
      "C:\\Users\\alechutchings\\Documents\\PythonNotebooks\\SeasonalEstuaryChanges\\Alde_ore\n",
      "Folder 'C:\\Users\\alechutchings\\Documents\\PythonNotebooks\\SeasonalEstuaryChanges\\Alde_ore\\MODEL_3_Outputs_Tensor_Oxygen, Dissolved,  Saturation_2006_2022' created.\n"
     ]
    },
    {
     "name": "stderr",
     "output_type": "stream",
     "text": [
      "100% (11 of 11) |########################| Elapsed Time: 0:00:01 Time:  0:00:01\n",
      "Traceback (most recent call last):\n",
      "  File \"C:\\Users\\alechutchings\\AppData\\Local\\Temp\\2\\ipykernel_2436\\2798313611.py\", line 33, in <module>\n",
      "    trend_result_list, XX, Z = run_GAM(Est_group_all, det, GAM_output_path)\n",
      "                               ^^^^^^^^^^^^^^^^^^^^^^^^^^^^^^^^^^^^^^^^^^^^\n",
      "  File \"C:\\Users\\alechutchings\\AppData\\Local\\Temp\\2\\ipykernel_2436\\3788278592.py\", line 139, in run_GAM\n",
      "    annual_difference = monte_carlo_simulation_from_specific_years(early_period, late_period, annual_samples, XX_years, num_iterations)\n",
      "                        ^^^^^^^^^^^^^^^^^^^^^^^^^^^^^^^^^^^^^^^^^^^^^^^^^^^^^^^^^^^^^^^^^^^^^^^^^^^^^^^^^^^^^^^^^^^^^^^^^^^^^^^^^^^^^^^\n",
      "  File \"C:\\Users\\alechutchings\\AppData\\Local\\Temp\\2\\ipykernel_2436\\3155166224.py\", line 11, in monte_carlo_simulation_from_specific_years\n",
      "    idx2 = np.random.choice(selected_late_data_indices)\n",
      "           ^^^^^^^^^^^^^^^^^^^^^^^^^^^^^^^^^^^^^^^^^^^^\n",
      "  File \"mtrand.pyx\", line 950, in numpy.random.mtrand.RandomState.choice\n",
      "ValueError: 'a' cannot be empty unless no samples are taken\n",
      "Traceback (most recent call last):\n",
      "  File \"C:\\Users\\alechutchings\\AppData\\Local\\anaconda3\\envs\\geo_env\\Lib\\site-packages\\pandas\\core\\indexes\\base.py\", line 3653, in get_loc\n",
      "    return self._engine.get_loc(casted_key)\n",
      "           ^^^^^^^^^^^^^^^^^^^^^^^^^^^^^^^^\n",
      "  File \"pandas\\_libs\\index.pyx\", line 147, in pandas._libs.index.IndexEngine.get_loc\n",
      "  File \"pandas\\_libs\\index.pyx\", line 176, in pandas._libs.index.IndexEngine.get_loc\n",
      "  File \"pandas\\_libs\\hashtable_class_helper.pxi\", line 7080, in pandas._libs.hashtable.PyObjectHashTable.get_item\n",
      "  File \"pandas\\_libs\\hashtable_class_helper.pxi\", line 7088, in pandas._libs.hashtable.PyObjectHashTable.get_item\n",
      "KeyError: 'Oxygen, Dissolved,  Saturation'\n",
      "\n",
      "The above exception was the direct cause of the following exception:\n",
      "\n",
      "Traceback (most recent call last):\n",
      "  File \"C:\\Users\\alechutchings\\AppData\\Local\\Temp\\2\\ipykernel_2436\\2798313611.py\", line 33, in <module>\n",
      "    trend_result_list, XX, Z = run_GAM(Est_group_all, det, GAM_output_path)\n",
      "                               ^^^^^^^^^^^^^^^^^^^^^^^^^^^^^^^^^^^^^^^^^^^^\n",
      "  File \"C:\\Users\\alechutchings\\AppData\\Local\\Temp\\2\\ipykernel_2436\\3788278592.py\", line 32, in run_GAM\n",
      "    Y = Est_all[det].values\n",
      "        ~~~~~~~^^^^^\n",
      "  File \"C:\\Users\\alechutchings\\AppData\\Local\\anaconda3\\envs\\geo_env\\Lib\\site-packages\\pandas\\core\\frame.py\", line 3761, in __getitem__\n",
      "    indexer = self.columns.get_loc(key)\n",
      "              ^^^^^^^^^^^^^^^^^^^^^^^^^\n",
      "  File \"C:\\Users\\alechutchings\\AppData\\Local\\anaconda3\\envs\\geo_env\\Lib\\site-packages\\pandas\\core\\indexes\\base.py\", line 3655, in get_loc\n",
      "    raise KeyError(key) from err\n",
      "KeyError: 'Oxygen, Dissolved,  Saturation'\n",
      "  0% (0 of 11) |                         | Elapsed Time: 0:00:00 ETA:  --:--:--"
     ]
    },
    {
     "name": "stdout",
     "output_type": "stream",
     "text": [
      "Error processing Alde_ore: 'a' cannot be empty unless no samples are taken\n",
      "C:\\Users\\alechutchings\\Documents\\PythonNotebooks\\SeasonalEstuaryChanges\\Aln\n",
      "Folder 'C:\\Users\\alechutchings\\Documents\\PythonNotebooks\\SeasonalEstuaryChanges\\Aln\\MODEL_3_Outputs_Tensor_Oxygen, Dissolved,  Saturation_2006_2022' created.\n",
      "Error processing Aln: 'Oxygen, Dissolved,  Saturation'\n",
      "C:\\Users\\alechutchings\\Documents\\PythonNotebooks\\SeasonalEstuaryChanges\\Alt\n",
      "Folder 'C:\\Users\\alechutchings\\Documents\\PythonNotebooks\\SeasonalEstuaryChanges\\Alt\\MODEL_3_Outputs_Tensor_Oxygen, Dissolved,  Saturation_2006_2022' created.\n"
     ]
    },
    {
     "name": "stderr",
     "output_type": "stream",
     "text": [
      "100% (11 of 11) |########################| Elapsed Time: 0:00:01 Time:  0:00:01\n",
      "Traceback (most recent call last):\n",
      "  File \"C:\\Users\\alechutchings\\AppData\\Local\\Temp\\2\\ipykernel_2436\\2798313611.py\", line 33, in <module>\n",
      "    trend_result_list, XX, Z = run_GAM(Est_group_all, det, GAM_output_path)\n",
      "                               ^^^^^^^^^^^^^^^^^^^^^^^^^^^^^^^^^^^^^^^^^^^^\n",
      "  File \"C:\\Users\\alechutchings\\AppData\\Local\\Temp\\2\\ipykernel_2436\\3788278592.py\", line 139, in run_GAM\n",
      "    annual_difference = monte_carlo_simulation_from_specific_years(early_period, late_period, annual_samples, XX_years, num_iterations)\n",
      "                        ^^^^^^^^^^^^^^^^^^^^^^^^^^^^^^^^^^^^^^^^^^^^^^^^^^^^^^^^^^^^^^^^^^^^^^^^^^^^^^^^^^^^^^^^^^^^^^^^^^^^^^^^^^^^^^^\n",
      "  File \"C:\\Users\\alechutchings\\AppData\\Local\\Temp\\2\\ipykernel_2436\\3155166224.py\", line 10, in monte_carlo_simulation_from_specific_years\n",
      "    idx1 = np.random.choice(selected_early_data_indices)\n",
      "           ^^^^^^^^^^^^^^^^^^^^^^^^^^^^^^^^^^^^^^^^^^^^^\n",
      "  File \"mtrand.pyx\", line 950, in numpy.random.mtrand.RandomState.choice\n",
      "ValueError: 'a' cannot be empty unless no samples are taken\n"
     ]
    },
    {
     "name": "stdout",
     "output_type": "stream",
     "text": [
      "Error processing Alt: 'a' cannot be empty unless no samples are taken\n",
      "C:\\Users\\alechutchings\\Documents\\PythonNotebooks\\SeasonalEstuaryChanges\\Arun\n",
      "Folder 'C:\\Users\\alechutchings\\Documents\\PythonNotebooks\\SeasonalEstuaryChanges\\Arun\\MODEL_3_Outputs_Tensor_Oxygen, Dissolved,  Saturation_2006_2022' created.\n"
     ]
    },
    {
     "name": "stderr",
     "output_type": "stream",
     "text": [
      "100% (11 of 11) |########################| Elapsed Time: 0:00:01 Time:  0:00:01\n",
      "Traceback (most recent call last):\n",
      "  File \"C:\\Users\\alechutchings\\AppData\\Local\\Temp\\2\\ipykernel_2436\\2798313611.py\", line 33, in <module>\n",
      "    trend_result_list, XX, Z = run_GAM(Est_group_all, det, GAM_output_path)\n",
      "                               ^^^^^^^^^^^^^^^^^^^^^^^^^^^^^^^^^^^^^^^^^^^^\n",
      "  File \"C:\\Users\\alechutchings\\AppData\\Local\\Temp\\2\\ipykernel_2436\\3788278592.py\", line 139, in run_GAM\n",
      "    annual_difference = monte_carlo_simulation_from_specific_years(early_period, late_period, annual_samples, XX_years, num_iterations)\n",
      "                        ^^^^^^^^^^^^^^^^^^^^^^^^^^^^^^^^^^^^^^^^^^^^^^^^^^^^^^^^^^^^^^^^^^^^^^^^^^^^^^^^^^^^^^^^^^^^^^^^^^^^^^^^^^^^^^^\n",
      "  File \"C:\\Users\\alechutchings\\AppData\\Local\\Temp\\2\\ipykernel_2436\\3155166224.py\", line 11, in monte_carlo_simulation_from_specific_years\n",
      "    idx2 = np.random.choice(selected_late_data_indices)\n",
      "           ^^^^^^^^^^^^^^^^^^^^^^^^^^^^^^^^^^^^^^^^^^^^\n",
      "  File \"mtrand.pyx\", line 950, in numpy.random.mtrand.RandomState.choice\n",
      "ValueError: 'a' cannot be empty unless no samples are taken\n"
     ]
    },
    {
     "name": "stdout",
     "output_type": "stream",
     "text": [
      "Error processing Arun: 'a' cannot be empty unless no samples are taken\n",
      "C:\\Users\\alechutchings\\Documents\\PythonNotebooks\\SeasonalEstuaryChanges\\Avon\n",
      "Folder 'C:\\Users\\alechutchings\\Documents\\PythonNotebooks\\SeasonalEstuaryChanges\\Avon\\MODEL_3_Outputs_Tensor_Oxygen, Dissolved,  Saturation_2006_2022' created.\n"
     ]
    },
    {
     "name": "stderr",
     "output_type": "stream",
     "text": [
      "100% (11 of 11) |########################| Elapsed Time: 0:00:00 Time:  0:00:00\n",
      "Traceback (most recent call last):\n",
      "  File \"C:\\Users\\alechutchings\\AppData\\Local\\Temp\\2\\ipykernel_2436\\2798313611.py\", line 33, in <module>\n",
      "    trend_result_list, XX, Z = run_GAM(Est_group_all, det, GAM_output_path)\n",
      "                               ^^^^^^^^^^^^^^^^^^^^^^^^^^^^^^^^^^^^^^^^^^^^\n",
      "  File \"C:\\Users\\alechutchings\\AppData\\Local\\Temp\\2\\ipykernel_2436\\3788278592.py\", line 139, in run_GAM\n",
      "    annual_difference = monte_carlo_simulation_from_specific_years(early_period, late_period, annual_samples, XX_years, num_iterations)\n",
      "                        ^^^^^^^^^^^^^^^^^^^^^^^^^^^^^^^^^^^^^^^^^^^^^^^^^^^^^^^^^^^^^^^^^^^^^^^^^^^^^^^^^^^^^^^^^^^^^^^^^^^^^^^^^^^^^^^\n",
      "  File \"C:\\Users\\alechutchings\\AppData\\Local\\Temp\\2\\ipykernel_2436\\3155166224.py\", line 11, in monte_carlo_simulation_from_specific_years\n",
      "    idx2 = np.random.choice(selected_late_data_indices)\n",
      "           ^^^^^^^^^^^^^^^^^^^^^^^^^^^^^^^^^^^^^^^^^^^^\n",
      "  File \"mtrand.pyx\", line 950, in numpy.random.mtrand.RandomState.choice\n",
      "ValueError: 'a' cannot be empty unless no samples are taken\n",
      "  0% (0 of 11) |                         | Elapsed Time: 0:00:00 ETA:  --:--:--"
     ]
    },
    {
     "name": "stdout",
     "output_type": "stream",
     "text": [
      "Error processing Avon: 'a' cannot be empty unless no samples are taken\n",
      "C:\\Users\\alechutchings\\Documents\\PythonNotebooks\\SeasonalEstuaryChanges\\Axe\n",
      "Folder 'C:\\Users\\alechutchings\\Documents\\PythonNotebooks\\SeasonalEstuaryChanges\\Axe\\MODEL_3_Outputs_Tensor_Oxygen, Dissolved,  Saturation_2006_2022' created.\n"
     ]
    },
    {
     "name": "stderr",
     "output_type": "stream",
     "text": [
      "100% (11 of 11) |########################| Elapsed Time: 0:00:00 Time:  0:00:00\n",
      "Traceback (most recent call last):\n",
      "  File \"C:\\Users\\alechutchings\\AppData\\Local\\Temp\\2\\ipykernel_2436\\2798313611.py\", line 33, in <module>\n",
      "    trend_result_list, XX, Z = run_GAM(Est_group_all, det, GAM_output_path)\n",
      "                               ^^^^^^^^^^^^^^^^^^^^^^^^^^^^^^^^^^^^^^^^^^^^\n",
      "  File \"C:\\Users\\alechutchings\\AppData\\Local\\Temp\\2\\ipykernel_2436\\3788278592.py\", line 139, in run_GAM\n",
      "    annual_difference = monte_carlo_simulation_from_specific_years(early_period, late_period, annual_samples, XX_years, num_iterations)\n",
      "                        ^^^^^^^^^^^^^^^^^^^^^^^^^^^^^^^^^^^^^^^^^^^^^^^^^^^^^^^^^^^^^^^^^^^^^^^^^^^^^^^^^^^^^^^^^^^^^^^^^^^^^^^^^^^^^^^\n",
      "  File \"C:\\Users\\alechutchings\\AppData\\Local\\Temp\\2\\ipykernel_2436\\3155166224.py\", line 10, in monte_carlo_simulation_from_specific_years\n",
      "    idx1 = np.random.choice(selected_early_data_indices)\n",
      "           ^^^^^^^^^^^^^^^^^^^^^^^^^^^^^^^^^^^^^^^^^^^^^\n",
      "  File \"mtrand.pyx\", line 950, in numpy.random.mtrand.RandomState.choice\n",
      "ValueError: 'a' cannot be empty unless no samples are taken\n"
     ]
    },
    {
     "name": "stdout",
     "output_type": "stream",
     "text": [
      "Error processing Axe: 'a' cannot be empty unless no samples are taken\n",
      "C:\\Users\\alechutchings\\Documents\\PythonNotebooks\\SeasonalEstuaryChanges\\Beaulieu\n",
      "Folder 'C:\\Users\\alechutchings\\Documents\\PythonNotebooks\\SeasonalEstuaryChanges\\Beaulieu\\MODEL_3_Outputs_Tensor_Oxygen, Dissolved,  Saturation_2006_2022' created.\n"
     ]
    },
    {
     "name": "stderr",
     "output_type": "stream",
     "text": [
      "100% (11 of 11) |########################| Elapsed Time: 0:00:01 Time:  0:00:01\n"
     ]
    },
    {
     "name": "stdout",
     "output_type": "stream",
     "text": [
      "Beaulieu completed successfully\n",
      "Run completed successfully\n",
      "C:\\Users\\alechutchings\\Documents\\PythonNotebooks\\SeasonalEstuaryChanges\\Blackwater\n",
      "Folder 'C:\\Users\\alechutchings\\Documents\\PythonNotebooks\\SeasonalEstuaryChanges\\Blackwater\\MODEL_3_Outputs_Tensor_Oxygen, Dissolved,  Saturation_2006_2022' created.\n"
     ]
    },
    {
     "name": "stderr",
     "output_type": "stream",
     "text": [
      "100% (11 of 11) |########################| Elapsed Time: 0:00:01 Time:  0:00:01\n",
      " 18% (2 of 11) |####                     | Elapsed Time: 0:00:00 ETA:   0:00:00"
     ]
    },
    {
     "name": "stdout",
     "output_type": "stream",
     "text": [
      "Blackwater completed successfully\n",
      "Run completed successfully\n",
      "C:\\Users\\alechutchings\\Documents\\PythonNotebooks\\SeasonalEstuaryChanges\\Blythe_north\n",
      "Folder 'C:\\Users\\alechutchings\\Documents\\PythonNotebooks\\SeasonalEstuaryChanges\\Blythe_north\\MODEL_3_Outputs_Tensor_Oxygen, Dissolved,  Saturation_2006_2022' created.\n"
     ]
    },
    {
     "name": "stderr",
     "output_type": "stream",
     "text": [
      "100% (11 of 11) |########################| Elapsed Time: 0:00:00 Time:  0:00:00\n",
      "Traceback (most recent call last):\n",
      "  File \"C:\\Users\\alechutchings\\AppData\\Local\\Temp\\2\\ipykernel_2436\\2798313611.py\", line 33, in <module>\n",
      "    trend_result_list, XX, Z = run_GAM(Est_group_all, det, GAM_output_path)\n",
      "                               ^^^^^^^^^^^^^^^^^^^^^^^^^^^^^^^^^^^^^^^^^^^^\n",
      "  File \"C:\\Users\\alechutchings\\AppData\\Local\\Temp\\2\\ipykernel_2436\\3788278592.py\", line 139, in run_GAM\n",
      "    annual_difference = monte_carlo_simulation_from_specific_years(early_period, late_period, annual_samples, XX_years, num_iterations)\n",
      "                        ^^^^^^^^^^^^^^^^^^^^^^^^^^^^^^^^^^^^^^^^^^^^^^^^^^^^^^^^^^^^^^^^^^^^^^^^^^^^^^^^^^^^^^^^^^^^^^^^^^^^^^^^^^^^^^^\n",
      "  File \"C:\\Users\\alechutchings\\AppData\\Local\\Temp\\2\\ipykernel_2436\\3155166224.py\", line 11, in monte_carlo_simulation_from_specific_years\n",
      "    idx2 = np.random.choice(selected_late_data_indices)\n",
      "           ^^^^^^^^^^^^^^^^^^^^^^^^^^^^^^^^^^^^^^^^^^^^\n",
      "  File \"mtrand.pyx\", line 950, in numpy.random.mtrand.RandomState.choice\n",
      "ValueError: 'a' cannot be empty unless no samples are taken\n",
      "  0% (0 of 11) |                         | Elapsed Time: 0:00:00 ETA:  --:--:--"
     ]
    },
    {
     "name": "stdout",
     "output_type": "stream",
     "text": [
      "Error processing Blythe_north: 'a' cannot be empty unless no samples are taken\n",
      "C:\\Users\\alechutchings\\Documents\\PythonNotebooks\\SeasonalEstuaryChanges\\Blythe_south\n",
      "Folder 'C:\\Users\\alechutchings\\Documents\\PythonNotebooks\\SeasonalEstuaryChanges\\Blythe_south\\MODEL_3_Outputs_Tensor_Oxygen, Dissolved,  Saturation_2006_2022' created.\n"
     ]
    },
    {
     "name": "stderr",
     "output_type": "stream",
     "text": [
      "100% (11 of 11) |########################| Elapsed Time: 0:00:00 Time:  0:00:00\n",
      "Traceback (most recent call last):\n",
      "  File \"C:\\Users\\alechutchings\\AppData\\Local\\Temp\\2\\ipykernel_2436\\2798313611.py\", line 33, in <module>\n",
      "    trend_result_list, XX, Z = run_GAM(Est_group_all, det, GAM_output_path)\n",
      "                               ^^^^^^^^^^^^^^^^^^^^^^^^^^^^^^^^^^^^^^^^^^^^\n",
      "  File \"C:\\Users\\alechutchings\\AppData\\Local\\Temp\\2\\ipykernel_2436\\3788278592.py\", line 139, in run_GAM\n",
      "    annual_difference = monte_carlo_simulation_from_specific_years(early_period, late_period, annual_samples, XX_years, num_iterations)\n",
      "                        ^^^^^^^^^^^^^^^^^^^^^^^^^^^^^^^^^^^^^^^^^^^^^^^^^^^^^^^^^^^^^^^^^^^^^^^^^^^^^^^^^^^^^^^^^^^^^^^^^^^^^^^^^^^^^^^\n",
      "  File \"C:\\Users\\alechutchings\\AppData\\Local\\Temp\\2\\ipykernel_2436\\3155166224.py\", line 11, in monte_carlo_simulation_from_specific_years\n",
      "    idx2 = np.random.choice(selected_late_data_indices)\n",
      "           ^^^^^^^^^^^^^^^^^^^^^^^^^^^^^^^^^^^^^^^^^^^^\n",
      "  File \"mtrand.pyx\", line 950, in numpy.random.mtrand.RandomState.choice\n",
      "ValueError: 'a' cannot be empty unless no samples are taken\n",
      "Traceback (most recent call last):\n",
      "  File \"C:\\Users\\alechutchings\\AppData\\Local\\anaconda3\\envs\\geo_env\\Lib\\site-packages\\pandas\\core\\indexes\\base.py\", line 3653, in get_loc\n",
      "    return self._engine.get_loc(casted_key)\n",
      "           ^^^^^^^^^^^^^^^^^^^^^^^^^^^^^^^^\n",
      "  File \"pandas\\_libs\\index.pyx\", line 147, in pandas._libs.index.IndexEngine.get_loc\n",
      "  File \"pandas\\_libs\\index.pyx\", line 176, in pandas._libs.index.IndexEngine.get_loc\n",
      "  File \"pandas\\_libs\\hashtable_class_helper.pxi\", line 7080, in pandas._libs.hashtable.PyObjectHashTable.get_item\n",
      "  File \"pandas\\_libs\\hashtable_class_helper.pxi\", line 7088, in pandas._libs.hashtable.PyObjectHashTable.get_item\n",
      "KeyError: 'Oxygen, Dissolved,  Saturation'\n",
      "\n",
      "The above exception was the direct cause of the following exception:\n",
      "\n",
      "Traceback (most recent call last):\n",
      "  File \"C:\\Users\\alechutchings\\AppData\\Local\\Temp\\2\\ipykernel_2436\\2798313611.py\", line 33, in <module>\n",
      "    trend_result_list, XX, Z = run_GAM(Est_group_all, det, GAM_output_path)\n",
      "                               ^^^^^^^^^^^^^^^^^^^^^^^^^^^^^^^^^^^^^^^^^^^^\n",
      "  File \"C:\\Users\\alechutchings\\AppData\\Local\\Temp\\2\\ipykernel_2436\\3788278592.py\", line 32, in run_GAM\n",
      "    Y = Est_all[det].values\n",
      "        ~~~~~~~^^^^^\n",
      "  File \"C:\\Users\\alechutchings\\AppData\\Local\\anaconda3\\envs\\geo_env\\Lib\\site-packages\\pandas\\core\\frame.py\", line 3761, in __getitem__\n",
      "    indexer = self.columns.get_loc(key)\n",
      "              ^^^^^^^^^^^^^^^^^^^^^^^^^\n",
      "  File \"C:\\Users\\alechutchings\\AppData\\Local\\anaconda3\\envs\\geo_env\\Lib\\site-packages\\pandas\\core\\indexes\\base.py\", line 3655, in get_loc\n",
      "    raise KeyError(key) from err\n",
      "KeyError: 'Oxygen, Dissolved,  Saturation'\n"
     ]
    },
    {
     "name": "stdout",
     "output_type": "stream",
     "text": [
      "Error processing Blythe_south: 'a' cannot be empty unless no samples are taken\n",
      "C:\\Users\\alechutchings\\Documents\\PythonNotebooks\\SeasonalEstuaryChanges\\Bristol_avon\n",
      "Folder 'C:\\Users\\alechutchings\\Documents\\PythonNotebooks\\SeasonalEstuaryChanges\\Bristol_avon\\MODEL_3_Outputs_Tensor_Oxygen, Dissolved,  Saturation_2006_2022' created.\n",
      "Error processing Bristol_avon: 'Oxygen, Dissolved,  Saturation'\n",
      "C:\\Users\\alechutchings\\Documents\\PythonNotebooks\\SeasonalEstuaryChanges\\Bure\n",
      "Folder 'C:\\Users\\alechutchings\\Documents\\PythonNotebooks\\SeasonalEstuaryChanges\\Bure\\MODEL_3_Outputs_Tensor_Oxygen, Dissolved,  Saturation_2006_2022' created.\n"
     ]
    },
    {
     "name": "stderr",
     "output_type": "stream",
     "text": [
      "100% (11 of 11) |########################| Elapsed Time: 0:00:01 Time:  0:00:01\n",
      "  0% (0 of 11) |                         | Elapsed Time: 0:00:00 ETA:  --:--:--"
     ]
    },
    {
     "name": "stdout",
     "output_type": "stream",
     "text": [
      "Bure completed successfully\n",
      "Run completed successfully\n",
      "C:\\Users\\alechutchings\\Documents\\PythonNotebooks\\SeasonalEstuaryChanges\\Burn\n",
      "Folder 'C:\\Users\\alechutchings\\Documents\\PythonNotebooks\\SeasonalEstuaryChanges\\Burn\\MODEL_3_Outputs_Tensor_Oxygen, Dissolved,  Saturation_2006_2022' created.\n"
     ]
    },
    {
     "name": "stderr",
     "output_type": "stream",
     "text": [
      "100% (11 of 11) |########################| Elapsed Time: 0:00:00 Time:  0:00:00\n",
      "Traceback (most recent call last):\n",
      "  File \"C:\\Users\\alechutchings\\AppData\\Local\\Temp\\2\\ipykernel_2436\\2798313611.py\", line 33, in <module>\n",
      "    trend_result_list, XX, Z = run_GAM(Est_group_all, det, GAM_output_path)\n",
      "                               ^^^^^^^^^^^^^^^^^^^^^^^^^^^^^^^^^^^^^^^^^^^^\n",
      "  File \"C:\\Users\\alechutchings\\AppData\\Local\\Temp\\2\\ipykernel_2436\\3788278592.py\", line 139, in run_GAM\n",
      "    annual_difference = monte_carlo_simulation_from_specific_years(early_period, late_period, annual_samples, XX_years, num_iterations)\n",
      "                        ^^^^^^^^^^^^^^^^^^^^^^^^^^^^^^^^^^^^^^^^^^^^^^^^^^^^^^^^^^^^^^^^^^^^^^^^^^^^^^^^^^^^^^^^^^^^^^^^^^^^^^^^^^^^^^^\n",
      "  File \"C:\\Users\\alechutchings\\AppData\\Local\\Temp\\2\\ipykernel_2436\\3155166224.py\", line 11, in monte_carlo_simulation_from_specific_years\n",
      "    idx2 = np.random.choice(selected_late_data_indices)\n",
      "           ^^^^^^^^^^^^^^^^^^^^^^^^^^^^^^^^^^^^^^^^^^^^\n",
      "  File \"mtrand.pyx\", line 950, in numpy.random.mtrand.RandomState.choice\n",
      "ValueError: 'a' cannot be empty unless no samples are taken\n"
     ]
    },
    {
     "name": "stdout",
     "output_type": "stream",
     "text": [
      "Error processing Burn: 'a' cannot be empty unless no samples are taken\n",
      "C:\\Users\\alechutchings\\Documents\\PythonNotebooks\\SeasonalEstuaryChanges\\Camel\n",
      "Folder 'C:\\Users\\alechutchings\\Documents\\PythonNotebooks\\SeasonalEstuaryChanges\\Camel\\MODEL_3_Outputs_Tensor_Oxygen, Dissolved,  Saturation_2006_2022' created.\n"
     ]
    },
    {
     "name": "stderr",
     "output_type": "stream",
     "text": [
      "C:\\Users\\alechutchings\\AppData\\Local\\Temp\\2\\ipykernel_2436\\2701496734.py:5: DtypeWarning: Columns (10) have mixed types. Specify dtype option on import or set low_memory=False.\n",
      "  dfs = [pd.read_csv(csv, dtype={\"INTERPRETATION\": str, \"TEXT_RESULT\": str, \"DETCODE\": str}) for csv in csvs[:input_no]]\n",
      "100% (11 of 11) |########################| Elapsed Time: 0:00:02 Time:  0:00:02\n"
     ]
    },
    {
     "name": "stdout",
     "output_type": "stream",
     "text": [
      "Camel completed successfully\n",
      "Run completed successfully\n",
      "C:\\Users\\alechutchings\\Documents\\PythonNotebooks\\SeasonalEstuaryChanges\\Chichester\n",
      "Folder 'C:\\Users\\alechutchings\\Documents\\PythonNotebooks\\SeasonalEstuaryChanges\\Chichester\\MODEL_3_Outputs_Tensor_Oxygen, Dissolved,  Saturation_2006_2022' created.\n"
     ]
    },
    {
     "name": "stderr",
     "output_type": "stream",
     "text": [
      "100% (11 of 11) |########################| Elapsed Time: 0:00:02 Time:  0:00:02\n"
     ]
    },
    {
     "name": "stdout",
     "output_type": "stream",
     "text": [
      "Chichester completed successfully\n",
      "Run completed successfully\n",
      "C:\\Users\\alechutchings\\Documents\\PythonNotebooks\\SeasonalEstuaryChanges\\Christchurch\n",
      "Folder 'C:\\Users\\alechutchings\\Documents\\PythonNotebooks\\SeasonalEstuaryChanges\\Christchurch\\MODEL_3_Outputs_Tensor_Oxygen, Dissolved,  Saturation_2006_2022' created.\n"
     ]
    },
    {
     "name": "stderr",
     "output_type": "stream",
     "text": [
      "100% (11 of 11) |########################| Elapsed Time: 0:00:01 Time:  0:00:01\n",
      "Traceback (most recent call last):\n",
      "  File \"C:\\Users\\alechutchings\\AppData\\Local\\Temp\\2\\ipykernel_2436\\2798313611.py\", line 33, in <module>\n",
      "    trend_result_list, XX, Z = run_GAM(Est_group_all, det, GAM_output_path)\n",
      "                               ^^^^^^^^^^^^^^^^^^^^^^^^^^^^^^^^^^^^^^^^^^^^\n",
      "  File \"C:\\Users\\alechutchings\\AppData\\Local\\Temp\\2\\ipykernel_2436\\3788278592.py\", line 139, in run_GAM\n",
      "    annual_difference = monte_carlo_simulation_from_specific_years(early_period, late_period, annual_samples, XX_years, num_iterations)\n",
      "                        ^^^^^^^^^^^^^^^^^^^^^^^^^^^^^^^^^^^^^^^^^^^^^^^^^^^^^^^^^^^^^^^^^^^^^^^^^^^^^^^^^^^^^^^^^^^^^^^^^^^^^^^^^^^^^^^\n",
      "  File \"C:\\Users\\alechutchings\\AppData\\Local\\Temp\\2\\ipykernel_2436\\3155166224.py\", line 11, in monte_carlo_simulation_from_specific_years\n",
      "    idx2 = np.random.choice(selected_late_data_indices)\n",
      "           ^^^^^^^^^^^^^^^^^^^^^^^^^^^^^^^^^^^^^^^^^^^^\n",
      "  File \"mtrand.pyx\", line 950, in numpy.random.mtrand.RandomState.choice\n",
      "ValueError: 'a' cannot be empty unless no samples are taken\n"
     ]
    },
    {
     "name": "stdout",
     "output_type": "stream",
     "text": [
      "Error processing Christchurch: 'a' cannot be empty unless no samples are taken\n",
      "C:\\Users\\alechutchings\\Documents\\PythonNotebooks\\SeasonalEstuaryChanges\\Colne\n",
      "Folder 'C:\\Users\\alechutchings\\Documents\\PythonNotebooks\\SeasonalEstuaryChanges\\Colne\\MODEL_3_Outputs_Tensor_Oxygen, Dissolved,  Saturation_2006_2022' created.\n"
     ]
    },
    {
     "name": "stderr",
     "output_type": "stream",
     "text": [
      "100% (11 of 11) |########################| Elapsed Time: 0:00:01 Time:  0:00:01\n",
      "Traceback (most recent call last):\n",
      "  File \"C:\\Users\\alechutchings\\AppData\\Local\\Temp\\2\\ipykernel_2436\\2798313611.py\", line 33, in <module>\n",
      "    trend_result_list, XX, Z = run_GAM(Est_group_all, det, GAM_output_path)\n",
      "                               ^^^^^^^^^^^^^^^^^^^^^^^^^^^^^^^^^^^^^^^^^^^^\n",
      "  File \"C:\\Users\\alechutchings\\AppData\\Local\\Temp\\2\\ipykernel_2436\\3788278592.py\", line 139, in run_GAM\n",
      "    annual_difference = monte_carlo_simulation_from_specific_years(early_period, late_period, annual_samples, XX_years, num_iterations)\n",
      "                        ^^^^^^^^^^^^^^^^^^^^^^^^^^^^^^^^^^^^^^^^^^^^^^^^^^^^^^^^^^^^^^^^^^^^^^^^^^^^^^^^^^^^^^^^^^^^^^^^^^^^^^^^^^^^^^^\n",
      "  File \"C:\\Users\\alechutchings\\AppData\\Local\\Temp\\2\\ipykernel_2436\\3155166224.py\", line 11, in monte_carlo_simulation_from_specific_years\n",
      "    idx2 = np.random.choice(selected_late_data_indices)\n",
      "           ^^^^^^^^^^^^^^^^^^^^^^^^^^^^^^^^^^^^^^^^^^^^\n",
      "  File \"mtrand.pyx\", line 950, in numpy.random.mtrand.RandomState.choice\n",
      "ValueError: 'a' cannot be empty unless no samples are taken\n",
      "  9% (1 of 11) |##                       | Elapsed Time: 0:00:00 ETA:  00:00:00"
     ]
    },
    {
     "name": "stdout",
     "output_type": "stream",
     "text": [
      "Error processing Colne: 'a' cannot be empty unless no samples are taken\n",
      "C:\\Users\\alechutchings\\Documents\\PythonNotebooks\\SeasonalEstuaryChanges\\Coquet\n",
      "Folder 'C:\\Users\\alechutchings\\Documents\\PythonNotebooks\\SeasonalEstuaryChanges\\Coquet\\MODEL_3_Outputs_Tensor_Oxygen, Dissolved,  Saturation_2006_2022' created.\n"
     ]
    },
    {
     "name": "stderr",
     "output_type": "stream",
     "text": [
      "100% (11 of 11) |########################| Elapsed Time: 0:00:01 Time:  0:00:01\n",
      "Traceback (most recent call last):\n",
      "  File \"C:\\Users\\alechutchings\\AppData\\Local\\Temp\\2\\ipykernel_2436\\2798313611.py\", line 33, in <module>\n",
      "    trend_result_list, XX, Z = run_GAM(Est_group_all, det, GAM_output_path)\n",
      "                               ^^^^^^^^^^^^^^^^^^^^^^^^^^^^^^^^^^^^^^^^^^^^\n",
      "  File \"C:\\Users\\alechutchings\\AppData\\Local\\Temp\\2\\ipykernel_2436\\3788278592.py\", line 139, in run_GAM\n",
      "    annual_difference = monte_carlo_simulation_from_specific_years(early_period, late_period, annual_samples, XX_years, num_iterations)\n",
      "                        ^^^^^^^^^^^^^^^^^^^^^^^^^^^^^^^^^^^^^^^^^^^^^^^^^^^^^^^^^^^^^^^^^^^^^^^^^^^^^^^^^^^^^^^^^^^^^^^^^^^^^^^^^^^^^^^\n",
      "  File \"C:\\Users\\alechutchings\\AppData\\Local\\Temp\\2\\ipykernel_2436\\3155166224.py\", line 10, in monte_carlo_simulation_from_specific_years\n",
      "    idx1 = np.random.choice(selected_early_data_indices)\n",
      "           ^^^^^^^^^^^^^^^^^^^^^^^^^^^^^^^^^^^^^^^^^^^^^\n",
      "  File \"mtrand.pyx\", line 950, in numpy.random.mtrand.RandomState.choice\n",
      "ValueError: 'a' cannot be empty unless no samples are taken\n"
     ]
    },
    {
     "name": "stdout",
     "output_type": "stream",
     "text": [
      "Error processing Coquet: 'a' cannot be empty unless no samples are taken\n",
      "C:\\Users\\alechutchings\\Documents\\PythonNotebooks\\SeasonalEstuaryChanges\\Crouch\n",
      "Folder 'C:\\Users\\alechutchings\\Documents\\PythonNotebooks\\SeasonalEstuaryChanges\\Crouch\\MODEL_3_Outputs_Tensor_Oxygen, Dissolved,  Saturation_2006_2022' created.\n"
     ]
    },
    {
     "name": "stderr",
     "output_type": "stream",
     "text": [
      "100% (11 of 11) |########################| Elapsed Time: 0:00:01 Time:  0:00:01\n",
      "Traceback (most recent call last):\n",
      "  File \"C:\\Users\\alechutchings\\AppData\\Local\\Temp\\2\\ipykernel_2436\\2798313611.py\", line 33, in <module>\n",
      "    trend_result_list, XX, Z = run_GAM(Est_group_all, det, GAM_output_path)\n",
      "                               ^^^^^^^^^^^^^^^^^^^^^^^^^^^^^^^^^^^^^^^^^^^^\n",
      "  File \"C:\\Users\\alechutchings\\AppData\\Local\\Temp\\2\\ipykernel_2436\\3788278592.py\", line 139, in run_GAM\n",
      "    annual_difference = monte_carlo_simulation_from_specific_years(early_period, late_period, annual_samples, XX_years, num_iterations)\n",
      "                        ^^^^^^^^^^^^^^^^^^^^^^^^^^^^^^^^^^^^^^^^^^^^^^^^^^^^^^^^^^^^^^^^^^^^^^^^^^^^^^^^^^^^^^^^^^^^^^^^^^^^^^^^^^^^^^^\n",
      "  File \"C:\\Users\\alechutchings\\AppData\\Local\\Temp\\2\\ipykernel_2436\\3155166224.py\", line 11, in monte_carlo_simulation_from_specific_years\n",
      "    idx2 = np.random.choice(selected_late_data_indices)\n",
      "           ^^^^^^^^^^^^^^^^^^^^^^^^^^^^^^^^^^^^^^^^^^^^\n",
      "  File \"mtrand.pyx\", line 950, in numpy.random.mtrand.RandomState.choice\n",
      "ValueError: 'a' cannot be empty unless no samples are taken\n",
      "  0% (0 of 11) |                         | Elapsed Time: 0:00:00 ETA:  --:--:--"
     ]
    },
    {
     "name": "stdout",
     "output_type": "stream",
     "text": [
      "Error processing Crouch: 'a' cannot be empty unless no samples are taken\n",
      "C:\\Users\\alechutchings\\Documents\\PythonNotebooks\\SeasonalEstuaryChanges\\Cuckmere\n",
      "Folder 'C:\\Users\\alechutchings\\Documents\\PythonNotebooks\\SeasonalEstuaryChanges\\Cuckmere\\MODEL_3_Outputs_Tensor_Oxygen, Dissolved,  Saturation_2006_2022' created.\n"
     ]
    },
    {
     "name": "stderr",
     "output_type": "stream",
     "text": [
      "100% (11 of 11) |########################| Elapsed Time: 0:00:00 Time:  0:00:00\n",
      "Traceback (most recent call last):\n",
      "  File \"C:\\Users\\alechutchings\\AppData\\Local\\Temp\\2\\ipykernel_2436\\2798313611.py\", line 33, in <module>\n",
      "    trend_result_list, XX, Z = run_GAM(Est_group_all, det, GAM_output_path)\n",
      "                               ^^^^^^^^^^^^^^^^^^^^^^^^^^^^^^^^^^^^^^^^^^^^\n",
      "  File \"C:\\Users\\alechutchings\\AppData\\Local\\Temp\\2\\ipykernel_2436\\3788278592.py\", line 139, in run_GAM\n",
      "    annual_difference = monte_carlo_simulation_from_specific_years(early_period, late_period, annual_samples, XX_years, num_iterations)\n",
      "                        ^^^^^^^^^^^^^^^^^^^^^^^^^^^^^^^^^^^^^^^^^^^^^^^^^^^^^^^^^^^^^^^^^^^^^^^^^^^^^^^^^^^^^^^^^^^^^^^^^^^^^^^^^^^^^^^\n",
      "  File \"C:\\Users\\alechutchings\\AppData\\Local\\Temp\\2\\ipykernel_2436\\3155166224.py\", line 10, in monte_carlo_simulation_from_specific_years\n",
      "    idx1 = np.random.choice(selected_early_data_indices)\n",
      "           ^^^^^^^^^^^^^^^^^^^^^^^^^^^^^^^^^^^^^^^^^^^^^\n",
      "  File \"mtrand.pyx\", line 950, in numpy.random.mtrand.RandomState.choice\n",
      "ValueError: 'a' cannot be empty unless no samples are taken\n"
     ]
    },
    {
     "name": "stdout",
     "output_type": "stream",
     "text": [
      "Error processing Cuckmere: 'a' cannot be empty unless no samples are taken\n",
      "C:\\Users\\alechutchings\\Documents\\PythonNotebooks\\SeasonalEstuaryChanges\\Dart\n",
      "Folder 'C:\\Users\\alechutchings\\Documents\\PythonNotebooks\\SeasonalEstuaryChanges\\Dart\\MODEL_3_Outputs_Tensor_Oxygen, Dissolved,  Saturation_2006_2022' created.\n"
     ]
    },
    {
     "name": "stderr",
     "output_type": "stream",
     "text": [
      "C:\\Users\\alechutchings\\AppData\\Local\\Temp\\2\\ipykernel_2436\\2701496734.py:5: DtypeWarning: Columns (10) have mixed types. Specify dtype option on import or set low_memory=False.\n",
      "  dfs = [pd.read_csv(csv, dtype={\"INTERPRETATION\": str, \"TEXT_RESULT\": str, \"DETCODE\": str}) for csv in csvs[:input_no]]\n",
      "100% (11 of 11) |########################| Elapsed Time: 0:00:02 Time:  0:00:02\n"
     ]
    },
    {
     "name": "stdout",
     "output_type": "stream",
     "text": [
      "Dart completed successfully\n",
      "Run completed successfully\n",
      "C:\\Users\\alechutchings\\Documents\\PythonNotebooks\\SeasonalEstuaryChanges\\Deben\n",
      "Folder 'C:\\Users\\alechutchings\\Documents\\PythonNotebooks\\SeasonalEstuaryChanges\\Deben\\MODEL_3_Outputs_Tensor_Oxygen, Dissolved,  Saturation_2006_2022' created.\n"
     ]
    },
    {
     "name": "stderr",
     "output_type": "stream",
     "text": [
      "100% (11 of 11) |########################| Elapsed Time: 0:00:00 Time:  0:00:00\n",
      "Traceback (most recent call last):\n",
      "  File \"C:\\Users\\alechutchings\\AppData\\Local\\Temp\\2\\ipykernel_2436\\2798313611.py\", line 33, in <module>\n",
      "    trend_result_list, XX, Z = run_GAM(Est_group_all, det, GAM_output_path)\n",
      "                               ^^^^^^^^^^^^^^^^^^^^^^^^^^^^^^^^^^^^^^^^^^^^\n",
      "  File \"C:\\Users\\alechutchings\\AppData\\Local\\Temp\\2\\ipykernel_2436\\3788278592.py\", line 139, in run_GAM\n",
      "    annual_difference = monte_carlo_simulation_from_specific_years(early_period, late_period, annual_samples, XX_years, num_iterations)\n",
      "                        ^^^^^^^^^^^^^^^^^^^^^^^^^^^^^^^^^^^^^^^^^^^^^^^^^^^^^^^^^^^^^^^^^^^^^^^^^^^^^^^^^^^^^^^^^^^^^^^^^^^^^^^^^^^^^^^\n",
      "  File \"C:\\Users\\alechutchings\\AppData\\Local\\Temp\\2\\ipykernel_2436\\3155166224.py\", line 11, in monte_carlo_simulation_from_specific_years\n",
      "    idx2 = np.random.choice(selected_late_data_indices)\n",
      "           ^^^^^^^^^^^^^^^^^^^^^^^^^^^^^^^^^^^^^^^^^^^^\n",
      "  File \"mtrand.pyx\", line 950, in numpy.random.mtrand.RandomState.choice\n",
      "ValueError: 'a' cannot be empty unless no samples are taken\n",
      "Traceback (most recent call last):\n",
      "  File \"C:\\Users\\alechutchings\\AppData\\Local\\anaconda3\\envs\\geo_env\\Lib\\site-packages\\pandas\\core\\indexes\\base.py\", line 3653, in get_loc\n",
      "    return self._engine.get_loc(casted_key)\n",
      "           ^^^^^^^^^^^^^^^^^^^^^^^^^^^^^^^^\n",
      "  File \"pandas\\_libs\\index.pyx\", line 147, in pandas._libs.index.IndexEngine.get_loc\n",
      "  File \"pandas\\_libs\\index.pyx\", line 176, in pandas._libs.index.IndexEngine.get_loc\n",
      "  File \"pandas\\_libs\\hashtable_class_helper.pxi\", line 7080, in pandas._libs.hashtable.PyObjectHashTable.get_item\n",
      "  File \"pandas\\_libs\\hashtable_class_helper.pxi\", line 7088, in pandas._libs.hashtable.PyObjectHashTable.get_item\n",
      "KeyError: 'Oxygen, Dissolved,  Saturation'\n",
      "\n",
      "The above exception was the direct cause of the following exception:\n",
      "\n",
      "Traceback (most recent call last):\n",
      "  File \"C:\\Users\\alechutchings\\AppData\\Local\\Temp\\2\\ipykernel_2436\\2798313611.py\", line 33, in <module>\n",
      "    trend_result_list, XX, Z = run_GAM(Est_group_all, det, GAM_output_path)\n",
      "                               ^^^^^^^^^^^^^^^^^^^^^^^^^^^^^^^^^^^^^^^^^^^^\n",
      "  File \"C:\\Users\\alechutchings\\AppData\\Local\\Temp\\2\\ipykernel_2436\\3788278592.py\", line 32, in run_GAM\n",
      "    Y = Est_all[det].values\n",
      "        ~~~~~~~^^^^^\n",
      "  File \"C:\\Users\\alechutchings\\AppData\\Local\\anaconda3\\envs\\geo_env\\Lib\\site-packages\\pandas\\core\\frame.py\", line 3761, in __getitem__\n",
      "    indexer = self.columns.get_loc(key)\n",
      "              ^^^^^^^^^^^^^^^^^^^^^^^^^\n",
      "  File \"C:\\Users\\alechutchings\\AppData\\Local\\anaconda3\\envs\\geo_env\\Lib\\site-packages\\pandas\\core\\indexes\\base.py\", line 3655, in get_loc\n",
      "    raise KeyError(key) from err\n",
      "KeyError: 'Oxygen, Dissolved,  Saturation'\n"
     ]
    },
    {
     "name": "stdout",
     "output_type": "stream",
     "text": [
      "Error processing Deben: 'a' cannot be empty unless no samples are taken\n",
      "C:\\Users\\alechutchings\\Documents\\PythonNotebooks\\SeasonalEstuaryChanges\\Derwent\n",
      "Folder 'C:\\Users\\alechutchings\\Documents\\PythonNotebooks\\SeasonalEstuaryChanges\\Derwent\\MODEL_3_Outputs_Tensor_Oxygen, Dissolved,  Saturation_2006_2022' created.\n",
      "Error processing Derwent: 'Oxygen, Dissolved,  Saturation'\n",
      "C:\\Users\\alechutchings\\Documents\\PythonNotebooks\\SeasonalEstuaryChanges\\Duddon\n",
      "Folder 'C:\\Users\\alechutchings\\Documents\\PythonNotebooks\\SeasonalEstuaryChanges\\Duddon\\MODEL_3_Outputs_Tensor_Oxygen, Dissolved,  Saturation_2006_2022' created.\n"
     ]
    },
    {
     "name": "stderr",
     "output_type": "stream",
     "text": [
      "Traceback (most recent call last):\n",
      "  File \"C:\\Users\\alechutchings\\AppData\\Local\\anaconda3\\envs\\geo_env\\Lib\\site-packages\\pandas\\core\\indexes\\base.py\", line 3653, in get_loc\n",
      "    return self._engine.get_loc(casted_key)\n",
      "           ^^^^^^^^^^^^^^^^^^^^^^^^^^^^^^^^\n",
      "  File \"pandas\\_libs\\index.pyx\", line 147, in pandas._libs.index.IndexEngine.get_loc\n",
      "  File \"pandas\\_libs\\index.pyx\", line 176, in pandas._libs.index.IndexEngine.get_loc\n",
      "  File \"pandas\\_libs\\hashtable_class_helper.pxi\", line 7080, in pandas._libs.hashtable.PyObjectHashTable.get_item\n",
      "  File \"pandas\\_libs\\hashtable_class_helper.pxi\", line 7088, in pandas._libs.hashtable.PyObjectHashTable.get_item\n",
      "KeyError: 'Oxygen, Dissolved,  Saturation'\n",
      "\n",
      "The above exception was the direct cause of the following exception:\n",
      "\n",
      "Traceback (most recent call last):\n",
      "  File \"C:\\Users\\alechutchings\\AppData\\Local\\Temp\\2\\ipykernel_2436\\2798313611.py\", line 33, in <module>\n",
      "    trend_result_list, XX, Z = run_GAM(Est_group_all, det, GAM_output_path)\n",
      "                               ^^^^^^^^^^^^^^^^^^^^^^^^^^^^^^^^^^^^^^^^^^^^\n",
      "  File \"C:\\Users\\alechutchings\\AppData\\Local\\Temp\\2\\ipykernel_2436\\3788278592.py\", line 32, in run_GAM\n",
      "    Y = Est_all[det].values\n",
      "        ~~~~~~~^^^^^\n",
      "  File \"C:\\Users\\alechutchings\\AppData\\Local\\anaconda3\\envs\\geo_env\\Lib\\site-packages\\pandas\\core\\frame.py\", line 3761, in __getitem__\n",
      "    indexer = self.columns.get_loc(key)\n",
      "              ^^^^^^^^^^^^^^^^^^^^^^^^^\n",
      "  File \"C:\\Users\\alechutchings\\AppData\\Local\\anaconda3\\envs\\geo_env\\Lib\\site-packages\\pandas\\core\\indexes\\base.py\", line 3655, in get_loc\n",
      "    raise KeyError(key) from err\n",
      "KeyError: 'Oxygen, Dissolved,  Saturation'\n",
      "  0% (0 of 11) |                         | Elapsed Time: 0:00:00 ETA:  --:--:--"
     ]
    },
    {
     "name": "stdout",
     "output_type": "stream",
     "text": [
      "Error processing Duddon: 'Oxygen, Dissolved,  Saturation'\n",
      "C:\\Users\\alechutchings\\Documents\\PythonNotebooks\\SeasonalEstuaryChanges\\Eastern_yar\n",
      "Folder 'C:\\Users\\alechutchings\\Documents\\PythonNotebooks\\SeasonalEstuaryChanges\\Eastern_yar\\MODEL_3_Outputs_Tensor_Oxygen, Dissolved,  Saturation_2006_2022' created.\n"
     ]
    },
    {
     "name": "stderr",
     "output_type": "stream",
     "text": [
      "100% (11 of 11) |########################| Elapsed Time: 0:00:00 Time:  0:00:00\n"
     ]
    },
    {
     "name": "stdout",
     "output_type": "stream",
     "text": [
      "Eastern_yar completed successfully\n",
      "Run completed successfully\n",
      "C:\\Users\\alechutchings\\Documents\\PythonNotebooks\\SeasonalEstuaryChanges\\Erme\n",
      "Folder 'C:\\Users\\alechutchings\\Documents\\PythonNotebooks\\SeasonalEstuaryChanges\\Erme\\MODEL_3_Outputs_Tensor_Oxygen, Dissolved,  Saturation_2006_2022' created.\n"
     ]
    },
    {
     "name": "stderr",
     "output_type": "stream",
     "text": [
      "100% (11 of 11) |########################| Elapsed Time: 0:00:00 Time:  0:00:00\n",
      "Traceback (most recent call last):\n",
      "  File \"C:\\Users\\alechutchings\\AppData\\Local\\Temp\\2\\ipykernel_2436\\2798313611.py\", line 33, in <module>\n",
      "    trend_result_list, XX, Z = run_GAM(Est_group_all, det, GAM_output_path)\n",
      "                               ^^^^^^^^^^^^^^^^^^^^^^^^^^^^^^^^^^^^^^^^^^^^\n",
      "  File \"C:\\Users\\alechutchings\\AppData\\Local\\Temp\\2\\ipykernel_2436\\3788278592.py\", line 139, in run_GAM\n",
      "    annual_difference = monte_carlo_simulation_from_specific_years(early_period, late_period, annual_samples, XX_years, num_iterations)\n",
      "                        ^^^^^^^^^^^^^^^^^^^^^^^^^^^^^^^^^^^^^^^^^^^^^^^^^^^^^^^^^^^^^^^^^^^^^^^^^^^^^^^^^^^^^^^^^^^^^^^^^^^^^^^^^^^^^^^\n",
      "  File \"C:\\Users\\alechutchings\\AppData\\Local\\Temp\\2\\ipykernel_2436\\3155166224.py\", line 10, in monte_carlo_simulation_from_specific_years\n",
      "    idx1 = np.random.choice(selected_early_data_indices)\n",
      "           ^^^^^^^^^^^^^^^^^^^^^^^^^^^^^^^^^^^^^^^^^^^^^\n",
      "  File \"mtrand.pyx\", line 950, in numpy.random.mtrand.RandomState.choice\n",
      "ValueError: 'a' cannot be empty unless no samples are taken\n"
     ]
    },
    {
     "name": "stdout",
     "output_type": "stream",
     "text": [
      "Error processing Erme: 'a' cannot be empty unless no samples are taken\n",
      "C:\\Users\\alechutchings\\Documents\\PythonNotebooks\\SeasonalEstuaryChanges\\Esk_east\n",
      "Folder 'C:\\Users\\alechutchings\\Documents\\PythonNotebooks\\SeasonalEstuaryChanges\\Esk_east\\MODEL_3_Outputs_Tensor_Oxygen, Dissolved,  Saturation_2006_2022' created.\n"
     ]
    },
    {
     "name": "stderr",
     "output_type": "stream",
     "text": [
      "100% (11 of 11) |########################| Elapsed Time: 0:00:01 Time:  0:00:01\n",
      "  9% (1 of 11) |##                       | Elapsed Time: 0:00:00 ETA:  00:00:00"
     ]
    },
    {
     "name": "stdout",
     "output_type": "stream",
     "text": [
      "Esk_east completed successfully\n",
      "Run completed successfully\n",
      "C:\\Users\\alechutchings\\Documents\\PythonNotebooks\\SeasonalEstuaryChanges\\Esk_west\n",
      "Folder 'C:\\Users\\alechutchings\\Documents\\PythonNotebooks\\SeasonalEstuaryChanges\\Esk_west\\MODEL_3_Outputs_Tensor_Oxygen, Dissolved,  Saturation_2006_2022' created.\n"
     ]
    },
    {
     "name": "stderr",
     "output_type": "stream",
     "text": [
      "100% (11 of 11) |########################| Elapsed Time: 0:00:00 Time:  0:00:00\n"
     ]
    },
    {
     "name": "stdout",
     "output_type": "stream",
     "text": [
      "Esk_west completed successfully\n",
      "Run completed successfully\n",
      "C:\\Users\\alechutchings\\Documents\\PythonNotebooks\\SeasonalEstuaryChanges\\Exe\n",
      "Folder 'C:\\Users\\alechutchings\\Documents\\PythonNotebooks\\SeasonalEstuaryChanges\\Exe\\MODEL_3_Outputs_Tensor_Oxygen, Dissolved,  Saturation_2006_2022' created.\n"
     ]
    },
    {
     "name": "stderr",
     "output_type": "stream",
     "text": [
      "C:\\Users\\alechutchings\\AppData\\Local\\Temp\\2\\ipykernel_2436\\2701496734.py:5: DtypeWarning: Columns (10) have mixed types. Specify dtype option on import or set low_memory=False.\n",
      "  dfs = [pd.read_csv(csv, dtype={\"INTERPRETATION\": str, \"TEXT_RESULT\": str, \"DETCODE\": str}) for csv in csvs[:input_no]]\n",
      "100% (11 of 11) |########################| Elapsed Time: 0:00:02 Time:  0:00:02\n"
     ]
    },
    {
     "name": "stdout",
     "output_type": "stream",
     "text": [
      "Exe completed successfully\n",
      "Run completed successfully\n",
      "C:\\Users\\alechutchings\\Documents\\PythonNotebooks\\SeasonalEstuaryChanges\\Falmouth\n",
      "Folder 'C:\\Users\\alechutchings\\Documents\\PythonNotebooks\\SeasonalEstuaryChanges\\Falmouth\\MODEL_3_Outputs_Tensor_Oxygen, Dissolved,  Saturation_2006_2022' created.\n"
     ]
    },
    {
     "name": "stderr",
     "output_type": "stream",
     "text": [
      "100% (11 of 11) |########################| Elapsed Time: 0:00:03 Time:  0:00:03\n"
     ]
    },
    {
     "name": "stdout",
     "output_type": "stream",
     "text": [
      "Falmouth completed successfully\n",
      "Run completed successfully\n",
      "C:\\Users\\alechutchings\\Documents\\PythonNotebooks\\SeasonalEstuaryChanges\\Fowey\n",
      "Folder 'C:\\Users\\alechutchings\\Documents\\PythonNotebooks\\SeasonalEstuaryChanges\\Fowey\\MODEL_3_Outputs_Tensor_Oxygen, Dissolved,  Saturation_2006_2022' created.\n"
     ]
    },
    {
     "name": "stderr",
     "output_type": "stream",
     "text": [
      "100% (11 of 11) |########################| Elapsed Time: 0:00:01 Time:  0:00:01\n",
      "Traceback (most recent call last):\n",
      "  File \"C:\\Users\\alechutchings\\AppData\\Local\\Temp\\2\\ipykernel_2436\\2798313611.py\", line 33, in <module>\n",
      "    trend_result_list, XX, Z = run_GAM(Est_group_all, det, GAM_output_path)\n",
      "                               ^^^^^^^^^^^^^^^^^^^^^^^^^^^^^^^^^^^^^^^^^^^^\n",
      "  File \"C:\\Users\\alechutchings\\AppData\\Local\\Temp\\2\\ipykernel_2436\\3788278592.py\", line 139, in run_GAM\n",
      "    annual_difference = monte_carlo_simulation_from_specific_years(early_period, late_period, annual_samples, XX_years, num_iterations)\n",
      "                        ^^^^^^^^^^^^^^^^^^^^^^^^^^^^^^^^^^^^^^^^^^^^^^^^^^^^^^^^^^^^^^^^^^^^^^^^^^^^^^^^^^^^^^^^^^^^^^^^^^^^^^^^^^^^^^^\n",
      "  File \"C:\\Users\\alechutchings\\AppData\\Local\\Temp\\2\\ipykernel_2436\\3155166224.py\", line 11, in monte_carlo_simulation_from_specific_years\n",
      "    idx2 = np.random.choice(selected_late_data_indices)\n",
      "           ^^^^^^^^^^^^^^^^^^^^^^^^^^^^^^^^^^^^^^^^^^^^\n",
      "  File \"mtrand.pyx\", line 950, in numpy.random.mtrand.RandomState.choice\n",
      "ValueError: 'a' cannot be empty unless no samples are taken\n"
     ]
    },
    {
     "name": "stdout",
     "output_type": "stream",
     "text": [
      "Error processing Fowey: 'a' cannot be empty unless no samples are taken\n",
      "C:\\Users\\alechutchings\\Documents\\PythonNotebooks\\SeasonalEstuaryChanges\\Gannel\n",
      "Folder 'C:\\Users\\alechutchings\\Documents\\PythonNotebooks\\SeasonalEstuaryChanges\\Gannel\\MODEL_3_Outputs_Tensor_Oxygen, Dissolved,  Saturation_2006_2022' created.\n"
     ]
    },
    {
     "name": "stderr",
     "output_type": "stream",
     "text": [
      "100% (11 of 11) |########################| Elapsed Time: 0:00:01 Time:  0:00:01\n"
     ]
    },
    {
     "name": "stdout",
     "output_type": "stream",
     "text": [
      "Gannel completed successfully\n",
      "Run completed successfully\n",
      "C:\\Users\\alechutchings\\Documents\\PythonNotebooks\\SeasonalEstuaryChanges\\Great_ouse\n",
      "Folder 'C:\\Users\\alechutchings\\Documents\\PythonNotebooks\\SeasonalEstuaryChanges\\Great_ouse\\MODEL_3_Outputs_Tensor_Oxygen, Dissolved,  Saturation_2006_2022' created.\n"
     ]
    },
    {
     "name": "stderr",
     "output_type": "stream",
     "text": [
      "100% (11 of 11) |########################| Elapsed Time: 0:00:01 Time:  0:00:01\n"
     ]
    },
    {
     "name": "stdout",
     "output_type": "stream",
     "text": [
      "Great_ouse completed successfully\n",
      "Run completed successfully\n",
      "C:\\Users\\alechutchings\\Documents\\PythonNotebooks\\SeasonalEstuaryChanges\\Hayle\n",
      "Folder 'C:\\Users\\alechutchings\\Documents\\PythonNotebooks\\SeasonalEstuaryChanges\\Hayle\\MODEL_3_Outputs_Tensor_Oxygen, Dissolved,  Saturation_2006_2022' created.\n"
     ]
    },
    {
     "name": "stderr",
     "output_type": "stream",
     "text": [
      "100% (11 of 11) |########################| Elapsed Time: 0:00:01 Time:  0:00:01\n"
     ]
    },
    {
     "name": "stdout",
     "output_type": "stream",
     "text": [
      "Hayle completed successfully\n",
      "Run completed successfully\n",
      "C:\\Users\\alechutchings\\Documents\\PythonNotebooks\\SeasonalEstuaryChanges\\Helford\n",
      "Folder 'C:\\Users\\alechutchings\\Documents\\PythonNotebooks\\SeasonalEstuaryChanges\\Helford\\MODEL_3_Outputs_Tensor_Oxygen, Dissolved,  Saturation_2006_2022' created.\n"
     ]
    },
    {
     "name": "stderr",
     "output_type": "stream",
     "text": [
      "100% (11 of 11) |########################| Elapsed Time: 0:00:01 Time:  0:00:01\n"
     ]
    },
    {
     "name": "stdout",
     "output_type": "stream",
     "text": [
      "Helford completed successfully\n",
      "Run completed successfully\n",
      "C:\\Users\\alechutchings\\Documents\\PythonNotebooks\\SeasonalEstuaryChanges\\Humber\n",
      "Folder 'C:\\Users\\alechutchings\\Documents\\PythonNotebooks\\SeasonalEstuaryChanges\\Humber\\MODEL_3_Outputs_Tensor_Oxygen, Dissolved,  Saturation_2006_2022' created.\n"
     ]
    },
    {
     "name": "stderr",
     "output_type": "stream",
     "text": [
      "100% (11 of 11) |########################| Elapsed Time: 0:00:03 Time:  0:00:03\n",
      "  0% (0 of 11) |                         | Elapsed Time: 0:00:00 ETA:  --:--:--"
     ]
    },
    {
     "name": "stdout",
     "output_type": "stream",
     "text": [
      "Humber completed successfully\n",
      "Run completed successfully\n",
      "C:\\Users\\alechutchings\\Documents\\PythonNotebooks\\SeasonalEstuaryChanges\\Kent\n",
      "Folder 'C:\\Users\\alechutchings\\Documents\\PythonNotebooks\\SeasonalEstuaryChanges\\Kent\\MODEL_3_Outputs_Tensor_Oxygen, Dissolved,  Saturation_2006_2022' created.\n"
     ]
    },
    {
     "name": "stderr",
     "output_type": "stream",
     "text": [
      "100% (11 of 11) |########################| Elapsed Time: 0:00:00 Time:  0:00:00\n",
      "Traceback (most recent call last):\n",
      "  File \"C:\\Users\\alechutchings\\AppData\\Local\\Temp\\2\\ipykernel_2436\\2798313611.py\", line 33, in <module>\n",
      "    trend_result_list, XX, Z = run_GAM(Est_group_all, det, GAM_output_path)\n",
      "                               ^^^^^^^^^^^^^^^^^^^^^^^^^^^^^^^^^^^^^^^^^^^^\n",
      "  File \"C:\\Users\\alechutchings\\AppData\\Local\\Temp\\2\\ipykernel_2436\\3788278592.py\", line 139, in run_GAM\n",
      "    annual_difference = monte_carlo_simulation_from_specific_years(early_period, late_period, annual_samples, XX_years, num_iterations)\n",
      "                        ^^^^^^^^^^^^^^^^^^^^^^^^^^^^^^^^^^^^^^^^^^^^^^^^^^^^^^^^^^^^^^^^^^^^^^^^^^^^^^^^^^^^^^^^^^^^^^^^^^^^^^^^^^^^^^^\n",
      "  File \"C:\\Users\\alechutchings\\AppData\\Local\\Temp\\2\\ipykernel_2436\\3155166224.py\", line 11, in monte_carlo_simulation_from_specific_years\n",
      "    idx2 = np.random.choice(selected_late_data_indices)\n",
      "           ^^^^^^^^^^^^^^^^^^^^^^^^^^^^^^^^^^^^^^^^^^^^\n",
      "  File \"mtrand.pyx\", line 950, in numpy.random.mtrand.RandomState.choice\n",
      "ValueError: 'a' cannot be empty unless no samples are taken\n"
     ]
    },
    {
     "name": "stdout",
     "output_type": "stream",
     "text": [
      "Error processing Kent: 'a' cannot be empty unless no samples are taken\n",
      "C:\\Users\\alechutchings\\Documents\\PythonNotebooks\\SeasonalEstuaryChanges\\Kingsbridge\n",
      "Folder 'C:\\Users\\alechutchings\\Documents\\PythonNotebooks\\SeasonalEstuaryChanges\\Kingsbridge\\MODEL_3_Outputs_Tensor_Oxygen, Dissolved,  Saturation_2006_2022' created.\n"
     ]
    },
    {
     "name": "stderr",
     "output_type": "stream",
     "text": [
      "100% (11 of 11) |########################| Elapsed Time: 0:00:01 Time:  0:00:01\n",
      "Traceback (most recent call last):\n",
      "  File \"C:\\Users\\alechutchings\\AppData\\Local\\Temp\\2\\ipykernel_2436\\2798313611.py\", line 33, in <module>\n",
      "    trend_result_list, XX, Z = run_GAM(Est_group_all, det, GAM_output_path)\n",
      "                               ^^^^^^^^^^^^^^^^^^^^^^^^^^^^^^^^^^^^^^^^^^^^\n",
      "  File \"C:\\Users\\alechutchings\\AppData\\Local\\Temp\\2\\ipykernel_2436\\3788278592.py\", line 139, in run_GAM\n",
      "    annual_difference = monte_carlo_simulation_from_specific_years(early_period, late_period, annual_samples, XX_years, num_iterations)\n",
      "                        ^^^^^^^^^^^^^^^^^^^^^^^^^^^^^^^^^^^^^^^^^^^^^^^^^^^^^^^^^^^^^^^^^^^^^^^^^^^^^^^^^^^^^^^^^^^^^^^^^^^^^^^^^^^^^^^\n",
      "  File \"C:\\Users\\alechutchings\\AppData\\Local\\Temp\\2\\ipykernel_2436\\3155166224.py\", line 11, in monte_carlo_simulation_from_specific_years\n",
      "    idx2 = np.random.choice(selected_late_data_indices)\n",
      "           ^^^^^^^^^^^^^^^^^^^^^^^^^^^^^^^^^^^^^^^^^^^^\n",
      "  File \"mtrand.pyx\", line 950, in numpy.random.mtrand.RandomState.choice\n",
      "ValueError: 'a' cannot be empty unless no samples are taken\n"
     ]
    },
    {
     "name": "stdout",
     "output_type": "stream",
     "text": [
      "Error processing Kingsbridge: 'a' cannot be empty unless no samples are taken\n",
      "C:\\Users\\alechutchings\\Documents\\PythonNotebooks\\SeasonalEstuaryChanges\\Langstone\n",
      "Folder 'C:\\Users\\alechutchings\\Documents\\PythonNotebooks\\SeasonalEstuaryChanges\\Langstone\\MODEL_3_Outputs_Tensor_Oxygen, Dissolved,  Saturation_2006_2022' created.\n"
     ]
    },
    {
     "name": "stderr",
     "output_type": "stream",
     "text": [
      "100% (11 of 11) |########################| Elapsed Time: 0:00:02 Time:  0:00:02\n"
     ]
    },
    {
     "name": "stdout",
     "output_type": "stream",
     "text": [
      "Langstone completed successfully\n",
      "Run completed successfully\n",
      "C:\\Users\\alechutchings\\Documents\\PythonNotebooks\\SeasonalEstuaryChanges\\Leven\n",
      "Folder 'C:\\Users\\alechutchings\\Documents\\PythonNotebooks\\SeasonalEstuaryChanges\\Leven\\MODEL_3_Outputs_Tensor_Oxygen, Dissolved,  Saturation_2006_2022' created.\n"
     ]
    },
    {
     "name": "stderr",
     "output_type": "stream",
     "text": [
      "100% (11 of 11) |########################| Elapsed Time: 0:00:00 Time:  0:00:00\n"
     ]
    },
    {
     "name": "stdout",
     "output_type": "stream",
     "text": [
      "Leven completed successfully\n",
      "Run completed successfully\n",
      "C:\\Users\\alechutchings\\Documents\\PythonNotebooks\\SeasonalEstuaryChanges\\Looe\n",
      "Folder 'C:\\Users\\alechutchings\\Documents\\PythonNotebooks\\SeasonalEstuaryChanges\\Looe\\MODEL_3_Outputs_Tensor_Oxygen, Dissolved,  Saturation_2006_2022' created.\n"
     ]
    },
    {
     "name": "stderr",
     "output_type": "stream",
     "text": [
      "100% (11 of 11) |########################| Elapsed Time: 0:00:00 Time:  0:00:00\n",
      "Traceback (most recent call last):\n",
      "  File \"C:\\Users\\alechutchings\\AppData\\Local\\Temp\\2\\ipykernel_2436\\2798313611.py\", line 33, in <module>\n",
      "    trend_result_list, XX, Z = run_GAM(Est_group_all, det, GAM_output_path)\n",
      "                               ^^^^^^^^^^^^^^^^^^^^^^^^^^^^^^^^^^^^^^^^^^^^\n",
      "  File \"C:\\Users\\alechutchings\\AppData\\Local\\Temp\\2\\ipykernel_2436\\3788278592.py\", line 139, in run_GAM\n",
      "    annual_difference = monte_carlo_simulation_from_specific_years(early_period, late_period, annual_samples, XX_years, num_iterations)\n",
      "                        ^^^^^^^^^^^^^^^^^^^^^^^^^^^^^^^^^^^^^^^^^^^^^^^^^^^^^^^^^^^^^^^^^^^^^^^^^^^^^^^^^^^^^^^^^^^^^^^^^^^^^^^^^^^^^^^\n",
      "  File \"C:\\Users\\alechutchings\\AppData\\Local\\Temp\\2\\ipykernel_2436\\3155166224.py\", line 10, in monte_carlo_simulation_from_specific_years\n",
      "    idx1 = np.random.choice(selected_early_data_indices)\n",
      "           ^^^^^^^^^^^^^^^^^^^^^^^^^^^^^^^^^^^^^^^^^^^^^\n",
      "  File \"mtrand.pyx\", line 950, in numpy.random.mtrand.RandomState.choice\n",
      "ValueError: 'a' cannot be empty unless no samples are taken\n"
     ]
    },
    {
     "name": "stdout",
     "output_type": "stream",
     "text": [
      "Error processing Looe: 'a' cannot be empty unless no samples are taken\n",
      "C:\\Users\\alechutchings\\Documents\\PythonNotebooks\\SeasonalEstuaryChanges\\Lune\n",
      "Folder 'C:\\Users\\alechutchings\\Documents\\PythonNotebooks\\SeasonalEstuaryChanges\\Lune\\MODEL_3_Outputs_Tensor_Oxygen, Dissolved,  Saturation_2006_2022' created.\n"
     ]
    },
    {
     "name": "stderr",
     "output_type": "stream",
     "text": [
      "100% (11 of 11) |########################| Elapsed Time: 0:00:01 Time:  0:00:01\n"
     ]
    },
    {
     "name": "stdout",
     "output_type": "stream",
     "text": [
      "Lune completed successfully\n",
      "Run completed successfully\n",
      "C:\\Users\\alechutchings\\Documents\\PythonNotebooks\\SeasonalEstuaryChanges\\Lymington\n",
      "Folder 'C:\\Users\\alechutchings\\Documents\\PythonNotebooks\\SeasonalEstuaryChanges\\Lymington\\MODEL_3_Outputs_Tensor_Oxygen, Dissolved,  Saturation_2006_2022' created.\n"
     ]
    },
    {
     "name": "stderr",
     "output_type": "stream",
     "text": [
      "100% (11 of 11) |########################| Elapsed Time: 0:00:01 Time:  0:00:01\n"
     ]
    },
    {
     "name": "stdout",
     "output_type": "stream",
     "text": [
      "Lymington completed successfully\n",
      "Run completed successfully\n",
      "C:\\Users\\alechutchings\\Documents\\PythonNotebooks\\SeasonalEstuaryChanges\\Maryport\n",
      "Folder 'C:\\Users\\alechutchings\\Documents\\PythonNotebooks\\SeasonalEstuaryChanges\\Maryport\\MODEL_3_Outputs_Tensor_Oxygen, Dissolved,  Saturation_2006_2022' created.\n"
     ]
    },
    {
     "name": "stderr",
     "output_type": "stream",
     "text": [
      "Traceback (most recent call last):\n",
      "  File \"C:\\Users\\alechutchings\\AppData\\Local\\anaconda3\\envs\\geo_env\\Lib\\site-packages\\pandas\\core\\indexes\\base.py\", line 3653, in get_loc\n",
      "    return self._engine.get_loc(casted_key)\n",
      "           ^^^^^^^^^^^^^^^^^^^^^^^^^^^^^^^^\n",
      "  File \"pandas\\_libs\\index.pyx\", line 147, in pandas._libs.index.IndexEngine.get_loc\n",
      "  File \"pandas\\_libs\\index.pyx\", line 176, in pandas._libs.index.IndexEngine.get_loc\n",
      "  File \"pandas\\_libs\\hashtable_class_helper.pxi\", line 7080, in pandas._libs.hashtable.PyObjectHashTable.get_item\n",
      "  File \"pandas\\_libs\\hashtable_class_helper.pxi\", line 7088, in pandas._libs.hashtable.PyObjectHashTable.get_item\n",
      "KeyError: 'Oxygen, Dissolved,  Saturation'\n",
      "\n",
      "The above exception was the direct cause of the following exception:\n",
      "\n",
      "Traceback (most recent call last):\n",
      "  File \"C:\\Users\\alechutchings\\AppData\\Local\\Temp\\2\\ipykernel_2436\\2798313611.py\", line 33, in <module>\n",
      "    trend_result_list, XX, Z = run_GAM(Est_group_all, det, GAM_output_path)\n",
      "                               ^^^^^^^^^^^^^^^^^^^^^^^^^^^^^^^^^^^^^^^^^^^^\n",
      "  File \"C:\\Users\\alechutchings\\AppData\\Local\\Temp\\2\\ipykernel_2436\\3788278592.py\", line 32, in run_GAM\n",
      "    Y = Est_all[det].values\n",
      "        ~~~~~~~^^^^^\n",
      "  File \"C:\\Users\\alechutchings\\AppData\\Local\\anaconda3\\envs\\geo_env\\Lib\\site-packages\\pandas\\core\\frame.py\", line 3761, in __getitem__\n",
      "    indexer = self.columns.get_loc(key)\n",
      "              ^^^^^^^^^^^^^^^^^^^^^^^^^\n",
      "  File \"C:\\Users\\alechutchings\\AppData\\Local\\anaconda3\\envs\\geo_env\\Lib\\site-packages\\pandas\\core\\indexes\\base.py\", line 3655, in get_loc\n",
      "    raise KeyError(key) from err\n",
      "KeyError: 'Oxygen, Dissolved,  Saturation'\n"
     ]
    },
    {
     "name": "stdout",
     "output_type": "stream",
     "text": [
      "Error processing Maryport: 'Oxygen, Dissolved,  Saturation'\n",
      "C:\\Users\\alechutchings\\Documents\\PythonNotebooks\\SeasonalEstuaryChanges\\Medina\n",
      "Folder 'C:\\Users\\alechutchings\\Documents\\PythonNotebooks\\SeasonalEstuaryChanges\\Medina\\MODEL_3_Outputs_Tensor_Oxygen, Dissolved,  Saturation_2006_2022' created.\n"
     ]
    },
    {
     "name": "stderr",
     "output_type": "stream",
     "text": [
      "100% (11 of 11) |########################| Elapsed Time: 0:00:01 Time:  0:00:01\n"
     ]
    },
    {
     "name": "stdout",
     "output_type": "stream",
     "text": [
      "Medina completed successfully\n",
      "Run completed successfully\n",
      "C:\\Users\\alechutchings\\Documents\\PythonNotebooks\\SeasonalEstuaryChanges\\Medway\n",
      "Folder 'C:\\Users\\alechutchings\\Documents\\PythonNotebooks\\SeasonalEstuaryChanges\\Medway\\MODEL_3_Outputs_Tensor_Oxygen, Dissolved,  Saturation_2006_2022' created.\n"
     ]
    },
    {
     "name": "stderr",
     "output_type": "stream",
     "text": [
      "100% (11 of 11) |########################| Elapsed Time: 0:00:05 Time:  0:00:05\n"
     ]
    },
    {
     "name": "stdout",
     "output_type": "stream",
     "text": [
      "Medway completed successfully\n",
      "Run completed successfully\n",
      "C:\\Users\\alechutchings\\Documents\\PythonNotebooks\\SeasonalEstuaryChanges\\Mersey\n",
      "Folder 'C:\\Users\\alechutchings\\Documents\\PythonNotebooks\\SeasonalEstuaryChanges\\Mersey\\MODEL_3_Outputs_Tensor_Oxygen, Dissolved,  Saturation_2006_2022' created.\n"
     ]
    },
    {
     "name": "stderr",
     "output_type": "stream",
     "text": [
      "100% (11 of 11) |########################| Elapsed Time: 0:00:02 Time:  0:00:02\n",
      "  0% (0 of 11) |                         | Elapsed Time: 0:00:00 ETA:  --:--:--"
     ]
    },
    {
     "name": "stdout",
     "output_type": "stream",
     "text": [
      "Mersey completed successfully\n",
      "Run completed successfully\n",
      "C:\\Users\\alechutchings\\Documents\\PythonNotebooks\\SeasonalEstuaryChanges\\Nene\n",
      "Folder 'C:\\Users\\alechutchings\\Documents\\PythonNotebooks\\SeasonalEstuaryChanges\\Nene\\MODEL_3_Outputs_Tensor_Oxygen, Dissolved,  Saturation_2006_2022' created.\n"
     ]
    },
    {
     "name": "stderr",
     "output_type": "stream",
     "text": [
      "100% (11 of 11) |########################| Elapsed Time: 0:00:00 Time:  0:00:00\n",
      "Traceback (most recent call last):\n",
      "  File \"C:\\Users\\alechutchings\\AppData\\Local\\Temp\\2\\ipykernel_2436\\2798313611.py\", line 33, in <module>\n",
      "    trend_result_list, XX, Z = run_GAM(Est_group_all, det, GAM_output_path)\n",
      "                               ^^^^^^^^^^^^^^^^^^^^^^^^^^^^^^^^^^^^^^^^^^^^\n",
      "  File \"C:\\Users\\alechutchings\\AppData\\Local\\Temp\\2\\ipykernel_2436\\3788278592.py\", line 139, in run_GAM\n",
      "    annual_difference = monte_carlo_simulation_from_specific_years(early_period, late_period, annual_samples, XX_years, num_iterations)\n",
      "                        ^^^^^^^^^^^^^^^^^^^^^^^^^^^^^^^^^^^^^^^^^^^^^^^^^^^^^^^^^^^^^^^^^^^^^^^^^^^^^^^^^^^^^^^^^^^^^^^^^^^^^^^^^^^^^^^\n",
      "  File \"C:\\Users\\alechutchings\\AppData\\Local\\Temp\\2\\ipykernel_2436\\3155166224.py\", line 11, in monte_carlo_simulation_from_specific_years\n",
      "    idx2 = np.random.choice(selected_late_data_indices)\n",
      "           ^^^^^^^^^^^^^^^^^^^^^^^^^^^^^^^^^^^^^^^^^^^^\n",
      "  File \"mtrand.pyx\", line 950, in numpy.random.mtrand.RandomState.choice\n",
      "ValueError: 'a' cannot be empty unless no samples are taken\n"
     ]
    },
    {
     "name": "stdout",
     "output_type": "stream",
     "text": [
      "Error processing Nene: 'a' cannot be empty unless no samples are taken\n",
      "C:\\Users\\alechutchings\\Documents\\PythonNotebooks\\SeasonalEstuaryChanges\\Newtown_river\n",
      "Folder 'C:\\Users\\alechutchings\\Documents\\PythonNotebooks\\SeasonalEstuaryChanges\\Newtown_river\\MODEL_3_Outputs_Tensor_Oxygen, Dissolved,  Saturation_2006_2022' created.\n"
     ]
    },
    {
     "name": "stderr",
     "output_type": "stream",
     "text": [
      "100% (11 of 11) |########################| Elapsed Time: 0:00:01 Time:  0:00:01\n"
     ]
    },
    {
     "name": "stdout",
     "output_type": "stream",
     "text": [
      "Newtown_river completed successfully\n",
      "Run completed successfully\n",
      "C:\\Users\\alechutchings\\Documents\\PythonNotebooks\\SeasonalEstuaryChanges\\Orwell\n",
      "Folder 'C:\\Users\\alechutchings\\Documents\\PythonNotebooks\\SeasonalEstuaryChanges\\Orwell\\MODEL_3_Outputs_Tensor_Oxygen, Dissolved,  Saturation_2006_2022' created.\n"
     ]
    },
    {
     "name": "stderr",
     "output_type": "stream",
     "text": [
      "100% (11 of 11) |########################| Elapsed Time: 0:00:01 Time:  0:00:01\n"
     ]
    },
    {
     "name": "stdout",
     "output_type": "stream",
     "text": [
      "Orwell completed successfully\n",
      "Run completed successfully\n",
      "C:\\Users\\alechutchings\\Documents\\PythonNotebooks\\SeasonalEstuaryChanges\\Otter\n",
      "Folder 'C:\\Users\\alechutchings\\Documents\\PythonNotebooks\\SeasonalEstuaryChanges\\Otter\\MODEL_3_Outputs_Tensor_Oxygen, Dissolved,  Saturation_2006_2022' created.\n"
     ]
    },
    {
     "name": "stderr",
     "output_type": "stream",
     "text": [
      "Traceback (most recent call last):\n",
      "  File \"C:\\Users\\alechutchings\\AppData\\Local\\anaconda3\\envs\\geo_env\\Lib\\site-packages\\pandas\\core\\indexes\\base.py\", line 3653, in get_loc\n",
      "    return self._engine.get_loc(casted_key)\n",
      "           ^^^^^^^^^^^^^^^^^^^^^^^^^^^^^^^^\n",
      "  File \"pandas\\_libs\\index.pyx\", line 147, in pandas._libs.index.IndexEngine.get_loc\n",
      "  File \"pandas\\_libs\\index.pyx\", line 176, in pandas._libs.index.IndexEngine.get_loc\n",
      "  File \"pandas\\_libs\\hashtable_class_helper.pxi\", line 7080, in pandas._libs.hashtable.PyObjectHashTable.get_item\n",
      "  File \"pandas\\_libs\\hashtable_class_helper.pxi\", line 7088, in pandas._libs.hashtable.PyObjectHashTable.get_item\n",
      "KeyError: 'Oxygen, Dissolved,  Saturation'\n",
      "\n",
      "The above exception was the direct cause of the following exception:\n",
      "\n",
      "Traceback (most recent call last):\n",
      "  File \"C:\\Users\\alechutchings\\AppData\\Local\\Temp\\2\\ipykernel_2436\\2798313611.py\", line 33, in <module>\n",
      "    trend_result_list, XX, Z = run_GAM(Est_group_all, det, GAM_output_path)\n",
      "                               ^^^^^^^^^^^^^^^^^^^^^^^^^^^^^^^^^^^^^^^^^^^^\n",
      "  File \"C:\\Users\\alechutchings\\AppData\\Local\\Temp\\2\\ipykernel_2436\\3788278592.py\", line 32, in run_GAM\n",
      "    Y = Est_all[det].values\n",
      "        ~~~~~~~^^^^^\n",
      "  File \"C:\\Users\\alechutchings\\AppData\\Local\\anaconda3\\envs\\geo_env\\Lib\\site-packages\\pandas\\core\\frame.py\", line 3761, in __getitem__\n",
      "    indexer = self.columns.get_loc(key)\n",
      "              ^^^^^^^^^^^^^^^^^^^^^^^^^\n",
      "  File \"C:\\Users\\alechutchings\\AppData\\Local\\anaconda3\\envs\\geo_env\\Lib\\site-packages\\pandas\\core\\indexes\\base.py\", line 3655, in get_loc\n",
      "    raise KeyError(key) from err\n",
      "KeyError: 'Oxygen, Dissolved,  Saturation'\n"
     ]
    },
    {
     "name": "stdout",
     "output_type": "stream",
     "text": [
      "Error processing Otter: 'Oxygen, Dissolved,  Saturation'\n",
      "C:\\Users\\alechutchings\\Documents\\PythonNotebooks\\SeasonalEstuaryChanges\\Ouse\n",
      "Folder 'C:\\Users\\alechutchings\\Documents\\PythonNotebooks\\SeasonalEstuaryChanges\\Ouse\\MODEL_3_Outputs_Tensor_Oxygen, Dissolved,  Saturation_2006_2022' created.\n"
     ]
    },
    {
     "name": "stderr",
     "output_type": "stream",
     "text": [
      "100% (11 of 11) |########################| Elapsed Time: 0:00:01 Time:  0:00:01\n"
     ]
    },
    {
     "name": "stdout",
     "output_type": "stream",
     "text": [
      "Ouse completed successfully\n",
      "Run completed successfully\n",
      "C:\\Users\\alechutchings\\Documents\\PythonNotebooks\\SeasonalEstuaryChanges\\Pagham\n",
      "Folder 'C:\\Users\\alechutchings\\Documents\\PythonNotebooks\\SeasonalEstuaryChanges\\Pagham\\MODEL_3_Outputs_Tensor_Oxygen, Dissolved,  Saturation_2006_2022' created.\n"
     ]
    },
    {
     "name": "stderr",
     "output_type": "stream",
     "text": [
      "100% (11 of 11) |########################| Elapsed Time: 0:00:02 Time:  0:00:02\n"
     ]
    },
    {
     "name": "stdout",
     "output_type": "stream",
     "text": [
      "Pagham completed successfully\n",
      "Run completed successfully\n",
      "C:\\Users\\alechutchings\\Documents\\PythonNotebooks\\SeasonalEstuaryChanges\\Parrett\n",
      "Folder 'C:\\Users\\alechutchings\\Documents\\PythonNotebooks\\SeasonalEstuaryChanges\\Parrett\\MODEL_3_Outputs_Tensor_Oxygen, Dissolved,  Saturation_2006_2022' created.\n"
     ]
    },
    {
     "name": "stderr",
     "output_type": "stream",
     "text": [
      "100% (11 of 11) |########################| Elapsed Time: 0:00:01 Time:  0:00:01\n",
      "Traceback (most recent call last):\n",
      "  File \"C:\\Users\\alechutchings\\AppData\\Local\\Temp\\2\\ipykernel_2436\\2798313611.py\", line 33, in <module>\n",
      "    trend_result_list, XX, Z = run_GAM(Est_group_all, det, GAM_output_path)\n",
      "                               ^^^^^^^^^^^^^^^^^^^^^^^^^^^^^^^^^^^^^^^^^^^^\n",
      "  File \"C:\\Users\\alechutchings\\AppData\\Local\\Temp\\2\\ipykernel_2436\\3788278592.py\", line 139, in run_GAM\n",
      "    annual_difference = monte_carlo_simulation_from_specific_years(early_period, late_period, annual_samples, XX_years, num_iterations)\n",
      "                        ^^^^^^^^^^^^^^^^^^^^^^^^^^^^^^^^^^^^^^^^^^^^^^^^^^^^^^^^^^^^^^^^^^^^^^^^^^^^^^^^^^^^^^^^^^^^^^^^^^^^^^^^^^^^^^^\n",
      "  File \"C:\\Users\\alechutchings\\AppData\\Local\\Temp\\2\\ipykernel_2436\\3155166224.py\", line 11, in monte_carlo_simulation_from_specific_years\n",
      "    idx2 = np.random.choice(selected_late_data_indices)\n",
      "           ^^^^^^^^^^^^^^^^^^^^^^^^^^^^^^^^^^^^^^^^^^^^\n",
      "  File \"mtrand.pyx\", line 950, in numpy.random.mtrand.RandomState.choice\n",
      "ValueError: 'a' cannot be empty unless no samples are taken\n"
     ]
    },
    {
     "name": "stdout",
     "output_type": "stream",
     "text": [
      "Error processing Parrett: 'a' cannot be empty unless no samples are taken\n",
      "C:\\Users\\alechutchings\\Documents\\PythonNotebooks\\SeasonalEstuaryChanges\\Plymouth\n",
      "Folder 'C:\\Users\\alechutchings\\Documents\\PythonNotebooks\\SeasonalEstuaryChanges\\Plymouth\\MODEL_3_Outputs_Tensor_Oxygen, Dissolved,  Saturation_2006_2022' created.\n"
     ]
    },
    {
     "name": "stderr",
     "output_type": "stream",
     "text": [
      "C:\\Users\\alechutchings\\AppData\\Local\\Temp\\2\\ipykernel_2436\\2701496734.py:5: DtypeWarning: Columns (10) have mixed types. Specify dtype option on import or set low_memory=False.\n",
      "  dfs = [pd.read_csv(csv, dtype={\"INTERPRETATION\": str, \"TEXT_RESULT\": str, \"DETCODE\": str}) for csv in csvs[:input_no]]\n",
      "100% (11 of 11) |########################| Elapsed Time: 0:00:02 Time:  0:00:02\n"
     ]
    },
    {
     "name": "stdout",
     "output_type": "stream",
     "text": [
      "Plymouth completed successfully\n",
      "Run completed successfully\n",
      "C:\\Users\\alechutchings\\Documents\\PythonNotebooks\\SeasonalEstuaryChanges\\Poole\n",
      "Folder 'C:\\Users\\alechutchings\\Documents\\PythonNotebooks\\SeasonalEstuaryChanges\\Poole\\MODEL_3_Outputs_Tensor_Oxygen, Dissolved,  Saturation_2006_2022' created.\n"
     ]
    },
    {
     "name": "stderr",
     "output_type": "stream",
     "text": [
      "100% (11 of 11) |########################| Elapsed Time: 0:00:02 Time:  0:00:02\n"
     ]
    },
    {
     "name": "stdout",
     "output_type": "stream",
     "text": [
      "Poole completed successfully\n",
      "Run completed successfully\n",
      "C:\\Users\\alechutchings\\Documents\\PythonNotebooks\\SeasonalEstuaryChanges\\Portsmouth\n",
      "Folder 'C:\\Users\\alechutchings\\Documents\\PythonNotebooks\\SeasonalEstuaryChanges\\Portsmouth\\MODEL_3_Outputs_Tensor_Oxygen, Dissolved,  Saturation_2006_2022' created.\n"
     ]
    },
    {
     "name": "stderr",
     "output_type": "stream",
     "text": [
      "100% (11 of 11) |########################| Elapsed Time: 0:00:02 Time:  0:00:02\n"
     ]
    },
    {
     "name": "stdout",
     "output_type": "stream",
     "text": [
      "Portsmouth completed successfully\n",
      "Run completed successfully\n",
      "C:\\Users\\alechutchings\\Documents\\PythonNotebooks\\SeasonalEstuaryChanges\\Ribble\n",
      "Folder 'C:\\Users\\alechutchings\\Documents\\PythonNotebooks\\SeasonalEstuaryChanges\\Ribble\\MODEL_3_Outputs_Tensor_Oxygen, Dissolved,  Saturation_2006_2022' created.\n"
     ]
    },
    {
     "name": "stderr",
     "output_type": "stream",
     "text": [
      "100% (11 of 11) |########################| Elapsed Time: 0:00:02 Time:  0:00:02\n"
     ]
    },
    {
     "name": "stdout",
     "output_type": "stream",
     "text": [
      "Ribble completed successfully\n",
      "Run completed successfully\n",
      "C:\\Users\\alechutchings\\Documents\\PythonNotebooks\\SeasonalEstuaryChanges\\Rother\n",
      "Folder 'C:\\Users\\alechutchings\\Documents\\PythonNotebooks\\SeasonalEstuaryChanges\\Rother\\MODEL_3_Outputs_Tensor_Oxygen, Dissolved,  Saturation_2006_2022' created.\n"
     ]
    },
    {
     "name": "stderr",
     "output_type": "stream",
     "text": [
      "100% (11 of 11) |########################| Elapsed Time: 0:00:01 Time:  0:00:01\n",
      "Traceback (most recent call last):\n",
      "  File \"C:\\Users\\alechutchings\\AppData\\Local\\Temp\\2\\ipykernel_2436\\2798313611.py\", line 33, in <module>\n",
      "    trend_result_list, XX, Z = run_GAM(Est_group_all, det, GAM_output_path)\n",
      "                               ^^^^^^^^^^^^^^^^^^^^^^^^^^^^^^^^^^^^^^^^^^^^\n",
      "  File \"C:\\Users\\alechutchings\\AppData\\Local\\Temp\\2\\ipykernel_2436\\3788278592.py\", line 139, in run_GAM\n",
      "    annual_difference = monte_carlo_simulation_from_specific_years(early_period, late_period, annual_samples, XX_years, num_iterations)\n",
      "                        ^^^^^^^^^^^^^^^^^^^^^^^^^^^^^^^^^^^^^^^^^^^^^^^^^^^^^^^^^^^^^^^^^^^^^^^^^^^^^^^^^^^^^^^^^^^^^^^^^^^^^^^^^^^^^^^\n",
      "  File \"C:\\Users\\alechutchings\\AppData\\Local\\Temp\\2\\ipykernel_2436\\3155166224.py\", line 11, in monte_carlo_simulation_from_specific_years\n",
      "    idx2 = np.random.choice(selected_late_data_indices)\n",
      "           ^^^^^^^^^^^^^^^^^^^^^^^^^^^^^^^^^^^^^^^^^^^^\n",
      "  File \"mtrand.pyx\", line 950, in numpy.random.mtrand.RandomState.choice\n",
      "ValueError: 'a' cannot be empty unless no samples are taken\n"
     ]
    },
    {
     "name": "stdout",
     "output_type": "stream",
     "text": [
      "Error processing Rother: 'a' cannot be empty unless no samples are taken\n",
      "C:\\Users\\alechutchings\\Documents\\PythonNotebooks\\SeasonalEstuaryChanges\\Severn\n",
      "Folder 'C:\\Users\\alechutchings\\Documents\\PythonNotebooks\\SeasonalEstuaryChanges\\Severn\\MODEL_3_Outputs_Tensor_Oxygen, Dissolved,  Saturation_2006_2022' created.\n"
     ]
    },
    {
     "name": "stderr",
     "output_type": "stream",
     "text": [
      "100% (11 of 11) |########################| Elapsed Time: 0:00:01 Time:  0:00:01\n"
     ]
    },
    {
     "name": "stdout",
     "output_type": "stream",
     "text": [
      "Severn completed successfully\n",
      "Run completed successfully\n",
      "C:\\Users\\alechutchings\\Documents\\PythonNotebooks\\SeasonalEstuaryChanges\\Solway\n",
      "Folder 'C:\\Users\\alechutchings\\Documents\\PythonNotebooks\\SeasonalEstuaryChanges\\Solway\\MODEL_3_Outputs_Tensor_Oxygen, Dissolved,  Saturation_2006_2022' created.\n"
     ]
    },
    {
     "name": "stderr",
     "output_type": "stream",
     "text": [
      "100% (11 of 11) |########################| Elapsed Time: 0:00:01 Time:  0:00:01\n"
     ]
    },
    {
     "name": "stdout",
     "output_type": "stream",
     "text": [
      "Solway completed successfully\n",
      "Run completed successfully\n",
      "C:\\Users\\alechutchings\\Documents\\PythonNotebooks\\SeasonalEstuaryChanges\\Southampton\n",
      "Folder 'C:\\Users\\alechutchings\\Documents\\PythonNotebooks\\SeasonalEstuaryChanges\\Southampton\\MODEL_3_Outputs_Tensor_Oxygen, Dissolved,  Saturation_2006_2022' created.\n"
     ]
    },
    {
     "name": "stderr",
     "output_type": "stream",
     "text": [
      "100% (11 of 11) |########################| Elapsed Time: 0:00:03 Time:  0:00:03\n",
      "  0% (0 of 11) |                         | Elapsed Time: 0:00:00 ETA:  --:--:--"
     ]
    },
    {
     "name": "stdout",
     "output_type": "stream",
     "text": [
      "Southampton completed successfully\n",
      "Run completed successfully\n",
      "C:\\Users\\alechutchings\\Documents\\PythonNotebooks\\SeasonalEstuaryChanges\\Stiffkey\n",
      "Folder 'C:\\Users\\alechutchings\\Documents\\PythonNotebooks\\SeasonalEstuaryChanges\\Stiffkey\\MODEL_3_Outputs_Tensor_Oxygen, Dissolved,  Saturation_2006_2022' created.\n"
     ]
    },
    {
     "name": "stderr",
     "output_type": "stream",
     "text": [
      "100% (11 of 11) |########################| Elapsed Time: 0:00:01 Time:  0:00:01\n",
      "Traceback (most recent call last):\n",
      "  File \"C:\\Users\\alechutchings\\AppData\\Local\\Temp\\2\\ipykernel_2436\\2798313611.py\", line 33, in <module>\n",
      "    trend_result_list, XX, Z = run_GAM(Est_group_all, det, GAM_output_path)\n",
      "                               ^^^^^^^^^^^^^^^^^^^^^^^^^^^^^^^^^^^^^^^^^^^^\n",
      "  File \"C:\\Users\\alechutchings\\AppData\\Local\\Temp\\2\\ipykernel_2436\\3788278592.py\", line 139, in run_GAM\n",
      "    annual_difference = monte_carlo_simulation_from_specific_years(early_period, late_period, annual_samples, XX_years, num_iterations)\n",
      "                        ^^^^^^^^^^^^^^^^^^^^^^^^^^^^^^^^^^^^^^^^^^^^^^^^^^^^^^^^^^^^^^^^^^^^^^^^^^^^^^^^^^^^^^^^^^^^^^^^^^^^^^^^^^^^^^^\n",
      "  File \"C:\\Users\\alechutchings\\AppData\\Local\\Temp\\2\\ipykernel_2436\\3155166224.py\", line 11, in monte_carlo_simulation_from_specific_years\n",
      "    idx2 = np.random.choice(selected_late_data_indices)\n",
      "           ^^^^^^^^^^^^^^^^^^^^^^^^^^^^^^^^^^^^^^^^^^^^\n",
      "  File \"mtrand.pyx\", line 950, in numpy.random.mtrand.RandomState.choice\n",
      "ValueError: 'a' cannot be empty unless no samples are taken\n"
     ]
    },
    {
     "name": "stdout",
     "output_type": "stream",
     "text": [
      "Error processing Stiffkey: 'a' cannot be empty unless no samples are taken\n",
      "C:\\Users\\alechutchings\\Documents\\PythonNotebooks\\SeasonalEstuaryChanges\\Stour_essex\n",
      "Folder 'C:\\Users\\alechutchings\\Documents\\PythonNotebooks\\SeasonalEstuaryChanges\\Stour_essex\\MODEL_3_Outputs_Tensor_Oxygen, Dissolved,  Saturation_2006_2022' created.\n"
     ]
    },
    {
     "name": "stderr",
     "output_type": "stream",
     "text": [
      "100% (11 of 11) |########################| Elapsed Time: 0:00:01 Time:  0:00:01\n"
     ]
    },
    {
     "name": "stdout",
     "output_type": "stream",
     "text": [
      "Stour_essex completed successfully\n",
      "Run completed successfully\n",
      "C:\\Users\\alechutchings\\Documents\\PythonNotebooks\\SeasonalEstuaryChanges\\Stour_kent\n",
      "Folder 'C:\\Users\\alechutchings\\Documents\\PythonNotebooks\\SeasonalEstuaryChanges\\Stour_kent\\MODEL_3_Outputs_Tensor_Oxygen, Dissolved,  Saturation_2006_2022' created.\n"
     ]
    },
    {
     "name": "stderr",
     "output_type": "stream",
     "text": [
      "100% (11 of 11) |########################| Elapsed Time: 0:00:02 Time:  0:00:02\n"
     ]
    },
    {
     "name": "stdout",
     "output_type": "stream",
     "text": [
      "Stour_kent completed successfully\n",
      "Run completed successfully\n",
      "C:\\Users\\alechutchings\\Documents\\PythonNotebooks\\SeasonalEstuaryChanges\\Swale\n",
      "Folder 'C:\\Users\\alechutchings\\Documents\\PythonNotebooks\\SeasonalEstuaryChanges\\Swale\\MODEL_3_Outputs_Tensor_Oxygen, Dissolved,  Saturation_2006_2022' created.\n"
     ]
    },
    {
     "name": "stderr",
     "output_type": "stream",
     "text": [
      "100% (11 of 11) |########################| Elapsed Time: 0:00:05 Time:  0:00:05\n"
     ]
    },
    {
     "name": "stdout",
     "output_type": "stream",
     "text": [
      "Swale completed successfully\n",
      "Run completed successfully\n",
      "C:\\Users\\alechutchings\\Documents\\PythonNotebooks\\SeasonalEstuaryChanges\\Taw_Torridge\n",
      "Folder 'C:\\Users\\alechutchings\\Documents\\PythonNotebooks\\SeasonalEstuaryChanges\\Taw_Torridge\\MODEL_3_Outputs_Tensor_Oxygen, Dissolved,  Saturation_2006_2022' created.\n"
     ]
    },
    {
     "name": "stderr",
     "output_type": "stream",
     "text": [
      "C:\\Users\\alechutchings\\AppData\\Local\\Temp\\2\\ipykernel_2436\\2701496734.py:5: DtypeWarning: Columns (10) have mixed types. Specify dtype option on import or set low_memory=False.\n",
      "  dfs = [pd.read_csv(csv, dtype={\"INTERPRETATION\": str, \"TEXT_RESULT\": str, \"DETCODE\": str}) for csv in csvs[:input_no]]\n",
      "100% (11 of 11) |########################| Elapsed Time: 0:00:02 Time:  0:00:02\n"
     ]
    },
    {
     "name": "stdout",
     "output_type": "stream",
     "text": [
      "Taw_Torridge completed successfully\n",
      "Run completed successfully\n",
      "C:\\Users\\alechutchings\\Documents\\PythonNotebooks\\SeasonalEstuaryChanges\\Tees\n",
      "Folder 'C:\\Users\\alechutchings\\Documents\\PythonNotebooks\\SeasonalEstuaryChanges\\Tees\\MODEL_3_Outputs_Tensor_Oxygen, Dissolved,  Saturation_2006_2022' created.\n"
     ]
    },
    {
     "name": "stderr",
     "output_type": "stream",
     "text": [
      "100% (11 of 11) |########################| Elapsed Time: 0:00:02 Time:  0:00:02\n"
     ]
    },
    {
     "name": "stdout",
     "output_type": "stream",
     "text": [
      "Tees completed successfully\n",
      "Run completed successfully\n",
      "C:\\Users\\alechutchings\\Documents\\PythonNotebooks\\SeasonalEstuaryChanges\\Teign\n",
      "Folder 'C:\\Users\\alechutchings\\Documents\\PythonNotebooks\\SeasonalEstuaryChanges\\Teign\\MODEL_3_Outputs_Tensor_Oxygen, Dissolved,  Saturation_2006_2022' created.\n"
     ]
    },
    {
     "name": "stderr",
     "output_type": "stream",
     "text": [
      "100% (11 of 11) |########################| Elapsed Time: 0:00:01 Time:  0:00:01\n"
     ]
    },
    {
     "name": "stdout",
     "output_type": "stream",
     "text": [
      "Teign completed successfully\n",
      "Run completed successfully\n",
      "C:\\Users\\alechutchings\\Documents\\PythonNotebooks\\SeasonalEstuaryChanges\\Thames\n",
      "Folder 'C:\\Users\\alechutchings\\Documents\\PythonNotebooks\\SeasonalEstuaryChanges\\Thames\\MODEL_3_Outputs_Tensor_Oxygen, Dissolved,  Saturation_2006_2022' created.\n"
     ]
    },
    {
     "name": "stderr",
     "output_type": "stream",
     "text": [
      "100% (11 of 11) |########################| Elapsed Time: 0:00:31 Time:  0:00:31\n"
     ]
    },
    {
     "name": "stdout",
     "output_type": "stream",
     "text": [
      "Thames completed successfully\n",
      "Run completed successfully\n",
      "C:\\Users\\alechutchings\\Documents\\PythonNotebooks\\SeasonalEstuaryChanges\\Tweed\n",
      "Folder 'C:\\Users\\alechutchings\\Documents\\PythonNotebooks\\SeasonalEstuaryChanges\\Tweed\\MODEL_3_Outputs_Tensor_Oxygen, Dissolved,  Saturation_2006_2022' created.\n"
     ]
    },
    {
     "name": "stderr",
     "output_type": "stream",
     "text": [
      "100% (11 of 11) |########################| Elapsed Time: 0:00:01 Time:  0:00:01\n"
     ]
    },
    {
     "name": "stdout",
     "output_type": "stream",
     "text": [
      "Tweed completed successfully\n",
      "Run completed successfully\n",
      "C:\\Users\\alechutchings\\Documents\\PythonNotebooks\\SeasonalEstuaryChanges\\Tyne\n",
      "Folder 'C:\\Users\\alechutchings\\Documents\\PythonNotebooks\\SeasonalEstuaryChanges\\Tyne\\MODEL_3_Outputs_Tensor_Oxygen, Dissolved,  Saturation_2006_2022' created.\n"
     ]
    },
    {
     "name": "stderr",
     "output_type": "stream",
     "text": [
      "100% (11 of 11) |########################| Elapsed Time: 0:00:02 Time:  0:00:02\n"
     ]
    },
    {
     "name": "stdout",
     "output_type": "stream",
     "text": [
      "Tyne completed successfully\n",
      "Run completed successfully\n",
      "C:\\Users\\alechutchings\\Documents\\PythonNotebooks\\SeasonalEstuaryChanges\\Wansbeck\n",
      "Folder 'C:\\Users\\alechutchings\\Documents\\PythonNotebooks\\SeasonalEstuaryChanges\\Wansbeck\\MODEL_3_Outputs_Tensor_Oxygen, Dissolved,  Saturation_2006_2022' created.\n"
     ]
    },
    {
     "name": "stderr",
     "output_type": "stream",
     "text": [
      "100% (11 of 11) |########################| Elapsed Time: 0:00:00 Time:  0:00:00\n",
      "  0% (0 of 11) |                         | Elapsed Time: 0:00:00 ETA:  --:--:--"
     ]
    },
    {
     "name": "stdout",
     "output_type": "stream",
     "text": [
      "Wansbeck completed successfully\n",
      "Run completed successfully\n",
      "C:\\Users\\alechutchings\\Documents\\PythonNotebooks\\SeasonalEstuaryChanges\\Wash_inner\n",
      "Folder 'C:\\Users\\alechutchings\\Documents\\PythonNotebooks\\SeasonalEstuaryChanges\\Wash_inner\\MODEL_3_Outputs_Tensor_Oxygen, Dissolved,  Saturation_2006_2022' created.\n"
     ]
    },
    {
     "name": "stderr",
     "output_type": "stream",
     "text": [
      "100% (11 of 11) |########################| Elapsed Time: 0:00:00 Time:  0:00:00\n",
      "  0% (0 of 11) |                         | Elapsed Time: 0:00:00 ETA:  --:--:--"
     ]
    },
    {
     "name": "stdout",
     "output_type": "stream",
     "text": [
      "Wash_inner completed successfully\n",
      "Run completed successfully\n",
      "C:\\Users\\alechutchings\\Documents\\PythonNotebooks\\SeasonalEstuaryChanges\\Wear\n",
      "Folder 'C:\\Users\\alechutchings\\Documents\\PythonNotebooks\\SeasonalEstuaryChanges\\Wear\\MODEL_3_Outputs_Tensor_Oxygen, Dissolved,  Saturation_2006_2022' created.\n"
     ]
    },
    {
     "name": "stderr",
     "output_type": "stream",
     "text": [
      "100% (11 of 11) |########################| Elapsed Time: 0:00:00 Time:  0:00:00\n",
      "Traceback (most recent call last):\n",
      "  File \"C:\\Users\\alechutchings\\AppData\\Local\\Temp\\2\\ipykernel_2436\\2798313611.py\", line 33, in <module>\n",
      "    trend_result_list, XX, Z = run_GAM(Est_group_all, det, GAM_output_path)\n",
      "                               ^^^^^^^^^^^^^^^^^^^^^^^^^^^^^^^^^^^^^^^^^^^^\n",
      "  File \"C:\\Users\\alechutchings\\AppData\\Local\\Temp\\2\\ipykernel_2436\\3788278592.py\", line 139, in run_GAM\n",
      "    annual_difference = monte_carlo_simulation_from_specific_years(early_period, late_period, annual_samples, XX_years, num_iterations)\n",
      "                        ^^^^^^^^^^^^^^^^^^^^^^^^^^^^^^^^^^^^^^^^^^^^^^^^^^^^^^^^^^^^^^^^^^^^^^^^^^^^^^^^^^^^^^^^^^^^^^^^^^^^^^^^^^^^^^^\n",
      "  File \"C:\\Users\\alechutchings\\AppData\\Local\\Temp\\2\\ipykernel_2436\\3155166224.py\", line 11, in monte_carlo_simulation_from_specific_years\n",
      "    idx2 = np.random.choice(selected_late_data_indices)\n",
      "           ^^^^^^^^^^^^^^^^^^^^^^^^^^^^^^^^^^^^^^^^^^^^\n",
      "  File \"mtrand.pyx\", line 950, in numpy.random.mtrand.RandomState.choice\n",
      "ValueError: 'a' cannot be empty unless no samples are taken\n",
      "  9% (1 of 11) |##                       | Elapsed Time: 0:00:00 ETA:  00:00:00"
     ]
    },
    {
     "name": "stdout",
     "output_type": "stream",
     "text": [
      "Error processing Wear: 'a' cannot be empty unless no samples are taken\n",
      "C:\\Users\\alechutchings\\Documents\\PythonNotebooks\\SeasonalEstuaryChanges\\Welland\n",
      "Folder 'C:\\Users\\alechutchings\\Documents\\PythonNotebooks\\SeasonalEstuaryChanges\\Welland\\MODEL_3_Outputs_Tensor_Oxygen, Dissolved,  Saturation_2006_2022' created.\n"
     ]
    },
    {
     "name": "stderr",
     "output_type": "stream",
     "text": [
      "100% (11 of 11) |########################| Elapsed Time: 0:00:00 Time:  0:00:00\n",
      "Traceback (most recent call last):\n",
      "  File \"C:\\Users\\alechutchings\\AppData\\Local\\Temp\\2\\ipykernel_2436\\2798313611.py\", line 33, in <module>\n",
      "    trend_result_list, XX, Z = run_GAM(Est_group_all, det, GAM_output_path)\n",
      "                               ^^^^^^^^^^^^^^^^^^^^^^^^^^^^^^^^^^^^^^^^^^^^\n",
      "  File \"C:\\Users\\alechutchings\\AppData\\Local\\Temp\\2\\ipykernel_2436\\3788278592.py\", line 139, in run_GAM\n",
      "    annual_difference = monte_carlo_simulation_from_specific_years(early_period, late_period, annual_samples, XX_years, num_iterations)\n",
      "                        ^^^^^^^^^^^^^^^^^^^^^^^^^^^^^^^^^^^^^^^^^^^^^^^^^^^^^^^^^^^^^^^^^^^^^^^^^^^^^^^^^^^^^^^^^^^^^^^^^^^^^^^^^^^^^^^\n",
      "  File \"C:\\Users\\alechutchings\\AppData\\Local\\Temp\\2\\ipykernel_2436\\3155166224.py\", line 10, in monte_carlo_simulation_from_specific_years\n",
      "    idx1 = np.random.choice(selected_early_data_indices)\n",
      "           ^^^^^^^^^^^^^^^^^^^^^^^^^^^^^^^^^^^^^^^^^^^^^\n",
      "  File \"mtrand.pyx\", line 950, in numpy.random.mtrand.RandomState.choice\n",
      "ValueError: 'a' cannot be empty unless no samples are taken\n",
      "  0% (0 of 11) |                         | Elapsed Time: 0:00:00 ETA:  --:--:--"
     ]
    },
    {
     "name": "stdout",
     "output_type": "stream",
     "text": [
      "Error processing Welland: 'a' cannot be empty unless no samples are taken\n",
      "C:\\Users\\alechutchings\\Documents\\PythonNotebooks\\SeasonalEstuaryChanges\\Western_yar\n",
      "Folder 'C:\\Users\\alechutchings\\Documents\\PythonNotebooks\\SeasonalEstuaryChanges\\Western_yar\\MODEL_3_Outputs_Tensor_Oxygen, Dissolved,  Saturation_2006_2022' created.\n"
     ]
    },
    {
     "name": "stderr",
     "output_type": "stream",
     "text": [
      "100% (11 of 11) |########################| Elapsed Time: 0:00:00 Time:  0:00:00\n"
     ]
    },
    {
     "name": "stdout",
     "output_type": "stream",
     "text": [
      "Western_yar completed successfully\n",
      "Run completed successfully\n",
      "C:\\Users\\alechutchings\\Documents\\PythonNotebooks\\SeasonalEstuaryChanges\\Wey\n",
      "Folder 'C:\\Users\\alechutchings\\Documents\\PythonNotebooks\\SeasonalEstuaryChanges\\Wey\\MODEL_3_Outputs_Tensor_Oxygen, Dissolved,  Saturation_2006_2022' created.\n",
      "Error processing Wey: 'Oxygen, Dissolved,  Saturation'\n",
      "C:\\Users\\alechutchings\\Documents\\PythonNotebooks\\SeasonalEstuaryChanges\\Witham\n",
      "Folder 'C:\\Users\\alechutchings\\Documents\\PythonNotebooks\\SeasonalEstuaryChanges\\Witham\\MODEL_3_Outputs_Tensor_Oxygen, Dissolved,  Saturation_2006_2022' created.\n"
     ]
    },
    {
     "name": "stderr",
     "output_type": "stream",
     "text": [
      "Traceback (most recent call last):\n",
      "  File \"C:\\Users\\alechutchings\\AppData\\Local\\anaconda3\\envs\\geo_env\\Lib\\site-packages\\pandas\\core\\indexes\\base.py\", line 3653, in get_loc\n",
      "    return self._engine.get_loc(casted_key)\n",
      "           ^^^^^^^^^^^^^^^^^^^^^^^^^^^^^^^^\n",
      "  File \"pandas\\_libs\\index.pyx\", line 147, in pandas._libs.index.IndexEngine.get_loc\n",
      "  File \"pandas\\_libs\\index.pyx\", line 176, in pandas._libs.index.IndexEngine.get_loc\n",
      "  File \"pandas\\_libs\\hashtable_class_helper.pxi\", line 7080, in pandas._libs.hashtable.PyObjectHashTable.get_item\n",
      "  File \"pandas\\_libs\\hashtable_class_helper.pxi\", line 7088, in pandas._libs.hashtable.PyObjectHashTable.get_item\n",
      "KeyError: 'Oxygen, Dissolved,  Saturation'\n",
      "\n",
      "The above exception was the direct cause of the following exception:\n",
      "\n",
      "Traceback (most recent call last):\n",
      "  File \"C:\\Users\\alechutchings\\AppData\\Local\\Temp\\2\\ipykernel_2436\\2798313611.py\", line 33, in <module>\n",
      "    trend_result_list, XX, Z = run_GAM(Est_group_all, det, GAM_output_path)\n",
      "                               ^^^^^^^^^^^^^^^^^^^^^^^^^^^^^^^^^^^^^^^^^^^^\n",
      "  File \"C:\\Users\\alechutchings\\AppData\\Local\\Temp\\2\\ipykernel_2436\\3788278592.py\", line 32, in run_GAM\n",
      "    Y = Est_all[det].values\n",
      "        ~~~~~~~^^^^^\n",
      "  File \"C:\\Users\\alechutchings\\AppData\\Local\\anaconda3\\envs\\geo_env\\Lib\\site-packages\\pandas\\core\\frame.py\", line 3761, in __getitem__\n",
      "    indexer = self.columns.get_loc(key)\n",
      "              ^^^^^^^^^^^^^^^^^^^^^^^^^\n",
      "  File \"C:\\Users\\alechutchings\\AppData\\Local\\anaconda3\\envs\\geo_env\\Lib\\site-packages\\pandas\\core\\indexes\\base.py\", line 3655, in get_loc\n",
      "    raise KeyError(key) from err\n",
      "KeyError: 'Oxygen, Dissolved,  Saturation'\n",
      "100% (11 of 11) |########################| Elapsed Time: 0:00:00 Time:  0:00:00\n",
      "Traceback (most recent call last):\n",
      "  File \"C:\\Users\\alechutchings\\AppData\\Local\\Temp\\2\\ipykernel_2436\\2798313611.py\", line 33, in <module>\n",
      "    trend_result_list, XX, Z = run_GAM(Est_group_all, det, GAM_output_path)\n",
      "                               ^^^^^^^^^^^^^^^^^^^^^^^^^^^^^^^^^^^^^^^^^^^^\n",
      "  File \"C:\\Users\\alechutchings\\AppData\\Local\\Temp\\2\\ipykernel_2436\\3788278592.py\", line 139, in run_GAM\n",
      "    annual_difference = monte_carlo_simulation_from_specific_years(early_period, late_period, annual_samples, XX_years, num_iterations)\n",
      "                        ^^^^^^^^^^^^^^^^^^^^^^^^^^^^^^^^^^^^^^^^^^^^^^^^^^^^^^^^^^^^^^^^^^^^^^^^^^^^^^^^^^^^^^^^^^^^^^^^^^^^^^^^^^^^^^^\n",
      "  File \"C:\\Users\\alechutchings\\AppData\\Local\\Temp\\2\\ipykernel_2436\\3155166224.py\", line 11, in monte_carlo_simulation_from_specific_years\n",
      "    idx2 = np.random.choice(selected_late_data_indices)\n",
      "           ^^^^^^^^^^^^^^^^^^^^^^^^^^^^^^^^^^^^^^^^^^^^\n",
      "  File \"mtrand.pyx\", line 950, in numpy.random.mtrand.RandomState.choice\n",
      "ValueError: 'a' cannot be empty unless no samples are taken\n",
      "  9% (1 of 11) |##                       | Elapsed Time: 0:00:00 ETA:  00:00:00"
     ]
    },
    {
     "name": "stdout",
     "output_type": "stream",
     "text": [
      "Error processing Witham: 'a' cannot be empty unless no samples are taken\n",
      "C:\\Users\\alechutchings\\Documents\\PythonNotebooks\\SeasonalEstuaryChanges\\Wootton_creek\n",
      "Folder 'C:\\Users\\alechutchings\\Documents\\PythonNotebooks\\SeasonalEstuaryChanges\\Wootton_creek\\MODEL_3_Outputs_Tensor_Oxygen, Dissolved,  Saturation_2006_2022' created.\n"
     ]
    },
    {
     "name": "stderr",
     "output_type": "stream",
     "text": [
      "100% (11 of 11) |########################| Elapsed Time: 0:00:00 Time:  0:00:00\n"
     ]
    },
    {
     "name": "stdout",
     "output_type": "stream",
     "text": [
      "Wootton_creek completed successfully\n",
      "Run completed successfully\n",
      "C:\\Users\\alechutchings\\Documents\\PythonNotebooks\\SeasonalEstuaryChanges\\Wyre\n",
      "Folder 'C:\\Users\\alechutchings\\Documents\\PythonNotebooks\\SeasonalEstuaryChanges\\Wyre\\MODEL_3_Outputs_Tensor_Oxygen, Dissolved,  Saturation_2006_2022' created.\n"
     ]
    },
    {
     "name": "stderr",
     "output_type": "stream",
     "text": [
      "100% (11 of 11) |########################| Elapsed Time: 0:00:01 Time:  0:00:01\n"
     ]
    },
    {
     "name": "stdout",
     "output_type": "stream",
     "text": [
      "Wyre completed successfully\n",
      "Run completed successfully\n",
      "C:\\Users\\alechutchings\\Documents\\PythonNotebooks\\SeasonalEstuaryChanges\\Yealm\n",
      "Folder 'C:\\Users\\alechutchings\\Documents\\PythonNotebooks\\SeasonalEstuaryChanges\\Yealm\\MODEL_3_Outputs_Tensor_Oxygen, Dissolved,  Saturation_2006_2022' created.\n"
     ]
    },
    {
     "name": "stderr",
     "output_type": "stream",
     "text": [
      "C:\\Users\\alechutchings\\AppData\\Local\\Temp\\2\\ipykernel_2436\\2701496734.py:5: DtypeWarning: Columns (10) have mixed types. Specify dtype option on import or set low_memory=False.\n",
      "  dfs = [pd.read_csv(csv, dtype={\"INTERPRETATION\": str, \"TEXT_RESULT\": str, \"DETCODE\": str}) for csv in csvs[:input_no]]\n",
      "100% (11 of 11) |########################| Elapsed Time: 0:00:01 Time:  0:00:01\n"
     ]
    },
    {
     "name": "stdout",
     "output_type": "stream",
     "text": [
      "Yealm completed successfully\n",
      "Run completed successfully\n"
     ]
    }
   ],
   "source": [
    "#estuary_list = ['Plymouth']\n",
    "\n",
    "#det = 'Oxygen, Dissolved as O2'\n",
    "#det = 'Temperature of Water'\n",
    "det = 'Oxygen, Dissolved,  Saturation'\n",
    "\n",
    "#trend_sample_option = '1990_2006'\n",
    "trend_sample_option = '2006_2022'\n",
    "#trend_sample_option = '1990_2022'\n",
    "#trend_sample_option = 'Yearly_20_interval'\n",
    "\n",
    "master_df = pd.DataFrame()\n",
    "\n",
    "for estuary in estuary_list:\n",
    "    try:\n",
    "        folder_path = f\"C:\\\\Users\\\\alechutchings\\\\Documents\\\\PythonNotebooks\\\\SeasonalEstuaryChanges\\\\{estuary}\"\n",
    "        print(folder_path)\n",
    "        #Create an output plot folder for the GAM models\n",
    "        folder_name = f'MODEL_3_Outputs_Tensor_{det}_{trend_sample_option}'\n",
    "        GAM_output_path = os.path.join(folder_path, folder_name)\n",
    "    \n",
    "        if not os.path.exists(GAM_output_path):\n",
    "            os.mkdir(GAM_output_path)\n",
    "            print(f\"Folder '{GAM_output_path}' created.\")\n",
    "        else:\n",
    "            print(f\"Folder '{GAM_output_path}' already exists.\")\n",
    "\n",
    "        csv_input_path = os.path.join(folder_path, f'{estuary}_wims_data_clean_nd_removed.csv')\n",
    "        df = import_csv(1,csv_input_path)\n",
    "        Est_group_all = create_pivot(df)\n",
    "\n",
    "        trend_result_list = []\n",
    "        trend_result_list, XX, Z = run_GAM(Est_group_all, det, GAM_output_path)\n",
    "        trend_result_list_df = pd.DataFrame(trend_result_list)\n",
    "\n",
    "        # Create a DataFrame from trend_result_list\n",
    "        trend_result_list_df = pd.DataFrame(trend_result_list)\n",
    "    \n",
    "        # Add a column with the name of the estuary\n",
    "        trend_result_list_df['Estuary'] = estuary\n",
    "    \n",
    "        # Append the DataFrame to a master DataFrame (if it already exists)\n",
    "        if 'master_df' not in locals():\n",
    "            master_df = trend_result_list_df.copy()\n",
    "        else:\n",
    "            master_df = pd.concat([master_df, trend_result_list_df], ignore_index=True)\n",
    "            \n",
    "    except Exception as e:\n",
    "        # Print the error message\n",
    "        traceback.print_exc()\n",
    "        error_message = f\"Error processing {estuary}: {str(e)}\"\n",
    "\n",
    "        # Log the error to a notepad file\n",
    "        log_file_path = os.path.join('C:\\\\Users\\\\alechutchings\\\\Documents\\\\PythonNotebooks\\\\SeasonalEstuaryChanges\\\\',f'MODEL3_error_log_{det}_{trend_sample_option}.txt')\n",
    "        with open(log_file_path, 'a') as log_file:\n",
    "            log_file.write(error_message + '\\n')\n",
    "        print(error_message)\n",
    "\n",
    "    finally:\n",
    "        # Any cleanup code or additional actions you want to perform regardless of success or failure\n",
    "        pass\n",
    "\n",
    "# Now, master_df contains all the data with an additional 'Estuary' column\n",
    "# You can save it to a CSV file if needed\n",
    "master_df.to_csv(f\"MODEL_3_output_file_{det}_{trend_sample_option}.csv\", index=False)\n",
    "\n"
   ]
  },
  {
   "cell_type": "code",
   "execution_count": 244,
   "id": "15f27dfd-dff0-4257-a661-1bcd98b3b158",
   "metadata": {},
   "outputs": [
    {
     "data": {
      "image/png": "[encoded data removed]",
      "text/plain": [
       "<Figure size 1200x800 with 1 Axes>"
      ]
     },
     "metadata": {},
     "output_type": "display_data"
    }
   ],
   "source": [
    "\n",
    "import matplotlib.pyplot as plt\n",
    "from mpl_toolkits import mplot3d\n",
    "\n",
    "plt.ion()\n",
    "plt.rcParams['figure.figsize'] = (12, 8)\n",
    "\n",
    "ax = plt.axes(projection='3d')\n",
    "ax.plot_surface(XX[0], XX[1], Z, cmap='viridis')\n",
    "ax.view_init(elev=30, azim=45) \n",
    "ax.set_xlabel('Day of Year')\n",
    "ax.set_ylabel('Year')\n",
    "ax.set_zlabel('Partial dependence')\n",
    "plt.show()"
   ]
  },
  {
   "cell_type": "code",
   "execution_count": null,
   "id": "4b107c98-2b03-47b6-a617-2305ed2bea12",
   "metadata": {},
   "outputs": [],
   "source": []
  }
 ],
 "metadata": {
  "kernelspec": {
   "display_name": "Python 3 (ipykernel)",
   "language": "python",
   "name": "python3"
  },
  "language_info": {
   "codemirror_mode": {
    "name": "ipython",
    "version": 3
   },
   "file_extension": ".py",
   "mimetype": "text/x-python",
   "name": "python",
   "nbconvert_exporter": "python",
   "pygments_lexer": "ipython3",
   "version": "3.11.4"
  }
 },
 "nbformat": 4,
 "nbformat_minor": 5
}
