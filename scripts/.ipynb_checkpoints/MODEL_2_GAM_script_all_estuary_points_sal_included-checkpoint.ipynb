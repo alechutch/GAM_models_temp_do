{
 "cells": [
  {
   "cell_type": "code",
   "execution_count": 1,
   "id": "ebb57a61-8549-4035-9ee2-4b0bffe456c2",
   "metadata": {},
   "outputs": [
    {
     "name": "stdout",
     "output_type": "stream",
     "text": [
      "env: PYTHONHASHSEED=0\n"
     ]
    }
   ],
   "source": [
    "env PYTHONHASHSEED=0"
   ]
  },
  {
   "cell_type": "code",
   "execution_count": 2,
   "id": "7bac24fd-bdfb-4431-b2cb-0bc0827cfcc2",
   "metadata": {},
   "outputs": [],
   "source": [
    "import numpy as np\n",
    "import pandas as pd\n",
    "import matplotlib.pyplot as plt\n",
    "from pygam import LinearGAM, GAM, s, l, te\n",
    "from sklearn.model_selection import train_test_split\n",
    "from sklearn.metrics import mean_squared_error, r2_score\n",
    "import os\n",
    "import csv\n",
    "import shutil\n",
    "import traceback\n",
    "import random\n",
    "from datetime import datetime\n",
    "\n",
    "import geopandas as gpd\n",
    "import fiona\n",
    "import shapely\n",
    "from shapely import LineString\n",
    "from shapely.geometry import Point\n",
    "from shapely.ops import unary_union"
   ]
  },
  {
   "cell_type": "code",
   "execution_count": 3,
   "id": "f07e01e2-1065-4c36-b024-165dc4c348d8",
   "metadata": {},
   "outputs": [],
   "source": [
    "def import_csv(input_no, *csvs):\n",
    "    if input_no < 1 or input_no > len(csvs):\n",
    "        raise ValueError(\"input_no should be between 1 and the number of CSV files\")\n",
    "    \n",
    "    dfs = [pd.read_csv(csv, dtype={\"INTERPRETATION\": str, \"TEXT_RESULT\": str, \"DETCODE\": str}) for csv in csvs[:input_no]]\n",
    "    full_wims = pd.concat(dfs)\n",
    "    \n",
    "    return full_wims#def import class\n"
   ]
  },
  {
   "cell_type": "code",
   "execution_count": 4,
   "id": "6f0417ff-de97-415e-bd43-3cc43fe79755",
   "metadata": {},
   "outputs": [],
   "source": [
    "def create_pivot(df):\n",
    "    #df['site_avg_salinity'].fillna(5, inplace=True)\n",
    "    #Create Pivot\n",
    "    Est_pivot = df.pivot_table(values='result',index=['date','time','ptcode','easting','northing','site_avg_salinity','salinity_class'],columns=['detname'])\n",
    "    #Drop the \"Time\" column from results as this duplicates a column elsewhere\n",
    "    Est_pivot = Est_pivot.drop(columns = ['time'],axis=1,errors='ignore')\n",
    "    #Reset the index\n",
    "    Est_pivot.reset_index(inplace=True)\n",
    "    #Create a column for year\n",
    "    Est_pivot['date'] = pd.to_datetime(Est_pivot['date'])\n",
    "    Est_pivot[\"year\"]=Est_pivot[\"date\"].dt.year\n",
    "    #Create a column for month\n",
    "    Est_pivot[\"month\"]=Est_pivot[\"date\"].dt.month\n",
    "    Est_pivot.columns = Est_pivot.columns.str.replace(':', '')\n",
    "    Est_pivot.columns = Est_pivot.columns.str.replace('%', '')\n",
    "    Est_group_all = Est_pivot.copy().reset_index()\n",
    "\n",
    "    return Est_group_all"
   ]
  },
  {
   "cell_type": "code",
   "execution_count": 5,
   "id": "9ab79364-386b-4169-a826-1e80521458d4",
   "metadata": {},
   "outputs": [],
   "source": [
    "def date_to_float_year(date):\n",
    "    # Convert the timestamp to a string in the format '%Y-%m-%d'\n",
    "    date_str = date.strftime('%Y-%m-%d')\n",
    "    \n",
    "    # Convert the date string to a datetime object\n",
    "    date_obj = datetime.strptime(date_str, '%Y-%m-%d')\n",
    "    \n",
    "    # Extract year, month, and day from the date object\n",
    "    year = date_obj.year\n",
    "    month = date_obj.month\n",
    "    day = date_obj.day\n",
    "    \n",
    "    # Calculate the fractional part of the year\n",
    "    fractional_year = year + (month - 1) / 12 + (day - 1) / 365\n",
    "    \n",
    "    return fractional_year"
   ]
  },
  {
   "cell_type": "code",
   "execution_count": 6,
   "id": "dd27a128-3e76-4d57-b9a2-9834cd3b6ab4",
   "metadata": {},
   "outputs": [],
   "source": [
    "def monte_carlo_simulation_from_specific_years(early_period, late_period, samples, XX, num_iterations=10000):\n",
    "\n",
    "    trend_differences = []\n",
    "    \n",
    "    selected_early_data_indices = np.where((XX[:, 3] >= early_period[0]) & (XX[:, 3] <= early_period[1]))[0]\n",
    "    selected_late_data_indices = np.where((XX[:, 3] >= late_period[0]) & (XX[:, 3] <= late_period[1]))[0]\n",
    "\n",
    "    for x in range(num_iterations):\n",
    "\n",
    "        idx1 = np.random.choice(selected_early_data_indices)\n",
    "        idx2 = np.random.choice(selected_late_data_indices)\n",
    "        \n",
    "        sample_indices = random.sample(range(len(samples)), 2)\n",
    "        selected_early_samples = samples[sample_indices[0],idx1]\n",
    "        selected_late_samples = samples[sample_indices[1],idx2]\n",
    "\n",
    "        # Calculate difference\n",
    "        difference = (selected_late_samples - selected_early_samples)/(XX[idx2, 3] - XX[idx1,3])\n",
    "        # Append to a dataframe\n",
    "        trend_differences.append(difference)\n",
    "\n",
    "    return trend_differences         "
   ]
  },
  {
   "cell_type": "code",
   "execution_count": 7,
   "id": "1cdace58-52a4-414d-8968-5b3aa02db30d",
   "metadata": {},
   "outputs": [],
   "source": [
    "# Function to allow monte carlo simulations\n",
    "def perform_monte_carlo_simulation(samples, XX_years, num_iterations, year_index):\n",
    "\n",
    "    if XX_years[:,3].max() - XX_years[:,3].min() <= year_index:\n",
    "        print(f\"The range of years is not sufficient for analysis (less than or equal to {year_index} years).\")\n",
    "        return None\n",
    "        \n",
    "    trend_differences = []\n",
    "\n",
    "    #Run through iteration\n",
    "    for x in range(num_iterations):\n",
    "        # Maximum number of attempts to find an appropriate pair of time segements to sample from\n",
    "        max_attempts = 1000\n",
    "        # Take a couple of random indices from the yearly dependence to sample from the normal distribution\n",
    "        sample_indices = random.sample(range(len(samples)), 2)\n",
    "        # Attempt to find a pair of numbers that are greater than 10 years apart\n",
    "        for _ in range(max_attempts):\n",
    "            # Allow the first yearly indices to be any number from 0 to n-1 (to allow for idx2)\n",
    "            idx1 = np.random.randint(0, len(XX_years[:,3])-1)\n",
    "            # Ensure idx2 is greater than idx1 (so the yearly change is in the right direction!)\n",
    "            idx2 = np.random.randint(idx1 + 1, len(XX_years[:,3]))  # Ensuring idx2 is greater than idx1\n",
    "            # Check the difference in years exceeds the year index\n",
    "            if XX_years[:,3][idx2] - XX_years[:,3][idx1] >= year_index:\n",
    "            #Take the random sample indices and the yearly indices for early and late samples\n",
    "                sample_early = samples[sample_indices[0], idx1]\n",
    "                sample_late = samples[sample_indices[1], idx2]\n",
    "                # Calculate difference\n",
    "                difference = (sample_late - sample_early)/(XX_years[idx2, 3] - XX_years[idx1,3])\n",
    "                # Append to a dataframe\n",
    "                trend_differences.append(difference)\n",
    "                # Break the loop once the conditions are met\n",
    "                break\n",
    "\n",
    "    return trend_differences"
   ]
  },
  {
   "cell_type": "code",
   "execution_count": 25,
   "id": "7420a7ac-cb37-41c6-8a44-8bb03d07855e",
   "metadata": {},
   "outputs": [],
   "source": [
    "def run_GAM(Est_all, det, GAM_output_folder_path):\n",
    "\n",
    "    #Set blank DF\n",
    "    trend_result_list = []\n",
    "\n",
    "    # Date tp datetime\n",
    "    Est_all.loc[:, 'date'] = pd.to_datetime(Est_all['date'])\n",
    "    #Convert date to day of year (note this is an open ended continuous variable)\n",
    "    Est_all.loc[:, 'day_of_year'] = Est_all['date'].dt.dayofyear\n",
    "\n",
    "    # Apply float date\n",
    "    Est_all['float_date'] = Est_all['date'].apply(date_to_float_year)\n",
    "\n",
    "    #This section converts time to a continuous scale\n",
    "    # Extract hours and minutes\n",
    "    hour = Est_all['time'] // 100\n",
    "    minutes = Est_all['time'] % 100\n",
    "    # Convert to continuous numeric format (minutes since midnight)\n",
    "    Est_all.loc[:, 'time_converted'] = hour * 60 + minutes\n",
    "\n",
    "    # Handle NaN values if 'time' column contains them - Any value will become -1\n",
    "    Est_all['time_converted'] = Est_all['time_converted'].fillna(-1)  # Replace NaN with a suitable value\n",
    "\n",
    "    # Set up a list of features to add\n",
    "    Features = ['site_avg_salinity' , 'time_converted' , 'day_of_year' , 'float_date']\n",
    "\n",
    "    # Create independent variables\n",
    "    X = Est_all[Features].values\n",
    "    # Create dependent variables\n",
    "    Y = Est_all[det].values\n",
    "\n",
    "    # Remove rows with NaN values in Y. Note X gets removed in the same way.\n",
    "    mask = ~np.isnan(Y)\n",
    "    X = X[mask]\n",
    "    Y = Y[mask]\n",
    "\n",
    "    # Dynamically set the index to year\n",
    "    year_index = Features.index('float_date')\n",
    "    # Failsafe to break loop in case there is only one year in the data\n",
    "    if len(np.unique(X[:, year_index])) <= 1:\n",
    "         print(f\"Skipping analysis as there is only one unique year.\")\n",
    "        \n",
    "    # Split the data into training and testing sets\n",
    "    X_train, X_test, y_train, y_test = train_test_split(X, Y, test_size=0.2, random_state=42)\n",
    "\n",
    "    # Create and train the GAM model\n",
    "    spline_no=5\n",
    "\n",
    "    # Rune the GAM model\n",
    "    gam = GAM(s(0, n_splines=spline_no) + s(1,n_splines=spline_no) + s(2,n_splines=spline_no,basis='cp') + s(3,n_splines=spline_no)).gridsearch(X_train, y_train)\n",
    "    \n",
    "    #If you want to see what the gridsearch is doing, uncomment out the following.\n",
    "    #print(gam.summary())\n",
    "\n",
    "    # Make predictions on the test set\n",
    "    y_pred = gam.predict(X_test)\n",
    "\n",
    "    # Evaluate the model\n",
    "    mse = mean_squared_error(y_test, y_pred)\n",
    "    r2 = r2_score(y_test, y_pred)\n",
    "\n",
    "    #======================PLOTTING BEGINS============================\n",
    "\n",
    "    # Plotting actual vs predicted valuesran\n",
    "    plt.scatter(y_test, y_pred, alpha=0.5)\n",
    "    # Sticking a 1:1 line in\n",
    "    plt.plot([min(y_test)-1, max(y_test)+1], [min(y_test)-1, max(y_test)+1], '--', color='red', label='1:1 Line')\n",
    "    plt.title(f'Actual vs Predicted Values')\n",
    "    plt.xlabel(f'Actual {det}')\n",
    "    plt.ylabel(f'Predicted {det}')\n",
    "    #Exporting figure\n",
    "    Actual_predicted_path = os.path.join(GAM_output_folder_path, f'ActualVSPredicted_{estuary}.png')\n",
    "    plt.savefig(Actual_predicted_path)\n",
    "    plt.clf()\n",
    "\n",
    "    # Plotting residuals\n",
    "    residuals = y_test - y_pred\n",
    "    plt.scatter(y_pred, residuals, alpha=0.5)\n",
    "    plt.title(f'Residuals Plot')\n",
    "    plt.xlabel(f'Predicted {det}')\n",
    "    plt.ylabel('Residuals')\n",
    "    plt.axhline(y=0, color='r', linestyle='--', linewidth=2)\n",
    "    #Exporting figure\n",
    "    Residuals_path = os.path.join(GAM_output_folder_path, f'Residuals_{estuary}.png')\n",
    "    plt.savefig(Residuals_path)\n",
    "    plt.clf()\n",
    "\n",
    "    #Plot the partial dependencies\n",
    "    feature_names = ['site_avg_salinity','time', 'day_of_year', 'date']\n",
    "\n",
    "    fig, axs = plt.subplots(1, len(feature_names), figsize=(16, 4))\n",
    "    for i, ax in enumerate(axs):\n",
    "        #This defaults to 100 measurements\n",
    "        XX = gam.generate_X_grid(term=i)\n",
    "        pdep, confi = gam.partial_dependence(term=i, X=XX, width=0.95)\n",
    "        ax.plot(XX[:, i], pdep)\n",
    "        ax.plot(XX[:, i], confi, c='r', ls='--')\n",
    "        ax.set_title(f'Partial dependence of {feature_names[i]}', fontsize = 10)\n",
    "    plt.tight_layout()\n",
    "    #Exporting figure\n",
    "    Dependencies_path = os.path.join(GAM_output_folder_path, f'Dependencies_{estuary}.png')\n",
    "    plt.savefig(Dependencies_path)\n",
    "    plt.clf()\n",
    "\n",
    "    # This line extracts the partial dependence for the 'year' feature. There's probably a better way to combine with above code.\n",
    "    XX = gam.generate_X_grid(term=3)\n",
    "    pdep, confi = gam.partial_dependence(term=3, X=XX, width=0.95)\n",
    "\n",
    "    # Plot the partial dependence for 'year'\n",
    "    plt.plot(XX[:, 3], pdep)\n",
    "    plt.fill_between(XX[:, 3], confi[:, 0], confi[:, 1], alpha=0.2, color='r')\n",
    "    plt.title('Partial Dependence Plot for Year')\n",
    "    plt.xlabel('Year')\n",
    "    plt.ylabel('Partial Dependence')\n",
    "    #Exporting figure\n",
    "    Yearly_dependencies_path = os.path.join(GAM_output_folder_path, f'Yearly_dependencies_{estuary}.png')\n",
    "    plt.savefig(Yearly_dependencies_path)\n",
    "    plt.close('all')\n",
    "    \n",
    "    for response in gam.sample(X, Y, quantity='y', n_draws=100, sample_at_X=XX):\n",
    "        plt.scatter(XX[:, 3], response, alpha=0.03, color='k')  # Assuming XX[:, 0] is the appropriate feature for X-axis\n",
    "        #print(response)\n",
    "    plt.plot(XX[:, 3], gam.predict(XX), 'r--')  # Assuming XX[:, 0] is the appropriate feature for X-axis\n",
    "    plt.title('Draw samples from the posterior of the coefficients')\n",
    "    plt.xlabel('Year')\n",
    "    plt.ylabel('Predicted temperature')\n",
    "    Random_model_sample_dependencies_path = os.path.join(GAM_output_folder_path, f'Random_model_posterior_sample_distribution_{estuary}.png')\n",
    "    plt.savefig(Random_model_sample_dependencies_path)\n",
    "    plt.close('all')\n",
    "\n",
    "    # Extracting mean and confidence intervals from pdep and confi\n",
    "    mean_year_dependence = pdep\n",
    "    lower_bound = confi[:, 0]\n",
    "    upper_bound = confi[:, 1]\n",
    "\n",
    "    # Calculating standard deviation based on confidence intervals\n",
    "    std_dev = (upper_bound - lower_bound) / (2 * 1.96)  # Assuming 1.96 corresponds to 95% confidence interval\n",
    "\n",
    "    # Generating samples based on the partial dependence of 'year'\n",
    "    num_samples = 100  # Define the number of samples you want to generate\n",
    "    \n",
    "    samples = np.random.normal(mean_year_dependence, std_dev, size=(num_samples, len(mean_year_dependence)))\n",
    "\n",
    "    # Plotting samples\n",
    "    for sample in samples:\n",
    "        plt.plot(XX[:, 3], sample, alpha=0.03, color='k')\n",
    "    plt.plot(XX[:, 3], pdep, 'r--')  # Assuming XX[:, 3] is the appropriate feature for X-axis\n",
    "    plt.title('Samples from the posterior of the coefficients')\n",
    "    plt.xlabel('Year')\n",
    "    plt.ylabel('Response')\n",
    "    Random_yearly_dependency_sample_path = os.path.join(GAM_output_folder_path, f'Random_yearly_dependence_posterior_sample_distribution_{estuary}.png')\n",
    "    plt.savefig(Random_yearly_dependency_sample_path)\n",
    "    plt.close('all')\n",
    "\n",
    "    # Define the total number of iterations to run through monte carlo\n",
    "    num_iterations = 10000\n",
    "\n",
    "    # Set up blank results table\n",
    "    trend_differences_year = []\n",
    "\n",
    "    # =======================================================\n",
    "    # HERE IS THE OPTIONS FOR HOW TO RUN THE TREND ANALYSIS - Comment one out\n",
    "    # ======================================================\n",
    "\n",
    "    # =/=/=/=/=/=/=/=/=/=/=/=/=/=//=/=/=/=/=/=/=/=/=/=/=/=/=/=/=/=/=/=/=/=/=/=/=/=/=/=\n",
    "    # OPTION 1 = Specify two yearly periods\n",
    "\n",
    "    early_period = [2005.5,2006.5]\n",
    "    later_period=[2021.5,2022.5]\n",
    "    \n",
    "    trend_differences_year = monte_carlo_simulation_from_specific_years(early_period, later_period, samples, XX, num_iterations)\n",
    "    # =/=/=/=/=/=/=/=/=/=/=/=/=/=/=/=/=/=/=/=/=/=/=/=/=/=/=/=/=/=/=/=/=/=/=/=/=/=/=/=/=\n",
    "    \n",
    "    # =/=/=/=/=/=/=/=/=/=/=/=/=/=/=/=/=/=/=/=/=/=/=/=/=/=/=/=/=/=/=/=/=/=/=/=/=/=/=/=/=\n",
    "    # OPTION 2 = Specifya yearly interval\n",
    "    \n",
    "    # year_index = 20\n",
    "    \n",
    "    # trend_differences_year = perform_monte_carlo_simulation(samples, XX, num_iterations, year_index)\n",
    "    # =/=/=/=/=/=/=/=/=/=/=/=/=/=/=/=/=/=/=/=/=/=/=/=/=/=/=/=/=/=/=/=/=/=/=/=/=/=/=/=/=\n",
    "\n",
    "    \n",
    "    # Plot histogram of trend differences\n",
    "    plt.hist(trend_differences_year, bins=50, color='red', edgecolor='black')\n",
    "    plt.title('Histogram of Trend Differences')\n",
    "    plt.xlabel('Difference in Trend')\n",
    "    plt.ylabel('Frequency')\n",
    "    plt.grid(True)\n",
    "    Monte_carlo_histo_sample_path = os.path.join(GAM_output_folder_path, f'Monte_carlo_histogram_{estuary}.png')\n",
    "    plt.savefig(Monte_carlo_histo_sample_path)\n",
    "    plt.close('all')\n",
    "    \n",
    "    # Calculate statistics of trend differences\n",
    "    mean_difference = np.mean(trend_differences_year)\n",
    "    std_dev_difference = np.std(trend_differences_year)\n",
    "\n",
    "    # Print or use these statistics as needed\n",
    "    print(\"Mean difference in trend:\", mean_difference)\n",
    "    print(\"Standard deviation of difference in trend:\", std_dev_difference)\n",
    "\n",
    "\n",
    "    #=================Exporting to CSV and a Dictionary for map plotting=======================\n",
    "\n",
    "    #=============================Print to CSV============================================\n",
    "    #Appending to a dictionaries for a csv\n",
    "    trend_result_list.append({\n",
    "        'Average': mean_difference,\n",
    "        'Std': std_dev_difference,\n",
    "        'r_squared': r2,\n",
    "        'Mean Squared Error': mse,\n",
    "    })\n",
    "    \n",
    "    # Convert the list of dictionaries to a DataFrame\n",
    "    df = pd.DataFrame(trend_result_list)\n",
    "    # Export the DataFrame to a CSV file\n",
    "    csv_path = os.path.join(GAM_output_folder_path, f'{estuary}_trend_result_list.csv')\n",
    "    df.to_csv(csv_path, index=False)\n",
    "\n",
    "\n",
    "    print(f'{estuary} completed successfully')\n",
    "    \n",
    "    print('Run completed successfully')\n",
    "\n",
    "    return trend_result_list"
   ]
  },
  {
   "cell_type": "code",
   "execution_count": 9,
   "id": "d84ca307-9edd-48d8-851a-e32714907ac8",
   "metadata": {},
   "outputs": [],
   "source": [
    "def extract_shapefile(data_dict, estuary_to_extract, input_shapefile, target_crs='EPSG:xxxx'):\n",
    "    if estuary_to_extract in data_dict:\n",
    "        # Get the corresponding values from the dictionary\n",
    "        corresponding_values = data_dict[estuary_to_extract]\n",
    "\n",
    "        # Initialize an empty GeoDataFrame\n",
    "        combined_gdf = gpd.GeoDataFrame()\n",
    "    \n",
    "        # Iterate through each corresponding value\n",
    "        for value in corresponding_values:\n",
    "            # Filter rows based on the current value\n",
    "            subset_gdf = input_shapefile[input_shapefile['wb_name'] == value]\n",
    "\n",
    "            # Check if the subset is not empty before combining\n",
    "            if not subset_gdf.empty:\n",
    "                # Concatenate the subset to the combined GeoDataFrame\n",
    "                combined_gdf = pd.concat([combined_gdf, subset_gdf], ignore_index=True)\n",
    "\n",
    "        # Check if there is more than one row for the key\n",
    "        if len(combined_gdf) > 1:\n",
    "            # Use unary_union to combine geometries\n",
    "            combined_geometry = unary_union(combined_gdf['geometry'])\n",
    "\n",
    "            # Create a new GeoDataFrame with the combined geometry\n",
    "            new_gdf = gpd.GeoDataFrame(geometry=[combined_geometry], crs=target_crs)\n",
    "\n",
    "            # Print or do further processing with the new GeoDataFrame\n",
    "            print(new_gdf)\n",
    "        elif not combined_gdf.empty:\n",
    "            # Only one row, no need to combine, use the original GeoDataFrame\n",
    "            new_gdf = combined_gdf.copy()\n",
    "            new_gdf.crs = target_crs  # Set CRS for the single-row GeoDataFrame\n",
    "            print(new_gdf)\n",
    "        else:\n",
    "            print(f\"No features found for {estuary_to_extract}.\")\n",
    "    else:\n",
    "        print(f\"{estuary_to_extract} not found in the dictionary.\")\n",
    "\n",
    "    return new_gdf"
   ]
  },
  {
   "cell_type": "code",
   "execution_count": 10,
   "id": "e946682c-84cd-4695-92ed-1edba2ebcb97",
   "metadata": {},
   "outputs": [],
   "source": [
    "wfd_trac = f\"C:\\\\Users\\\\alechutchings\\\\Documents\\\\PythonNotebooks\\\\WFD_trac_shapefile\\\\WFD_Transitional_and_Coastal_Water_Bodies_Cycle_2.shp\"\n",
    "wfd_trac_shp = gpd.read_file(wfd_trac) "
   ]
  },
  {
   "cell_type": "code",
   "execution_count": 11,
   "id": "e401c591-fac9-4e9e-ad62-21cd6754b180",
   "metadata": {},
   "outputs": [],
   "source": [
    "# Assuming you have a CSV file with multiple columns\n",
    "csv_file_path = \"C:\\\\Users\\\\alechutchings\\\\Documents\\\\PythonNotebooks\\\\estuary_shapefile_dictionary.csv\"\n",
    "\n",
    "# Initialize an empty dictionary\n",
    "data_dict = {}\n",
    "\n",
    "# Read the CSV file and populate the dictionary\n",
    "with open(csv_file_path, 'r') as csv_file:\n",
    "    csv_reader = csv.reader(csv_file)\n",
    "    \n",
    "    # Skip the header row if it exists\n",
    "    next(csv_reader, None)\n",
    "    \n",
    "    # Iterate through rows and add key-value pairs to the dictionary\n",
    "    for row in csv_reader:\n",
    "        key = row[0]\n",
    "        values = row[1:]  # Collect all values from the second column onwards\n",
    "        data_dict[key] = values"
   ]
  },
  {
   "cell_type": "code",
   "execution_count": 12,
   "id": "bb67d527-2837-4144-b3ef-8167259cb385",
   "metadata": {},
   "outputs": [
    {
     "name": "stdout",
     "output_type": "stream",
     "text": [
      "83\n"
     ]
    }
   ],
   "source": [
    "estuary_list = list(data_dict.keys())\n",
    "print(len(estuary_list))"
   ]
  },
  {
   "cell_type": "code",
   "execution_count": 28,
   "id": "d0837fa7-a176-4e7e-a4ab-ef0a9a6156de",
   "metadata": {},
   "outputs": [
    {
     "name": "stdout",
     "output_type": "stream",
     "text": [
      "C:\\Users\\alechutchings\\Documents\\PythonNotebooks\\SeasonalEstuaryChanges\\Adur\n",
      "Folder 'C:\\Users\\alechutchings\\Documents\\PythonNotebooks\\SeasonalEstuaryChanges\\Adur\\MODEL_2_GAM_outputs_whole_estuary_salinity_Oxygen, Dissolved,  Saturation_2006_2022' created.\n"
     ]
    },
    {
     "name": "stderr",
     "output_type": "stream",
     "text": [
      "100% (11 of 11) |########################| Elapsed Time: 0:00:00 Time:  0:00:00\n",
      "100% (11 of 11) |########################| Elapsed Time: 0:00:00 Time:  0:00:00\n",
      "100% (11 of 11) |########################| Elapsed Time: 0:00:00 Time:  0:00:00\n",
      "100% (11 of 11) |########################| Elapsed Time: 0:00:00 Time:  0:00:00\n",
      "100% (11 of 11) |########################| Elapsed Time: 0:00:00 Time:  0:00:00\n",
      " 18% (2 of 11) |####                     | Elapsed Time: 0:00:00 ETA:  00:00:00"
     ]
    },
    {
     "name": "stdout",
     "output_type": "stream",
     "text": [
      "Mean difference in trend: 0.08733944507367909\n",
      "Standard deviation of difference in trend: 0.3497391540498013\n",
      "Adur completed successfully\n",
      "Run completed successfully\n",
      "Average: 0.08733944507367909\n",
      "Standard Deviation: nan\n",
      "C:\\Users\\alechutchings\\Documents\\PythonNotebooks\\SeasonalEstuaryChanges\\Alde_ore\n",
      "Folder 'C:\\Users\\alechutchings\\Documents\\PythonNotebooks\\SeasonalEstuaryChanges\\Alde_ore\\MODEL_2_GAM_outputs_whole_estuary_salinity_Oxygen, Dissolved,  Saturation_2006_2022' created.\n"
     ]
    },
    {
     "name": "stderr",
     "output_type": "stream",
     "text": [
      "100% (11 of 11) |########################| Elapsed Time: 0:00:00 Time:  0:00:00\n",
      "100% (11 of 11) |########################| Elapsed Time: 0:00:00 Time:  0:00:00\n",
      "100% (11 of 11) |########################| Elapsed Time: 0:00:00 Time:  0:00:00\n",
      "100% (11 of 11) |########################| Elapsed Time: 0:00:00 Time:  0:00:00\n",
      "100% (11 of 11) |########################| Elapsed Time: 0:00:00 Time:  0:00:00\n",
      "Traceback (most recent call last):\n",
      "  File \"C:\\Users\\alechutchings\\AppData\\Local\\Temp\\2\\ipykernel_7584\\1228676766.py\", line 32, in <module>\n",
      "    trend_result_list = run_GAM(Est_group_all, det, GAM_output_path)\n",
      "                        ^^^^^^^^^^^^^^^^^^^^^^^^^^^^^^^^^^^^^^^^^^^^\n",
      "  File \"C:\\Users\\alechutchings\\AppData\\Local\\Temp\\2\\ipykernel_7584\\3038027423.py\", line 171, in run_GAM\n",
      "    trend_differences_year = monte_carlo_simulation_from_specific_years(early_period, later_period, samples, XX, num_iterations)\n",
      "                             ^^^^^^^^^^^^^^^^^^^^^^^^^^^^^^^^^^^^^^^^^^^^^^^^^^^^^^^^^^^^^^^^^^^^^^^^^^^^^^^^^^^^^^^^^^^^^^^^^^^\n",
      "  File \"C:\\Users\\alechutchings\\AppData\\Local\\Temp\\2\\ipykernel_7584\\3255356584.py\", line 11, in monte_carlo_simulation_from_specific_years\n",
      "    idx2 = np.random.choice(selected_late_data_indices)\n",
      "           ^^^^^^^^^^^^^^^^^^^^^^^^^^^^^^^^^^^^^^^^^^^^\n",
      "  File \"mtrand.pyx\", line 950, in numpy.random.mtrand.RandomState.choice\n",
      "ValueError: 'a' cannot be empty unless no samples are taken\n",
      "Traceback (most recent call last):\n",
      "  File \"C:\\Users\\alechutchings\\AppData\\Local\\anaconda3\\envs\\geo_env\\Lib\\site-packages\\pandas\\core\\indexes\\base.py\", line 3653, in get_loc\n",
      "    return self._engine.get_loc(casted_key)\n",
      "           ^^^^^^^^^^^^^^^^^^^^^^^^^^^^^^^^\n",
      "  File \"pandas\\_libs\\index.pyx\", line 147, in pandas._libs.index.IndexEngine.get_loc\n",
      "  File \"pandas\\_libs\\index.pyx\", line 176, in pandas._libs.index.IndexEngine.get_loc\n",
      "  File \"pandas\\_libs\\hashtable_class_helper.pxi\", line 7080, in pandas._libs.hashtable.PyObjectHashTable.get_item\n",
      "  File \"pandas\\_libs\\hashtable_class_helper.pxi\", line 7088, in pandas._libs.hashtable.PyObjectHashTable.get_item\n",
      "KeyError: 'Oxygen, Dissolved,  Saturation'\n",
      "\n",
      "The above exception was the direct cause of the following exception:\n",
      "\n",
      "Traceback (most recent call last):\n",
      "  File \"C:\\Users\\alechutchings\\AppData\\Local\\Temp\\2\\ipykernel_7584\\1228676766.py\", line 32, in <module>\n",
      "    trend_result_list = run_GAM(Est_group_all, det, GAM_output_path)\n",
      "                        ^^^^^^^^^^^^^^^^^^^^^^^^^^^^^^^^^^^^^^^^^^^^\n",
      "  File \"C:\\Users\\alechutchings\\AppData\\Local\\Temp\\2\\ipykernel_7584\\3038027423.py\", line 30, in run_GAM\n",
      "    Y = Est_all[det].values\n",
      "        ~~~~~~~^^^^^\n",
      "  File \"C:\\Users\\alechutchings\\AppData\\Local\\anaconda3\\envs\\geo_env\\Lib\\site-packages\\pandas\\core\\frame.py\", line 3761, in __getitem__\n",
      "    indexer = self.columns.get_loc(key)\n",
      "              ^^^^^^^^^^^^^^^^^^^^^^^^^\n",
      "  File \"C:\\Users\\alechutchings\\AppData\\Local\\anaconda3\\envs\\geo_env\\Lib\\site-packages\\pandas\\core\\indexes\\base.py\", line 3655, in get_loc\n",
      "    raise KeyError(key) from err\n",
      "KeyError: 'Oxygen, Dissolved,  Saturation'\n",
      " 54% (6 of 11) |#############            | Elapsed Time: 0:00:00 ETA:   0:00:00"
     ]
    },
    {
     "name": "stdout",
     "output_type": "stream",
     "text": [
      "Error processing Alde_ore: 'a' cannot be empty unless no samples are taken\n",
      "C:\\Users\\alechutchings\\Documents\\PythonNotebooks\\SeasonalEstuaryChanges\\Aln\n",
      "Folder 'C:\\Users\\alechutchings\\Documents\\PythonNotebooks\\SeasonalEstuaryChanges\\Aln\\MODEL_2_GAM_outputs_whole_estuary_salinity_Oxygen, Dissolved,  Saturation_2006_2022' created.\n",
      "Error processing Aln: 'Oxygen, Dissolved,  Saturation'\n",
      "C:\\Users\\alechutchings\\Documents\\PythonNotebooks\\SeasonalEstuaryChanges\\Alt\n",
      "Folder 'C:\\Users\\alechutchings\\Documents\\PythonNotebooks\\SeasonalEstuaryChanges\\Alt\\MODEL_2_GAM_outputs_whole_estuary_salinity_Oxygen, Dissolved,  Saturation_2006_2022' created.\n"
     ]
    },
    {
     "name": "stderr",
     "output_type": "stream",
     "text": [
      "100% (11 of 11) |########################| Elapsed Time: 0:00:00 Time:  0:00:00\n",
      "100% (11 of 11) |########################| Elapsed Time: 0:00:00 Time:  0:00:00\n",
      "100% (11 of 11) |########################| Elapsed Time: 0:00:00 Time:  0:00:00\n",
      "100% (11 of 11) |########################| Elapsed Time: 0:00:00 Time:  0:00:00\n",
      "100% (11 of 11) |########################| Elapsed Time: 0:00:00 Time:  0:00:00\n",
      "Traceback (most recent call last):\n",
      "  File \"C:\\Users\\alechutchings\\AppData\\Local\\Temp\\2\\ipykernel_7584\\1228676766.py\", line 32, in <module>\n",
      "    trend_result_list = run_GAM(Est_group_all, det, GAM_output_path)\n",
      "                        ^^^^^^^^^^^^^^^^^^^^^^^^^^^^^^^^^^^^^^^^^^^^\n",
      "  File \"C:\\Users\\alechutchings\\AppData\\Local\\Temp\\2\\ipykernel_7584\\3038027423.py\", line 171, in run_GAM\n",
      "    trend_differences_year = monte_carlo_simulation_from_specific_years(early_period, later_period, samples, XX, num_iterations)\n",
      "                             ^^^^^^^^^^^^^^^^^^^^^^^^^^^^^^^^^^^^^^^^^^^^^^^^^^^^^^^^^^^^^^^^^^^^^^^^^^^^^^^^^^^^^^^^^^^^^^^^^^^\n",
      "  File \"C:\\Users\\alechutchings\\AppData\\Local\\Temp\\2\\ipykernel_7584\\3255356584.py\", line 10, in monte_carlo_simulation_from_specific_years\n",
      "    idx1 = np.random.choice(selected_early_data_indices)\n",
      "           ^^^^^^^^^^^^^^^^^^^^^^^^^^^^^^^^^^^^^^^^^^^^^\n",
      "  File \"mtrand.pyx\", line 950, in numpy.random.mtrand.RandomState.choice\n",
      "ValueError: 'a' cannot be empty unless no samples are taken\n"
     ]
    },
    {
     "name": "stdout",
     "output_type": "stream",
     "text": [
      "Error processing Alt: 'a' cannot be empty unless no samples are taken\n",
      "C:\\Users\\alechutchings\\Documents\\PythonNotebooks\\SeasonalEstuaryChanges\\Arun\n",
      "Folder 'C:\\Users\\alechutchings\\Documents\\PythonNotebooks\\SeasonalEstuaryChanges\\Arun\\MODEL_2_GAM_outputs_whole_estuary_salinity_Oxygen, Dissolved,  Saturation_2006_2022' created.\n"
     ]
    },
    {
     "name": "stderr",
     "output_type": "stream",
     "text": [
      "100% (11 of 11) |########################| Elapsed Time: 0:00:00 Time:  0:00:00\n",
      "100% (11 of 11) |########################| Elapsed Time: 0:00:00 Time:  0:00:00\n",
      "100% (11 of 11) |########################| Elapsed Time: 0:00:00 Time:  0:00:00\n",
      "100% (11 of 11) |########################| Elapsed Time: 0:00:00 Time:  0:00:00\n",
      "100% (11 of 11) |########################| Elapsed Time: 0:00:00 Time:  0:00:00\n",
      "Traceback (most recent call last):\n",
      "  File \"C:\\Users\\alechutchings\\AppData\\Local\\Temp\\2\\ipykernel_7584\\1228676766.py\", line 32, in <module>\n",
      "    trend_result_list = run_GAM(Est_group_all, det, GAM_output_path)\n",
      "                        ^^^^^^^^^^^^^^^^^^^^^^^^^^^^^^^^^^^^^^^^^^^^\n",
      "  File \"C:\\Users\\alechutchings\\AppData\\Local\\Temp\\2\\ipykernel_7584\\3038027423.py\", line 171, in run_GAM\n",
      "    trend_differences_year = monte_carlo_simulation_from_specific_years(early_period, later_period, samples, XX, num_iterations)\n",
      "                             ^^^^^^^^^^^^^^^^^^^^^^^^^^^^^^^^^^^^^^^^^^^^^^^^^^^^^^^^^^^^^^^^^^^^^^^^^^^^^^^^^^^^^^^^^^^^^^^^^^^\n",
      "  File \"C:\\Users\\alechutchings\\AppData\\Local\\Temp\\2\\ipykernel_7584\\3255356584.py\", line 11, in monte_carlo_simulation_from_specific_years\n",
      "    idx2 = np.random.choice(selected_late_data_indices)\n",
      "           ^^^^^^^^^^^^^^^^^^^^^^^^^^^^^^^^^^^^^^^^^^^^\n",
      "  File \"mtrand.pyx\", line 950, in numpy.random.mtrand.RandomState.choice\n",
      "ValueError: 'a' cannot be empty unless no samples are taken\n",
      "  0% (0 of 11) |                         | Elapsed Time: 0:00:00 ETA:  --:--:--"
     ]
    },
    {
     "name": "stdout",
     "output_type": "stream",
     "text": [
      "Error processing Arun: 'a' cannot be empty unless no samples are taken\n",
      "C:\\Users\\alechutchings\\Documents\\PythonNotebooks\\SeasonalEstuaryChanges\\Avon\n",
      "Folder 'C:\\Users\\alechutchings\\Documents\\PythonNotebooks\\SeasonalEstuaryChanges\\Avon\\MODEL_2_GAM_outputs_whole_estuary_salinity_Oxygen, Dissolved,  Saturation_2006_2022' created.\n"
     ]
    },
    {
     "name": "stderr",
     "output_type": "stream",
     "text": [
      "100% (11 of 11) |########################| Elapsed Time: 0:00:00 Time:  0:00:00\n",
      "100% (11 of 11) |########################| Elapsed Time: 0:00:00 Time:  0:00:00\n",
      "100% (11 of 11) |########################| Elapsed Time: 0:00:00 Time:  0:00:00\n",
      "100% (11 of 11) |########################| Elapsed Time: 0:00:00 Time:  0:00:00\n",
      "100% (11 of 11) |########################| Elapsed Time: 0:00:00 Time:  0:00:00\n",
      "Traceback (most recent call last):\n",
      "  File \"C:\\Users\\alechutchings\\AppData\\Local\\Temp\\2\\ipykernel_7584\\1228676766.py\", line 32, in <module>\n",
      "    trend_result_list = run_GAM(Est_group_all, det, GAM_output_path)\n",
      "                        ^^^^^^^^^^^^^^^^^^^^^^^^^^^^^^^^^^^^^^^^^^^^\n",
      "  File \"C:\\Users\\alechutchings\\AppData\\Local\\Temp\\2\\ipykernel_7584\\3038027423.py\", line 171, in run_GAM\n",
      "    trend_differences_year = monte_carlo_simulation_from_specific_years(early_period, later_period, samples, XX, num_iterations)\n",
      "                             ^^^^^^^^^^^^^^^^^^^^^^^^^^^^^^^^^^^^^^^^^^^^^^^^^^^^^^^^^^^^^^^^^^^^^^^^^^^^^^^^^^^^^^^^^^^^^^^^^^^\n",
      "  File \"C:\\Users\\alechutchings\\AppData\\Local\\Temp\\2\\ipykernel_7584\\3255356584.py\", line 11, in monte_carlo_simulation_from_specific_years\n",
      "    idx2 = np.random.choice(selected_late_data_indices)\n",
      "           ^^^^^^^^^^^^^^^^^^^^^^^^^^^^^^^^^^^^^^^^^^^^\n",
      "  File \"mtrand.pyx\", line 950, in numpy.random.mtrand.RandomState.choice\n",
      "ValueError: 'a' cannot be empty unless no samples are taken\n",
      "  0% (0 of 11) |                         | Elapsed Time: 0:00:00 ETA:  --:--:--"
     ]
    },
    {
     "name": "stdout",
     "output_type": "stream",
     "text": [
      "Error processing Avon: 'a' cannot be empty unless no samples are taken\n",
      "C:\\Users\\alechutchings\\Documents\\PythonNotebooks\\SeasonalEstuaryChanges\\Axe\n",
      "Folder 'C:\\Users\\alechutchings\\Documents\\PythonNotebooks\\SeasonalEstuaryChanges\\Axe\\MODEL_2_GAM_outputs_whole_estuary_salinity_Oxygen, Dissolved,  Saturation_2006_2022' created.\n"
     ]
    },
    {
     "name": "stderr",
     "output_type": "stream",
     "text": [
      "100% (11 of 11) |########################| Elapsed Time: 0:00:00 Time:  0:00:00\n",
      "100% (11 of 11) |########################| Elapsed Time: 0:00:00 Time:  0:00:00\n",
      "100% (11 of 11) |########################| Elapsed Time: 0:00:00 Time:  0:00:00\n",
      "100% (11 of 11) |########################| Elapsed Time: 0:00:00 Time:  0:00:00\n",
      "100% (11 of 11) |########################| Elapsed Time: 0:00:00 Time:  0:00:00\n",
      "Traceback (most recent call last):\n",
      "  File \"C:\\Users\\alechutchings\\AppData\\Local\\Temp\\2\\ipykernel_7584\\1228676766.py\", line 32, in <module>\n",
      "    trend_result_list = run_GAM(Est_group_all, det, GAM_output_path)\n",
      "                        ^^^^^^^^^^^^^^^^^^^^^^^^^^^^^^^^^^^^^^^^^^^^\n",
      "  File \"C:\\Users\\alechutchings\\AppData\\Local\\Temp\\2\\ipykernel_7584\\3038027423.py\", line 171, in run_GAM\n",
      "    trend_differences_year = monte_carlo_simulation_from_specific_years(early_period, later_period, samples, XX, num_iterations)\n",
      "                             ^^^^^^^^^^^^^^^^^^^^^^^^^^^^^^^^^^^^^^^^^^^^^^^^^^^^^^^^^^^^^^^^^^^^^^^^^^^^^^^^^^^^^^^^^^^^^^^^^^^\n",
      "  File \"C:\\Users\\alechutchings\\AppData\\Local\\Temp\\2\\ipykernel_7584\\3255356584.py\", line 10, in monte_carlo_simulation_from_specific_years\n",
      "    idx1 = np.random.choice(selected_early_data_indices)\n",
      "           ^^^^^^^^^^^^^^^^^^^^^^^^^^^^^^^^^^^^^^^^^^^^^\n",
      "  File \"mtrand.pyx\", line 950, in numpy.random.mtrand.RandomState.choice\n",
      "ValueError: 'a' cannot be empty unless no samples are taken\n",
      " 18% (2 of 11) |####                     | Elapsed Time: 0:00:00 ETA:  00:00:00"
     ]
    },
    {
     "name": "stdout",
     "output_type": "stream",
     "text": [
      "Error processing Axe: 'a' cannot be empty unless no samples are taken\n",
      "C:\\Users\\alechutchings\\Documents\\PythonNotebooks\\SeasonalEstuaryChanges\\Beaulieu\n",
      "Folder 'C:\\Users\\alechutchings\\Documents\\PythonNotebooks\\SeasonalEstuaryChanges\\Beaulieu\\MODEL_2_GAM_outputs_whole_estuary_salinity_Oxygen, Dissolved,  Saturation_2006_2022' created.\n"
     ]
    },
    {
     "name": "stderr",
     "output_type": "stream",
     "text": [
      "100% (11 of 11) |########################| Elapsed Time: 0:00:00 Time:  0:00:00\n",
      "100% (11 of 11) |########################| Elapsed Time: 0:00:00 Time:  0:00:00\n",
      "100% (11 of 11) |########################| Elapsed Time: 0:00:00 Time:  0:00:00\n",
      "100% (11 of 11) |########################| Elapsed Time: 0:00:00 Time:  0:00:00\n",
      "100% (11 of 11) |########################| Elapsed Time: 0:00:00 Time:  0:00:00\n"
     ]
    },
    {
     "name": "stdout",
     "output_type": "stream",
     "text": [
      "Mean difference in trend: -0.07970071069881715\n",
      "Standard deviation of difference in trend: 0.07364282428897212\n",
      "Beaulieu completed successfully\n",
      "Run completed successfully\n",
      "Average: -0.07970071069881715\n",
      "Standard Deviation: nan\n",
      "C:\\Users\\alechutchings\\Documents\\PythonNotebooks\\SeasonalEstuaryChanges\\Blackwater\n",
      "Folder 'C:\\Users\\alechutchings\\Documents\\PythonNotebooks\\SeasonalEstuaryChanges\\Blackwater\\MODEL_2_GAM_outputs_whole_estuary_salinity_Oxygen, Dissolved,  Saturation_2006_2022' created.\n"
     ]
    },
    {
     "name": "stderr",
     "output_type": "stream",
     "text": [
      "100% (11 of 11) |########################| Elapsed Time: 0:00:00 Time:  0:00:00\n",
      "100% (11 of 11) |########################| Elapsed Time: 0:00:00 Time:  0:00:00\n",
      "100% (11 of 11) |########################| Elapsed Time: 0:00:00 Time:  0:00:00\n",
      "100% (11 of 11) |########################| Elapsed Time: 0:00:00 Time:  0:00:00\n",
      "100% (11 of 11) |########################| Elapsed Time: 0:00:00 Time:  0:00:00\n",
      " 45% (5 of 11) |###########              | Elapsed Time: 0:00:00 ETA:   0:00:00"
     ]
    },
    {
     "name": "stdout",
     "output_type": "stream",
     "text": [
      "Mean difference in trend: -0.27533626381289816\n",
      "Standard deviation of difference in trend: 0.09561659328153742\n",
      "Blackwater completed successfully\n",
      "Run completed successfully\n",
      "Average: -0.27533626381289816\n",
      "Standard Deviation: nan\n",
      "C:\\Users\\alechutchings\\Documents\\PythonNotebooks\\SeasonalEstuaryChanges\\Blythe_north\n",
      "Folder 'C:\\Users\\alechutchings\\Documents\\PythonNotebooks\\SeasonalEstuaryChanges\\Blythe_north\\MODEL_2_GAM_outputs_whole_estuary_salinity_Oxygen, Dissolved,  Saturation_2006_2022' created.\n"
     ]
    },
    {
     "name": "stderr",
     "output_type": "stream",
     "text": [
      "100% (11 of 11) |########################| Elapsed Time: 0:00:00 Time:  0:00:00\n",
      "100% (11 of 11) |########################| Elapsed Time: 0:00:00 Time:  0:00:00\n",
      "100% (11 of 11) |########################| Elapsed Time: 0:00:00 Time:  0:00:00\n",
      "100% (11 of 11) |########################| Elapsed Time: 0:00:00 Time:  0:00:00\n",
      "100% (11 of 11) |########################| Elapsed Time: 0:00:00 Time:  0:00:00\n",
      "Traceback (most recent call last):\n",
      "  File \"C:\\Users\\alechutchings\\AppData\\Local\\Temp\\2\\ipykernel_7584\\1228676766.py\", line 32, in <module>\n",
      "    trend_result_list = run_GAM(Est_group_all, det, GAM_output_path)\n",
      "                        ^^^^^^^^^^^^^^^^^^^^^^^^^^^^^^^^^^^^^^^^^^^^\n",
      "  File \"C:\\Users\\alechutchings\\AppData\\Local\\Temp\\2\\ipykernel_7584\\3038027423.py\", line 171, in run_GAM\n",
      "    trend_differences_year = monte_carlo_simulation_from_specific_years(early_period, later_period, samples, XX, num_iterations)\n",
      "                             ^^^^^^^^^^^^^^^^^^^^^^^^^^^^^^^^^^^^^^^^^^^^^^^^^^^^^^^^^^^^^^^^^^^^^^^^^^^^^^^^^^^^^^^^^^^^^^^^^^^\n",
      "  File \"C:\\Users\\alechutchings\\AppData\\Local\\Temp\\2\\ipykernel_7584\\3255356584.py\", line 11, in monte_carlo_simulation_from_specific_years\n",
      "    idx2 = np.random.choice(selected_late_data_indices)\n",
      "           ^^^^^^^^^^^^^^^^^^^^^^^^^^^^^^^^^^^^^^^^^^^^\n",
      "  File \"mtrand.pyx\", line 950, in numpy.random.mtrand.RandomState.choice\n",
      "ValueError: 'a' cannot be empty unless no samples are taken\n",
      " 45% (5 of 11) |###########              | Elapsed Time: 0:00:00 ETA:   0:00:00"
     ]
    },
    {
     "name": "stdout",
     "output_type": "stream",
     "text": [
      "Error processing Blythe_north: 'a' cannot be empty unless no samples are taken\n",
      "C:\\Users\\alechutchings\\Documents\\PythonNotebooks\\SeasonalEstuaryChanges\\Blythe_south\n",
      "Folder 'C:\\Users\\alechutchings\\Documents\\PythonNotebooks\\SeasonalEstuaryChanges\\Blythe_south\\MODEL_2_GAM_outputs_whole_estuary_salinity_Oxygen, Dissolved,  Saturation_2006_2022' created.\n"
     ]
    },
    {
     "name": "stderr",
     "output_type": "stream",
     "text": [
      "100% (11 of 11) |########################| Elapsed Time: 0:00:00 Time:  0:00:00\n",
      "100% (11 of 11) |########################| Elapsed Time: 0:00:00 Time:  0:00:00\n",
      "100% (11 of 11) |########################| Elapsed Time: 0:00:00 Time:  0:00:00\n",
      "100% (11 of 11) |########################| Elapsed Time: 0:00:00 Time:  0:00:00\n",
      "100% (11 of 11) |########################| Elapsed Time: 0:00:00 Time:  0:00:00\n",
      "Traceback (most recent call last):\n",
      "  File \"C:\\Users\\alechutchings\\AppData\\Local\\Temp\\2\\ipykernel_7584\\1228676766.py\", line 32, in <module>\n",
      "    trend_result_list = run_GAM(Est_group_all, det, GAM_output_path)\n",
      "                        ^^^^^^^^^^^^^^^^^^^^^^^^^^^^^^^^^^^^^^^^^^^^\n",
      "  File \"C:\\Users\\alechutchings\\AppData\\Local\\Temp\\2\\ipykernel_7584\\3038027423.py\", line 171, in run_GAM\n",
      "    trend_differences_year = monte_carlo_simulation_from_specific_years(early_period, later_period, samples, XX, num_iterations)\n",
      "                             ^^^^^^^^^^^^^^^^^^^^^^^^^^^^^^^^^^^^^^^^^^^^^^^^^^^^^^^^^^^^^^^^^^^^^^^^^^^^^^^^^^^^^^^^^^^^^^^^^^^\n",
      "  File \"C:\\Users\\alechutchings\\AppData\\Local\\Temp\\2\\ipykernel_7584\\3255356584.py\", line 11, in monte_carlo_simulation_from_specific_years\n",
      "    idx2 = np.random.choice(selected_late_data_indices)\n",
      "           ^^^^^^^^^^^^^^^^^^^^^^^^^^^^^^^^^^^^^^^^^^^^\n",
      "  File \"mtrand.pyx\", line 950, in numpy.random.mtrand.RandomState.choice\n",
      "ValueError: 'a' cannot be empty unless no samples are taken\n",
      "Traceback (most recent call last):\n",
      "  File \"C:\\Users\\alechutchings\\AppData\\Local\\anaconda3\\envs\\geo_env\\Lib\\site-packages\\pandas\\core\\indexes\\base.py\", line 3653, in get_loc\n",
      "    return self._engine.get_loc(casted_key)\n",
      "           ^^^^^^^^^^^^^^^^^^^^^^^^^^^^^^^^\n",
      "  File \"pandas\\_libs\\index.pyx\", line 147, in pandas._libs.index.IndexEngine.get_loc\n",
      "  File \"pandas\\_libs\\index.pyx\", line 176, in pandas._libs.index.IndexEngine.get_loc\n",
      "  File \"pandas\\_libs\\hashtable_class_helper.pxi\", line 7080, in pandas._libs.hashtable.PyObjectHashTable.get_item\n",
      "  File \"pandas\\_libs\\hashtable_class_helper.pxi\", line 7088, in pandas._libs.hashtable.PyObjectHashTable.get_item\n",
      "KeyError: 'Oxygen, Dissolved,  Saturation'\n",
      "\n",
      "The above exception was the direct cause of the following exception:\n",
      "\n",
      "Traceback (most recent call last):\n",
      "  File \"C:\\Users\\alechutchings\\AppData\\Local\\Temp\\2\\ipykernel_7584\\1228676766.py\", line 32, in <module>\n",
      "    trend_result_list = run_GAM(Est_group_all, det, GAM_output_path)\n",
      "                        ^^^^^^^^^^^^^^^^^^^^^^^^^^^^^^^^^^^^^^^^^^^^\n",
      "  File \"C:\\Users\\alechutchings\\AppData\\Local\\Temp\\2\\ipykernel_7584\\3038027423.py\", line 30, in run_GAM\n",
      "    Y = Est_all[det].values\n",
      "        ~~~~~~~^^^^^\n",
      "  File \"C:\\Users\\alechutchings\\AppData\\Local\\anaconda3\\envs\\geo_env\\Lib\\site-packages\\pandas\\core\\frame.py\", line 3761, in __getitem__\n",
      "    indexer = self.columns.get_loc(key)\n",
      "              ^^^^^^^^^^^^^^^^^^^^^^^^^\n",
      "  File \"C:\\Users\\alechutchings\\AppData\\Local\\anaconda3\\envs\\geo_env\\Lib\\site-packages\\pandas\\core\\indexes\\base.py\", line 3655, in get_loc\n",
      "    raise KeyError(key) from err\n",
      "KeyError: 'Oxygen, Dissolved,  Saturation'\n"
     ]
    },
    {
     "name": "stdout",
     "output_type": "stream",
     "text": [
      "Error processing Blythe_south: 'a' cannot be empty unless no samples are taken\n",
      "C:\\Users\\alechutchings\\Documents\\PythonNotebooks\\SeasonalEstuaryChanges\\Bristol_avon\n",
      "Folder 'C:\\Users\\alechutchings\\Documents\\PythonNotebooks\\SeasonalEstuaryChanges\\Bristol_avon\\MODEL_2_GAM_outputs_whole_estuary_salinity_Oxygen, Dissolved,  Saturation_2006_2022' created.\n",
      "Error processing Bristol_avon: 'Oxygen, Dissolved,  Saturation'\n",
      "C:\\Users\\alechutchings\\Documents\\PythonNotebooks\\SeasonalEstuaryChanges\\Bure\n",
      "Folder 'C:\\Users\\alechutchings\\Documents\\PythonNotebooks\\SeasonalEstuaryChanges\\Bure\\MODEL_2_GAM_outputs_whole_estuary_salinity_Oxygen, Dissolved,  Saturation_2006_2022' created.\n"
     ]
    },
    {
     "name": "stderr",
     "output_type": "stream",
     "text": [
      "100% (11 of 11) |########################| Elapsed Time: 0:00:00 Time:  0:00:00\n",
      "100% (11 of 11) |########################| Elapsed Time: 0:00:00 Time:  0:00:00\n",
      "100% (11 of 11) |########################| Elapsed Time: 0:00:00 Time:  0:00:00\n",
      "100% (11 of 11) |########################| Elapsed Time: 0:00:00 Time:  0:00:00\n",
      "100% (11 of 11) |########################| Elapsed Time: 0:00:00 Time:  0:00:00\n",
      " 27% (3 of 11) |######                   | Elapsed Time: 0:00:00 ETA:  00:00:00"
     ]
    },
    {
     "name": "stdout",
     "output_type": "stream",
     "text": [
      "Mean difference in trend: -0.05048442832289083\n",
      "Standard deviation of difference in trend: 0.5342859008155637\n",
      "Bure completed successfully\n",
      "Run completed successfully\n",
      "Average: -0.05048442832289083\n",
      "Standard Deviation: nan\n",
      "C:\\Users\\alechutchings\\Documents\\PythonNotebooks\\SeasonalEstuaryChanges\\Burn\n",
      "Folder 'C:\\Users\\alechutchings\\Documents\\PythonNotebooks\\SeasonalEstuaryChanges\\Burn\\MODEL_2_GAM_outputs_whole_estuary_salinity_Oxygen, Dissolved,  Saturation_2006_2022' created.\n"
     ]
    },
    {
     "name": "stderr",
     "output_type": "stream",
     "text": [
      "100% (11 of 11) |########################| Elapsed Time: 0:00:00 Time:  0:00:00\n",
      "100% (11 of 11) |########################| Elapsed Time: 0:00:00 Time:  0:00:00\n",
      "100% (11 of 11) |########################| Elapsed Time: 0:00:00 Time:  0:00:00\n",
      "100% (11 of 11) |########################| Elapsed Time: 0:00:00 Time:  0:00:00\n",
      "100% (11 of 11) |########################| Elapsed Time: 0:00:00 Time:  0:00:00\n",
      "Traceback (most recent call last):\n",
      "  File \"C:\\Users\\alechutchings\\AppData\\Local\\Temp\\2\\ipykernel_7584\\1228676766.py\", line 32, in <module>\n",
      "    trend_result_list = run_GAM(Est_group_all, det, GAM_output_path)\n",
      "                        ^^^^^^^^^^^^^^^^^^^^^^^^^^^^^^^^^^^^^^^^^^^^\n",
      "  File \"C:\\Users\\alechutchings\\AppData\\Local\\Temp\\2\\ipykernel_7584\\3038027423.py\", line 171, in run_GAM\n",
      "    trend_differences_year = monte_carlo_simulation_from_specific_years(early_period, later_period, samples, XX, num_iterations)\n",
      "                             ^^^^^^^^^^^^^^^^^^^^^^^^^^^^^^^^^^^^^^^^^^^^^^^^^^^^^^^^^^^^^^^^^^^^^^^^^^^^^^^^^^^^^^^^^^^^^^^^^^^\n",
      "  File \"C:\\Users\\alechutchings\\AppData\\Local\\Temp\\2\\ipykernel_7584\\3255356584.py\", line 11, in monte_carlo_simulation_from_specific_years\n",
      "    idx2 = np.random.choice(selected_late_data_indices)\n",
      "           ^^^^^^^^^^^^^^^^^^^^^^^^^^^^^^^^^^^^^^^^^^^^\n",
      "  File \"mtrand.pyx\", line 950, in numpy.random.mtrand.RandomState.choice\n",
      "ValueError: 'a' cannot be empty unless no samples are taken\n"
     ]
    },
    {
     "name": "stdout",
     "output_type": "stream",
     "text": [
      "Error processing Burn: 'a' cannot be empty unless no samples are taken\n",
      "C:\\Users\\alechutchings\\Documents\\PythonNotebooks\\SeasonalEstuaryChanges\\Camel\n",
      "Folder 'C:\\Users\\alechutchings\\Documents\\PythonNotebooks\\SeasonalEstuaryChanges\\Camel\\MODEL_2_GAM_outputs_whole_estuary_salinity_Oxygen, Dissolved,  Saturation_2006_2022' created.\n"
     ]
    },
    {
     "name": "stderr",
     "output_type": "stream",
     "text": [
      "C:\\Users\\alechutchings\\AppData\\Local\\Temp\\2\\ipykernel_7584\\2701496734.py:5: DtypeWarning: Columns (10) have mixed types. Specify dtype option on import or set low_memory=False.\n",
      "  dfs = [pd.read_csv(csv, dtype={\"INTERPRETATION\": str, \"TEXT_RESULT\": str, \"DETCODE\": str}) for csv in csvs[:input_no]]\n",
      "100% (11 of 11) |########################| Elapsed Time: 0:00:00 Time:  0:00:00\n",
      "100% (11 of 11) |########################| Elapsed Time: 0:00:00 Time:  0:00:00\n",
      "100% (11 of 11) |########################| Elapsed Time: 0:00:00 Time:  0:00:00\n",
      "100% (11 of 11) |########################| Elapsed Time: 0:00:00 Time:  0:00:00\n",
      "100% (11 of 11) |########################| Elapsed Time: 0:00:00 Time:  0:00:00\n"
     ]
    },
    {
     "name": "stdout",
     "output_type": "stream",
     "text": [
      "Mean difference in trend: 0.016843698862569964\n",
      "Standard deviation of difference in trend: 0.41074548266524247\n",
      "Camel completed successfully\n",
      "Run completed successfully\n",
      "Average: 0.016843698862569964\n",
      "Standard Deviation: nan\n",
      "C:\\Users\\alechutchings\\Documents\\PythonNotebooks\\SeasonalEstuaryChanges\\Chichester\n",
      "Folder 'C:\\Users\\alechutchings\\Documents\\PythonNotebooks\\SeasonalEstuaryChanges\\Chichester\\MODEL_2_GAM_outputs_whole_estuary_salinity_Oxygen, Dissolved,  Saturation_2006_2022' created.\n"
     ]
    },
    {
     "name": "stderr",
     "output_type": "stream",
     "text": [
      "100% (11 of 11) |########################| Elapsed Time: 0:00:00 Time:  0:00:00\n",
      "100% (11 of 11) |########################| Elapsed Time: 0:00:00 Time:  0:00:00\n",
      "100% (11 of 11) |########################| Elapsed Time: 0:00:00 Time:  0:00:00\n",
      "100% (11 of 11) |########################| Elapsed Time: 0:00:00 Time:  0:00:00\n",
      "100% (11 of 11) |########################| Elapsed Time: 0:00:00 Time:  0:00:00\n"
     ]
    },
    {
     "name": "stdout",
     "output_type": "stream",
     "text": [
      "Mean difference in trend: -0.03330829525820101\n",
      "Standard deviation of difference in trend: 0.39365046637656564\n",
      "Chichester completed successfully\n",
      "Run completed successfully\n",
      "Average: -0.03330829525820101\n",
      "Standard Deviation: nan\n",
      "C:\\Users\\alechutchings\\Documents\\PythonNotebooks\\SeasonalEstuaryChanges\\Christchurch\n",
      "Folder 'C:\\Users\\alechutchings\\Documents\\PythonNotebooks\\SeasonalEstuaryChanges\\Christchurch\\MODEL_2_GAM_outputs_whole_estuary_salinity_Oxygen, Dissolved,  Saturation_2006_2022' created.\n"
     ]
    },
    {
     "name": "stderr",
     "output_type": "stream",
     "text": [
      "100% (11 of 11) |########################| Elapsed Time: 0:00:00 Time:  0:00:00\n",
      "100% (11 of 11) |########################| Elapsed Time: 0:00:00 Time:  0:00:00\n",
      "100% (11 of 11) |########################| Elapsed Time: 0:00:00 Time:  0:00:00\n",
      "100% (11 of 11) |########################| Elapsed Time: 0:00:00 Time:  0:00:00\n",
      "100% (11 of 11) |########################| Elapsed Time: 0:00:00 Time:  0:00:00\n",
      "Traceback (most recent call last):\n",
      "  File \"C:\\Users\\alechutchings\\AppData\\Local\\Temp\\2\\ipykernel_7584\\1228676766.py\", line 32, in <module>\n",
      "    trend_result_list = run_GAM(Est_group_all, det, GAM_output_path)\n",
      "                        ^^^^^^^^^^^^^^^^^^^^^^^^^^^^^^^^^^^^^^^^^^^^\n",
      "  File \"C:\\Users\\alechutchings\\AppData\\Local\\Temp\\2\\ipykernel_7584\\3038027423.py\", line 171, in run_GAM\n",
      "    trend_differences_year = monte_carlo_simulation_from_specific_years(early_period, later_period, samples, XX, num_iterations)\n",
      "                             ^^^^^^^^^^^^^^^^^^^^^^^^^^^^^^^^^^^^^^^^^^^^^^^^^^^^^^^^^^^^^^^^^^^^^^^^^^^^^^^^^^^^^^^^^^^^^^^^^^^\n",
      "  File \"C:\\Users\\alechutchings\\AppData\\Local\\Temp\\2\\ipykernel_7584\\3255356584.py\", line 11, in monte_carlo_simulation_from_specific_years\n",
      "    idx2 = np.random.choice(selected_late_data_indices)\n",
      "           ^^^^^^^^^^^^^^^^^^^^^^^^^^^^^^^^^^^^^^^^^^^^\n",
      "  File \"mtrand.pyx\", line 950, in numpy.random.mtrand.RandomState.choice\n",
      "ValueError: 'a' cannot be empty unless no samples are taken\n"
     ]
    },
    {
     "name": "stdout",
     "output_type": "stream",
     "text": [
      "Error processing Christchurch: 'a' cannot be empty unless no samples are taken\n",
      "C:\\Users\\alechutchings\\Documents\\PythonNotebooks\\SeasonalEstuaryChanges\\Colne\n",
      "Folder 'C:\\Users\\alechutchings\\Documents\\PythonNotebooks\\SeasonalEstuaryChanges\\Colne\\MODEL_2_GAM_outputs_whole_estuary_salinity_Oxygen, Dissolved,  Saturation_2006_2022' created.\n"
     ]
    },
    {
     "name": "stderr",
     "output_type": "stream",
     "text": [
      "100% (11 of 11) |########################| Elapsed Time: 0:00:00 Time:  0:00:00\n",
      "100% (11 of 11) |########################| Elapsed Time: 0:00:00 Time:  0:00:00\n",
      "100% (11 of 11) |########################| Elapsed Time: 0:00:00 Time:  0:00:00\n",
      "100% (11 of 11) |########################| Elapsed Time: 0:00:00 Time:  0:00:00\n",
      "100% (11 of 11) |########################| Elapsed Time: 0:00:00 Time:  0:00:00\n",
      "Traceback (most recent call last):\n",
      "  File \"C:\\Users\\alechutchings\\AppData\\Local\\Temp\\2\\ipykernel_7584\\1228676766.py\", line 32, in <module>\n",
      "    trend_result_list = run_GAM(Est_group_all, det, GAM_output_path)\n",
      "                        ^^^^^^^^^^^^^^^^^^^^^^^^^^^^^^^^^^^^^^^^^^^^\n",
      "  File \"C:\\Users\\alechutchings\\AppData\\Local\\Temp\\2\\ipykernel_7584\\3038027423.py\", line 171, in run_GAM\n",
      "    trend_differences_year = monte_carlo_simulation_from_specific_years(early_period, later_period, samples, XX, num_iterations)\n",
      "                             ^^^^^^^^^^^^^^^^^^^^^^^^^^^^^^^^^^^^^^^^^^^^^^^^^^^^^^^^^^^^^^^^^^^^^^^^^^^^^^^^^^^^^^^^^^^^^^^^^^^\n",
      "  File \"C:\\Users\\alechutchings\\AppData\\Local\\Temp\\2\\ipykernel_7584\\3255356584.py\", line 11, in monte_carlo_simulation_from_specific_years\n",
      "    idx2 = np.random.choice(selected_late_data_indices)\n",
      "           ^^^^^^^^^^^^^^^^^^^^^^^^^^^^^^^^^^^^^^^^^^^^\n",
      "  File \"mtrand.pyx\", line 950, in numpy.random.mtrand.RandomState.choice\n",
      "ValueError: 'a' cannot be empty unless no samples are taken\n",
      " 45% (5 of 11) |###########              | Elapsed Time: 0:00:00 ETA:   0:00:00"
     ]
    },
    {
     "name": "stdout",
     "output_type": "stream",
     "text": [
      "Error processing Colne: 'a' cannot be empty unless no samples are taken\n",
      "C:\\Users\\alechutchings\\Documents\\PythonNotebooks\\SeasonalEstuaryChanges\\Coquet\n",
      "Folder 'C:\\Users\\alechutchings\\Documents\\PythonNotebooks\\SeasonalEstuaryChanges\\Coquet\\MODEL_2_GAM_outputs_whole_estuary_salinity_Oxygen, Dissolved,  Saturation_2006_2022' created.\n"
     ]
    },
    {
     "name": "stderr",
     "output_type": "stream",
     "text": [
      "100% (11 of 11) |########################| Elapsed Time: 0:00:00 Time:  0:00:00\n",
      "100% (11 of 11) |########################| Elapsed Time: 0:00:00 Time:  0:00:00\n",
      "100% (11 of 11) |########################| Elapsed Time: 0:00:00 Time:  0:00:00\n",
      "100% (11 of 11) |########################| Elapsed Time: 0:00:00 Time:  0:00:00\n",
      "100% (11 of 11) |########################| Elapsed Time: 0:00:00 Time:  0:00:00\n",
      "Traceback (most recent call last):\n",
      "  File \"C:\\Users\\alechutchings\\AppData\\Local\\Temp\\2\\ipykernel_7584\\1228676766.py\", line 32, in <module>\n",
      "    trend_result_list = run_GAM(Est_group_all, det, GAM_output_path)\n",
      "                        ^^^^^^^^^^^^^^^^^^^^^^^^^^^^^^^^^^^^^^^^^^^^\n",
      "  File \"C:\\Users\\alechutchings\\AppData\\Local\\Temp\\2\\ipykernel_7584\\3038027423.py\", line 171, in run_GAM\n",
      "    trend_differences_year = monte_carlo_simulation_from_specific_years(early_period, later_period, samples, XX, num_iterations)\n",
      "                             ^^^^^^^^^^^^^^^^^^^^^^^^^^^^^^^^^^^^^^^^^^^^^^^^^^^^^^^^^^^^^^^^^^^^^^^^^^^^^^^^^^^^^^^^^^^^^^^^^^^\n",
      "  File \"C:\\Users\\alechutchings\\AppData\\Local\\Temp\\2\\ipykernel_7584\\3255356584.py\", line 10, in monte_carlo_simulation_from_specific_years\n",
      "    idx1 = np.random.choice(selected_early_data_indices)\n",
      "           ^^^^^^^^^^^^^^^^^^^^^^^^^^^^^^^^^^^^^^^^^^^^^\n",
      "  File \"mtrand.pyx\", line 950, in numpy.random.mtrand.RandomState.choice\n",
      "ValueError: 'a' cannot be empty unless no samples are taken\n"
     ]
    },
    {
     "name": "stdout",
     "output_type": "stream",
     "text": [
      "Error processing Coquet: 'a' cannot be empty unless no samples are taken\n",
      "C:\\Users\\alechutchings\\Documents\\PythonNotebooks\\SeasonalEstuaryChanges\\Crouch\n",
      "Folder 'C:\\Users\\alechutchings\\Documents\\PythonNotebooks\\SeasonalEstuaryChanges\\Crouch\\MODEL_2_GAM_outputs_whole_estuary_salinity_Oxygen, Dissolved,  Saturation_2006_2022' created.\n"
     ]
    },
    {
     "name": "stderr",
     "output_type": "stream",
     "text": [
      "100% (11 of 11) |########################| Elapsed Time: 0:00:00 Time:  0:00:00\n",
      "100% (11 of 11) |########################| Elapsed Time: 0:00:00 Time:  0:00:00\n",
      "100% (11 of 11) |########################| Elapsed Time: 0:00:00 Time:  0:00:00\n",
      "100% (11 of 11) |########################| Elapsed Time: 0:00:00 Time:  0:00:00\n",
      "100% (11 of 11) |########################| Elapsed Time: 0:00:00 Time:  0:00:00\n",
      "Traceback (most recent call last):\n",
      "  File \"C:\\Users\\alechutchings\\AppData\\Local\\Temp\\2\\ipykernel_7584\\1228676766.py\", line 32, in <module>\n",
      "    trend_result_list = run_GAM(Est_group_all, det, GAM_output_path)\n",
      "                        ^^^^^^^^^^^^^^^^^^^^^^^^^^^^^^^^^^^^^^^^^^^^\n",
      "  File \"C:\\Users\\alechutchings\\AppData\\Local\\Temp\\2\\ipykernel_7584\\3038027423.py\", line 171, in run_GAM\n",
      "    trend_differences_year = monte_carlo_simulation_from_specific_years(early_period, later_period, samples, XX, num_iterations)\n",
      "                             ^^^^^^^^^^^^^^^^^^^^^^^^^^^^^^^^^^^^^^^^^^^^^^^^^^^^^^^^^^^^^^^^^^^^^^^^^^^^^^^^^^^^^^^^^^^^^^^^^^^\n",
      "  File \"C:\\Users\\alechutchings\\AppData\\Local\\Temp\\2\\ipykernel_7584\\3255356584.py\", line 11, in monte_carlo_simulation_from_specific_years\n",
      "    idx2 = np.random.choice(selected_late_data_indices)\n",
      "           ^^^^^^^^^^^^^^^^^^^^^^^^^^^^^^^^^^^^^^^^^^^^\n",
      "  File \"mtrand.pyx\", line 950, in numpy.random.mtrand.RandomState.choice\n",
      "ValueError: 'a' cannot be empty unless no samples are taken\n",
      "  0% (0 of 11) |                         | Elapsed Time: 0:00:00 ETA:  --:--:--"
     ]
    },
    {
     "name": "stdout",
     "output_type": "stream",
     "text": [
      "Error processing Crouch: 'a' cannot be empty unless no samples are taken\n",
      "C:\\Users\\alechutchings\\Documents\\PythonNotebooks\\SeasonalEstuaryChanges\\Cuckmere\n",
      "Folder 'C:\\Users\\alechutchings\\Documents\\PythonNotebooks\\SeasonalEstuaryChanges\\Cuckmere\\MODEL_2_GAM_outputs_whole_estuary_salinity_Oxygen, Dissolved,  Saturation_2006_2022' created.\n"
     ]
    },
    {
     "name": "stderr",
     "output_type": "stream",
     "text": [
      "100% (11 of 11) |########################| Elapsed Time: 0:00:00 Time:  0:00:00\n",
      "100% (11 of 11) |########################| Elapsed Time: 0:00:00 Time:  0:00:00\n",
      "100% (11 of 11) |########################| Elapsed Time: 0:00:00 Time:  0:00:00\n",
      "100% (11 of 11) |########################| Elapsed Time: 0:00:00 Time:  0:00:00\n",
      "100% (11 of 11) |########################| Elapsed Time: 0:00:00 Time:  0:00:00\n",
      "Traceback (most recent call last):\n",
      "  File \"C:\\Users\\alechutchings\\AppData\\Local\\Temp\\2\\ipykernel_7584\\1228676766.py\", line 32, in <module>\n",
      "    trend_result_list = run_GAM(Est_group_all, det, GAM_output_path)\n",
      "                        ^^^^^^^^^^^^^^^^^^^^^^^^^^^^^^^^^^^^^^^^^^^^\n",
      "  File \"C:\\Users\\alechutchings\\AppData\\Local\\Temp\\2\\ipykernel_7584\\3038027423.py\", line 171, in run_GAM\n",
      "    trend_differences_year = monte_carlo_simulation_from_specific_years(early_period, later_period, samples, XX, num_iterations)\n",
      "                             ^^^^^^^^^^^^^^^^^^^^^^^^^^^^^^^^^^^^^^^^^^^^^^^^^^^^^^^^^^^^^^^^^^^^^^^^^^^^^^^^^^^^^^^^^^^^^^^^^^^\n",
      "  File \"C:\\Users\\alechutchings\\AppData\\Local\\Temp\\2\\ipykernel_7584\\3255356584.py\", line 10, in monte_carlo_simulation_from_specific_years\n",
      "    idx1 = np.random.choice(selected_early_data_indices)\n",
      "           ^^^^^^^^^^^^^^^^^^^^^^^^^^^^^^^^^^^^^^^^^^^^^\n",
      "  File \"mtrand.pyx\", line 950, in numpy.random.mtrand.RandomState.choice\n",
      "ValueError: 'a' cannot be empty unless no samples are taken\n"
     ]
    },
    {
     "name": "stdout",
     "output_type": "stream",
     "text": [
      "Error processing Cuckmere: 'a' cannot be empty unless no samples are taken\n",
      "C:\\Users\\alechutchings\\Documents\\PythonNotebooks\\SeasonalEstuaryChanges\\Dart\n",
      "Folder 'C:\\Users\\alechutchings\\Documents\\PythonNotebooks\\SeasonalEstuaryChanges\\Dart\\MODEL_2_GAM_outputs_whole_estuary_salinity_Oxygen, Dissolved,  Saturation_2006_2022' created.\n"
     ]
    },
    {
     "name": "stderr",
     "output_type": "stream",
     "text": [
      "C:\\Users\\alechutchings\\AppData\\Local\\Temp\\2\\ipykernel_7584\\2701496734.py:5: DtypeWarning: Columns (10) have mixed types. Specify dtype option on import or set low_memory=False.\n",
      "  dfs = [pd.read_csv(csv, dtype={\"INTERPRETATION\": str, \"TEXT_RESULT\": str, \"DETCODE\": str}) for csv in csvs[:input_no]]\n",
      "100% (11 of 11) |########################| Elapsed Time: 0:00:00 Time:  0:00:00\n",
      "100% (11 of 11) |########################| Elapsed Time: 0:00:00 Time:  0:00:00\n",
      "100% (11 of 11) |########################| Elapsed Time: 0:00:00 Time:  0:00:00\n",
      "100% (11 of 11) |########################| Elapsed Time: 0:00:00 Time:  0:00:00\n",
      "100% (11 of 11) |########################| Elapsed Time: 0:00:00 Time:  0:00:00\n",
      "  0% (0 of 11) |                         | Elapsed Time: 0:00:00 ETA:  --:--:--"
     ]
    },
    {
     "name": "stdout",
     "output_type": "stream",
     "text": [
      "Mean difference in trend: 0.054423073536874554\n",
      "Standard deviation of difference in trend: 0.2909118125020234\n",
      "Dart completed successfully\n",
      "Run completed successfully\n",
      "Average: 0.054423073536874554\n",
      "Standard Deviation: nan\n",
      "C:\\Users\\alechutchings\\Documents\\PythonNotebooks\\SeasonalEstuaryChanges\\Deben\n",
      "Folder 'C:\\Users\\alechutchings\\Documents\\PythonNotebooks\\SeasonalEstuaryChanges\\Deben\\MODEL_2_GAM_outputs_whole_estuary_salinity_Oxygen, Dissolved,  Saturation_2006_2022' created.\n"
     ]
    },
    {
     "name": "stderr",
     "output_type": "stream",
     "text": [
      "100% (11 of 11) |########################| Elapsed Time: 0:00:00 Time:  0:00:00\n",
      "100% (11 of 11) |########################| Elapsed Time: 0:00:00 Time:  0:00:00\n",
      "100% (11 of 11) |########################| Elapsed Time: 0:00:00 Time:  0:00:00\n",
      "100% (11 of 11) |########################| Elapsed Time: 0:00:00 Time:  0:00:00\n",
      "100% (11 of 11) |########################| Elapsed Time: 0:00:00 Time:  0:00:00\n",
      "Traceback (most recent call last):\n",
      "  File \"C:\\Users\\alechutchings\\AppData\\Local\\Temp\\2\\ipykernel_7584\\1228676766.py\", line 32, in <module>\n",
      "    trend_result_list = run_GAM(Est_group_all, det, GAM_output_path)\n",
      "                        ^^^^^^^^^^^^^^^^^^^^^^^^^^^^^^^^^^^^^^^^^^^^\n",
      "  File \"C:\\Users\\alechutchings\\AppData\\Local\\Temp\\2\\ipykernel_7584\\3038027423.py\", line 171, in run_GAM\n",
      "    trend_differences_year = monte_carlo_simulation_from_specific_years(early_period, later_period, samples, XX, num_iterations)\n",
      "                             ^^^^^^^^^^^^^^^^^^^^^^^^^^^^^^^^^^^^^^^^^^^^^^^^^^^^^^^^^^^^^^^^^^^^^^^^^^^^^^^^^^^^^^^^^^^^^^^^^^^\n",
      "  File \"C:\\Users\\alechutchings\\AppData\\Local\\Temp\\2\\ipykernel_7584\\3255356584.py\", line 11, in monte_carlo_simulation_from_specific_years\n",
      "    idx2 = np.random.choice(selected_late_data_indices)\n",
      "           ^^^^^^^^^^^^^^^^^^^^^^^^^^^^^^^^^^^^^^^^^^^^\n",
      "  File \"mtrand.pyx\", line 950, in numpy.random.mtrand.RandomState.choice\n",
      "ValueError: 'a' cannot be empty unless no samples are taken\n",
      "Traceback (most recent call last):\n",
      "  File \"C:\\Users\\alechutchings\\AppData\\Local\\anaconda3\\envs\\geo_env\\Lib\\site-packages\\pandas\\core\\indexes\\base.py\", line 3653, in get_loc\n",
      "    return self._engine.get_loc(casted_key)\n",
      "           ^^^^^^^^^^^^^^^^^^^^^^^^^^^^^^^^\n",
      "  File \"pandas\\_libs\\index.pyx\", line 147, in pandas._libs.index.IndexEngine.get_loc\n",
      "  File \"pandas\\_libs\\index.pyx\", line 176, in pandas._libs.index.IndexEngine.get_loc\n",
      "  File \"pandas\\_libs\\hashtable_class_helper.pxi\", line 7080, in pandas._libs.hashtable.PyObjectHashTable.get_item\n",
      "  File \"pandas\\_libs\\hashtable_class_helper.pxi\", line 7088, in pandas._libs.hashtable.PyObjectHashTable.get_item\n",
      "KeyError: 'Oxygen, Dissolved,  Saturation'\n",
      "\n",
      "The above exception was the direct cause of the following exception:\n",
      "\n",
      "Traceback (most recent call last):\n",
      "  File \"C:\\Users\\alechutchings\\AppData\\Local\\Temp\\2\\ipykernel_7584\\1228676766.py\", line 32, in <module>\n",
      "    trend_result_list = run_GAM(Est_group_all, det, GAM_output_path)\n",
      "                        ^^^^^^^^^^^^^^^^^^^^^^^^^^^^^^^^^^^^^^^^^^^^\n",
      "  File \"C:\\Users\\alechutchings\\AppData\\Local\\Temp\\2\\ipykernel_7584\\3038027423.py\", line 30, in run_GAM\n",
      "    Y = Est_all[det].values\n",
      "        ~~~~~~~^^^^^\n",
      "  File \"C:\\Users\\alechutchings\\AppData\\Local\\anaconda3\\envs\\geo_env\\Lib\\site-packages\\pandas\\core\\frame.py\", line 3761, in __getitem__\n",
      "    indexer = self.columns.get_loc(key)\n",
      "              ^^^^^^^^^^^^^^^^^^^^^^^^^\n",
      "  File \"C:\\Users\\alechutchings\\AppData\\Local\\anaconda3\\envs\\geo_env\\Lib\\site-packages\\pandas\\core\\indexes\\base.py\", line 3655, in get_loc\n",
      "    raise KeyError(key) from err\n",
      "KeyError: 'Oxygen, Dissolved,  Saturation'\n",
      "Traceback (most recent call last):\n",
      "  File \"C:\\Users\\alechutchings\\AppData\\Local\\anaconda3\\envs\\geo_env\\Lib\\site-packages\\pandas\\core\\indexes\\base.py\", line 3653, in get_loc\n",
      "    return self._engine.get_loc(casted_key)\n",
      "           ^^^^^^^^^^^^^^^^^^^^^^^^^^^^^^^^\n",
      "  File \"pandas\\_libs\\index.pyx\", line 147, in pandas._libs.index.IndexEngine.get_loc\n",
      "  File \"pandas\\_libs\\index.pyx\", line 176, in pandas._libs.index.IndexEngine.get_loc\n",
      "  File \"pandas\\_libs\\hashtable_class_helper.pxi\", line 7080, in pandas._libs.hashtable.PyObjectHashTable.get_item\n",
      "  File \"pandas\\_libs\\hashtable_class_helper.pxi\", line 7088, in pandas._libs.hashtable.PyObjectHashTable.get_item\n",
      "KeyError: 'Oxygen, Dissolved,  Saturation'\n",
      "\n",
      "The above exception was the direct cause of the following exception:\n",
      "\n",
      "Traceback (most recent call last):\n",
      "  File \"C:\\Users\\alechutchings\\AppData\\Local\\Temp\\2\\ipykernel_7584\\1228676766.py\", line 32, in <module>\n",
      "    trend_result_list = run_GAM(Est_group_all, det, GAM_output_path)\n",
      "                        ^^^^^^^^^^^^^^^^^^^^^^^^^^^^^^^^^^^^^^^^^^^^\n",
      "  File \"C:\\Users\\alechutchings\\AppData\\Local\\Temp\\2\\ipykernel_7584\\3038027423.py\", line 30, in run_GAM\n",
      "    Y = Est_all[det].values\n",
      "        ~~~~~~~^^^^^\n",
      "  File \"C:\\Users\\alechutchings\\AppData\\Local\\anaconda3\\envs\\geo_env\\Lib\\site-packages\\pandas\\core\\frame.py\", line 3761, in __getitem__\n",
      "    indexer = self.columns.get_loc(key)\n",
      "              ^^^^^^^^^^^^^^^^^^^^^^^^^\n",
      "  File \"C:\\Users\\alechutchings\\AppData\\Local\\anaconda3\\envs\\geo_env\\Lib\\site-packages\\pandas\\core\\indexes\\base.py\", line 3655, in get_loc\n",
      "    raise KeyError(key) from err\n",
      "KeyError: 'Oxygen, Dissolved,  Saturation'\n"
     ]
    },
    {
     "name": "stdout",
     "output_type": "stream",
     "text": [
      "Error processing Deben: 'a' cannot be empty unless no samples are taken\n",
      "C:\\Users\\alechutchings\\Documents\\PythonNotebooks\\SeasonalEstuaryChanges\\Derwent\n",
      "Folder 'C:\\Users\\alechutchings\\Documents\\PythonNotebooks\\SeasonalEstuaryChanges\\Derwent\\MODEL_2_GAM_outputs_whole_estuary_salinity_Oxygen, Dissolved,  Saturation_2006_2022' created.\n",
      "Error processing Derwent: 'Oxygen, Dissolved,  Saturation'\n",
      "C:\\Users\\alechutchings\\Documents\\PythonNotebooks\\SeasonalEstuaryChanges\\Duddon\n",
      "Folder 'C:\\Users\\alechutchings\\Documents\\PythonNotebooks\\SeasonalEstuaryChanges\\Duddon\\MODEL_2_GAM_outputs_whole_estuary_salinity_Oxygen, Dissolved,  Saturation_2006_2022' created.\n",
      "Error processing Duddon: 'Oxygen, Dissolved,  Saturation'\n",
      "C:\\Users\\alechutchings\\Documents\\PythonNotebooks\\SeasonalEstuaryChanges\\Eastern_yar\n",
      "Folder 'C:\\Users\\alechutchings\\Documents\\PythonNotebooks\\SeasonalEstuaryChanges\\Eastern_yar\\MODEL_2_GAM_outputs_whole_estuary_salinity_Oxygen, Dissolved,  Saturation_2006_2022' created.\n"
     ]
    },
    {
     "name": "stderr",
     "output_type": "stream",
     "text": [
      "100% (11 of 11) |########################| Elapsed Time: 0:00:00 Time:  0:00:00\n",
      "100% (11 of 11) |########################| Elapsed Time: 0:00:00 Time:  0:00:00\n",
      "100% (11 of 11) |########################| Elapsed Time: 0:00:00 Time:  0:00:00\n",
      "100% (11 of 11) |########################| Elapsed Time: 0:00:00 Time:  0:00:00\n",
      "100% (11 of 11) |########################| Elapsed Time: 0:00:00 Time:  0:00:00\n",
      " 27% (3 of 11) |######                   | Elapsed Time: 0:00:00 ETA:  00:00:00"
     ]
    },
    {
     "name": "stdout",
     "output_type": "stream",
     "text": [
      "Mean difference in trend: 0.09036251546720882\n",
      "Standard deviation of difference in trend: 0.24114090934389032\n",
      "Eastern_yar completed successfully\n",
      "Run completed successfully\n",
      "Average: 0.09036251546720882\n",
      "Standard Deviation: nan\n",
      "C:\\Users\\alechutchings\\Documents\\PythonNotebooks\\SeasonalEstuaryChanges\\Erme\n",
      "Folder 'C:\\Users\\alechutchings\\Documents\\PythonNotebooks\\SeasonalEstuaryChanges\\Erme\\MODEL_2_GAM_outputs_whole_estuary_salinity_Oxygen, Dissolved,  Saturation_2006_2022' created.\n"
     ]
    },
    {
     "name": "stderr",
     "output_type": "stream",
     "text": [
      "100% (11 of 11) |########################| Elapsed Time: 0:00:00 Time:  0:00:00\n",
      "100% (11 of 11) |########################| Elapsed Time: 0:00:00 Time:  0:00:00\n",
      "100% (11 of 11) |########################| Elapsed Time: 0:00:00 Time:  0:00:00\n",
      "100% (11 of 11) |########################| Elapsed Time: 0:00:00 Time:  0:00:00\n",
      "100% (11 of 11) |########################| Elapsed Time: 0:00:00 Time:  0:00:00\n",
      "Traceback (most recent call last):\n",
      "  File \"C:\\Users\\alechutchings\\AppData\\Local\\Temp\\2\\ipykernel_7584\\1228676766.py\", line 32, in <module>\n",
      "    trend_result_list = run_GAM(Est_group_all, det, GAM_output_path)\n",
      "                        ^^^^^^^^^^^^^^^^^^^^^^^^^^^^^^^^^^^^^^^^^^^^\n",
      "  File \"C:\\Users\\alechutchings\\AppData\\Local\\Temp\\2\\ipykernel_7584\\3038027423.py\", line 171, in run_GAM\n",
      "    trend_differences_year = monte_carlo_simulation_from_specific_years(early_period, later_period, samples, XX, num_iterations)\n",
      "                             ^^^^^^^^^^^^^^^^^^^^^^^^^^^^^^^^^^^^^^^^^^^^^^^^^^^^^^^^^^^^^^^^^^^^^^^^^^^^^^^^^^^^^^^^^^^^^^^^^^^\n",
      "  File \"C:\\Users\\alechutchings\\AppData\\Local\\Temp\\2\\ipykernel_7584\\3255356584.py\", line 10, in monte_carlo_simulation_from_specific_years\n",
      "    idx1 = np.random.choice(selected_early_data_indices)\n",
      "           ^^^^^^^^^^^^^^^^^^^^^^^^^^^^^^^^^^^^^^^^^^^^^\n",
      "  File \"mtrand.pyx\", line 950, in numpy.random.mtrand.RandomState.choice\n",
      "ValueError: 'a' cannot be empty unless no samples are taken\n",
      " 27% (3 of 11) |######                   | Elapsed Time: 0:00:00 ETA:  00:00:00"
     ]
    },
    {
     "name": "stdout",
     "output_type": "stream",
     "text": [
      "Error processing Erme: 'a' cannot be empty unless no samples are taken\n",
      "C:\\Users\\alechutchings\\Documents\\PythonNotebooks\\SeasonalEstuaryChanges\\Esk_east\n",
      "Folder 'C:\\Users\\alechutchings\\Documents\\PythonNotebooks\\SeasonalEstuaryChanges\\Esk_east\\MODEL_2_GAM_outputs_whole_estuary_salinity_Oxygen, Dissolved,  Saturation_2006_2022' created.\n"
     ]
    },
    {
     "name": "stderr",
     "output_type": "stream",
     "text": [
      "100% (11 of 11) |########################| Elapsed Time: 0:00:00 Time:  0:00:00\n",
      "100% (11 of 11) |########################| Elapsed Time: 0:00:00 Time:  0:00:00\n",
      "100% (11 of 11) |########################| Elapsed Time: 0:00:00 Time:  0:00:00\n",
      "100% (11 of 11) |########################| Elapsed Time: 0:00:00 Time:  0:00:00\n",
      "100% (11 of 11) |########################| Elapsed Time: 0:00:00 Time:  0:00:00\n",
      " 54% (6 of 11) |#############            | Elapsed Time: 0:00:00 ETA:   0:00:00"
     ]
    },
    {
     "name": "stdout",
     "output_type": "stream",
     "text": [
      "Mean difference in trend: 0.33700881025484786\n",
      "Standard deviation of difference in trend: 0.41770638988800307\n",
      "Esk_east completed successfully\n",
      "Run completed successfully\n",
      "Average: 0.33700881025484786\n",
      "Standard Deviation: nan\n",
      "C:\\Users\\alechutchings\\Documents\\PythonNotebooks\\SeasonalEstuaryChanges\\Esk_west\n",
      "Folder 'C:\\Users\\alechutchings\\Documents\\PythonNotebooks\\SeasonalEstuaryChanges\\Esk_west\\MODEL_2_GAM_outputs_whole_estuary_salinity_Oxygen, Dissolved,  Saturation_2006_2022' created.\n"
     ]
    },
    {
     "name": "stderr",
     "output_type": "stream",
     "text": [
      "100% (11 of 11) |########################| Elapsed Time: 0:00:00 Time:  0:00:00\n",
      "100% (11 of 11) |########################| Elapsed Time: 0:00:00 Time:  0:00:00\n",
      "100% (11 of 11) |########################| Elapsed Time: 0:00:00 Time:  0:00:00\n",
      "100% (11 of 11) |########################| Elapsed Time: 0:00:00 Time:  0:00:00\n",
      "100% (11 of 11) |########################| Elapsed Time: 0:00:00 Time:  0:00:00\n"
     ]
    },
    {
     "name": "stdout",
     "output_type": "stream",
     "text": [
      "Mean difference in trend: -0.07601605818091031\n",
      "Standard deviation of difference in trend: 0.28729117011231964\n",
      "Esk_west completed successfully\n",
      "Run completed successfully\n",
      "Average: -0.07601605818091031\n",
      "Standard Deviation: nan\n",
      "C:\\Users\\alechutchings\\Documents\\PythonNotebooks\\SeasonalEstuaryChanges\\Exe\n",
      "Folder 'C:\\Users\\alechutchings\\Documents\\PythonNotebooks\\SeasonalEstuaryChanges\\Exe\\MODEL_2_GAM_outputs_whole_estuary_salinity_Oxygen, Dissolved,  Saturation_2006_2022' created.\n"
     ]
    },
    {
     "name": "stderr",
     "output_type": "stream",
     "text": [
      "C:\\Users\\alechutchings\\AppData\\Local\\Temp\\2\\ipykernel_7584\\2701496734.py:5: DtypeWarning: Columns (10) have mixed types. Specify dtype option on import or set low_memory=False.\n",
      "  dfs = [pd.read_csv(csv, dtype={\"INTERPRETATION\": str, \"TEXT_RESULT\": str, \"DETCODE\": str}) for csv in csvs[:input_no]]\n",
      "100% (11 of 11) |########################| Elapsed Time: 0:00:00 Time:  0:00:00\n",
      "100% (11 of 11) |########################| Elapsed Time: 0:00:00 Time:  0:00:00\n",
      "100% (11 of 11) |########################| Elapsed Time: 0:00:00 Time:  0:00:00\n",
      "100% (11 of 11) |########################| Elapsed Time: 0:00:00 Time:  0:00:00\n",
      "100% (11 of 11) |########################| Elapsed Time: 0:00:00 Time:  0:00:00\n"
     ]
    },
    {
     "name": "stdout",
     "output_type": "stream",
     "text": [
      "Mean difference in trend: 0.011668489282794115\n",
      "Standard deviation of difference in trend: 0.19793156380092738\n",
      "Exe completed successfully\n",
      "Run completed successfully\n",
      "Average: 0.011668489282794115\n",
      "Standard Deviation: nan\n",
      "C:\\Users\\alechutchings\\Documents\\PythonNotebooks\\SeasonalEstuaryChanges\\Falmouth\n",
      "Folder 'C:\\Users\\alechutchings\\Documents\\PythonNotebooks\\SeasonalEstuaryChanges\\Falmouth\\MODEL_2_GAM_outputs_whole_estuary_salinity_Oxygen, Dissolved,  Saturation_2006_2022' created.\n"
     ]
    },
    {
     "name": "stderr",
     "output_type": "stream",
     "text": [
      "100% (11 of 11) |########################| Elapsed Time: 0:00:00 Time:  0:00:00\n",
      "100% (11 of 11) |########################| Elapsed Time: 0:00:00 Time:  0:00:00\n",
      "100% (11 of 11) |########################| Elapsed Time: 0:00:00 Time:  0:00:00\n",
      "100% (11 of 11) |########################| Elapsed Time: 0:00:00 Time:  0:00:00\n",
      "100% (11 of 11) |########################| Elapsed Time: 0:00:00 Time:  0:00:00\n"
     ]
    },
    {
     "name": "stdout",
     "output_type": "stream",
     "text": [
      "Mean difference in trend: -0.2202312228659336\n",
      "Standard deviation of difference in trend: 0.4477983210354234\n",
      "Falmouth completed successfully\n",
      "Run completed successfully\n",
      "Average: -0.2202312228659336\n",
      "Standard Deviation: nan\n",
      "C:\\Users\\alechutchings\\Documents\\PythonNotebooks\\SeasonalEstuaryChanges\\Fowey\n",
      "Folder 'C:\\Users\\alechutchings\\Documents\\PythonNotebooks\\SeasonalEstuaryChanges\\Fowey\\MODEL_2_GAM_outputs_whole_estuary_salinity_Oxygen, Dissolved,  Saturation_2006_2022' created.\n"
     ]
    },
    {
     "name": "stderr",
     "output_type": "stream",
     "text": [
      "100% (11 of 11) |########################| Elapsed Time: 0:00:00 Time:  0:00:00\n",
      "100% (11 of 11) |########################| Elapsed Time: 0:00:00 Time:  0:00:00\n",
      "100% (11 of 11) |########################| Elapsed Time: 0:00:00 Time:  0:00:00\n",
      "100% (11 of 11) |########################| Elapsed Time: 0:00:00 Time:  0:00:00\n",
      "100% (11 of 11) |########################| Elapsed Time: 0:00:00 Time:  0:00:00\n",
      "Traceback (most recent call last):\n",
      "  File \"C:\\Users\\alechutchings\\AppData\\Local\\Temp\\2\\ipykernel_7584\\1228676766.py\", line 32, in <module>\n",
      "    trend_result_list = run_GAM(Est_group_all, det, GAM_output_path)\n",
      "                        ^^^^^^^^^^^^^^^^^^^^^^^^^^^^^^^^^^^^^^^^^^^^\n",
      "  File \"C:\\Users\\alechutchings\\AppData\\Local\\Temp\\2\\ipykernel_7584\\3038027423.py\", line 171, in run_GAM\n",
      "    trend_differences_year = monte_carlo_simulation_from_specific_years(early_period, later_period, samples, XX, num_iterations)\n",
      "                             ^^^^^^^^^^^^^^^^^^^^^^^^^^^^^^^^^^^^^^^^^^^^^^^^^^^^^^^^^^^^^^^^^^^^^^^^^^^^^^^^^^^^^^^^^^^^^^^^^^^\n",
      "  File \"C:\\Users\\alechutchings\\AppData\\Local\\Temp\\2\\ipykernel_7584\\3255356584.py\", line 11, in monte_carlo_simulation_from_specific_years\n",
      "    idx2 = np.random.choice(selected_late_data_indices)\n",
      "           ^^^^^^^^^^^^^^^^^^^^^^^^^^^^^^^^^^^^^^^^^^^^\n",
      "  File \"mtrand.pyx\", line 950, in numpy.random.mtrand.RandomState.choice\n",
      "ValueError: 'a' cannot be empty unless no samples are taken\n",
      "  0% (0 of 11) |                         | Elapsed Time: 0:00:00 ETA:  --:--:--"
     ]
    },
    {
     "name": "stdout",
     "output_type": "stream",
     "text": [
      "Error processing Fowey: 'a' cannot be empty unless no samples are taken\n",
      "C:\\Users\\alechutchings\\Documents\\PythonNotebooks\\SeasonalEstuaryChanges\\Gannel\n",
      "Folder 'C:\\Users\\alechutchings\\Documents\\PythonNotebooks\\SeasonalEstuaryChanges\\Gannel\\MODEL_2_GAM_outputs_whole_estuary_salinity_Oxygen, Dissolved,  Saturation_2006_2022' created.\n"
     ]
    },
    {
     "name": "stderr",
     "output_type": "stream",
     "text": [
      "100% (11 of 11) |########################| Elapsed Time: 0:00:00 Time:  0:00:00\n",
      "100% (11 of 11) |########################| Elapsed Time: 0:00:00 Time:  0:00:00\n",
      "100% (11 of 11) |########################| Elapsed Time: 0:00:00 Time:  0:00:00\n",
      "100% (11 of 11) |########################| Elapsed Time: 0:00:00 Time:  0:00:00\n",
      "100% (11 of 11) |########################| Elapsed Time: 0:00:00 Time:  0:00:00\n"
     ]
    },
    {
     "name": "stdout",
     "output_type": "stream",
     "text": [
      "Mean difference in trend: 0.3761064040109703\n",
      "Standard deviation of difference in trend: 1.1613883908205396\n",
      "Gannel completed successfully\n",
      "Run completed successfully\n",
      "Average: 0.3761064040109703\n",
      "Standard Deviation: nan\n",
      "C:\\Users\\alechutchings\\Documents\\PythonNotebooks\\SeasonalEstuaryChanges\\Great_ouse\n",
      "Folder 'C:\\Users\\alechutchings\\Documents\\PythonNotebooks\\SeasonalEstuaryChanges\\Great_ouse\\MODEL_2_GAM_outputs_whole_estuary_salinity_Oxygen, Dissolved,  Saturation_2006_2022' created.\n"
     ]
    },
    {
     "name": "stderr",
     "output_type": "stream",
     "text": [
      "100% (11 of 11) |########################| Elapsed Time: 0:00:00 Time:  0:00:00\n",
      "100% (11 of 11) |########################| Elapsed Time: 0:00:00 Time:  0:00:00\n",
      "100% (11 of 11) |########################| Elapsed Time: 0:00:00 Time:  0:00:00\n",
      "100% (11 of 11) |########################| Elapsed Time: 0:00:00 Time:  0:00:00\n",
      "100% (11 of 11) |########################| Elapsed Time: 0:00:00 Time:  0:00:00\n",
      "  0% (0 of 11) |                         | Elapsed Time: 0:00:00 ETA:  --:--:--"
     ]
    },
    {
     "name": "stdout",
     "output_type": "stream",
     "text": [
      "Mean difference in trend: -0.11676439022330605\n",
      "Standard deviation of difference in trend: 1.1755929751751786\n",
      "Great_ouse completed successfully\n",
      "Run completed successfully\n",
      "Average: -0.11676439022330605\n",
      "Standard Deviation: nan\n",
      "C:\\Users\\alechutchings\\Documents\\PythonNotebooks\\SeasonalEstuaryChanges\\Hayle\n",
      "Folder 'C:\\Users\\alechutchings\\Documents\\PythonNotebooks\\SeasonalEstuaryChanges\\Hayle\\MODEL_2_GAM_outputs_whole_estuary_salinity_Oxygen, Dissolved,  Saturation_2006_2022' created.\n"
     ]
    },
    {
     "name": "stderr",
     "output_type": "stream",
     "text": [
      "100% (11 of 11) |########################| Elapsed Time: 0:00:00 Time:  0:00:00\n",
      "100% (11 of 11) |########################| Elapsed Time: 0:00:00 Time:  0:00:00\n",
      "100% (11 of 11) |########################| Elapsed Time: 0:00:00 Time:  0:00:00\n",
      "100% (11 of 11) |########################| Elapsed Time: 0:00:00 Time:  0:00:00\n",
      "100% (11 of 11) |########################| Elapsed Time: 0:00:00 Time:  0:00:00\n"
     ]
    },
    {
     "name": "stdout",
     "output_type": "stream",
     "text": [
      "Mean difference in trend: -0.066912887373021\n",
      "Standard deviation of difference in trend: 0.4033510000393317\n",
      "Hayle completed successfully\n",
      "Run completed successfully\n",
      "Average: -0.066912887373021\n",
      "Standard Deviation: nan\n",
      "C:\\Users\\alechutchings\\Documents\\PythonNotebooks\\SeasonalEstuaryChanges\\Helford\n",
      "Folder 'C:\\Users\\alechutchings\\Documents\\PythonNotebooks\\SeasonalEstuaryChanges\\Helford\\MODEL_2_GAM_outputs_whole_estuary_salinity_Oxygen, Dissolved,  Saturation_2006_2022' created.\n"
     ]
    },
    {
     "name": "stderr",
     "output_type": "stream",
     "text": [
      "100% (11 of 11) |########################| Elapsed Time: 0:00:00 Time:  0:00:00\n",
      "100% (11 of 11) |########################| Elapsed Time: 0:00:00 Time:  0:00:00\n",
      "100% (11 of 11) |########################| Elapsed Time: 0:00:00 Time:  0:00:00\n",
      "100% (11 of 11) |########################| Elapsed Time: 0:00:00 Time:  0:00:00\n",
      "100% (11 of 11) |########################| Elapsed Time: 0:00:00 Time:  0:00:00\n"
     ]
    },
    {
     "name": "stdout",
     "output_type": "stream",
     "text": [
      "Mean difference in trend: 0.6209478052565346\n",
      "Standard deviation of difference in trend: 0.5457254186512703\n",
      "Helford completed successfully\n",
      "Run completed successfully\n",
      "Average: 0.6209478052565346\n",
      "Standard Deviation: nan\n",
      "C:\\Users\\alechutchings\\Documents\\PythonNotebooks\\SeasonalEstuaryChanges\\Humber\n",
      "Folder 'C:\\Users\\alechutchings\\Documents\\PythonNotebooks\\SeasonalEstuaryChanges\\Humber\\MODEL_2_GAM_outputs_whole_estuary_salinity_Oxygen, Dissolved,  Saturation_2006_2022' created.\n"
     ]
    },
    {
     "name": "stderr",
     "output_type": "stream",
     "text": [
      "100% (11 of 11) |########################| Elapsed Time: 0:00:00 Time:  0:00:00\n",
      "100% (11 of 11) |########################| Elapsed Time: 0:00:00 Time:  0:00:00\n",
      "100% (11 of 11) |########################| Elapsed Time: 0:00:00 Time:  0:00:00\n",
      "100% (11 of 11) |########################| Elapsed Time: 0:00:00 Time:  0:00:00\n",
      "100% (11 of 11) |########################| Elapsed Time: 0:00:00 Time:  0:00:00\n",
      " 18% (2 of 11) |####                     | Elapsed Time: 0:00:00 ETA:  00:00:00"
     ]
    },
    {
     "name": "stdout",
     "output_type": "stream",
     "text": [
      "Mean difference in trend: 0.09320048462529044\n",
      "Standard deviation of difference in trend: 0.3072751437655617\n",
      "Humber completed successfully\n",
      "Run completed successfully\n",
      "Average: 0.09320048462529044\n",
      "Standard Deviation: nan\n",
      "C:\\Users\\alechutchings\\Documents\\PythonNotebooks\\SeasonalEstuaryChanges\\Kent\n",
      "Folder 'C:\\Users\\alechutchings\\Documents\\PythonNotebooks\\SeasonalEstuaryChanges\\Kent\\MODEL_2_GAM_outputs_whole_estuary_salinity_Oxygen, Dissolved,  Saturation_2006_2022' created.\n"
     ]
    },
    {
     "name": "stderr",
     "output_type": "stream",
     "text": [
      "100% (11 of 11) |########################| Elapsed Time: 0:00:00 Time:  0:00:00\n",
      "100% (11 of 11) |########################| Elapsed Time: 0:00:00 Time:  0:00:00\n",
      "100% (11 of 11) |########################| Elapsed Time: 0:00:00 Time:  0:00:00\n",
      "100% (11 of 11) |########################| Elapsed Time: 0:00:00 Time:  0:00:00\n",
      "100% (11 of 11) |########################| Elapsed Time: 0:00:00 Time:  0:00:00\n",
      "Traceback (most recent call last):\n",
      "  File \"C:\\Users\\alechutchings\\AppData\\Local\\Temp\\2\\ipykernel_7584\\1228676766.py\", line 32, in <module>\n",
      "    trend_result_list = run_GAM(Est_group_all, det, GAM_output_path)\n",
      "                        ^^^^^^^^^^^^^^^^^^^^^^^^^^^^^^^^^^^^^^^^^^^^\n",
      "  File \"C:\\Users\\alechutchings\\AppData\\Local\\Temp\\2\\ipykernel_7584\\3038027423.py\", line 171, in run_GAM\n",
      "    trend_differences_year = monte_carlo_simulation_from_specific_years(early_period, later_period, samples, XX, num_iterations)\n",
      "                             ^^^^^^^^^^^^^^^^^^^^^^^^^^^^^^^^^^^^^^^^^^^^^^^^^^^^^^^^^^^^^^^^^^^^^^^^^^^^^^^^^^^^^^^^^^^^^^^^^^^\n",
      "  File \"C:\\Users\\alechutchings\\AppData\\Local\\Temp\\2\\ipykernel_7584\\3255356584.py\", line 11, in monte_carlo_simulation_from_specific_years\n",
      "    idx2 = np.random.choice(selected_late_data_indices)\n",
      "           ^^^^^^^^^^^^^^^^^^^^^^^^^^^^^^^^^^^^^^^^^^^^\n",
      "  File \"mtrand.pyx\", line 950, in numpy.random.mtrand.RandomState.choice\n",
      "ValueError: 'a' cannot be empty unless no samples are taken\n",
      "  0% (0 of 11) |                         | Elapsed Time: 0:00:00 ETA:  --:--:--"
     ]
    },
    {
     "name": "stdout",
     "output_type": "stream",
     "text": [
      "Error processing Kent: 'a' cannot be empty unless no samples are taken\n",
      "C:\\Users\\alechutchings\\Documents\\PythonNotebooks\\SeasonalEstuaryChanges\\Kingsbridge\n",
      "Folder 'C:\\Users\\alechutchings\\Documents\\PythonNotebooks\\SeasonalEstuaryChanges\\Kingsbridge\\MODEL_2_GAM_outputs_whole_estuary_salinity_Oxygen, Dissolved,  Saturation_2006_2022' created.\n"
     ]
    },
    {
     "name": "stderr",
     "output_type": "stream",
     "text": [
      "100% (11 of 11) |########################| Elapsed Time: 0:00:00 Time:  0:00:00\n",
      "100% (11 of 11) |########################| Elapsed Time: 0:00:00 Time:  0:00:00\n",
      "100% (11 of 11) |########################| Elapsed Time: 0:00:00 Time:  0:00:00\n",
      "100% (11 of 11) |########################| Elapsed Time: 0:00:00 Time:  0:00:00\n",
      "100% (11 of 11) |########################| Elapsed Time: 0:00:00 Time:  0:00:00\n",
      "Traceback (most recent call last):\n",
      "  File \"C:\\Users\\alechutchings\\AppData\\Local\\Temp\\2\\ipykernel_7584\\1228676766.py\", line 32, in <module>\n",
      "    trend_result_list = run_GAM(Est_group_all, det, GAM_output_path)\n",
      "                        ^^^^^^^^^^^^^^^^^^^^^^^^^^^^^^^^^^^^^^^^^^^^\n",
      "  File \"C:\\Users\\alechutchings\\AppData\\Local\\Temp\\2\\ipykernel_7584\\3038027423.py\", line 171, in run_GAM\n",
      "    trend_differences_year = monte_carlo_simulation_from_specific_years(early_period, later_period, samples, XX, num_iterations)\n",
      "                             ^^^^^^^^^^^^^^^^^^^^^^^^^^^^^^^^^^^^^^^^^^^^^^^^^^^^^^^^^^^^^^^^^^^^^^^^^^^^^^^^^^^^^^^^^^^^^^^^^^^\n",
      "  File \"C:\\Users\\alechutchings\\AppData\\Local\\Temp\\2\\ipykernel_7584\\3255356584.py\", line 11, in monte_carlo_simulation_from_specific_years\n",
      "    idx2 = np.random.choice(selected_late_data_indices)\n",
      "           ^^^^^^^^^^^^^^^^^^^^^^^^^^^^^^^^^^^^^^^^^^^^\n",
      "  File \"mtrand.pyx\", line 950, in numpy.random.mtrand.RandomState.choice\n",
      "ValueError: 'a' cannot be empty unless no samples are taken\n"
     ]
    },
    {
     "name": "stdout",
     "output_type": "stream",
     "text": [
      "Error processing Kingsbridge: 'a' cannot be empty unless no samples are taken\n",
      "C:\\Users\\alechutchings\\Documents\\PythonNotebooks\\SeasonalEstuaryChanges\\Langstone\n",
      "Folder 'C:\\Users\\alechutchings\\Documents\\PythonNotebooks\\SeasonalEstuaryChanges\\Langstone\\MODEL_2_GAM_outputs_whole_estuary_salinity_Oxygen, Dissolved,  Saturation_2006_2022' created.\n"
     ]
    },
    {
     "name": "stderr",
     "output_type": "stream",
     "text": [
      "100% (11 of 11) |########################| Elapsed Time: 0:00:00 Time:  0:00:00\n",
      "100% (11 of 11) |########################| Elapsed Time: 0:00:00 Time:  0:00:00\n",
      "100% (11 of 11) |########################| Elapsed Time: 0:00:00 Time:  0:00:00\n",
      "100% (11 of 11) |########################| Elapsed Time: 0:00:00 Time:  0:00:00\n",
      "100% (11 of 11) |########################| Elapsed Time: 0:00:00 Time:  0:00:00\n",
      "  0% (0 of 11) |                         | Elapsed Time: 0:00:00 ETA:  --:--:--"
     ]
    },
    {
     "name": "stdout",
     "output_type": "stream",
     "text": [
      "Mean difference in trend: -0.054019620481593575\n",
      "Standard deviation of difference in trend: 0.23793775358230945\n",
      "Langstone completed successfully\n",
      "Run completed successfully\n",
      "Average: -0.054019620481593575\n",
      "Standard Deviation: nan\n",
      "C:\\Users\\alechutchings\\Documents\\PythonNotebooks\\SeasonalEstuaryChanges\\Leven\n",
      "Folder 'C:\\Users\\alechutchings\\Documents\\PythonNotebooks\\SeasonalEstuaryChanges\\Leven\\MODEL_2_GAM_outputs_whole_estuary_salinity_Oxygen, Dissolved,  Saturation_2006_2022' created.\n"
     ]
    },
    {
     "name": "stderr",
     "output_type": "stream",
     "text": [
      "100% (11 of 11) |########################| Elapsed Time: 0:00:00 Time:  0:00:00\n",
      "100% (11 of 11) |########################| Elapsed Time: 0:00:00 Time:  0:00:00\n",
      "100% (11 of 11) |########################| Elapsed Time: 0:00:00 Time:  0:00:00\n",
      "100% (11 of 11) |########################| Elapsed Time: 0:00:00 Time:  0:00:00\n",
      "100% (11 of 11) |########################| Elapsed Time: 0:00:00 Time:  0:00:00\n",
      "  0% (0 of 11) |                         | Elapsed Time: 0:00:00 ETA:  --:--:--"
     ]
    },
    {
     "name": "stdout",
     "output_type": "stream",
     "text": [
      "Mean difference in trend: 0.5585366596113669\n",
      "Standard deviation of difference in trend: 0.06221426862992217\n",
      "Leven completed successfully\n",
      "Run completed successfully\n",
      "Average: 0.5585366596113669\n",
      "Standard Deviation: nan\n",
      "C:\\Users\\alechutchings\\Documents\\PythonNotebooks\\SeasonalEstuaryChanges\\Looe\n",
      "Folder 'C:\\Users\\alechutchings\\Documents\\PythonNotebooks\\SeasonalEstuaryChanges\\Looe\\MODEL_2_GAM_outputs_whole_estuary_salinity_Oxygen, Dissolved,  Saturation_2006_2022' created.\n"
     ]
    },
    {
     "name": "stderr",
     "output_type": "stream",
     "text": [
      "100% (11 of 11) |########################| Elapsed Time: 0:00:00 Time:  0:00:00\n",
      "100% (11 of 11) |########################| Elapsed Time: 0:00:00 Time:  0:00:00\n",
      "100% (11 of 11) |########################| Elapsed Time: 0:00:00 Time:  0:00:00\n",
      "100% (11 of 11) |########################| Elapsed Time: 0:00:00 Time:  0:00:00\n",
      "100% (11 of 11) |########################| Elapsed Time: 0:00:00 Time:  0:00:00\n",
      "Traceback (most recent call last):\n",
      "  File \"C:\\Users\\alechutchings\\AppData\\Local\\Temp\\2\\ipykernel_7584\\1228676766.py\", line 32, in <module>\n",
      "    trend_result_list = run_GAM(Est_group_all, det, GAM_output_path)\n",
      "                        ^^^^^^^^^^^^^^^^^^^^^^^^^^^^^^^^^^^^^^^^^^^^\n",
      "  File \"C:\\Users\\alechutchings\\AppData\\Local\\Temp\\2\\ipykernel_7584\\3038027423.py\", line 171, in run_GAM\n",
      "    trend_differences_year = monte_carlo_simulation_from_specific_years(early_period, later_period, samples, XX, num_iterations)\n",
      "                             ^^^^^^^^^^^^^^^^^^^^^^^^^^^^^^^^^^^^^^^^^^^^^^^^^^^^^^^^^^^^^^^^^^^^^^^^^^^^^^^^^^^^^^^^^^^^^^^^^^^\n",
      "  File \"C:\\Users\\alechutchings\\AppData\\Local\\Temp\\2\\ipykernel_7584\\3255356584.py\", line 10, in monte_carlo_simulation_from_specific_years\n",
      "    idx1 = np.random.choice(selected_early_data_indices)\n",
      "           ^^^^^^^^^^^^^^^^^^^^^^^^^^^^^^^^^^^^^^^^^^^^^\n",
      "  File \"mtrand.pyx\", line 950, in numpy.random.mtrand.RandomState.choice\n",
      "ValueError: 'a' cannot be empty unless no samples are taken\n"
     ]
    },
    {
     "name": "stdout",
     "output_type": "stream",
     "text": [
      "Error processing Looe: 'a' cannot be empty unless no samples are taken\n",
      "C:\\Users\\alechutchings\\Documents\\PythonNotebooks\\SeasonalEstuaryChanges\\Lune\n",
      "Folder 'C:\\Users\\alechutchings\\Documents\\PythonNotebooks\\SeasonalEstuaryChanges\\Lune\\MODEL_2_GAM_outputs_whole_estuary_salinity_Oxygen, Dissolved,  Saturation_2006_2022' created.\n"
     ]
    },
    {
     "name": "stderr",
     "output_type": "stream",
     "text": [
      "100% (11 of 11) |########################| Elapsed Time: 0:00:00 Time:  0:00:00\n",
      "100% (11 of 11) |########################| Elapsed Time: 0:00:00 Time:  0:00:00\n",
      "100% (11 of 11) |########################| Elapsed Time: 0:00:00 Time:  0:00:00\n",
      "100% (11 of 11) |########################| Elapsed Time: 0:00:00 Time:  0:00:00\n",
      "100% (11 of 11) |########################| Elapsed Time: 0:00:00 Time:  0:00:00\n",
      " 36% (4 of 11) |#########                | Elapsed Time: 0:00:00 ETA:   0:00:00"
     ]
    },
    {
     "name": "stdout",
     "output_type": "stream",
     "text": [
      "Mean difference in trend: 0.1197065516033248\n",
      "Standard deviation of difference in trend: 0.5651062926069529\n",
      "Lune completed successfully\n",
      "Run completed successfully\n",
      "Average: 0.1197065516033248\n",
      "Standard Deviation: nan\n",
      "C:\\Users\\alechutchings\\Documents\\PythonNotebooks\\SeasonalEstuaryChanges\\Lymington\n",
      "Folder 'C:\\Users\\alechutchings\\Documents\\PythonNotebooks\\SeasonalEstuaryChanges\\Lymington\\MODEL_2_GAM_outputs_whole_estuary_salinity_Oxygen, Dissolved,  Saturation_2006_2022' created.\n"
     ]
    },
    {
     "name": "stderr",
     "output_type": "stream",
     "text": [
      "100% (11 of 11) |########################| Elapsed Time: 0:00:00 Time:  0:00:00\n",
      "100% (11 of 11) |########################| Elapsed Time: 0:00:00 Time:  0:00:00\n",
      "100% (11 of 11) |########################| Elapsed Time: 0:00:00 Time:  0:00:00\n",
      "100% (11 of 11) |########################| Elapsed Time: 0:00:00 Time:  0:00:00\n",
      "100% (11 of 11) |########################| Elapsed Time: 0:00:00 Time:  0:00:00\n"
     ]
    },
    {
     "name": "stdout",
     "output_type": "stream",
     "text": [
      "Mean difference in trend: -0.0817947403476887\n",
      "Standard deviation of difference in trend: 0.11153358360537186\n",
      "Lymington completed successfully\n",
      "Run completed successfully\n",
      "Average: -0.0817947403476887\n",
      "Standard Deviation: nan\n",
      "C:\\Users\\alechutchings\\Documents\\PythonNotebooks\\SeasonalEstuaryChanges\\Maryport\n",
      "Folder 'C:\\Users\\alechutchings\\Documents\\PythonNotebooks\\SeasonalEstuaryChanges\\Maryport\\MODEL_2_GAM_outputs_whole_estuary_salinity_Oxygen, Dissolved,  Saturation_2006_2022' created.\n",
      "Error processing Maryport: 'Oxygen, Dissolved,  Saturation'\n",
      "C:\\Users\\alechutchings\\Documents\\PythonNotebooks\\SeasonalEstuaryChanges\\Medina\n",
      "Folder 'C:\\Users\\alechutchings\\Documents\\PythonNotebooks\\SeasonalEstuaryChanges\\Medina\\MODEL_2_GAM_outputs_whole_estuary_salinity_Oxygen, Dissolved,  Saturation_2006_2022' created.\n"
     ]
    },
    {
     "name": "stderr",
     "output_type": "stream",
     "text": [
      "Traceback (most recent call last):\n",
      "  File \"C:\\Users\\alechutchings\\AppData\\Local\\anaconda3\\envs\\geo_env\\Lib\\site-packages\\pandas\\core\\indexes\\base.py\", line 3653, in get_loc\n",
      "    return self._engine.get_loc(casted_key)\n",
      "           ^^^^^^^^^^^^^^^^^^^^^^^^^^^^^^^^\n",
      "  File \"pandas\\_libs\\index.pyx\", line 147, in pandas._libs.index.IndexEngine.get_loc\n",
      "  File \"pandas\\_libs\\index.pyx\", line 176, in pandas._libs.index.IndexEngine.get_loc\n",
      "  File \"pandas\\_libs\\hashtable_class_helper.pxi\", line 7080, in pandas._libs.hashtable.PyObjectHashTable.get_item\n",
      "  File \"pandas\\_libs\\hashtable_class_helper.pxi\", line 7088, in pandas._libs.hashtable.PyObjectHashTable.get_item\n",
      "KeyError: 'Oxygen, Dissolved,  Saturation'\n",
      "\n",
      "The above exception was the direct cause of the following exception:\n",
      "\n",
      "Traceback (most recent call last):\n",
      "  File \"C:\\Users\\alechutchings\\AppData\\Local\\Temp\\2\\ipykernel_7584\\1228676766.py\", line 32, in <module>\n",
      "    trend_result_list = run_GAM(Est_group_all, det, GAM_output_path)\n",
      "                        ^^^^^^^^^^^^^^^^^^^^^^^^^^^^^^^^^^^^^^^^^^^^\n",
      "  File \"C:\\Users\\alechutchings\\AppData\\Local\\Temp\\2\\ipykernel_7584\\3038027423.py\", line 30, in run_GAM\n",
      "    Y = Est_all[det].values\n",
      "        ~~~~~~~^^^^^\n",
      "  File \"C:\\Users\\alechutchings\\AppData\\Local\\anaconda3\\envs\\geo_env\\Lib\\site-packages\\pandas\\core\\frame.py\", line 3761, in __getitem__\n",
      "    indexer = self.columns.get_loc(key)\n",
      "              ^^^^^^^^^^^^^^^^^^^^^^^^^\n",
      "  File \"C:\\Users\\alechutchings\\AppData\\Local\\anaconda3\\envs\\geo_env\\Lib\\site-packages\\pandas\\core\\indexes\\base.py\", line 3655, in get_loc\n",
      "    raise KeyError(key) from err\n",
      "KeyError: 'Oxygen, Dissolved,  Saturation'\n",
      "100% (11 of 11) |########################| Elapsed Time: 0:00:00 Time:  0:00:00\n",
      "100% (11 of 11) |########################| Elapsed Time: 0:00:00 Time:  0:00:00\n",
      "100% (11 of 11) |########################| Elapsed Time: 0:00:00 Time:  0:00:00\n",
      "100% (11 of 11) |########################| Elapsed Time: 0:00:00 Time:  0:00:00\n",
      "100% (11 of 11) |########################| Elapsed Time: 0:00:00 Time:  0:00:00\n"
     ]
    },
    {
     "name": "stdout",
     "output_type": "stream",
     "text": [
      "Mean difference in trend: 0.13814851599693212\n",
      "Standard deviation of difference in trend: 0.6917819663833022\n",
      "Medina completed successfully\n",
      "Run completed successfully\n",
      "Average: 0.13814851599693212\n",
      "Standard Deviation: nan\n",
      "C:\\Users\\alechutchings\\Documents\\PythonNotebooks\\SeasonalEstuaryChanges\\Medway\n",
      "Folder 'C:\\Users\\alechutchings\\Documents\\PythonNotebooks\\SeasonalEstuaryChanges\\Medway\\MODEL_2_GAM_outputs_whole_estuary_salinity_Oxygen, Dissolved,  Saturation_2006_2022' created.\n"
     ]
    },
    {
     "name": "stderr",
     "output_type": "stream",
     "text": [
      "100% (11 of 11) |########################| Elapsed Time: 0:00:00 Time:  0:00:00\n",
      "100% (11 of 11) |########################| Elapsed Time: 0:00:01 Time:  0:00:01\n",
      "100% (11 of 11) |########################| Elapsed Time: 0:00:01 Time:  0:00:01\n",
      "100% (11 of 11) |########################| Elapsed Time: 0:00:01 Time:  0:00:01\n",
      "100% (11 of 11) |########################| Elapsed Time: 0:00:01 Time:  0:00:01\n"
     ]
    },
    {
     "name": "stdout",
     "output_type": "stream",
     "text": [
      "Mean difference in trend: -0.21213906929515275\n",
      "Standard deviation of difference in trend: 0.3764047715873153\n",
      "Medway completed successfully\n",
      "Run completed successfully\n",
      "Average: -0.21213906929515275\n",
      "Standard Deviation: nan\n",
      "C:\\Users\\alechutchings\\Documents\\PythonNotebooks\\SeasonalEstuaryChanges\\Mersey\n",
      "Folder 'C:\\Users\\alechutchings\\Documents\\PythonNotebooks\\SeasonalEstuaryChanges\\Mersey\\MODEL_2_GAM_outputs_whole_estuary_salinity_Oxygen, Dissolved,  Saturation_2006_2022' created.\n"
     ]
    },
    {
     "name": "stderr",
     "output_type": "stream",
     "text": [
      "100% (11 of 11) |########################| Elapsed Time: 0:00:00 Time:  0:00:00\n",
      "100% (11 of 11) |########################| Elapsed Time: 0:00:00 Time:  0:00:00\n",
      "100% (11 of 11) |########################| Elapsed Time: 0:00:00 Time:  0:00:00\n",
      "100% (11 of 11) |########################| Elapsed Time: 0:00:00 Time:  0:00:00\n",
      "100% (11 of 11) |########################| Elapsed Time: 0:00:00 Time:  0:00:00\n",
      " 18% (2 of 11) |####                     | Elapsed Time: 0:00:00 ETA:  00:00:00"
     ]
    },
    {
     "name": "stdout",
     "output_type": "stream",
     "text": [
      "Mean difference in trend: 0.12796913274959124\n",
      "Standard deviation of difference in trend: 0.2542414332319279\n",
      "Mersey completed successfully\n",
      "Run completed successfully\n",
      "Average: 0.12796913274959124\n",
      "Standard Deviation: nan\n",
      "C:\\Users\\alechutchings\\Documents\\PythonNotebooks\\SeasonalEstuaryChanges\\Nene\n",
      "Folder 'C:\\Users\\alechutchings\\Documents\\PythonNotebooks\\SeasonalEstuaryChanges\\Nene\\MODEL_2_GAM_outputs_whole_estuary_salinity_Oxygen, Dissolved,  Saturation_2006_2022' created.\n"
     ]
    },
    {
     "name": "stderr",
     "output_type": "stream",
     "text": [
      "100% (11 of 11) |########################| Elapsed Time: 0:00:00 Time:  0:00:00\n",
      "100% (11 of 11) |########################| Elapsed Time: 0:00:00 Time:  0:00:00\n",
      "100% (11 of 11) |########################| Elapsed Time: 0:00:00 Time:  0:00:00\n",
      "100% (11 of 11) |########################| Elapsed Time: 0:00:00 Time:  0:00:00\n",
      "100% (11 of 11) |########################| Elapsed Time: 0:00:00 Time:  0:00:00\n",
      "Traceback (most recent call last):\n",
      "  File \"C:\\Users\\alechutchings\\AppData\\Local\\Temp\\2\\ipykernel_7584\\1228676766.py\", line 32, in <module>\n",
      "    trend_result_list = run_GAM(Est_group_all, det, GAM_output_path)\n",
      "                        ^^^^^^^^^^^^^^^^^^^^^^^^^^^^^^^^^^^^^^^^^^^^\n",
      "  File \"C:\\Users\\alechutchings\\AppData\\Local\\Temp\\2\\ipykernel_7584\\3038027423.py\", line 171, in run_GAM\n",
      "    trend_differences_year = monte_carlo_simulation_from_specific_years(early_period, later_period, samples, XX, num_iterations)\n",
      "                             ^^^^^^^^^^^^^^^^^^^^^^^^^^^^^^^^^^^^^^^^^^^^^^^^^^^^^^^^^^^^^^^^^^^^^^^^^^^^^^^^^^^^^^^^^^^^^^^^^^^\n",
      "  File \"C:\\Users\\alechutchings\\AppData\\Local\\Temp\\2\\ipykernel_7584\\3255356584.py\", line 11, in monte_carlo_simulation_from_specific_years\n",
      "    idx2 = np.random.choice(selected_late_data_indices)\n",
      "           ^^^^^^^^^^^^^^^^^^^^^^^^^^^^^^^^^^^^^^^^^^^^\n",
      "  File \"mtrand.pyx\", line 950, in numpy.random.mtrand.RandomState.choice\n",
      "ValueError: 'a' cannot be empty unless no samples are taken\n",
      "  0% (0 of 11) |                         | Elapsed Time: 0:00:00 ETA:  --:--:--"
     ]
    },
    {
     "name": "stdout",
     "output_type": "stream",
     "text": [
      "Error processing Nene: 'a' cannot be empty unless no samples are taken\n",
      "C:\\Users\\alechutchings\\Documents\\PythonNotebooks\\SeasonalEstuaryChanges\\Newtown_river\n",
      "Folder 'C:\\Users\\alechutchings\\Documents\\PythonNotebooks\\SeasonalEstuaryChanges\\Newtown_river\\MODEL_2_GAM_outputs_whole_estuary_salinity_Oxygen, Dissolved,  Saturation_2006_2022' created.\n"
     ]
    },
    {
     "name": "stderr",
     "output_type": "stream",
     "text": [
      "100% (11 of 11) |########################| Elapsed Time: 0:00:00 Time:  0:00:00\n",
      "100% (11 of 11) |########################| Elapsed Time: 0:00:00 Time:  0:00:00\n",
      "100% (11 of 11) |########################| Elapsed Time: 0:00:00 Time:  0:00:00\n",
      "100% (11 of 11) |########################| Elapsed Time: 0:00:00 Time:  0:00:00\n",
      "100% (11 of 11) |########################| Elapsed Time: 0:00:00 Time:  0:00:00\n"
     ]
    },
    {
     "name": "stdout",
     "output_type": "stream",
     "text": [
      "Mean difference in trend: -0.24634922832801354\n",
      "Standard deviation of difference in trend: 0.9949851948846566\n",
      "Newtown_river completed successfully\n",
      "Run completed successfully\n",
      "Average: -0.24634922832801354\n",
      "Standard Deviation: nan\n",
      "C:\\Users\\alechutchings\\Documents\\PythonNotebooks\\SeasonalEstuaryChanges\\Orwell\n",
      "Folder 'C:\\Users\\alechutchings\\Documents\\PythonNotebooks\\SeasonalEstuaryChanges\\Orwell\\MODEL_2_GAM_outputs_whole_estuary_salinity_Oxygen, Dissolved,  Saturation_2006_2022' created.\n"
     ]
    },
    {
     "name": "stderr",
     "output_type": "stream",
     "text": [
      "100% (11 of 11) |########################| Elapsed Time: 0:00:00 Time:  0:00:00\n",
      "100% (11 of 11) |########################| Elapsed Time: 0:00:00 Time:  0:00:00\n",
      "100% (11 of 11) |########################| Elapsed Time: 0:00:00 Time:  0:00:00\n",
      "100% (11 of 11) |########################| Elapsed Time: 0:00:00 Time:  0:00:00\n",
      "100% (11 of 11) |########################| Elapsed Time: 0:00:00 Time:  0:00:00\n"
     ]
    },
    {
     "name": "stdout",
     "output_type": "stream",
     "text": [
      "Mean difference in trend: -0.2784057794215138\n",
      "Standard deviation of difference in trend: 0.6183095207970682\n",
      "Orwell completed successfully\n",
      "Run completed successfully\n",
      "Average: -0.2784057794215138\n",
      "Standard Deviation: nan\n",
      "C:\\Users\\alechutchings\\Documents\\PythonNotebooks\\SeasonalEstuaryChanges\\Otter\n",
      "Folder 'C:\\Users\\alechutchings\\Documents\\PythonNotebooks\\SeasonalEstuaryChanges\\Otter\\MODEL_2_GAM_outputs_whole_estuary_salinity_Oxygen, Dissolved,  Saturation_2006_2022' created.\n",
      "Error processing Otter: 'Oxygen, Dissolved,  Saturation'\n",
      "C:\\Users\\alechutchings\\Documents\\PythonNotebooks\\SeasonalEstuaryChanges\\Ouse\n",
      "Folder 'C:\\Users\\alechutchings\\Documents\\PythonNotebooks\\SeasonalEstuaryChanges\\Ouse\\MODEL_2_GAM_outputs_whole_estuary_salinity_Oxygen, Dissolved,  Saturation_2006_2022' created.\n"
     ]
    },
    {
     "name": "stderr",
     "output_type": "stream",
     "text": [
      "Traceback (most recent call last):\n",
      "  File \"C:\\Users\\alechutchings\\AppData\\Local\\anaconda3\\envs\\geo_env\\Lib\\site-packages\\pandas\\core\\indexes\\base.py\", line 3653, in get_loc\n",
      "    return self._engine.get_loc(casted_key)\n",
      "           ^^^^^^^^^^^^^^^^^^^^^^^^^^^^^^^^\n",
      "  File \"pandas\\_libs\\index.pyx\", line 147, in pandas._libs.index.IndexEngine.get_loc\n",
      "  File \"pandas\\_libs\\index.pyx\", line 176, in pandas._libs.index.IndexEngine.get_loc\n",
      "  File \"pandas\\_libs\\hashtable_class_helper.pxi\", line 7080, in pandas._libs.hashtable.PyObjectHashTable.get_item\n",
      "  File \"pandas\\_libs\\hashtable_class_helper.pxi\", line 7088, in pandas._libs.hashtable.PyObjectHashTable.get_item\n",
      "KeyError: 'Oxygen, Dissolved,  Saturation'\n",
      "\n",
      "The above exception was the direct cause of the following exception:\n",
      "\n",
      "Traceback (most recent call last):\n",
      "  File \"C:\\Users\\alechutchings\\AppData\\Local\\Temp\\2\\ipykernel_7584\\1228676766.py\", line 32, in <module>\n",
      "    trend_result_list = run_GAM(Est_group_all, det, GAM_output_path)\n",
      "                        ^^^^^^^^^^^^^^^^^^^^^^^^^^^^^^^^^^^^^^^^^^^^\n",
      "  File \"C:\\Users\\alechutchings\\AppData\\Local\\Temp\\2\\ipykernel_7584\\3038027423.py\", line 30, in run_GAM\n",
      "    Y = Est_all[det].values\n",
      "        ~~~~~~~^^^^^\n",
      "  File \"C:\\Users\\alechutchings\\AppData\\Local\\anaconda3\\envs\\geo_env\\Lib\\site-packages\\pandas\\core\\frame.py\", line 3761, in __getitem__\n",
      "    indexer = self.columns.get_loc(key)\n",
      "              ^^^^^^^^^^^^^^^^^^^^^^^^^\n",
      "  File \"C:\\Users\\alechutchings\\AppData\\Local\\anaconda3\\envs\\geo_env\\Lib\\site-packages\\pandas\\core\\indexes\\base.py\", line 3655, in get_loc\n",
      "    raise KeyError(key) from err\n",
      "KeyError: 'Oxygen, Dissolved,  Saturation'\n",
      "100% (11 of 11) |########################| Elapsed Time: 0:00:00 Time:  0:00:00\n",
      "100% (11 of 11) |########################| Elapsed Time: 0:00:00 Time:  0:00:00\n",
      "100% (11 of 11) |########################| Elapsed Time: 0:00:00 Time:  0:00:00\n",
      "100% (11 of 11) |########################| Elapsed Time: 0:00:00 Time:  0:00:00\n",
      "100% (11 of 11) |########################| Elapsed Time: 0:00:00 Time:  0:00:00\n"
     ]
    },
    {
     "name": "stdout",
     "output_type": "stream",
     "text": [
      "Mean difference in trend: 0.23403826715435525\n",
      "Standard deviation of difference in trend: 0.16210724456484793\n",
      "Ouse completed successfully\n",
      "Run completed successfully\n",
      "Average: 0.23403826715435525\n",
      "Standard Deviation: nan\n",
      "C:\\Users\\alechutchings\\Documents\\PythonNotebooks\\SeasonalEstuaryChanges\\Pagham\n",
      "Folder 'C:\\Users\\alechutchings\\Documents\\PythonNotebooks\\SeasonalEstuaryChanges\\Pagham\\MODEL_2_GAM_outputs_whole_estuary_salinity_Oxygen, Dissolved,  Saturation_2006_2022' created.\n"
     ]
    },
    {
     "name": "stderr",
     "output_type": "stream",
     "text": [
      "100% (11 of 11) |########################| Elapsed Time: 0:00:00 Time:  0:00:00\n",
      "100% (11 of 11) |########################| Elapsed Time: 0:00:00 Time:  0:00:00\n",
      "100% (11 of 11) |########################| Elapsed Time: 0:00:00 Time:  0:00:00\n",
      "100% (11 of 11) |########################| Elapsed Time: 0:00:00 Time:  0:00:00\n",
      "100% (11 of 11) |########################| Elapsed Time: 0:00:00 Time:  0:00:00\n"
     ]
    },
    {
     "name": "stdout",
     "output_type": "stream",
     "text": [
      "Mean difference in trend: 0.13938881195144243\n",
      "Standard deviation of difference in trend: 0.8640759888828672\n",
      "Pagham completed successfully\n",
      "Run completed successfully\n",
      "Average: 0.13938881195144243\n",
      "Standard Deviation: nan\n",
      "C:\\Users\\alechutchings\\Documents\\PythonNotebooks\\SeasonalEstuaryChanges\\Parrett\n",
      "Folder 'C:\\Users\\alechutchings\\Documents\\PythonNotebooks\\SeasonalEstuaryChanges\\Parrett\\MODEL_2_GAM_outputs_whole_estuary_salinity_Oxygen, Dissolved,  Saturation_2006_2022' created.\n"
     ]
    },
    {
     "name": "stderr",
     "output_type": "stream",
     "text": [
      "100% (11 of 11) |########################| Elapsed Time: 0:00:00 Time:  0:00:00\n",
      "100% (11 of 11) |########################| Elapsed Time: 0:00:00 Time:  0:00:00\n",
      "100% (11 of 11) |########################| Elapsed Time: 0:00:00 Time:  0:00:00\n",
      "100% (11 of 11) |########################| Elapsed Time: 0:00:00 Time:  0:00:00\n",
      "100% (11 of 11) |########################| Elapsed Time: 0:00:00 Time:  0:00:00\n",
      "Traceback (most recent call last):\n",
      "  File \"C:\\Users\\alechutchings\\AppData\\Local\\Temp\\2\\ipykernel_7584\\1228676766.py\", line 32, in <module>\n",
      "    trend_result_list = run_GAM(Est_group_all, det, GAM_output_path)\n",
      "                        ^^^^^^^^^^^^^^^^^^^^^^^^^^^^^^^^^^^^^^^^^^^^\n",
      "  File \"C:\\Users\\alechutchings\\AppData\\Local\\Temp\\2\\ipykernel_7584\\3038027423.py\", line 171, in run_GAM\n",
      "    trend_differences_year = monte_carlo_simulation_from_specific_years(early_period, later_period, samples, XX, num_iterations)\n",
      "                             ^^^^^^^^^^^^^^^^^^^^^^^^^^^^^^^^^^^^^^^^^^^^^^^^^^^^^^^^^^^^^^^^^^^^^^^^^^^^^^^^^^^^^^^^^^^^^^^^^^^\n",
      "  File \"C:\\Users\\alechutchings\\AppData\\Local\\Temp\\2\\ipykernel_7584\\3255356584.py\", line 11, in monte_carlo_simulation_from_specific_years\n",
      "    idx2 = np.random.choice(selected_late_data_indices)\n",
      "           ^^^^^^^^^^^^^^^^^^^^^^^^^^^^^^^^^^^^^^^^^^^^\n",
      "  File \"mtrand.pyx\", line 950, in numpy.random.mtrand.RandomState.choice\n",
      "ValueError: 'a' cannot be empty unless no samples are taken\n"
     ]
    },
    {
     "name": "stdout",
     "output_type": "stream",
     "text": [
      "Error processing Parrett: 'a' cannot be empty unless no samples are taken\n",
      "C:\\Users\\alechutchings\\Documents\\PythonNotebooks\\SeasonalEstuaryChanges\\Plymouth\n",
      "Folder 'C:\\Users\\alechutchings\\Documents\\PythonNotebooks\\SeasonalEstuaryChanges\\Plymouth\\MODEL_2_GAM_outputs_whole_estuary_salinity_Oxygen, Dissolved,  Saturation_2006_2022' created.\n"
     ]
    },
    {
     "name": "stderr",
     "output_type": "stream",
     "text": [
      "C:\\Users\\alechutchings\\AppData\\Local\\Temp\\2\\ipykernel_7584\\2701496734.py:5: DtypeWarning: Columns (10) have mixed types. Specify dtype option on import or set low_memory=False.\n",
      "  dfs = [pd.read_csv(csv, dtype={\"INTERPRETATION\": str, \"TEXT_RESULT\": str, \"DETCODE\": str}) for csv in csvs[:input_no]]\n",
      "100% (11 of 11) |########################| Elapsed Time: 0:00:00 Time:  0:00:00\n",
      "100% (11 of 11) |########################| Elapsed Time: 0:00:00 Time:  0:00:00\n",
      "100% (11 of 11) |########################| Elapsed Time: 0:00:00 Time:  0:00:00\n",
      "100% (11 of 11) |########################| Elapsed Time: 0:00:00 Time:  0:00:00\n",
      "100% (11 of 11) |########################| Elapsed Time: 0:00:00 Time:  0:00:00\n"
     ]
    },
    {
     "name": "stdout",
     "output_type": "stream",
     "text": [
      "Mean difference in trend: 0.136016613797248\n",
      "Standard deviation of difference in trend: 0.36525464212637176\n",
      "Plymouth completed successfully\n",
      "Run completed successfully\n",
      "Average: 0.136016613797248\n",
      "Standard Deviation: nan\n",
      "C:\\Users\\alechutchings\\Documents\\PythonNotebooks\\SeasonalEstuaryChanges\\Poole\n",
      "Folder 'C:\\Users\\alechutchings\\Documents\\PythonNotebooks\\SeasonalEstuaryChanges\\Poole\\MODEL_2_GAM_outputs_whole_estuary_salinity_Oxygen, Dissolved,  Saturation_2006_2022' created.\n"
     ]
    },
    {
     "name": "stderr",
     "output_type": "stream",
     "text": [
      "100% (11 of 11) |########################| Elapsed Time: 0:00:00 Time:  0:00:00\n",
      "100% (11 of 11) |########################| Elapsed Time: 0:00:00 Time:  0:00:00\n",
      "100% (11 of 11) |########################| Elapsed Time: 0:00:00 Time:  0:00:00\n",
      "100% (11 of 11) |########################| Elapsed Time: 0:00:00 Time:  0:00:00\n",
      "100% (11 of 11) |########################| Elapsed Time: 0:00:00 Time:  0:00:00\n"
     ]
    },
    {
     "name": "stdout",
     "output_type": "stream",
     "text": [
      "Mean difference in trend: -0.22982188172396373\n",
      "Standard deviation of difference in trend: 0.5770904088600654\n",
      "Poole completed successfully\n",
      "Run completed successfully\n",
      "Average: -0.22982188172396373\n",
      "Standard Deviation: nan\n",
      "C:\\Users\\alechutchings\\Documents\\PythonNotebooks\\SeasonalEstuaryChanges\\Portsmouth\n",
      "Folder 'C:\\Users\\alechutchings\\Documents\\PythonNotebooks\\SeasonalEstuaryChanges\\Portsmouth\\MODEL_2_GAM_outputs_whole_estuary_salinity_Oxygen, Dissolved,  Saturation_2006_2022' created.\n"
     ]
    },
    {
     "name": "stderr",
     "output_type": "stream",
     "text": [
      "100% (11 of 11) |########################| Elapsed Time: 0:00:00 Time:  0:00:00\n",
      "100% (11 of 11) |########################| Elapsed Time: 0:00:00 Time:  0:00:00\n",
      "100% (11 of 11) |########################| Elapsed Time: 0:00:00 Time:  0:00:00\n",
      "100% (11 of 11) |########################| Elapsed Time: 0:00:00 Time:  0:00:00\n",
      "100% (11 of 11) |########################| Elapsed Time: 0:00:00 Time:  0:00:00\n"
     ]
    },
    {
     "name": "stdout",
     "output_type": "stream",
     "text": [
      "Mean difference in trend: 0.007184155319730887\n",
      "Standard deviation of difference in trend: 0.05717272563159123\n",
      "Portsmouth completed successfully\n",
      "Run completed successfully\n",
      "Average: 0.007184155319730887\n",
      "Standard Deviation: nan\n",
      "C:\\Users\\alechutchings\\Documents\\PythonNotebooks\\SeasonalEstuaryChanges\\Ribble\n",
      "Folder 'C:\\Users\\alechutchings\\Documents\\PythonNotebooks\\SeasonalEstuaryChanges\\Ribble\\MODEL_2_GAM_outputs_whole_estuary_salinity_Oxygen, Dissolved,  Saturation_2006_2022' created.\n"
     ]
    },
    {
     "name": "stderr",
     "output_type": "stream",
     "text": [
      "100% (11 of 11) |########################| Elapsed Time: 0:00:00 Time:  0:00:00\n",
      "100% (11 of 11) |########################| Elapsed Time: 0:00:00 Time:  0:00:00\n",
      "100% (11 of 11) |########################| Elapsed Time: 0:00:00 Time:  0:00:00\n",
      "100% (11 of 11) |########################| Elapsed Time: 0:00:00 Time:  0:00:00\n",
      "100% (11 of 11) |########################| Elapsed Time: 0:00:00 Time:  0:00:00\n"
     ]
    },
    {
     "name": "stdout",
     "output_type": "stream",
     "text": [
      "Mean difference in trend: 0.15399290403822333\n",
      "Standard deviation of difference in trend: 0.4938891090488528\n",
      "Ribble completed successfully\n",
      "Run completed successfully\n",
      "Average: 0.15399290403822333\n",
      "Standard Deviation: nan\n",
      "C:\\Users\\alechutchings\\Documents\\PythonNotebooks\\SeasonalEstuaryChanges\\Rother\n",
      "Folder 'C:\\Users\\alechutchings\\Documents\\PythonNotebooks\\SeasonalEstuaryChanges\\Rother\\MODEL_2_GAM_outputs_whole_estuary_salinity_Oxygen, Dissolved,  Saturation_2006_2022' created.\n"
     ]
    },
    {
     "name": "stderr",
     "output_type": "stream",
     "text": [
      "100% (11 of 11) |########################| Elapsed Time: 0:00:00 Time:  0:00:00\n",
      "100% (11 of 11) |########################| Elapsed Time: 0:00:00 Time:  0:00:00\n",
      "100% (11 of 11) |########################| Elapsed Time: 0:00:00 Time:  0:00:00\n",
      "100% (11 of 11) |########################| Elapsed Time: 0:00:00 Time:  0:00:00\n",
      "100% (11 of 11) |########################| Elapsed Time: 0:00:00 Time:  0:00:00\n",
      "Traceback (most recent call last):\n",
      "  File \"C:\\Users\\alechutchings\\AppData\\Local\\Temp\\2\\ipykernel_7584\\1228676766.py\", line 32, in <module>\n",
      "    trend_result_list = run_GAM(Est_group_all, det, GAM_output_path)\n",
      "                        ^^^^^^^^^^^^^^^^^^^^^^^^^^^^^^^^^^^^^^^^^^^^\n",
      "  File \"C:\\Users\\alechutchings\\AppData\\Local\\Temp\\2\\ipykernel_7584\\3038027423.py\", line 171, in run_GAM\n",
      "    trend_differences_year = monte_carlo_simulation_from_specific_years(early_period, later_period, samples, XX, num_iterations)\n",
      "                             ^^^^^^^^^^^^^^^^^^^^^^^^^^^^^^^^^^^^^^^^^^^^^^^^^^^^^^^^^^^^^^^^^^^^^^^^^^^^^^^^^^^^^^^^^^^^^^^^^^^\n",
      "  File \"C:\\Users\\alechutchings\\AppData\\Local\\Temp\\2\\ipykernel_7584\\3255356584.py\", line 11, in monte_carlo_simulation_from_specific_years\n",
      "    idx2 = np.random.choice(selected_late_data_indices)\n",
      "           ^^^^^^^^^^^^^^^^^^^^^^^^^^^^^^^^^^^^^^^^^^^^\n",
      "  File \"mtrand.pyx\", line 950, in numpy.random.mtrand.RandomState.choice\n",
      "ValueError: 'a' cannot be empty unless no samples are taken\n"
     ]
    },
    {
     "name": "stdout",
     "output_type": "stream",
     "text": [
      "Error processing Rother: 'a' cannot be empty unless no samples are taken\n",
      "C:\\Users\\alechutchings\\Documents\\PythonNotebooks\\SeasonalEstuaryChanges\\Severn\n",
      "Folder 'C:\\Users\\alechutchings\\Documents\\PythonNotebooks\\SeasonalEstuaryChanges\\Severn\\MODEL_2_GAM_outputs_whole_estuary_salinity_Oxygen, Dissolved,  Saturation_2006_2022' created.\n"
     ]
    },
    {
     "name": "stderr",
     "output_type": "stream",
     "text": [
      "100% (11 of 11) |########################| Elapsed Time: 0:00:00 Time:  0:00:00\n",
      "100% (11 of 11) |########################| Elapsed Time: 0:00:00 Time:  0:00:00\n",
      "100% (11 of 11) |########################| Elapsed Time: 0:00:00 Time:  0:00:00\n",
      "100% (11 of 11) |########################| Elapsed Time: 0:00:00 Time:  0:00:00\n",
      "100% (11 of 11) |########################| Elapsed Time: 0:00:00 Time:  0:00:00\n"
     ]
    },
    {
     "name": "stdout",
     "output_type": "stream",
     "text": [
      "Mean difference in trend: -0.25122006712450373\n",
      "Standard deviation of difference in trend: 0.5828081453856813\n",
      "Severn completed successfully\n",
      "Run completed successfully\n",
      "Average: -0.25122006712450373\n",
      "Standard Deviation: nan\n",
      "C:\\Users\\alechutchings\\Documents\\PythonNotebooks\\SeasonalEstuaryChanges\\Solway\n",
      "Folder 'C:\\Users\\alechutchings\\Documents\\PythonNotebooks\\SeasonalEstuaryChanges\\Solway\\MODEL_2_GAM_outputs_whole_estuary_salinity_Oxygen, Dissolved,  Saturation_2006_2022' created.\n"
     ]
    },
    {
     "name": "stderr",
     "output_type": "stream",
     "text": [
      "100% (11 of 11) |########################| Elapsed Time: 0:00:00 Time:  0:00:00\n",
      "100% (11 of 11) |########################| Elapsed Time: 0:00:00 Time:  0:00:00\n",
      "100% (11 of 11) |########################| Elapsed Time: 0:00:00 Time:  0:00:00\n",
      "100% (11 of 11) |########################| Elapsed Time: 0:00:00 Time:  0:00:00\n",
      "100% (11 of 11) |########################| Elapsed Time: 0:00:00 Time:  0:00:00\n"
     ]
    },
    {
     "name": "stdout",
     "output_type": "stream",
     "text": [
      "Mean difference in trend: -0.4114252877098783\n",
      "Standard deviation of difference in trend: 0.35443086932910206\n",
      "Solway completed successfully\n",
      "Run completed successfully\n",
      "Average: -0.4114252877098783\n",
      "Standard Deviation: nan\n",
      "C:\\Users\\alechutchings\\Documents\\PythonNotebooks\\SeasonalEstuaryChanges\\Southampton\n",
      "Folder 'C:\\Users\\alechutchings\\Documents\\PythonNotebooks\\SeasonalEstuaryChanges\\Southampton\\MODEL_2_GAM_outputs_whole_estuary_salinity_Oxygen, Dissolved,  Saturation_2006_2022' created.\n"
     ]
    },
    {
     "name": "stderr",
     "output_type": "stream",
     "text": [
      "100% (11 of 11) |########################| Elapsed Time: 0:00:00 Time:  0:00:00\n",
      "100% (11 of 11) |########################| Elapsed Time: 0:00:00 Time:  0:00:00\n",
      "100% (11 of 11) |########################| Elapsed Time: 0:00:00 Time:  0:00:00\n",
      "100% (11 of 11) |########################| Elapsed Time: 0:00:00 Time:  0:00:00\n",
      "100% (11 of 11) |########################| Elapsed Time: 0:00:00 Time:  0:00:00\n",
      " 27% (3 of 11) |######                   | Elapsed Time: 0:00:00 ETA:  00:00:00"
     ]
    },
    {
     "name": "stdout",
     "output_type": "stream",
     "text": [
      "Mean difference in trend: 0.15209534908007705\n",
      "Standard deviation of difference in trend: 0.23450552683659098\n",
      "Southampton completed successfully\n",
      "Run completed successfully\n",
      "Average: 0.15209534908007705\n",
      "Standard Deviation: nan\n",
      "C:\\Users\\alechutchings\\Documents\\PythonNotebooks\\SeasonalEstuaryChanges\\Stiffkey\n",
      "Folder 'C:\\Users\\alechutchings\\Documents\\PythonNotebooks\\SeasonalEstuaryChanges\\Stiffkey\\MODEL_2_GAM_outputs_whole_estuary_salinity_Oxygen, Dissolved,  Saturation_2006_2022' created.\n"
     ]
    },
    {
     "name": "stderr",
     "output_type": "stream",
     "text": [
      "100% (11 of 11) |########################| Elapsed Time: 0:00:00 Time:  0:00:00\n",
      "100% (11 of 11) |########################| Elapsed Time: 0:00:00 Time:  0:00:00\n",
      "100% (11 of 11) |########################| Elapsed Time: 0:00:00 Time:  0:00:00\n",
      "100% (11 of 11) |########################| Elapsed Time: 0:00:00 Time:  0:00:00\n",
      "100% (11 of 11) |########################| Elapsed Time: 0:00:00 Time:  0:00:00\n",
      "Traceback (most recent call last):\n",
      "  File \"C:\\Users\\alechutchings\\AppData\\Local\\Temp\\2\\ipykernel_7584\\1228676766.py\", line 32, in <module>\n",
      "    trend_result_list = run_GAM(Est_group_all, det, GAM_output_path)\n",
      "                        ^^^^^^^^^^^^^^^^^^^^^^^^^^^^^^^^^^^^^^^^^^^^\n",
      "  File \"C:\\Users\\alechutchings\\AppData\\Local\\Temp\\2\\ipykernel_7584\\3038027423.py\", line 171, in run_GAM\n",
      "    trend_differences_year = monte_carlo_simulation_from_specific_years(early_period, later_period, samples, XX, num_iterations)\n",
      "                             ^^^^^^^^^^^^^^^^^^^^^^^^^^^^^^^^^^^^^^^^^^^^^^^^^^^^^^^^^^^^^^^^^^^^^^^^^^^^^^^^^^^^^^^^^^^^^^^^^^^\n",
      "  File \"C:\\Users\\alechutchings\\AppData\\Local\\Temp\\2\\ipykernel_7584\\3255356584.py\", line 11, in monte_carlo_simulation_from_specific_years\n",
      "    idx2 = np.random.choice(selected_late_data_indices)\n",
      "           ^^^^^^^^^^^^^^^^^^^^^^^^^^^^^^^^^^^^^^^^^^^^\n",
      "  File \"mtrand.pyx\", line 950, in numpy.random.mtrand.RandomState.choice\n",
      "ValueError: 'a' cannot be empty unless no samples are taken\n",
      "  0% (0 of 11) |                         | Elapsed Time: 0:00:00 ETA:  --:--:--"
     ]
    },
    {
     "name": "stdout",
     "output_type": "stream",
     "text": [
      "Error processing Stiffkey: 'a' cannot be empty unless no samples are taken\n",
      "C:\\Users\\alechutchings\\Documents\\PythonNotebooks\\SeasonalEstuaryChanges\\Stour_essex\n",
      "Folder 'C:\\Users\\alechutchings\\Documents\\PythonNotebooks\\SeasonalEstuaryChanges\\Stour_essex\\MODEL_2_GAM_outputs_whole_estuary_salinity_Oxygen, Dissolved,  Saturation_2006_2022' created.\n"
     ]
    },
    {
     "name": "stderr",
     "output_type": "stream",
     "text": [
      "100% (11 of 11) |########################| Elapsed Time: 0:00:00 Time:  0:00:00\n",
      "100% (11 of 11) |########################| Elapsed Time: 0:00:00 Time:  0:00:00\n",
      "100% (11 of 11) |########################| Elapsed Time: 0:00:00 Time:  0:00:00\n",
      "100% (11 of 11) |########################| Elapsed Time: 0:00:00 Time:  0:00:00\n",
      "100% (11 of 11) |########################| Elapsed Time: 0:00:00 Time:  0:00:00\n"
     ]
    },
    {
     "name": "stdout",
     "output_type": "stream",
     "text": [
      "Mean difference in trend: -0.3249196026868993\n",
      "Standard deviation of difference in trend: 0.5175766532505344\n",
      "Stour_essex completed successfully\n",
      "Run completed successfully\n",
      "Average: -0.3249196026868993\n",
      "Standard Deviation: nan\n",
      "C:\\Users\\alechutchings\\Documents\\PythonNotebooks\\SeasonalEstuaryChanges\\Stour_kent\n",
      "Folder 'C:\\Users\\alechutchings\\Documents\\PythonNotebooks\\SeasonalEstuaryChanges\\Stour_kent\\MODEL_2_GAM_outputs_whole_estuary_salinity_Oxygen, Dissolved,  Saturation_2006_2022' created.\n"
     ]
    },
    {
     "name": "stderr",
     "output_type": "stream",
     "text": [
      "100% (11 of 11) |########################| Elapsed Time: 0:00:00 Time:  0:00:00\n",
      "100% (11 of 11) |########################| Elapsed Time: 0:00:00 Time:  0:00:00\n",
      "100% (11 of 11) |########################| Elapsed Time: 0:00:00 Time:  0:00:00\n",
      "100% (11 of 11) |########################| Elapsed Time: 0:00:00 Time:  0:00:00\n",
      "100% (11 of 11) |########################| Elapsed Time: 0:00:00 Time:  0:00:00\n"
     ]
    },
    {
     "name": "stdout",
     "output_type": "stream",
     "text": [
      "Mean difference in trend: 0.31389123176937056\n",
      "Standard deviation of difference in trend: 0.3962940358306407\n",
      "Stour_kent completed successfully\n",
      "Run completed successfully\n",
      "Average: 0.31389123176937056\n",
      "Standard Deviation: nan\n",
      "C:\\Users\\alechutchings\\Documents\\PythonNotebooks\\SeasonalEstuaryChanges\\Swale\n",
      "Folder 'C:\\Users\\alechutchings\\Documents\\PythonNotebooks\\SeasonalEstuaryChanges\\Swale\\MODEL_2_GAM_outputs_whole_estuary_salinity_Oxygen, Dissolved,  Saturation_2006_2022' created.\n"
     ]
    },
    {
     "name": "stderr",
     "output_type": "stream",
     "text": [
      "100% (11 of 11) |########################| Elapsed Time: 0:00:01 Time:  0:00:01\n",
      "100% (11 of 11) |########################| Elapsed Time: 0:00:01 Time:  0:00:01\n",
      "100% (11 of 11) |########################| Elapsed Time: 0:00:01 Time:  0:00:01\n",
      "100% (11 of 11) |########################| Elapsed Time: 0:00:01 Time:  0:00:01\n",
      "100% (11 of 11) |########################| Elapsed Time: 0:00:01 Time:  0:00:01\n"
     ]
    },
    {
     "name": "stdout",
     "output_type": "stream",
     "text": [
      "Mean difference in trend: -0.10046444299765518\n",
      "Standard deviation of difference in trend: 0.32708972538446646\n",
      "Swale completed successfully\n",
      "Run completed successfully\n",
      "Average: -0.10046444299765518\n",
      "Standard Deviation: nan\n",
      "C:\\Users\\alechutchings\\Documents\\PythonNotebooks\\SeasonalEstuaryChanges\\Taw_Torridge\n",
      "Folder 'C:\\Users\\alechutchings\\Documents\\PythonNotebooks\\SeasonalEstuaryChanges\\Taw_Torridge\\MODEL_2_GAM_outputs_whole_estuary_salinity_Oxygen, Dissolved,  Saturation_2006_2022' created.\n"
     ]
    },
    {
     "name": "stderr",
     "output_type": "stream",
     "text": [
      "C:\\Users\\alechutchings\\AppData\\Local\\Temp\\2\\ipykernel_7584\\2701496734.py:5: DtypeWarning: Columns (10) have mixed types. Specify dtype option on import or set low_memory=False.\n",
      "  dfs = [pd.read_csv(csv, dtype={\"INTERPRETATION\": str, \"TEXT_RESULT\": str, \"DETCODE\": str}) for csv in csvs[:input_no]]\n",
      "100% (11 of 11) |########################| Elapsed Time: 0:00:00 Time:  0:00:00\n",
      "100% (11 of 11) |########################| Elapsed Time: 0:00:00 Time:  0:00:00\n",
      "100% (11 of 11) |########################| Elapsed Time: 0:00:00 Time:  0:00:00\n",
      "100% (11 of 11) |########################| Elapsed Time: 0:00:00 Time:  0:00:00\n",
      "100% (11 of 11) |########################| Elapsed Time: 0:00:00 Time:  0:00:00\n"
     ]
    },
    {
     "name": "stdout",
     "output_type": "stream",
     "text": [
      "Mean difference in trend: 0.0690020230348332\n",
      "Standard deviation of difference in trend: 0.43075042952852693\n",
      "Taw_Torridge completed successfully\n",
      "Run completed successfully\n",
      "Average: 0.0690020230348332\n",
      "Standard Deviation: nan\n",
      "C:\\Users\\alechutchings\\Documents\\PythonNotebooks\\SeasonalEstuaryChanges\\Tees\n",
      "Folder 'C:\\Users\\alechutchings\\Documents\\PythonNotebooks\\SeasonalEstuaryChanges\\Tees\\MODEL_2_GAM_outputs_whole_estuary_salinity_Oxygen, Dissolved,  Saturation_2006_2022' created.\n"
     ]
    },
    {
     "name": "stderr",
     "output_type": "stream",
     "text": [
      "100% (11 of 11) |########################| Elapsed Time: 0:00:00 Time:  0:00:00\n",
      "100% (11 of 11) |########################| Elapsed Time: 0:00:00 Time:  0:00:00\n",
      "100% (11 of 11) |########################| Elapsed Time: 0:00:00 Time:  0:00:00\n",
      "100% (11 of 11) |########################| Elapsed Time: 0:00:00 Time:  0:00:00\n",
      "100% (11 of 11) |########################| Elapsed Time: 0:00:00 Time:  0:00:00\n",
      "  0% (0 of 11) |                         | Elapsed Time: 0:00:00 ETA:  --:--:--"
     ]
    },
    {
     "name": "stdout",
     "output_type": "stream",
     "text": [
      "Mean difference in trend: 0.3774137871108338\n",
      "Standard deviation of difference in trend: 0.38643491748989517\n",
      "Tees completed successfully\n",
      "Run completed successfully\n",
      "Average: 0.3774137871108338\n",
      "Standard Deviation: nan\n",
      "C:\\Users\\alechutchings\\Documents\\PythonNotebooks\\SeasonalEstuaryChanges\\Teign\n",
      "Folder 'C:\\Users\\alechutchings\\Documents\\PythonNotebooks\\SeasonalEstuaryChanges\\Teign\\MODEL_2_GAM_outputs_whole_estuary_salinity_Oxygen, Dissolved,  Saturation_2006_2022' created.\n"
     ]
    },
    {
     "name": "stderr",
     "output_type": "stream",
     "text": [
      "100% (11 of 11) |########################| Elapsed Time: 0:00:00 Time:  0:00:00\n",
      "100% (11 of 11) |########################| Elapsed Time: 0:00:00 Time:  0:00:00\n",
      "100% (11 of 11) |########################| Elapsed Time: 0:00:00 Time:  0:00:00\n",
      "100% (11 of 11) |########################| Elapsed Time: 0:00:00 Time:  0:00:00\n",
      "100% (11 of 11) |########################| Elapsed Time: 0:00:00 Time:  0:00:00\n"
     ]
    },
    {
     "name": "stdout",
     "output_type": "stream",
     "text": [
      "Mean difference in trend: 0.05987740839115605\n",
      "Standard deviation of difference in trend: 0.05407753640651488\n",
      "Teign completed successfully\n",
      "Run completed successfully\n",
      "Average: 0.05987740839115605\n",
      "Standard Deviation: nan\n",
      "C:\\Users\\alechutchings\\Documents\\PythonNotebooks\\SeasonalEstuaryChanges\\Thames\n",
      "Folder 'C:\\Users\\alechutchings\\Documents\\PythonNotebooks\\SeasonalEstuaryChanges\\Thames\\MODEL_2_GAM_outputs_whole_estuary_salinity_Oxygen, Dissolved,  Saturation_2006_2022' created.\n"
     ]
    },
    {
     "name": "stderr",
     "output_type": "stream",
     "text": [
      "100% (11 of 11) |########################| Elapsed Time: 0:00:05 Time:  0:00:05\n",
      "100% (11 of 11) |########################| Elapsed Time: 0:00:06 Time:  0:00:06\n",
      "100% (11 of 11) |########################| Elapsed Time: 0:00:05 Time:  0:00:05\n",
      "100% (11 of 11) |########################| Elapsed Time: 0:00:06 Time:  0:00:06\n",
      "100% (11 of 11) |########################| Elapsed Time: 0:00:06 Time:  0:00:06\n"
     ]
    },
    {
     "name": "stdout",
     "output_type": "stream",
     "text": [
      "Mean difference in trend: 0.3309897535007268\n",
      "Standard deviation of difference in trend: 0.20093109905698928\n",
      "Thames completed successfully\n",
      "Run completed successfully\n",
      "Average: 0.3309897535007268\n",
      "Standard Deviation: nan\n",
      "C:\\Users\\alechutchings\\Documents\\PythonNotebooks\\SeasonalEstuaryChanges\\Tweed\n",
      "Folder 'C:\\Users\\alechutchings\\Documents\\PythonNotebooks\\SeasonalEstuaryChanges\\Tweed\\MODEL_2_GAM_outputs_whole_estuary_salinity_Oxygen, Dissolved,  Saturation_2006_2022' created.\n"
     ]
    },
    {
     "name": "stderr",
     "output_type": "stream",
     "text": [
      "100% (11 of 11) |########################| Elapsed Time: 0:00:00 Time:  0:00:00\n",
      "100% (11 of 11) |########################| Elapsed Time: 0:00:00 Time:  0:00:00\n",
      "100% (11 of 11) |########################| Elapsed Time: 0:00:00 Time:  0:00:00\n",
      "100% (11 of 11) |########################| Elapsed Time: 0:00:00 Time:  0:00:00\n",
      "100% (11 of 11) |########################| Elapsed Time: 0:00:00 Time:  0:00:00\n"
     ]
    },
    {
     "name": "stdout",
     "output_type": "stream",
     "text": [
      "Mean difference in trend: 0.22263630796228795\n",
      "Standard deviation of difference in trend: 0.11188861389739274\n",
      "Tweed completed successfully\n",
      "Run completed successfully\n",
      "Average: 0.22263630796228795\n",
      "Standard Deviation: nan\n",
      "C:\\Users\\alechutchings\\Documents\\PythonNotebooks\\SeasonalEstuaryChanges\\Tyne\n",
      "Folder 'C:\\Users\\alechutchings\\Documents\\PythonNotebooks\\SeasonalEstuaryChanges\\Tyne\\MODEL_2_GAM_outputs_whole_estuary_salinity_Oxygen, Dissolved,  Saturation_2006_2022' created.\n"
     ]
    },
    {
     "name": "stderr",
     "output_type": "stream",
     "text": [
      "100% (11 of 11) |########################| Elapsed Time: 0:00:00 Time:  0:00:00\n",
      "100% (11 of 11) |########################| Elapsed Time: 0:00:00 Time:  0:00:00\n",
      "100% (11 of 11) |########################| Elapsed Time: 0:00:00 Time:  0:00:00\n",
      "100% (11 of 11) |########################| Elapsed Time: 0:00:00 Time:  0:00:00\n",
      "100% (11 of 11) |########################| Elapsed Time: 0:00:00 Time:  0:00:00\n",
      " 27% (3 of 11) |######                   | Elapsed Time: 0:00:00 ETA:  00:00:00"
     ]
    },
    {
     "name": "stdout",
     "output_type": "stream",
     "text": [
      "Mean difference in trend: 0.04417854581495761\n",
      "Standard deviation of difference in trend: 0.3246409930685447\n",
      "Tyne completed successfully\n",
      "Run completed successfully\n",
      "Average: 0.04417854581495761\n",
      "Standard Deviation: nan\n",
      "C:\\Users\\alechutchings\\Documents\\PythonNotebooks\\SeasonalEstuaryChanges\\Wansbeck\n",
      "Folder 'C:\\Users\\alechutchings\\Documents\\PythonNotebooks\\SeasonalEstuaryChanges\\Wansbeck\\MODEL_2_GAM_outputs_whole_estuary_salinity_Oxygen, Dissolved,  Saturation_2006_2022' created.\n"
     ]
    },
    {
     "name": "stderr",
     "output_type": "stream",
     "text": [
      "100% (11 of 11) |########################| Elapsed Time: 0:00:00 Time:  0:00:00\n",
      "100% (11 of 11) |########################| Elapsed Time: 0:00:00 Time:  0:00:00\n",
      "100% (11 of 11) |########################| Elapsed Time: 0:00:00 Time:  0:00:00\n",
      "100% (11 of 11) |########################| Elapsed Time: 0:00:00 Time:  0:00:00\n",
      "100% (11 of 11) |########################| Elapsed Time: 0:00:00 Time:  0:00:00\n",
      " 27% (3 of 11) |######                   | Elapsed Time: 0:00:00 ETA:  00:00:00"
     ]
    },
    {
     "name": "stdout",
     "output_type": "stream",
     "text": [
      "Mean difference in trend: 0.3224829255346313\n",
      "Standard deviation of difference in trend: 0.1492781656490397\n",
      "Wansbeck completed successfully\n",
      "Run completed successfully\n",
      "Average: 0.3224829255346313\n",
      "Standard Deviation: nan\n",
      "C:\\Users\\alechutchings\\Documents\\PythonNotebooks\\SeasonalEstuaryChanges\\Wash_inner\n",
      "Folder 'C:\\Users\\alechutchings\\Documents\\PythonNotebooks\\SeasonalEstuaryChanges\\Wash_inner\\MODEL_2_GAM_outputs_whole_estuary_salinity_Oxygen, Dissolved,  Saturation_2006_2022' created.\n"
     ]
    },
    {
     "name": "stderr",
     "output_type": "stream",
     "text": [
      "100% (11 of 11) |########################| Elapsed Time: 0:00:00 Time:  0:00:00\n",
      "100% (11 of 11) |########################| Elapsed Time: 0:00:00 Time:  0:00:00\n",
      "100% (11 of 11) |########################| Elapsed Time: 0:00:00 Time:  0:00:00\n",
      "100% (11 of 11) |########################| Elapsed Time: 0:00:00 Time:  0:00:00\n",
      "100% (11 of 11) |########################| Elapsed Time: 0:00:00 Time:  0:00:00\n",
      " 18% (2 of 11) |####                     | Elapsed Time: 0:00:00 ETA:  00:00:00"
     ]
    },
    {
     "name": "stdout",
     "output_type": "stream",
     "text": [
      "Mean difference in trend: 0.055898045254975146\n",
      "Standard deviation of difference in trend: 0.09289123723154581\n",
      "Wash_inner completed successfully\n",
      "Run completed successfully\n",
      "Average: 0.055898045254975146\n",
      "Standard Deviation: nan\n",
      "C:\\Users\\alechutchings\\Documents\\PythonNotebooks\\SeasonalEstuaryChanges\\Wear\n",
      "Folder 'C:\\Users\\alechutchings\\Documents\\PythonNotebooks\\SeasonalEstuaryChanges\\Wear\\MODEL_2_GAM_outputs_whole_estuary_salinity_Oxygen, Dissolved,  Saturation_2006_2022' created.\n"
     ]
    },
    {
     "name": "stderr",
     "output_type": "stream",
     "text": [
      "100% (11 of 11) |########################| Elapsed Time: 0:00:00 Time:  0:00:00\n",
      "100% (11 of 11) |########################| Elapsed Time: 0:00:00 Time:  0:00:00\n",
      "100% (11 of 11) |########################| Elapsed Time: 0:00:00 Time:  0:00:00\n",
      "100% (11 of 11) |########################| Elapsed Time: 0:00:00 Time:  0:00:00\n",
      "100% (11 of 11) |########################| Elapsed Time: 0:00:00 Time:  0:00:00\n",
      "Traceback (most recent call last):\n",
      "  File \"C:\\Users\\alechutchings\\AppData\\Local\\Temp\\2\\ipykernel_7584\\1228676766.py\", line 32, in <module>\n",
      "    trend_result_list = run_GAM(Est_group_all, det, GAM_output_path)\n",
      "                        ^^^^^^^^^^^^^^^^^^^^^^^^^^^^^^^^^^^^^^^^^^^^\n",
      "  File \"C:\\Users\\alechutchings\\AppData\\Local\\Temp\\2\\ipykernel_7584\\3038027423.py\", line 171, in run_GAM\n",
      "    trend_differences_year = monte_carlo_simulation_from_specific_years(early_period, later_period, samples, XX, num_iterations)\n",
      "                             ^^^^^^^^^^^^^^^^^^^^^^^^^^^^^^^^^^^^^^^^^^^^^^^^^^^^^^^^^^^^^^^^^^^^^^^^^^^^^^^^^^^^^^^^^^^^^^^^^^^\n",
      "  File \"C:\\Users\\alechutchings\\AppData\\Local\\Temp\\2\\ipykernel_7584\\3255356584.py\", line 11, in monte_carlo_simulation_from_specific_years\n",
      "    idx2 = np.random.choice(selected_late_data_indices)\n",
      "           ^^^^^^^^^^^^^^^^^^^^^^^^^^^^^^^^^^^^^^^^^^^^\n",
      "  File \"mtrand.pyx\", line 950, in numpy.random.mtrand.RandomState.choice\n",
      "ValueError: 'a' cannot be empty unless no samples are taken\n",
      " 54% (6 of 11) |#############            | Elapsed Time: 0:00:00 ETA:   0:00:00"
     ]
    },
    {
     "name": "stdout",
     "output_type": "stream",
     "text": [
      "Error processing Wear: 'a' cannot be empty unless no samples are taken\n",
      "C:\\Users\\alechutchings\\Documents\\PythonNotebooks\\SeasonalEstuaryChanges\\Welland\n",
      "Folder 'C:\\Users\\alechutchings\\Documents\\PythonNotebooks\\SeasonalEstuaryChanges\\Welland\\MODEL_2_GAM_outputs_whole_estuary_salinity_Oxygen, Dissolved,  Saturation_2006_2022' created.\n"
     ]
    },
    {
     "name": "stderr",
     "output_type": "stream",
     "text": [
      "100% (11 of 11) |########################| Elapsed Time: 0:00:00 Time:  0:00:00\n",
      "100% (11 of 11) |########################| Elapsed Time: 0:00:00 Time:  0:00:00\n",
      "100% (11 of 11) |########################| Elapsed Time: 0:00:00 Time:  0:00:00\n",
      "100% (11 of 11) |########################| Elapsed Time: 0:00:00 Time:  0:00:00\n",
      "100% (11 of 11) |########################| Elapsed Time: 0:00:00 Time:  0:00:00\n",
      "Traceback (most recent call last):\n",
      "  File \"C:\\Users\\alechutchings\\AppData\\Local\\Temp\\2\\ipykernel_7584\\1228676766.py\", line 32, in <module>\n",
      "    trend_result_list = run_GAM(Est_group_all, det, GAM_output_path)\n",
      "                        ^^^^^^^^^^^^^^^^^^^^^^^^^^^^^^^^^^^^^^^^^^^^\n",
      "  File \"C:\\Users\\alechutchings\\AppData\\Local\\Temp\\2\\ipykernel_7584\\3038027423.py\", line 171, in run_GAM\n",
      "    trend_differences_year = monte_carlo_simulation_from_specific_years(early_period, later_period, samples, XX, num_iterations)\n",
      "                             ^^^^^^^^^^^^^^^^^^^^^^^^^^^^^^^^^^^^^^^^^^^^^^^^^^^^^^^^^^^^^^^^^^^^^^^^^^^^^^^^^^^^^^^^^^^^^^^^^^^\n",
      "  File \"C:\\Users\\alechutchings\\AppData\\Local\\Temp\\2\\ipykernel_7584\\3255356584.py\", line 10, in monte_carlo_simulation_from_specific_years\n",
      "    idx1 = np.random.choice(selected_early_data_indices)\n",
      "           ^^^^^^^^^^^^^^^^^^^^^^^^^^^^^^^^^^^^^^^^^^^^^\n",
      "  File \"mtrand.pyx\", line 950, in numpy.random.mtrand.RandomState.choice\n",
      "ValueError: 'a' cannot be empty unless no samples are taken\n",
      " 36% (4 of 11) |#########                | Elapsed Time: 0:00:00 ETA:   0:00:00"
     ]
    },
    {
     "name": "stdout",
     "output_type": "stream",
     "text": [
      "Error processing Welland: 'a' cannot be empty unless no samples are taken\n",
      "C:\\Users\\alechutchings\\Documents\\PythonNotebooks\\SeasonalEstuaryChanges\\Western_yar\n",
      "Folder 'C:\\Users\\alechutchings\\Documents\\PythonNotebooks\\SeasonalEstuaryChanges\\Western_yar\\MODEL_2_GAM_outputs_whole_estuary_salinity_Oxygen, Dissolved,  Saturation_2006_2022' created.\n"
     ]
    },
    {
     "name": "stderr",
     "output_type": "stream",
     "text": [
      "100% (11 of 11) |########################| Elapsed Time: 0:00:01 Time:  0:00:01\n",
      "100% (11 of 11) |########################| Elapsed Time: 0:00:00 Time:  0:00:00\n",
      "100% (11 of 11) |########################| Elapsed Time: 0:00:00 Time:  0:00:00\n",
      "100% (11 of 11) |########################| Elapsed Time: 0:00:00 Time:  0:00:00\n",
      "100% (11 of 11) |########################| Elapsed Time: 0:00:00 Time:  0:00:00\n",
      "Traceback (most recent call last):\n",
      "  File \"C:\\Users\\alechutchings\\AppData\\Local\\anaconda3\\envs\\geo_env\\Lib\\site-packages\\pandas\\core\\indexes\\base.py\", line 3653, in get_loc\n",
      "    return self._engine.get_loc(casted_key)\n",
      "           ^^^^^^^^^^^^^^^^^^^^^^^^^^^^^^^^\n",
      "  File \"pandas\\_libs\\index.pyx\", line 147, in pandas._libs.index.IndexEngine.get_loc\n",
      "  File \"pandas\\_libs\\index.pyx\", line 176, in pandas._libs.index.IndexEngine.get_loc\n",
      "  File \"pandas\\_libs\\hashtable_class_helper.pxi\", line 7080, in pandas._libs.hashtable.PyObjectHashTable.get_item\n",
      "  File \"pandas\\_libs\\hashtable_class_helper.pxi\", line 7088, in pandas._libs.hashtable.PyObjectHashTable.get_item\n",
      "KeyError: 'Oxygen, Dissolved,  Saturation'\n",
      "\n",
      "The above exception was the direct cause of the following exception:\n",
      "\n",
      "Traceback (most recent call last):\n",
      "  File \"C:\\Users\\alechutchings\\AppData\\Local\\Temp\\2\\ipykernel_7584\\1228676766.py\", line 32, in <module>\n",
      "    trend_result_list = run_GAM(Est_group_all, det, GAM_output_path)\n",
      "                        ^^^^^^^^^^^^^^^^^^^^^^^^^^^^^^^^^^^^^^^^^^^^\n",
      "  File \"C:\\Users\\alechutchings\\AppData\\Local\\Temp\\2\\ipykernel_7584\\3038027423.py\", line 30, in run_GAM\n",
      "    Y = Est_all[det].values\n",
      "        ~~~~~~~^^^^^\n",
      "  File \"C:\\Users\\alechutchings\\AppData\\Local\\anaconda3\\envs\\geo_env\\Lib\\site-packages\\pandas\\core\\frame.py\", line 3761, in __getitem__\n",
      "    indexer = self.columns.get_loc(key)\n",
      "              ^^^^^^^^^^^^^^^^^^^^^^^^^\n",
      "  File \"C:\\Users\\alechutchings\\AppData\\Local\\anaconda3\\envs\\geo_env\\Lib\\site-packages\\pandas\\core\\indexes\\base.py\", line 3655, in get_loc\n",
      "    raise KeyError(key) from err\n",
      "KeyError: 'Oxygen, Dissolved,  Saturation'\n",
      " 27% (3 of 11) |######                   | Elapsed Time: 0:00:00 ETA:  00:00:00"
     ]
    },
    {
     "name": "stdout",
     "output_type": "stream",
     "text": [
      "Mean difference in trend: 0.5954212044233494\n",
      "Standard deviation of difference in trend: 0.6927379732805949\n",
      "Western_yar completed successfully\n",
      "Run completed successfully\n",
      "Average: 0.5954212044233494\n",
      "Standard Deviation: nan\n",
      "C:\\Users\\alechutchings\\Documents\\PythonNotebooks\\SeasonalEstuaryChanges\\Wey\n",
      "Folder 'C:\\Users\\alechutchings\\Documents\\PythonNotebooks\\SeasonalEstuaryChanges\\Wey\\MODEL_2_GAM_outputs_whole_estuary_salinity_Oxygen, Dissolved,  Saturation_2006_2022' created.\n",
      "Error processing Wey: 'Oxygen, Dissolved,  Saturation'\n",
      "C:\\Users\\alechutchings\\Documents\\PythonNotebooks\\SeasonalEstuaryChanges\\Witham\n",
      "Folder 'C:\\Users\\alechutchings\\Documents\\PythonNotebooks\\SeasonalEstuaryChanges\\Witham\\MODEL_2_GAM_outputs_whole_estuary_salinity_Oxygen, Dissolved,  Saturation_2006_2022' created.\n"
     ]
    },
    {
     "name": "stderr",
     "output_type": "stream",
     "text": [
      "100% (11 of 11) |########################| Elapsed Time: 0:00:00 Time:  0:00:00\n",
      "100% (11 of 11) |########################| Elapsed Time: 0:00:00 Time:  0:00:00\n",
      "100% (11 of 11) |########################| Elapsed Time: 0:00:00 Time:  0:00:00\n",
      "100% (11 of 11) |########################| Elapsed Time: 0:00:00 Time:  0:00:00\n",
      "100% (11 of 11) |########################| Elapsed Time: 0:00:00 Time:  0:00:00\n",
      "Traceback (most recent call last):\n",
      "  File \"C:\\Users\\alechutchings\\AppData\\Local\\Temp\\2\\ipykernel_7584\\1228676766.py\", line 32, in <module>\n",
      "    trend_result_list = run_GAM(Est_group_all, det, GAM_output_path)\n",
      "                        ^^^^^^^^^^^^^^^^^^^^^^^^^^^^^^^^^^^^^^^^^^^^\n",
      "  File \"C:\\Users\\alechutchings\\AppData\\Local\\Temp\\2\\ipykernel_7584\\3038027423.py\", line 171, in run_GAM\n",
      "    trend_differences_year = monte_carlo_simulation_from_specific_years(early_period, later_period, samples, XX, num_iterations)\n",
      "                             ^^^^^^^^^^^^^^^^^^^^^^^^^^^^^^^^^^^^^^^^^^^^^^^^^^^^^^^^^^^^^^^^^^^^^^^^^^^^^^^^^^^^^^^^^^^^^^^^^^^\n",
      "  File \"C:\\Users\\alechutchings\\AppData\\Local\\Temp\\2\\ipykernel_7584\\3255356584.py\", line 11, in monte_carlo_simulation_from_specific_years\n",
      "    idx2 = np.random.choice(selected_late_data_indices)\n",
      "           ^^^^^^^^^^^^^^^^^^^^^^^^^^^^^^^^^^^^^^^^^^^^\n",
      "  File \"mtrand.pyx\", line 950, in numpy.random.mtrand.RandomState.choice\n",
      "ValueError: 'a' cannot be empty unless no samples are taken\n",
      " 45% (5 of 11) |###########              | Elapsed Time: 0:00:00 ETA:   0:00:00"
     ]
    },
    {
     "name": "stdout",
     "output_type": "stream",
     "text": [
      "Error processing Witham: 'a' cannot be empty unless no samples are taken\n",
      "C:\\Users\\alechutchings\\Documents\\PythonNotebooks\\SeasonalEstuaryChanges\\Wootton_creek\n",
      "Folder 'C:\\Users\\alechutchings\\Documents\\PythonNotebooks\\SeasonalEstuaryChanges\\Wootton_creek\\MODEL_2_GAM_outputs_whole_estuary_salinity_Oxygen, Dissolved,  Saturation_2006_2022' created.\n"
     ]
    },
    {
     "name": "stderr",
     "output_type": "stream",
     "text": [
      "100% (11 of 11) |########################| Elapsed Time: 0:00:00 Time:  0:00:00\n",
      "100% (11 of 11) |########################| Elapsed Time: 0:00:00 Time:  0:00:00\n",
      "100% (11 of 11) |########################| Elapsed Time: 0:00:00 Time:  0:00:00\n",
      "100% (11 of 11) |########################| Elapsed Time: 0:00:00 Time:  0:00:00\n",
      "100% (11 of 11) |########################| Elapsed Time: 0:00:00 Time:  0:00:00\n"
     ]
    },
    {
     "name": "stdout",
     "output_type": "stream",
     "text": [
      "Mean difference in trend: 0.08494554185855042\n",
      "Standard deviation of difference in trend: 0.0678433913780051\n",
      "Wootton_creek completed successfully\n",
      "Run completed successfully\n",
      "Average: 0.08494554185855042\n",
      "Standard Deviation: nan\n",
      "C:\\Users\\alechutchings\\Documents\\PythonNotebooks\\SeasonalEstuaryChanges\\Wyre\n",
      "Folder 'C:\\Users\\alechutchings\\Documents\\PythonNotebooks\\SeasonalEstuaryChanges\\Wyre\\MODEL_2_GAM_outputs_whole_estuary_salinity_Oxygen, Dissolved,  Saturation_2006_2022' created.\n"
     ]
    },
    {
     "name": "stderr",
     "output_type": "stream",
     "text": [
      "100% (11 of 11) |########################| Elapsed Time: 0:00:00 Time:  0:00:00\n",
      "100% (11 of 11) |########################| Elapsed Time: 0:00:00 Time:  0:00:00\n",
      "100% (11 of 11) |########################| Elapsed Time: 0:00:00 Time:  0:00:00\n",
      "100% (11 of 11) |########################| Elapsed Time: 0:00:00 Time:  0:00:00\n",
      "100% (11 of 11) |########################| Elapsed Time: 0:00:00 Time:  0:00:00\n"
     ]
    },
    {
     "name": "stdout",
     "output_type": "stream",
     "text": [
      "Mean difference in trend: -0.011673198910781724\n",
      "Standard deviation of difference in trend: 0.8357898809094951\n",
      "Wyre completed successfully\n",
      "Run completed successfully\n",
      "Average: -0.011673198910781724\n",
      "Standard Deviation: nan\n",
      "C:\\Users\\alechutchings\\Documents\\PythonNotebooks\\SeasonalEstuaryChanges\\Yealm\n",
      "Folder 'C:\\Users\\alechutchings\\Documents\\PythonNotebooks\\SeasonalEstuaryChanges\\Yealm\\MODEL_2_GAM_outputs_whole_estuary_salinity_Oxygen, Dissolved,  Saturation_2006_2022' created.\n"
     ]
    },
    {
     "name": "stderr",
     "output_type": "stream",
     "text": [
      "C:\\Users\\alechutchings\\AppData\\Local\\Temp\\2\\ipykernel_7584\\2701496734.py:5: DtypeWarning: Columns (10) have mixed types. Specify dtype option on import or set low_memory=False.\n",
      "  dfs = [pd.read_csv(csv, dtype={\"INTERPRETATION\": str, \"TEXT_RESULT\": str, \"DETCODE\": str}) for csv in csvs[:input_no]]\n",
      "100% (11 of 11) |########################| Elapsed Time: 0:00:00 Time:  0:00:00\n",
      "100% (11 of 11) |########################| Elapsed Time: 0:00:00 Time:  0:00:00\n",
      "100% (11 of 11) |########################| Elapsed Time: 0:00:00 Time:  0:00:00\n",
      "100% (11 of 11) |########################| Elapsed Time: 0:00:00 Time:  0:00:00\n",
      "100% (11 of 11) |########################| Elapsed Time: 0:00:00 Time:  0:00:00\n"
     ]
    },
    {
     "name": "stdout",
     "output_type": "stream",
     "text": [
      "Mean difference in trend: -0.1175320582770627\n",
      "Standard deviation of difference in trend: 0.3730574074720198\n",
      "Yealm completed successfully\n",
      "Run completed successfully\n",
      "Average: -0.1175320582770627\n",
      "Standard Deviation: nan\n"
     ]
    }
   ],
   "source": [
    "#estuary_list = ['Plymouth']\n",
    "\n",
    "#det = 'Oxygen, Dissolved as O2'\n",
    "#det = 'Temperature of Water'\n",
    "det = 'Oxygen, Dissolved,  Saturation'\n",
    "\n",
    "#trend_sample_option = '1990_2022'\n",
    "#trend_sample_option = '1990_2006'\n",
    "trend_sample_option = '2006_2022'\n",
    "#trend_sample_option = 'Yearly_20_interval'\n",
    "\n",
    "master_df = pd.DataFrame()\n",
    "\n",
    "for estuary in estuary_list:\n",
    "    try:\n",
    "        folder_path = f\"C:\\\\Users\\\\alechutchings\\\\Documents\\\\PythonNotebooks\\\\SeasonalEstuaryChanges\\\\{estuary}\"\n",
    "        print(folder_path)\n",
    "        #Create an output plot folder for the GAM models\n",
    "        folder_name = f'MODEL_2_GAM_outputs_whole_estuary_salinity_{det}_{trend_sample_option}'\n",
    "        GAM_output_path = os.path.join(folder_path, folder_name)\n",
    "    \n",
    "        if not os.path.exists(GAM_output_path):\n",
    "            os.mkdir(GAM_output_path)\n",
    "            print(f\"Folder '{GAM_output_path}' created.\")\n",
    "        else:\n",
    "            print(f\"Folder '{GAM_output_path}' already exists.\")\n",
    "\n",
    "        csv_input_path = os.path.join(folder_path, f'{estuary}_wims_data_clean_nd_removed.csv')\n",
    "        df = import_csv(1,csv_input_path)\n",
    "        Est_group_all = create_pivot(df)\n",
    "        trend_result_list = []\n",
    "        trend_result_list = run_GAM(Est_group_all, det, GAM_output_path)\n",
    "\n",
    "        trend_result_list_df = pd.DataFrame(trend_result_list)\n",
    "    \n",
    "        # Calculate average (mean)\n",
    "        average_value = trend_result_list_df['Average'].mean()\n",
    "\n",
    "        # Calculate standard deviation\n",
    "        std_deviation_value = trend_result_list_df['Average'].std()\n",
    "\n",
    "        # Print or use the calculated values\n",
    "        print(f'Average: {average_value}')\n",
    "        print(f'Standard Deviation: {std_deviation_value}')\n",
    "\n",
    "        # Create a DataFrame from trend_result_list\n",
    "        trend_result_list_df = pd.DataFrame(trend_result_list)\n",
    "    \n",
    "        # Add a column with the name of the estuary\n",
    "        trend_result_list_df['Estuary'] = estuary\n",
    "        \n",
    "    \n",
    "        # Append the DataFrame to a master DataFrame (if it already exists)\n",
    "        if 'master_df' not in locals():\n",
    "            master_df = trend_result_list_df.copy()\n",
    "        else:\n",
    "            master_df = pd.concat([master_df, trend_result_list_df], ignore_index=True)\n",
    "            \n",
    "    except Exception as e:\n",
    "        # Print the error message\n",
    "        traceback.print_exc()\n",
    "        error_message = f\"Error processing {estuary}: {str(e)}\"\n",
    "\n",
    "        # Log the error to a notepad file\n",
    "        log_file_path = os.path.join('C:\\\\Users\\\\alechutchings\\\\Documents\\\\PythonNotebooks\\\\SeasonalEstuaryChanges\\\\',f'Model_2_{det}_{trend_sample_option}_error_log.txt')\n",
    "        with open(log_file_path, 'a') as log_file:\n",
    "            log_file.write(error_message + '\\n')\n",
    "        print(error_message)\n",
    "\n",
    "    finally:\n",
    "        # Any cleanup code or additional actions you want to perform regardless of success or failure\n",
    "        pass\n",
    "\n",
    "# Now, master_df contains all the data with an additional 'Estuary' column\n",
    "# You can save it to a CSV file if needed\n",
    "master_df.to_csv(f\"Model_2_output_file_{det}_{trend_sample_option}.csv\", index=False)\n",
    "\n"
   ]
  },
  {
   "cell_type": "code",
   "execution_count": 14,
   "id": "0b4f111c-1c0c-4449-8c22-b26cb787f593",
   "metadata": {},
   "outputs": [],
   "source": [
    "master_df =[]"
   ]
  },
  {
   "cell_type": "code",
   "execution_count": null,
   "id": "1a1217bb-8c6c-4f48-b17a-eba8041a8e1f",
   "metadata": {},
   "outputs": [],
   "source": []
  },
  {
   "cell_type": "code",
   "execution_count": null,
   "id": "4b107c98-2b03-47b6-a617-2305ed2bea12",
   "metadata": {},
   "outputs": [],
   "source": []
  }
 ],
 "metadata": {
  "kernelspec": {
   "display_name": "Python 3 (ipykernel)",
   "language": "python",
   "name": "python3"
  },
  "language_info": {
   "codemirror_mode": {
    "name": "ipython",
    "version": 3
   },
   "file_extension": ".py",
   "mimetype": "text/x-python",
   "name": "python",
   "nbconvert_exporter": "python",
   "pygments_lexer": "ipython3",
   "version": "3.11.4"
  }
 },
 "nbformat": 4,
 "nbformat_minor": 5
}
